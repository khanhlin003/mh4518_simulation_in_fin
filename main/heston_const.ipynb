{
 "cells": [
  {
   "cell_type": "code",
   "execution_count": 1,
   "metadata": {},
   "outputs": [],
   "source": [
    "import numpy as np\n",
    "import pandas as pd\n",
    "import matplotlib.pyplot as plt\n",
    "import seaborn as sns\n",
    "from scipy.optimize import minimize\n",
    "from scipy.stats import norm\n",
    "from tqdm.auto import tqdm\n",
    "\n",
    "\n",
    "import sys\n",
    "\n",
    "sys.path.append(\"../utils\")\n",
    "from utils import *"
   ]
  },
  {
   "cell_type": "code",
   "execution_count": 2,
   "metadata": {},
   "outputs": [
    {
     "data": {
      "text/html": [
       "<div>\n",
       "<style scoped>\n",
       "    .dataframe tbody tr th:only-of-type {\n",
       "        vertical-align: middle;\n",
       "    }\n",
       "\n",
       "    .dataframe tbody tr th {\n",
       "        vertical-align: top;\n",
       "    }\n",
       "\n",
       "    .dataframe thead th {\n",
       "        text-align: right;\n",
       "    }\n",
       "</style>\n",
       "<table border=\"1\" class=\"dataframe\">\n",
       "  <thead>\n",
       "    <tr style=\"text-align: right;\">\n",
       "      <th></th>\n",
       "      <th>Date</th>\n",
       "      <th>ROG_Last_Price</th>\n",
       "      <th>ROG_IVOL</th>\n",
       "      <th>CFR_Last_Price</th>\n",
       "      <th>CFR_IVOL</th>\n",
       "      <th>ZURN_Last_Price</th>\n",
       "      <th>ZURN_IVOL</th>\n",
       "      <th>Risk_Free_Rate</th>\n",
       "    </tr>\n",
       "  </thead>\n",
       "  <tbody>\n",
       "    <tr>\n",
       "      <th>0</th>\n",
       "      <td>2023-10-25</td>\n",
       "      <td>237.55</td>\n",
       "      <td>17.6858</td>\n",
       "      <td>107.00</td>\n",
       "      <td>33.0793</td>\n",
       "      <td>426.4</td>\n",
       "      <td>15.7900</td>\n",
       "      <td>1.4594</td>\n",
       "    </tr>\n",
       "    <tr>\n",
       "      <th>1</th>\n",
       "      <td>2023-10-26</td>\n",
       "      <td>237.25</td>\n",
       "      <td>17.9504</td>\n",
       "      <td>104.45</td>\n",
       "      <td>33.5406</td>\n",
       "      <td>426.8</td>\n",
       "      <td>15.9736</td>\n",
       "      <td>1.4508</td>\n",
       "    </tr>\n",
       "    <tr>\n",
       "      <th>2</th>\n",
       "      <td>2023-10-27</td>\n",
       "      <td>237.75</td>\n",
       "      <td>19.6028</td>\n",
       "      <td>104.40</td>\n",
       "      <td>33.4355</td>\n",
       "      <td>424.4</td>\n",
       "      <td>16.3945</td>\n",
       "      <td>1.4478</td>\n",
       "    </tr>\n",
       "    <tr>\n",
       "      <th>3</th>\n",
       "      <td>2023-10-30</td>\n",
       "      <td>241.30</td>\n",
       "      <td>19.3503</td>\n",
       "      <td>104.75</td>\n",
       "      <td>33.1531</td>\n",
       "      <td>428.2</td>\n",
       "      <td>15.9477</td>\n",
       "      <td>1.4623</td>\n",
       "    </tr>\n",
       "    <tr>\n",
       "      <th>4</th>\n",
       "      <td>2023-10-31</td>\n",
       "      <td>233.85</td>\n",
       "      <td>19.2518</td>\n",
       "      <td>106.90</td>\n",
       "      <td>32.7788</td>\n",
       "      <td>430.6</td>\n",
       "      <td>15.7948</td>\n",
       "      <td>1.4489</td>\n",
       "    </tr>\n",
       "    <tr>\n",
       "      <th>...</th>\n",
       "      <td>...</td>\n",
       "      <td>...</td>\n",
       "      <td>...</td>\n",
       "      <td>...</td>\n",
       "      <td>...</td>\n",
       "      <td>...</td>\n",
       "      <td>...</td>\n",
       "      <td>...</td>\n",
       "    </tr>\n",
       "    <tr>\n",
       "      <th>248</th>\n",
       "      <td>2024-10-21</td>\n",
       "      <td>272.90</td>\n",
       "      <td>17.7575</td>\n",
       "      <td>126.65</td>\n",
       "      <td>31.1486</td>\n",
       "      <td>526.2</td>\n",
       "      <td>14.1699</td>\n",
       "      <td>0.6532</td>\n",
       "    </tr>\n",
       "    <tr>\n",
       "      <th>249</th>\n",
       "      <td>2024-10-22</td>\n",
       "      <td>272.20</td>\n",
       "      <td>18.2963</td>\n",
       "      <td>126.95</td>\n",
       "      <td>30.9890</td>\n",
       "      <td>520.4</td>\n",
       "      <td>14.7228</td>\n",
       "      <td>0.6544</td>\n",
       "    </tr>\n",
       "    <tr>\n",
       "      <th>250</th>\n",
       "      <td>2024-10-23</td>\n",
       "      <td>277.20</td>\n",
       "      <td>17.6974</td>\n",
       "      <td>126.05</td>\n",
       "      <td>31.3139</td>\n",
       "      <td>519.6</td>\n",
       "      <td>14.0134</td>\n",
       "      <td>0.6448</td>\n",
       "    </tr>\n",
       "    <tr>\n",
       "      <th>251</th>\n",
       "      <td>2024-10-24</td>\n",
       "      <td>279.80</td>\n",
       "      <td>17.7883</td>\n",
       "      <td>128.45</td>\n",
       "      <td>31.6005</td>\n",
       "      <td>520.6</td>\n",
       "      <td>14.4540</td>\n",
       "      <td>0.6213</td>\n",
       "    </tr>\n",
       "    <tr>\n",
       "      <th>252</th>\n",
       "      <td>2024-10-25</td>\n",
       "      <td>279.60</td>\n",
       "      <td>NaN</td>\n",
       "      <td>128.05</td>\n",
       "      <td>NaN</td>\n",
       "      <td>521.2</td>\n",
       "      <td>NaN</td>\n",
       "      <td>NaN</td>\n",
       "    </tr>\n",
       "  </tbody>\n",
       "</table>\n",
       "<p>253 rows × 8 columns</p>\n",
       "</div>"
      ],
      "text/plain": [
       "          Date  ROG_Last_Price  ROG_IVOL  CFR_Last_Price  CFR_IVOL  \\\n",
       "0   2023-10-25          237.55   17.6858          107.00   33.0793   \n",
       "1   2023-10-26          237.25   17.9504          104.45   33.5406   \n",
       "2   2023-10-27          237.75   19.6028          104.40   33.4355   \n",
       "3   2023-10-30          241.30   19.3503          104.75   33.1531   \n",
       "4   2023-10-31          233.85   19.2518          106.90   32.7788   \n",
       "..         ...             ...       ...             ...       ...   \n",
       "248 2024-10-21          272.90   17.7575          126.65   31.1486   \n",
       "249 2024-10-22          272.20   18.2963          126.95   30.9890   \n",
       "250 2024-10-23          277.20   17.6974          126.05   31.3139   \n",
       "251 2024-10-24          279.80   17.7883          128.45   31.6005   \n",
       "252 2024-10-25          279.60       NaN          128.05       NaN   \n",
       "\n",
       "     ZURN_Last_Price  ZURN_IVOL  Risk_Free_Rate  \n",
       "0              426.4    15.7900          1.4594  \n",
       "1              426.8    15.9736          1.4508  \n",
       "2              424.4    16.3945          1.4478  \n",
       "3              428.2    15.9477          1.4623  \n",
       "4              430.6    15.7948          1.4489  \n",
       "..               ...        ...             ...  \n",
       "248            526.2    14.1699          0.6532  \n",
       "249            520.4    14.7228          0.6544  \n",
       "250            519.6    14.0134          0.6448  \n",
       "251            520.6    14.4540          0.6213  \n",
       "252            521.2        NaN             NaN  \n",
       "\n",
       "[253 rows x 8 columns]"
      ]
     },
     "execution_count": 2,
     "metadata": {},
     "output_type": "execute_result"
    }
   ],
   "source": [
    "combined_df = retrieve_data()\n",
    "combined_df"
   ]
  },
  {
   "cell_type": "code",
   "execution_count": 3,
   "metadata": {},
   "outputs": [],
   "source": [
    "combined_df = retrieve_data()\n",
    "np.random.seed(42)\n",
    "n_days = 252\n",
    "dt = 1 / n_days\n",
    "close = combined_df[[\"ROG_Last_Price\", \"CFR_Last_Price\", \"ZURN_Last_Price\"]]\n",
    "tickers = close.columns\n",
    "log_returns = np.log((close / close.shift(1)).dropna())"
   ]
  },
  {
   "cell_type": "markdown",
   "metadata": {},
   "source": [
    "# Heston Stochastic Volatility Model "
   ]
  },
  {
   "cell_type": "markdown",
   "metadata": {},
   "source": [
    "only use constant interest rate r + does not incorporate option prices into the calibration process.\n",
    "\n",
    "!!! calibrate based solely on historical stock price data, particularly the realized volatility of returns.\n",
    "\n",
    "options data need to be collect more on daily basis from 2024/25/07 to 024/25/10.\n",
    "i only collected on quaterly basis so now cannot right"
   ]
  },
  {
   "cell_type": "code",
   "execution_count": 4,
   "metadata": {},
   "outputs": [
    {
     "data": {
      "text/html": [
       "<div>\n",
       "<style scoped>\n",
       "    .dataframe tbody tr th:only-of-type {\n",
       "        vertical-align: middle;\n",
       "    }\n",
       "\n",
       "    .dataframe tbody tr th {\n",
       "        vertical-align: top;\n",
       "    }\n",
       "\n",
       "    .dataframe thead th {\n",
       "        text-align: right;\n",
       "    }\n",
       "</style>\n",
       "<table border=\"1\" class=\"dataframe\">\n",
       "  <thead>\n",
       "    <tr style=\"text-align: right;\">\n",
       "      <th></th>\n",
       "      <th>ROG_Last_Price</th>\n",
       "      <th>CFR_Last_Price</th>\n",
       "      <th>ZURN_Last_Price</th>\n",
       "    </tr>\n",
       "  </thead>\n",
       "  <tbody>\n",
       "    <tr>\n",
       "      <th>1</th>\n",
       "      <td>NaN</td>\n",
       "      <td>NaN</td>\n",
       "      <td>NaN</td>\n",
       "    </tr>\n",
       "    <tr>\n",
       "      <th>2</th>\n",
       "      <td>NaN</td>\n",
       "      <td>NaN</td>\n",
       "      <td>NaN</td>\n",
       "    </tr>\n",
       "    <tr>\n",
       "      <th>3</th>\n",
       "      <td>NaN</td>\n",
       "      <td>NaN</td>\n",
       "      <td>NaN</td>\n",
       "    </tr>\n",
       "    <tr>\n",
       "      <th>4</th>\n",
       "      <td>NaN</td>\n",
       "      <td>NaN</td>\n",
       "      <td>NaN</td>\n",
       "    </tr>\n",
       "    <tr>\n",
       "      <th>5</th>\n",
       "      <td>NaN</td>\n",
       "      <td>NaN</td>\n",
       "      <td>NaN</td>\n",
       "    </tr>\n",
       "    <tr>\n",
       "      <th>...</th>\n",
       "      <td>...</td>\n",
       "      <td>...</td>\n",
       "      <td>...</td>\n",
       "    </tr>\n",
       "    <tr>\n",
       "      <th>248</th>\n",
       "      <td>0.020141</td>\n",
       "      <td>0.118830</td>\n",
       "      <td>0.008371</td>\n",
       "    </tr>\n",
       "    <tr>\n",
       "      <th>249</th>\n",
       "      <td>0.019935</td>\n",
       "      <td>0.118104</td>\n",
       "      <td>0.009412</td>\n",
       "    </tr>\n",
       "    <tr>\n",
       "      <th>250</th>\n",
       "      <td>0.022582</td>\n",
       "      <td>0.118542</td>\n",
       "      <td>0.009246</td>\n",
       "    </tr>\n",
       "    <tr>\n",
       "      <th>251</th>\n",
       "      <td>0.018368</td>\n",
       "      <td>0.120691</td>\n",
       "      <td>0.009082</td>\n",
       "    </tr>\n",
       "    <tr>\n",
       "      <th>252</th>\n",
       "      <td>0.017878</td>\n",
       "      <td>0.120471</td>\n",
       "      <td>0.008509</td>\n",
       "    </tr>\n",
       "  </tbody>\n",
       "</table>\n",
       "<p>252 rows × 3 columns</p>\n",
       "</div>"
      ],
      "text/plain": [
       "     ROG_Last_Price  CFR_Last_Price  ZURN_Last_Price\n",
       "1               NaN             NaN              NaN\n",
       "2               NaN             NaN              NaN\n",
       "3               NaN             NaN              NaN\n",
       "4               NaN             NaN              NaN\n",
       "5               NaN             NaN              NaN\n",
       "..              ...             ...              ...\n",
       "248        0.020141        0.118830         0.008371\n",
       "249        0.019935        0.118104         0.009412\n",
       "250        0.022582        0.118542         0.009246\n",
       "251        0.018368        0.120691         0.009082\n",
       "252        0.017878        0.120471         0.008509\n",
       "\n",
       "[252 rows x 3 columns]"
      ]
     },
     "execution_count": 4,
     "metadata": {},
     "output_type": "execute_result"
    }
   ],
   "source": [
    "vol = log_returns.rolling(window=30).var() * n_days\n",
    "vol"
   ]
  },
  {
   "cell_type": "code",
   "execution_count": 5,
   "metadata": {},
   "outputs": [
    {
     "data": {
      "text/plain": [
       "ROG_Last_Price     0.040053\n",
       "CFR_Last_Price     0.080205\n",
       "ZURN_Last_Price    0.019759\n",
       "dtype: float64"
      ]
     },
     "execution_count": 5,
     "metadata": {},
     "output_type": "execute_result"
    }
   ],
   "source": [
    "vol.mean()"
   ]
  },
  {
   "cell_type": "code",
   "execution_count": 6,
   "metadata": {},
   "outputs": [
    {
     "data": {
      "text/plain": [
       "ROG_Last_Price    NaN\n",
       "CFR_Last_Price    NaN\n",
       "ZURN_Last_Price   NaN\n",
       "Name: 1, dtype: float64"
      ]
     },
     "execution_count": 6,
     "metadata": {},
     "output_type": "execute_result"
    }
   ],
   "source": [
    "vol.iloc[0]"
   ]
  },
  {
   "cell_type": "code",
   "execution_count": 7,
   "metadata": {},
   "outputs": [],
   "source": [
    "def objective(x):\n",
    "    a = x**2 - 1\n",
    "    return a"
   ]
  },
  {
   "cell_type": "code",
   "execution_count": 8,
   "metadata": {},
   "outputs": [],
   "source": [
    "bounds = [\n",
    "    (0.1, 10.0),  # kappa\n",
    "    (0.001, 0.5),  # theta\n",
    "    (0.01, 1.0),  # sigma\n",
    "    (-0.99, 0.99),\n",
    "]  # rho\n",
    "\n",
    "result = minimize(objective, x0=[100], bounds=[(-np.inf, np.inf)], method=\"L-BFGS-B\")"
   ]
  },
  {
   "cell_type": "code",
   "execution_count": 9,
   "metadata": {},
   "outputs": [
    {
     "data": {
      "text/plain": [
       "  message: CONVERGENCE: NORM_OF_PROJECTED_GRADIENT_<=_PGTOL\n",
       "  success: True\n",
       "   status: 0\n",
       "      fun: -1.0\n",
       "        x: [-2.149e-09]\n",
       "      nit: 3\n",
       "      jac: [ 1.110e-08]\n",
       "     nfev: 12\n",
       "     njev: 6\n",
       " hess_inv: <1x1 LbfgsInvHessProduct with dtype=float64>"
      ]
     },
     "execution_count": 9,
     "metadata": {},
     "output_type": "execute_result"
    }
   ],
   "source": [
    "result"
   ]
  },
  {
   "cell_type": "code",
   "execution_count": 10,
   "metadata": {},
   "outputs": [],
   "source": [
    "sys.path.append(\"./linh\")\n",
    "from option import *"
   ]
  },
  {
   "cell_type": "code",
   "execution_count": 11,
   "metadata": {},
   "outputs": [],
   "source": [
    "import os"
   ]
  },
  {
   "cell_type": "code",
   "execution_count": 12,
   "metadata": {},
   "outputs": [],
   "source": [
    "files = [\"rog_call.csv\", \"cfr_call.csv\", \"zurn_call.csv\"]"
   ]
  },
  {
   "cell_type": "code",
   "execution_count": 13,
   "metadata": {},
   "outputs": [],
   "source": [
    "input_directory = \"../data/option_data/\""
   ]
  },
  {
   "cell_type": "code",
   "execution_count": 14,
   "metadata": {},
   "outputs": [
    {
     "name": "stderr",
     "output_type": "stream",
     "text": [
      "/tmp/ipykernel_172443/1657585005.py:11: FutureWarning: The behavior of DataFrame concatenation with empty or all-NA entries is deprecated. In a future version, this will no longer exclude empty or all-NA columns when determining the result dtypes. To retain the old behavior, exclude the relevant entries before the concat operation.\n",
      "  options = pd.concat([options, data])\n"
     ]
    }
   ],
   "source": [
    "options = pd.DataFrame(\n",
    "    columns=[\"maturity\", \"strike\", \"price\", \"IV\", \"day\", \"month\", \"year\", \"product\"]\n",
    ")\n",
    "for i, f in enumerate(files):\n",
    "    for file in next(os.walk(input_directory + \"cleaned\"))[1]:\n",
    "        data = pd.read_csv(f\"../data/option_data/cleaned/{file}/\" + f)\n",
    "        data[\"day\"] = file[:2]\n",
    "        data[\"month\"] = file[2:4]\n",
    "        data[\"year\"] = file[4:]\n",
    "        data[\"product\"] = tickers[i]\n",
    "        options = pd.concat([options, data])"
   ]
  },
  {
   "cell_type": "code",
   "execution_count": 15,
   "metadata": {},
   "outputs": [],
   "source": [
    "options = options.sort_values([\"product\", \"month\", \"day\", \"maturity\"])"
   ]
  },
  {
   "cell_type": "code",
   "execution_count": 16,
   "metadata": {},
   "outputs": [
    {
     "data": {
      "text/html": [
       "<div>\n",
       "<style scoped>\n",
       "    .dataframe tbody tr th:only-of-type {\n",
       "        vertical-align: middle;\n",
       "    }\n",
       "\n",
       "    .dataframe tbody tr th {\n",
       "        vertical-align: top;\n",
       "    }\n",
       "\n",
       "    .dataframe thead th {\n",
       "        text-align: right;\n",
       "    }\n",
       "</style>\n",
       "<table border=\"1\" class=\"dataframe\">\n",
       "  <thead>\n",
       "    <tr style=\"text-align: right;\">\n",
       "      <th></th>\n",
       "      <th>maturity</th>\n",
       "      <th>strike</th>\n",
       "      <th>price</th>\n",
       "      <th>IV</th>\n",
       "      <th>day</th>\n",
       "      <th>month</th>\n",
       "      <th>year</th>\n",
       "      <th>product</th>\n",
       "    </tr>\n",
       "  </thead>\n",
       "  <tbody>\n",
       "    <tr>\n",
       "      <th>0</th>\n",
       "      <td>0.156057</td>\n",
       "      <td>124</td>\n",
       "      <td>9.674999</td>\n",
       "      <td>24.402237</td>\n",
       "      <td>25</td>\n",
       "      <td>07</td>\n",
       "      <td>2024</td>\n",
       "      <td>CFR_Last_Price</td>\n",
       "    </tr>\n",
       "    <tr>\n",
       "      <th>1</th>\n",
       "      <td>0.156057</td>\n",
       "      <td>126</td>\n",
       "      <td>8.200000</td>\n",
       "      <td>23.955641</td>\n",
       "      <td>25</td>\n",
       "      <td>07</td>\n",
       "      <td>2024</td>\n",
       "      <td>CFR_Last_Price</td>\n",
       "    </tr>\n",
       "    <tr>\n",
       "      <th>2</th>\n",
       "      <td>0.156057</td>\n",
       "      <td>128</td>\n",
       "      <td>6.850000</td>\n",
       "      <td>23.466326</td>\n",
       "      <td>25</td>\n",
       "      <td>07</td>\n",
       "      <td>2024</td>\n",
       "      <td>CFR_Last_Price</td>\n",
       "    </tr>\n",
       "    <tr>\n",
       "      <th>3</th>\n",
       "      <td>0.156057</td>\n",
       "      <td>130</td>\n",
       "      <td>5.600000</td>\n",
       "      <td>22.889894</td>\n",
       "      <td>25</td>\n",
       "      <td>07</td>\n",
       "      <td>2024</td>\n",
       "      <td>CFR_Last_Price</td>\n",
       "    </tr>\n",
       "    <tr>\n",
       "      <th>4</th>\n",
       "      <td>0.156057</td>\n",
       "      <td>132</td>\n",
       "      <td>4.515000</td>\n",
       "      <td>22.497936</td>\n",
       "      <td>25</td>\n",
       "      <td>07</td>\n",
       "      <td>2024</td>\n",
       "      <td>CFR_Last_Price</td>\n",
       "    </tr>\n",
       "    <tr>\n",
       "      <th>...</th>\n",
       "      <td>...</td>\n",
       "      <td>...</td>\n",
       "      <td>...</td>\n",
       "      <td>...</td>\n",
       "      <td>...</td>\n",
       "      <td>...</td>\n",
       "      <td>...</td>\n",
       "      <td>...</td>\n",
       "    </tr>\n",
       "    <tr>\n",
       "      <th>49</th>\n",
       "      <td>0.229979</td>\n",
       "      <td>520</td>\n",
       "      <td>13.550000</td>\n",
       "      <td>14.122618</td>\n",
       "      <td>25</td>\n",
       "      <td>10</td>\n",
       "      <td>2024</td>\n",
       "      <td>ZURN_Last_Price</td>\n",
       "    </tr>\n",
       "    <tr>\n",
       "      <th>50</th>\n",
       "      <td>0.229979</td>\n",
       "      <td>540</td>\n",
       "      <td>5.600000</td>\n",
       "      <td>13.379794</td>\n",
       "      <td>25</td>\n",
       "      <td>10</td>\n",
       "      <td>2024</td>\n",
       "      <td>ZURN_Last_Price</td>\n",
       "    </tr>\n",
       "    <tr>\n",
       "      <th>51</th>\n",
       "      <td>0.229979</td>\n",
       "      <td>560</td>\n",
       "      <td>1.720000</td>\n",
       "      <td>12.748696</td>\n",
       "      <td>25</td>\n",
       "      <td>10</td>\n",
       "      <td>2024</td>\n",
       "      <td>ZURN_Last_Price</td>\n",
       "    </tr>\n",
       "    <tr>\n",
       "      <th>52</th>\n",
       "      <td>0.229979</td>\n",
       "      <td>580</td>\n",
       "      <td>1.505000</td>\n",
       "      <td>16.218067</td>\n",
       "      <td>25</td>\n",
       "      <td>10</td>\n",
       "      <td>2024</td>\n",
       "      <td>ZURN_Last_Price</td>\n",
       "    </tr>\n",
       "    <tr>\n",
       "      <th>53</th>\n",
       "      <td>0.229979</td>\n",
       "      <td>600</td>\n",
       "      <td>1.505000</td>\n",
       "      <td>19.809752</td>\n",
       "      <td>25</td>\n",
       "      <td>10</td>\n",
       "      <td>2024</td>\n",
       "      <td>ZURN_Last_Price</td>\n",
       "    </tr>\n",
       "  </tbody>\n",
       "</table>\n",
       "<p>10411 rows × 8 columns</p>\n",
       "</div>"
      ],
      "text/plain": [
       "    maturity strike      price         IV day month  year          product\n",
       "0   0.156057    124   9.674999  24.402237  25    07  2024   CFR_Last_Price\n",
       "1   0.156057    126   8.200000  23.955641  25    07  2024   CFR_Last_Price\n",
       "2   0.156057    128   6.850000  23.466326  25    07  2024   CFR_Last_Price\n",
       "3   0.156057    130   5.600000  22.889894  25    07  2024   CFR_Last_Price\n",
       "4   0.156057    132   4.515000  22.497936  25    07  2024   CFR_Last_Price\n",
       "..       ...    ...        ...        ...  ..   ...   ...              ...\n",
       "49  0.229979    520  13.550000  14.122618  25    10  2024  ZURN_Last_Price\n",
       "50  0.229979    540   5.600000  13.379794  25    10  2024  ZURN_Last_Price\n",
       "51  0.229979    560   1.720000  12.748696  25    10  2024  ZURN_Last_Price\n",
       "52  0.229979    580   1.505000  16.218067  25    10  2024  ZURN_Last_Price\n",
       "53  0.229979    600   1.505000  19.809752  25    10  2024  ZURN_Last_Price\n",
       "\n",
       "[10411 rows x 8 columns]"
      ]
     },
     "execution_count": 16,
     "metadata": {},
     "output_type": "execute_result"
    }
   ],
   "source": [
    "options"
   ]
  },
  {
   "cell_type": "code",
   "execution_count": 17,
   "metadata": {},
   "outputs": [],
   "source": [
    "from lmfit import Parameters, minimize"
   ]
  },
  {
   "cell_type": "code",
   "execution_count": 18,
   "metadata": {},
   "outputs": [
    {
     "data": {
      "text/html": [
       "<div>\n",
       "<style scoped>\n",
       "    .dataframe tbody tr th:only-of-type {\n",
       "        vertical-align: middle;\n",
       "    }\n",
       "\n",
       "    .dataframe tbody tr th {\n",
       "        vertical-align: top;\n",
       "    }\n",
       "\n",
       "    .dataframe thead th {\n",
       "        text-align: right;\n",
       "    }\n",
       "</style>\n",
       "<table border=\"1\" class=\"dataframe\">\n",
       "  <thead>\n",
       "    <tr style=\"text-align: right;\">\n",
       "      <th></th>\n",
       "      <th>maturity</th>\n",
       "      <th>strike</th>\n",
       "      <th>price</th>\n",
       "      <th>IV</th>\n",
       "      <th>day</th>\n",
       "      <th>month</th>\n",
       "      <th>year</th>\n",
       "      <th>product</th>\n",
       "    </tr>\n",
       "  </thead>\n",
       "  <tbody>\n",
       "    <tr>\n",
       "      <th>0</th>\n",
       "      <td>0.156057</td>\n",
       "      <td>124</td>\n",
       "      <td>9.674999</td>\n",
       "      <td>24.402237</td>\n",
       "      <td>25</td>\n",
       "      <td>07</td>\n",
       "      <td>2024</td>\n",
       "      <td>CFR_Last_Price</td>\n",
       "    </tr>\n",
       "    <tr>\n",
       "      <th>1</th>\n",
       "      <td>0.156057</td>\n",
       "      <td>126</td>\n",
       "      <td>8.200000</td>\n",
       "      <td>23.955641</td>\n",
       "      <td>25</td>\n",
       "      <td>07</td>\n",
       "      <td>2024</td>\n",
       "      <td>CFR_Last_Price</td>\n",
       "    </tr>\n",
       "    <tr>\n",
       "      <th>2</th>\n",
       "      <td>0.156057</td>\n",
       "      <td>128</td>\n",
       "      <td>6.850000</td>\n",
       "      <td>23.466326</td>\n",
       "      <td>25</td>\n",
       "      <td>07</td>\n",
       "      <td>2024</td>\n",
       "      <td>CFR_Last_Price</td>\n",
       "    </tr>\n",
       "    <tr>\n",
       "      <th>3</th>\n",
       "      <td>0.156057</td>\n",
       "      <td>130</td>\n",
       "      <td>5.600000</td>\n",
       "      <td>22.889894</td>\n",
       "      <td>25</td>\n",
       "      <td>07</td>\n",
       "      <td>2024</td>\n",
       "      <td>CFR_Last_Price</td>\n",
       "    </tr>\n",
       "    <tr>\n",
       "      <th>4</th>\n",
       "      <td>0.156057</td>\n",
       "      <td>132</td>\n",
       "      <td>4.515000</td>\n",
       "      <td>22.497936</td>\n",
       "      <td>25</td>\n",
       "      <td>07</td>\n",
       "      <td>2024</td>\n",
       "      <td>CFR_Last_Price</td>\n",
       "    </tr>\n",
       "    <tr>\n",
       "      <th>...</th>\n",
       "      <td>...</td>\n",
       "      <td>...</td>\n",
       "      <td>...</td>\n",
       "      <td>...</td>\n",
       "      <td>...</td>\n",
       "      <td>...</td>\n",
       "      <td>...</td>\n",
       "      <td>...</td>\n",
       "    </tr>\n",
       "    <tr>\n",
       "      <th>43</th>\n",
       "      <td>0.229979</td>\n",
       "      <td>130</td>\n",
       "      <td>7.125000</td>\n",
       "      <td>30.834446</td>\n",
       "      <td>25</td>\n",
       "      <td>10</td>\n",
       "      <td>2024</td>\n",
       "      <td>CFR_Last_Price</td>\n",
       "    </tr>\n",
       "    <tr>\n",
       "      <th>44</th>\n",
       "      <td>0.229979</td>\n",
       "      <td>135</td>\n",
       "      <td>5.060000</td>\n",
       "      <td>30.493761</td>\n",
       "      <td>25</td>\n",
       "      <td>10</td>\n",
       "      <td>2024</td>\n",
       "      <td>CFR_Last_Price</td>\n",
       "    </tr>\n",
       "    <tr>\n",
       "      <th>45</th>\n",
       "      <td>0.229979</td>\n",
       "      <td>140</td>\n",
       "      <td>3.480000</td>\n",
       "      <td>30.214775</td>\n",
       "      <td>25</td>\n",
       "      <td>10</td>\n",
       "      <td>2024</td>\n",
       "      <td>CFR_Last_Price</td>\n",
       "    </tr>\n",
       "    <tr>\n",
       "      <th>46</th>\n",
       "      <td>0.229979</td>\n",
       "      <td>145</td>\n",
       "      <td>2.350000</td>\n",
       "      <td>30.146441</td>\n",
       "      <td>25</td>\n",
       "      <td>10</td>\n",
       "      <td>2024</td>\n",
       "      <td>CFR_Last_Price</td>\n",
       "    </tr>\n",
       "    <tr>\n",
       "      <th>47</th>\n",
       "      <td>0.229979</td>\n",
       "      <td>150</td>\n",
       "      <td>1.570000</td>\n",
       "      <td>30.247429</td>\n",
       "      <td>25</td>\n",
       "      <td>10</td>\n",
       "      <td>2024</td>\n",
       "      <td>CFR_Last_Price</td>\n",
       "    </tr>\n",
       "  </tbody>\n",
       "</table>\n",
       "<p>3106 rows × 8 columns</p>\n",
       "</div>"
      ],
      "text/plain": [
       "    maturity strike     price         IV day month  year         product\n",
       "0   0.156057    124  9.674999  24.402237  25    07  2024  CFR_Last_Price\n",
       "1   0.156057    126  8.200000  23.955641  25    07  2024  CFR_Last_Price\n",
       "2   0.156057    128  6.850000  23.466326  25    07  2024  CFR_Last_Price\n",
       "3   0.156057    130  5.600000  22.889894  25    07  2024  CFR_Last_Price\n",
       "4   0.156057    132  4.515000  22.497936  25    07  2024  CFR_Last_Price\n",
       "..       ...    ...       ...        ...  ..   ...   ...             ...\n",
       "43  0.229979    130  7.125000  30.834446  25    10  2024  CFR_Last_Price\n",
       "44  0.229979    135  5.060000  30.493761  25    10  2024  CFR_Last_Price\n",
       "45  0.229979    140  3.480000  30.214775  25    10  2024  CFR_Last_Price\n",
       "46  0.229979    145  2.350000  30.146441  25    10  2024  CFR_Last_Price\n",
       "47  0.229979    150  1.570000  30.247429  25    10  2024  CFR_Last_Price\n",
       "\n",
       "[3106 rows x 8 columns]"
      ]
     },
     "execution_count": 18,
     "metadata": {},
     "output_type": "execute_result"
    }
   ],
   "source": [
    "options[options[\"product\"] == \"CFR_Last_Price\"]"
   ]
  },
  {
   "cell_type": "code",
   "execution_count": 19,
   "metadata": {},
   "outputs": [
    {
     "data": {
      "text/plain": [
       "'2023-10-25'"
      ]
     },
     "execution_count": 19,
     "metadata": {},
     "output_type": "execute_result"
    }
   ],
   "source": [
    "combined_df.iloc[0][\"Date\"].strftime(\"%Y-%m-%d\")"
   ]
  },
  {
   "cell_type": "code",
   "execution_count": 71,
   "metadata": {},
   "outputs": [],
   "source": [
    "import numpy as np\n",
    "import pandas as pd\n",
    "from tqdm import tqdm\n",
    "\n",
    "\n",
    "class HestonModelCalibration:\n",
    "    def __init__(self, current_id, data, n_days=252):\n",
    "        self.current_id = current_id\n",
    "        self.data = data\n",
    "        self.n_days = n_days\n",
    "        self.dt = 1 / n_days\n",
    "        self.tickers = data.columns\n",
    "        self.log_returns = np.log((data / data.shift(1)).dropna())\n",
    "\n",
    "    def calculate_realized_vol(self, window_size=30):\n",
    "        \"\"\"Calculate realized volatility for initial variance\"\"\"\n",
    "        return self.log_returns.rolling(window=window_size).var() * self.n_days\n",
    "\n",
    "    def estimate_correlation_matrix(self, window_size=30):\n",
    "        \"\"\"Estimate correlation matrix from historical data\"\"\"\n",
    "        return self.log_returns.iloc[-window_size:].corr().values\n",
    "\n",
    "    def func_heston(\n",
    "        self,\n",
    "        u,\n",
    "        St,\n",
    "        K,\n",
    "        r,\n",
    "        T,\n",
    "        sigma,\n",
    "        kappa,\n",
    "        theta,\n",
    "        v0,\n",
    "        rho,\n",
    "    ):\n",
    "\n",
    "        # logger_yq.info(f\"Final result: {result}\")\n",
    "        # b1 = kappa + lambda_ - rho * sigma * r\n",
    "        # b2 = kappa + lambda_\n",
    "        # prod = rho * sigma * 1j * u\n",
    "        # d1 = np.sqrt((prod - b1)**2 - sigma ** 2 * (1j * r - (1j)**2))\n",
    "        # d2 = np.sqrt((prod - b2)**2 + sigma ** 2 * (1j * r - (1j)**2))\n",
    "        # g1 = (b1 - prod + d1) / (b1 - prod - d1)\n",
    "        # g2 = (b2 - prod + d2) / (b2 - prod - d2)\n",
    "\n",
    "        # lambda_ = 0\n",
    "        # b1 = kappa + lambda_ - rho * sigma * r\n",
    "        # b2 = kappa + lambda_\n",
    "        # prod = rho * sigma * u * 1j\n",
    "        # d1 = np.sqrt((prod - b1)**2 - sigma ** 2 * (1j * u - (1j)**2))\n",
    "        # d2 = np.sqrt((prod - b2)**2 + sigma ** 2 * (1j * u - (1j)**2))\n",
    "        # g1 = (b1 - prod + d1) / (b1 - prod - d1)\n",
    "        # g2 = (b2 - prod + d2) / (b2 - prod - d2)\n",
    "\n",
    "        # d1 = (b1 - prod + d1) / (sigma ** 2) * (1 - g1 * np.exp(d1 * T)) / (1 - g1)\n",
    "        # d2 = (b2 - prod + d2) / (sigma ** 2) * (1 - g2 * np.exp(d2 * T)) / (1 - g2)\n",
    "\n",
    "        # c1 = r * 1j * u * T + kappa * theta / (sigma ** 2) * (b1 - prod + d1) * T - 2 * np.log((1 - g1 * np.exp(d1 * T)) / (1 - g1))\n",
    "        # c2 = r * 1j * u * T + kappa * theta / (sigma ** 2) * (b2 - prod + d2) * T - 2 * np.log((1 - g2 * np.exp(d2 * T)) / (1 - g2))\n",
    "\n",
    "        # D1 = (b1 - prod + d1) / (sigma ** 2) * (1 - g1 * np.exp(d1 * T)) / (1 - g1)\n",
    "        # D2 = (b2 - prod + d2) / (sigma ** 2) * (1 - g2 * np.exp(d2 * T)) / (1 - g2)\n",
    "\n",
    "        # res1 = St ** (u * 1j) * np.exp(c1 + D1 * v0)\n",
    "        # res2 = St ** (u * 1j) * np.exp(c2 + D2 * v0)\n",
    "        # return res1, res2\n",
    "        ## ASSUME LAMBDA IS 0\n",
    "        xi = kappa - rho * sigma * 1j * u\n",
    "        d = np.sqrt((rho * sigma * 1j * u - xi)**2 - sigma**2 * (-u * 1j - u**2))\n",
    "        g = (xi - rho * sigma * 1j * u - d) / (xi - rho * sigma * 1j * u + d)\n",
    "        C = r * 1j * u * T + (kappa * theta) / sigma**2 * ((xi - rho * sigma * 1j * u - d) * T - 2 * np.log((1 - g * np.exp(-d * T)) / (1 - g)))\n",
    "        D = (xi - rho * sigma * 1j * u - d) / sigma**2 * ((1 - np.exp(-d * T)) / (1 - g * np.exp(-d * T)))\n",
    "        return np.exp(C + D * v0 + 1j * u * np.log(St))\n",
    "\n",
    "    def price_heston_mid(self, St, K, r, T, sigma, kappa, theta, v0, rho):\n",
    "\n",
    "        from scipy.integrate import quad_vec\n",
    "\n",
    "        integrand = lambda u: np.real(np.exp(-1j * u * np.log(K)) / (1j * u) * self.func_heston(u - 1j, St, K, r, T, kappa, theta, sigma, rho, v0))\n",
    "        integral, _ = quad_vec(integrand, 0, 100)\n",
    "        C = np.exp(-r * T) * 0.5 * St - np.exp(-r * T) / np.pi * integral\n",
    "        C = C.ffill()\n",
    "\n",
    "        # res1 = lambda u: np.real(np.exp(-1j * u * np.log(K)) / (1j * u) * self.func_heston(u, St, K, r, T, sigma, kappa, theta, v0, rho)[0])\n",
    "        # res2 = lambda u: np.real(np.exp(-1j * u * np.log(K)) / (1j * u) * self.func_heston(u, St, K, r, T, sigma, kappa, theta, v0, rho)[1])\n",
    "        # integral1, _ = quad_vec(res1, 0, 1000)\n",
    "        # integral2, _ = quad_vec(res2, 0, 1000) \n",
    "        # C = np.exp(-r * T) * St * (1/2 + 1/np.pi * integral1) - K * np.exp(-r * T) * (1/2 + 1/np.pi * integral2)\n",
    "        # print(C)\n",
    "        return C\n",
    "\n",
    "    def calibrate_heston_parameters(self, window_size=30):\n",
    "        \"\"\"\n",
    "        Calibrate Heston model parameters using historical data\n",
    "        Returns dict with parameters for each asset\n",
    "        \"\"\"\n",
    "        model_params = {}\n",
    "        mse = {}\n",
    "        for i, ticker in enumerate(self.tickers):\n",
    "            # Initial estimates based on historical data\n",
    "            # vol = self.calculate_realized_vol()[ticker].dropna()\n",
    "\n",
    "            # def objective(x):\n",
    "            #     kappa, theta, sigma, rho = x\n",
    "            #     var_pred = theta + (vol.iloc[0] - theta) * np.exp(-kappa * np.arange(len(vol)) * self.dt)\n",
    "            #     # ko tune cho sigma rho\n",
    "            #     return np.mean((var_pred - vol)**2)\n",
    "            # # variance_paths[k, i, j] = (v_prev +\n",
    "            # #             kappa[k] * (theta[k] - v_prev) * dt +\n",
    "            # #             sigma[k] * np.sqrt(v_prev * dt) * dw_s[k * 2 + 1, j] * chol_corr[k * 2 + 1][k * 2 + 1])\n",
    "            # bounds = [(0.1, 10.0),  # kappa\n",
    "            #          (0.001, 0.5),  # theta\n",
    "            #          (0.01, 1.0),   # sigma\n",
    "            #          (-0.99, 0.99)] # rho\n",
    "            option_date = (\n",
    "                options[\"year\"].astype(str)\n",
    "                + \"-\"\n",
    "                + options[\"month\"].astype(str)\n",
    "                + \"-\"\n",
    "                + options[\"day\"].astype(str)\n",
    "            )\n",
    "            date = combined_df.iloc[self.current_id][\"Date\"].strftime(\"%Y-%m-%d\")\n",
    "            volatility_surface = options[\n",
    "                (options[\"product\"] == ticker) & (option_date == date)\n",
    "            ]\n",
    "            maturities = volatility_surface[\"maturity\"].astype(\"float\")\n",
    "            strikes = volatility_surface[\"strike\"].astype(\"float\")\n",
    "            price = volatility_surface[\"price\"].astype(\"float\")\n",
    "            rates = 0.01107\n",
    "\n",
    "            params = Parameters()\n",
    "            params.add(\"kappa\", value=0.1, min=0.001, max=10)\n",
    "            params.add(\"theta\", value=0.1, min=0.001, max=0.1)\n",
    "            params.add(\"v0\", value=0.1, min=0.001, max=0.1)\n",
    "            params.add(\"rho\", value=0.1, min=-1, max=1.0)\n",
    "            params.add(\"sigma\", value=0.1, min=0.001, max=0.1)\n",
    "\n",
    "            objective = lambda paramVect: (\n",
    "                price\n",
    "                - self.price_heston_mid(\n",
    "                    self.data.iloc[self.current_id][ticker],\n",
    "                    strikes,\n",
    "                    rates,\n",
    "                    maturities,\n",
    "                    paramVect[\"sigma\"].value,\n",
    "                    paramVect[\"kappa\"].value,\n",
    "                    paramVect[\"theta\"].value,\n",
    "                    paramVect[\"v0\"].value,\n",
    "                    paramVect[\"rho\"].value,\n",
    "                )\n",
    "            ) / (price + 1e-8)\n",
    "\n",
    "            result = minimize(objective, \n",
    "                              params,\n",
    "                              method='leastsq',\n",
    "                              max_nfev=15,\n",
    "                              ftol=1e-4,\n",
    "                              xtol=1e-4,\n",
    "                              gtol=1e-4,\n",
    "                              nan_policy='omit')\n",
    "            dicts = result.params.valuesdict()\n",
    "            model_params[ticker] = {\n",
    "                \"kappa\": dicts[\"kappa\"],\n",
    "                \"theta\": dicts[\"theta\"],\n",
    "                \"sigma\": dicts[\"sigma\"],\n",
    "                \"rho\": dicts[\"rho\"],\n",
    "                \"v0\": dicts[\"v0\"],\n",
    "            }\n",
    "            mse[ticker] = result.residual\n",
    "        return model_params, mse\n",
    "\n",
    "\n",
    "def MultivariateHestonSimulation(\n",
    "    s0,\n",
    "    tickers,\n",
    "    dt,\n",
    "    calibrated_params,\n",
    "    correlation_matrix,\n",
    "    n_paths=1000,\n",
    "    last_id=287,\n",
    "    current_id=187,\n",
    "    window_size=30,\n",
    "    variance_reduction=\"av\",\n",
    "    scheme=\"euler\",\n",
    "    r=0.01,\n",
    "):\n",
    "\n",
    "    if variance_reduction not in [\"av\", None]:\n",
    "        raise ValueError(\"Supported variance reduction method is av\")\n",
    "    if scheme not in [\"euler\", \"qe\"]:\n",
    "        raise ValueError(\"Supported discretization schemes are 'euler' and 'qe'\")\n",
    "    n_assets = len(tickers)\n",
    "    T = dt * (last_id - current_id)\n",
    "    n_steps = int(T / dt)\n",
    "\n",
    "    # Initialize arrays\n",
    "    result = np.zeros((n_assets, n_paths, n_steps))\n",
    "    variance_paths = np.zeros((n_assets, n_paths, n_steps))\n",
    "\n",
    "    # Extract parameters for each asset\n",
    "    kappa = np.array([calibrated_params[t][\"kappa\"] for t in tickers])\n",
    "    theta = np.array([calibrated_params[t][\"theta\"] for t in tickers])\n",
    "    sigma = np.array([calibrated_params[t][\"sigma\"] for t in tickers])\n",
    "    rho = np.array([calibrated_params[t][\"rho\"] for t in tickers])\n",
    "\n",
    "    # Get initial variances\n",
    "    v0 = {t: calibrated_params[t][\"v0\"] for t in tickers}\n",
    "    # Ensure correlation matrix is 2D numpy array\n",
    "    if isinstance(correlation_matrix, pd.DataFrame):\n",
    "        correlation_matrix = correlation_matrix.values\n",
    "\n",
    "    # Cholesky decomposition for correlated Brownian motions\n",
    "\n",
    "    # s1 s2 s3\n",
    "    #     s1  1  s1s2 s1s3\n",
    "    #     s2 s1s2 1  s2s3\n",
    "    #     s3\n",
    "\n",
    "    #     correlation matrix 6x6 (only si-sj and si-vi non-zero)\n",
    "    #     s1          v1          s2          v2          s3          v3\n",
    "    # s1   1          rho_s1v1    rho_s1s2    0           rho_s1s3    0\n",
    "    # v1   rho_s1v1   1           rho_s2v1\n",
    "    # s2   rho_s1s2   rho_s2v1    1\n",
    "    # v2   0\n",
    "    # s3   rho_s1s3\n",
    "    # v3   0\n",
    "\n",
    "    # ==> simulate s1, s2, s3, v1, v2, v3 with 6 different z\n",
    "    r1, r2, r3 = rho[0], rho[1], rho[2]\n",
    "    r12 = correlation_matrix[0][1]\n",
    "    r23 = correlation_matrix[1][2]\n",
    "    r13 = correlation_matrix[0][2]\n",
    "    correlation_matrix = np.array(\n",
    "        [\n",
    "            [1, r1, r12, r2 * r12, r13, r3 * r13],\n",
    "            [r1, 1, r1 * r12, r1 * r2 * r12, r1 * r13, r1 * r3 * r13],\n",
    "            [r12, r1 * r12, 1, r2, r23, r3 * r23],\n",
    "            [r2 * r12, r1 * r2 * r12, r2, 1, r2 * r23, r2 * r3 * r23],\n",
    "            [r13, r1 * r13, r23, r2 * r23, 1, r3],\n",
    "            [r3 * r13, r1 * r3 * r13, r2 * r23, r2 * r3 * r23, r3, 1],\n",
    "        ]\n",
    "    )\n",
    "\n",
    "    try:\n",
    "        chol_corr = np.linalg.cholesky(correlation_matrix)\n",
    "    except np.linalg.LinAlgError:\n",
    "        # If matrix is not positive definite, adjust it\n",
    "        correlation_matrix = (\n",
    "            correlation_matrix + correlation_matrix.T\n",
    "        ) / 2  # Ensure symmetry\n",
    "        min_eig = np.min(np.real(np.linalg.eigvals(correlation_matrix)))\n",
    "        if min_eig < 0:\n",
    "            correlation_matrix -= min_eig * np.eye(\n",
    "                correlation_matrix.shape[0]\n",
    "            )  # Shift eigenvalues if needed\n",
    "        try:\n",
    "            # Try Cholesky again on the adjusted matrix\n",
    "            chol_corr = np.linalg.cholesky(correlation_matrix)\n",
    "        except np.linalg.LinAlgError:\n",
    "            # If still not positive definite, add a small identity matrix (regularization)\n",
    "            epsilon = 1e-8\n",
    "            correlation_matrix += epsilon * np.eye(correlation_matrix.shape[0])\n",
    "            chol_corr = np.linalg.cholesky(correlation_matrix)\n",
    "\n",
    "    if (\n",
    "        scheme == \"qe\"\n",
    "    ):  # using the qe scheme, we have to apply correlation correction to our correlation matrix\n",
    "        q = np.zeros((n_assets * 2, n_assets * 2))\n",
    "        for i in range(n_assets):\n",
    "            q[i * 2][i * 2] = np.sqrt(1 - rho[i] ** 2)\n",
    "            q[i * 2][i * 2 + 1] = rho[i] ** 2\n",
    "            q[i * 2 + 1][i * 2 + 1] = 1\n",
    "\n",
    "        q_inverse = np.linalg.inv(q)\n",
    "        chol_corr = np.matmul(q_inverse, chol_corr)\n",
    "\n",
    "    paths_to_simulate = n_paths // 2 if variance_reduction == \"av\" else n_paths\n",
    "\n",
    "    dw = np.random.normal(size=(n_assets * 2, paths_to_simulate, n_steps))\n",
    "\n",
    "    for p in range(paths_to_simulate):\n",
    "        dw[:, p, :] = np.matmul(\n",
    "            chol_corr, dw[:, p, :]\n",
    "        )  # need to check if it is correct\n",
    "    # otherwise can just multiply it by in the for loop\n",
    "    # something like: np.matmul(chol_corr, dw[:, :, j])\n",
    "    # Correlate price and variance Brownian motion\n",
    "    for j in range(n_steps):\n",
    "        for k in range(n_assets):\n",
    "            if j == 0:\n",
    "                result[k, :paths_to_simulate, j] = s0[tickers[k]]\n",
    "                variance_paths[k, :, j] = v0[tickers[k]]\n",
    "\n",
    "                if variance_reduction == \"av\":\n",
    "                    result[k, paths_to_simulate:, j] = s0[tickers[k]]\n",
    "                    variance_paths[k, paths_to_simulate:, j] = v0[tickers[k]]\n",
    "            else:\n",
    "                if scheme == \"euler\":\n",
    "                    v_prev = np.maximum(variance_paths[k, :paths_to_simulate, j - 1], 0)\n",
    "                    # Update variance\n",
    "                    result[k, :paths_to_simulate, j] = result[\n",
    "                        k, :paths_to_simulate, j - 1\n",
    "                    ] * np.exp(\n",
    "                        (r - 0.5 * v_prev) * dt + np.sqrt(v_prev * dt) * dw[k * 2, :, j]\n",
    "                    )\n",
    "\n",
    "                    variance_paths[k, :paths_to_simulate, j] = (\n",
    "                        v_prev\n",
    "                        + kappa[k] * (theta[k] - v_prev) * dt\n",
    "                        + sigma[k] * np.sqrt(v_prev * dt) * dw[k * 2 + 1, :, j]\n",
    "                    )\n",
    "\n",
    "                    # Update price\n",
    "\n",
    "                    if variance_reduction == \"av\":\n",
    "                        result[k, paths_to_simulate:, j] = result[\n",
    "                            k, paths_to_simulate:, j - 1\n",
    "                        ] * np.exp(\n",
    "                            (r - 0.5 * v_prev) * dt\n",
    "                            + np.sqrt(v_prev * dt) * (-dw[k * 2, :, j])\n",
    "                        )\n",
    "\n",
    "                        variance_paths[k, paths_to_simulate:, j] = (\n",
    "                            v_prev\n",
    "                            + kappa[k] * (theta[k] - v_prev) * dt\n",
    "                            + sigma[k] * np.sqrt(v_prev * dt) * (-dw[k * 2 + 1, :, j])\n",
    "                        )\n",
    "\n",
    "                if scheme == \"qe\":\n",
    "                    # m = theta\n",
    "                    # sigma = sigma\n",
    "                    # kappa = kappa\n",
    "                    v_prev = np.maximum(variance_paths[k, :paths_to_simulate, j - 1], 0)\n",
    "                    e_v = theta[k] + (v_prev - theta[k]) * np.exp(-kappa[k] * dt)\n",
    "                    var_v = (\n",
    "                        v_prev\n",
    "                        * sigma[k] ** 2\n",
    "                        * np.exp(-kappa[k] * dt)\n",
    "                        / kappa[k]\n",
    "                        * (1 - np.exp(-kappa[k] * dt))\n",
    "                        + theta[k]\n",
    "                        * sigma[k] ** 2\n",
    "                        / (2 * kappa[k])\n",
    "                        * (1 - np.exp(-kappa[k] * dt)) ** 2\n",
    "                    )\n",
    "\n",
    "                    trident = var_v / (e_v**2)\n",
    "                    mask_less = (trident <= 1.5).astype(\n",
    "                        \"int\"\n",
    "                    )  ## LEVEL CAN BE SET [1, 2]\n",
    "                    b = 2 / trident - 1 + np.sqrt(2 / trident * (2 / trident - 1))\n",
    "                    a = theta[k] / (1 + b)\n",
    "                    p = (trident - 1) / (trident + 1)\n",
    "                    beta = (1 - p) / theta[k]\n",
    "                    U = norm.cdf(dw[k * 2 + 1, :, j])\n",
    "                    mask_pu = ((p < U) & (U < 1)).astype(\"int\")\n",
    "                    variance_paths[k, :paths_to_simulate, j] = a * (\n",
    "                        (np.sqrt(b) + dw[k * 2 + 1, :, j]) ** 2\n",
    "                    ) * mask_less + 1 / beta * np.log((1 - p) / (1 - U)) * mask_pu * (\n",
    "                        1 - mask_less\n",
    "                    )\n",
    "\n",
    "                    k0 = -rho[k] * kappa[k] * theta[k] * dt / sigma[k]\n",
    "\n",
    "                    sigma1 = sigma2 = (\n",
    "                        0.5  # ARBITRARY SETTING, MORE SOPHISTICATED WOULD BE BASED ON MOMENT-MATCHING\n",
    "                    )\n",
    "                    k1 = (\n",
    "                        sigma1 * dt * (kappa[k] * rho[k] / sigma[k] - 0.5)\n",
    "                        - rho[k] / sigma[k]\n",
    "                    )\n",
    "                    k2 = (\n",
    "                        sigma2 * dt * (kappa[k] * rho[k] / sigma[k]) + rho[k] / sigma[k]\n",
    "                    )\n",
    "                    k3 = sigma1 * dt * (1 - rho[k] ** 2)\n",
    "                    k4 = sigma2 * dt * (1 - rho[k] ** 2)\n",
    "                    result[k, :paths_to_simulate, j] = (\n",
    "                        result[k, :paths_to_simulate, j - 1]\n",
    "                        * np.exp(k0 + r - k1 * v_prev)\n",
    "                        * np.exp(\n",
    "                            k2 * variance_paths[k, :paths_to_simulate, j]\n",
    "                            + np.sqrt(\n",
    "                                k3 * v_prev\n",
    "                                + k4 * variance_paths[k, :paths_to_simulate, j]\n",
    "                            )\n",
    "                            * dw[k * 2, :, j]\n",
    "                        )\n",
    "                    )\n",
    "\n",
    "                    if variance_reduction == \"av\":\n",
    "                        U = norm.cdf(-dw[k * 2 + 1, :, j])\n",
    "                        mask_pu = ((p < U) & (U < 1)).astype(\"int\")\n",
    "\n",
    "                        variance_paths[k, paths_to_simulate:, j] = a * (\n",
    "                            (np.sqrt(b) + (-dw[k * 2 + 1, :, j])) ** 2\n",
    "                        ) * mask_less + 1 / beta * np.log(\n",
    "                            (1 - p) / (1 - U)\n",
    "                        ) * mask_pu * (\n",
    "                            1 - mask_less\n",
    "                        )\n",
    "                        result[k, paths_to_simulate:, j] = (\n",
    "                            result[k, paths_to_simulate:, j - 1]\n",
    "                            * np.exp(k0 + r - k1 * v_prev)\n",
    "                            * np.exp(\n",
    "                                k2 * variance_paths[k, paths_to_simulate:, j]\n",
    "                                + np.sqrt(\n",
    "                                    k3 * v_prev\n",
    "                                    + k4 * variance_paths[k, paths_to_simulate:, j]\n",
    "                                )\n",
    "                                * (-dw[k * 2, :, j])\n",
    "                            )\n",
    "                        )\n",
    "\n",
    "    if variance_reduction == \"emc\":\n",
    "        for k in range(n_assets):\n",
    "            correction_factor = result[k][-1, :].mean() / result[k][-1, :]\n",
    "            result[k] = result[k] * correction_factor\n",
    "\n",
    "    return result, tickers, variance_paths\n",
    "\n",
    "\n",
    "def run_heston_backtest(combined_df, backtest_start, backtest_end, last_id, params):\n",
    "    # Initialize model and calibrate parameters\n",
    "    close = combined_df[[\"ROG_Last_Price\", \"CFR_Last_Price\", \"ZURN_Last_Price\"]]\n",
    "\n",
    "    prices = []\n",
    "    prices_var = []\n",
    "    calibrate_results = []\n",
    "    for current_id in tqdm(range(backtest_start, backtest_end)):\n",
    "        # Get data for current window\n",
    "        window_data = close.iloc[max(0, current_id - 30) : current_id]\n",
    "        heston_calibration = HestonModelCalibration(current_id, close)\n",
    "        calibrated_params, calibrate_res = (\n",
    "            heston_calibration.calibrate_heston_parameters(window_size=30)\n",
    "        )\n",
    "        calibrate_results.append(calibrate_res)\n",
    "        correlation_matrix = heston_calibration.estimate_correlation_matrix(\n",
    "            window_size=30\n",
    "        )\n",
    "\n",
    "        payoff = []\n",
    "        result, _, variance_paths = MultivariateHestonSimulation(\n",
    "            s0=close.iloc[current_id],\n",
    "            tickers=close.columns,\n",
    "            calibrated_params=calibrated_params,\n",
    "            correlation_matrix=correlation_matrix,\n",
    "            current_id=current_id,\n",
    "            last_id=last_id,\n",
    "            **params,\n",
    "        )\n",
    "\n",
    "        # Construct paths and calculate payoffs\n",
    "        old_path_rog = combined_df[\"ROG_Last_Price\"].iloc[:current_id]\n",
    "        old_path_cfr = combined_df[\"CFR_Last_Price\"].iloc[:current_id]\n",
    "        old_path_zurn = combined_df[\"ZURN_Last_Price\"].iloc[:current_id]\n",
    "\n",
    "        path_rog = []\n",
    "        path_cfr = []\n",
    "        path_zurn = []\n",
    "        for i in range(result.shape[-2]):\n",
    "            path_rog.append(np.append(old_path_rog, result[0][i].flatten()))\n",
    "            path_cfr.append(np.append(old_path_cfr, result[1][i].flatten()))\n",
    "            path_zurn.append(np.append(old_path_zurn, result[2][i].flatten()))\n",
    "        payoff = payoff_func_parallel(\n",
    "            path_rog,\n",
    "            path_cfr,\n",
    "            path_zurn,\n",
    "            combined_df.iloc[current_id][\"Date\"],\n",
    "            risk_free=0.01107,\n",
    "            risk_neutral=True,\n",
    "            verbose=False,\n",
    "        )\n",
    "        prices.append(np.mean(payoff))\n",
    "        prices_var.append(np.mean(payoff))\n",
    "\n",
    "        print(prices)\n",
    "    return prices, prices_var, calibrate_results"
   ]
  },
  {
   "cell_type": "code",
   "execution_count": 72,
   "metadata": {},
   "outputs": [],
   "source": [
    "# import matplotlib.pyplot as plt\n",
    "\n",
    "# def evaluation_plot(backtest_start, backtest_end, combined_df, prices):\n",
    "#     # Load and process actual price data\n",
    "#     real_price = pd.read_csv('../data/product_price_full.csv')\n",
    "#     real_price['Date'] = pd.to_datetime(real_price['Date'], dayfirst=True)\n",
    "#     real_price = real_price.sort_values(by='Date', ascending=True)\n",
    "#     real_price['Product'] = 1000 * real_price['Product']\n",
    "\n",
    "#     # Filter actual prices for the backtest period\n",
    "#     actual = real_price[(real_price['Date'] >= combined_df.iloc[backtest_start]['Date']) &\n",
    "#                         (real_price['Date'] <= combined_df.iloc[backtest_end - 1]['Date'])]['Product'].values\n",
    "#     dates = real_price[(real_price['Date'] >= combined_df.iloc[backtest_start]['Date']) &\n",
    "#                        (real_price['Date'] <= combined_df.iloc[backtest_end - 1]['Date'])]['Date']\n",
    "\n",
    "#     # Ensure `prices` has the same length as `dates`\n",
    "#     if len(prices) != len(dates):\n",
    "#         prices = np.mean(prices, axis=0) if prices.ndim > 1 else np.repeat(prices, len(dates))\n",
    "\n",
    "#     # Plotting\n",
    "#     plt.figure(figsize=(20, 4))\n",
    "#     plt.plot(dates, prices, marker='o', label='Predicted Prices')\n",
    "#     plt.plot(dates, actual, marker='o', label='Actual Prices')\n",
    "#     plt.title('Price Comparison Over Time')\n",
    "#     plt.xlabel('Date')\n",
    "#     plt.ylabel('Price')\n",
    "#     plt.ylim(850, 1150)\n",
    "#     plt.legend()\n",
    "#     plt.show()"
   ]
  },
  {
   "cell_type": "code",
   "execution_count": 73,
   "metadata": {},
   "outputs": [],
   "source": [
    "params = {\n",
    "    \"dt\": 1 / 252,\n",
    "    \"n_paths\": 10000,\n",
    "    \"variance_reduction\": \"av\",  # None, 'av', 'emc'\n",
    "    \"scheme\": \"qe\",\n",
    "}  # 'qe', 'euler'"
   ]
  },
  {
   "cell_type": "code",
   "execution_count": 74,
   "metadata": {},
   "outputs": [
    {
     "name": "stdout",
     "output_type": "stream",
     "text": [
      "ROG_Last_Price\n",
      "CFR_Last_Price\n",
      "ZURN_Last_Price\n"
     ]
    }
   ],
   "source": [
    "for t in tickers:\n",
    "    print(t)"
   ]
  },
  {
   "cell_type": "code",
   "execution_count": 75,
   "metadata": {},
   "outputs": [
    {
     "name": "stderr",
     "output_type": "stream",
     "text": [
      "  0%|          | 0/65 [00:00<?, ?it/s]"
     ]
    },
    {
     "name": "stdout",
     "output_type": "stream",
     "text": [
      "-24.492212451598288\n",
      "-19.51820193880114\n",
      "-31.79422880963625\n"
     ]
    },
    {
     "name": "stderr",
     "output_type": "stream",
     "text": [
      "  2%|▏         | 1/65 [00:12<13:49, 12.97s/it]"
     ]
    },
    {
     "name": "stdout",
     "output_type": "stream",
     "text": [
      "[1030.5131853683365]\n",
      "-33.70795700181608\n",
      "-126.58534753394822\n",
      "-22.58612062690322\n"
     ]
    },
    {
     "name": "stderr",
     "output_type": "stream",
     "text": [
      "  3%|▎         | 2/65 [00:51<29:35, 28.18s/it]"
     ]
    },
    {
     "name": "stdout",
     "output_type": "stream",
     "text": [
      "[1030.5131853683365, 1030.474395079614]\n",
      "-28.873717389110357\n",
      "-25.94730613477652\n",
      "-23.42310119289046\n"
     ]
    },
    {
     "name": "stderr",
     "output_type": "stream",
     "text": [
      "  5%|▍         | 3/65 [01:05<22:16, 21.55s/it]"
     ]
    },
    {
     "name": "stdout",
     "output_type": "stream",
     "text": [
      "[1030.5131853683365, 1030.474395079614, 1030.603727289799]\n",
      "-28.582320085651876\n",
      "-23.557157336342403\n",
      "-18.787490680896934\n"
     ]
    },
    {
     "name": "stderr",
     "output_type": "stream",
     "text": [
      "  6%|▌         | 4/65 [01:18<18:20, 18.04s/it]"
     ]
    },
    {
     "name": "stdout",
     "output_type": "stream",
     "text": [
      "[1030.5131853683365, 1030.474395079614, 1030.603727289799, 1030.6490012336506]\n",
      "-30.30054606019869\n",
      "-25.585520007346002\n",
      "-17.17736588496535\n"
     ]
    },
    {
     "name": "stderr",
     "output_type": "stream",
     "text": [
      "  8%|▊         | 5/65 [01:32<16:40, 16.67s/it]"
     ]
    },
    {
     "name": "stdout",
     "output_type": "stream",
     "text": [
      "[1030.5131853683365, 1030.474395079614, 1030.603727289799, 1030.6490012336506, 1030.694277166365]\n",
      "-38.339398847379776\n",
      "-26.082880713150903\n",
      "-19.960457809060806\n"
     ]
    },
    {
     "name": "stderr",
     "output_type": "stream",
     "text": [
      "  9%|▉         | 6/65 [01:44<14:43, 14.97s/it]"
     ]
    },
    {
     "name": "stdout",
     "output_type": "stream",
     "text": [
      "[1030.5131853683365, 1030.474395079614, 1030.603727289799, 1030.6490012336506, 1030.694277166365, 1030.5502326958417]\n",
      "-36.24876138660818\n",
      "-23.311382233129333\n",
      "-21.187194734886127\n"
     ]
    },
    {
     "name": "stderr",
     "output_type": "stream",
     "text": [
      " 11%|█         | 7/65 [02:01<15:19, 15.85s/it]"
     ]
    },
    {
     "name": "stdout",
     "output_type": "stream",
     "text": [
      "[1030.5131853683365, 1030.474395079614, 1030.603727289799, 1030.6490012336506, 1030.694277166365, 1030.5502326958417, 1028.9779363525736]\n",
      "-32.97701992737339\n",
      "-20.811921279086555\n",
      "-29.065601764088168\n"
     ]
    },
    {
     "name": "stderr",
     "output_type": "stream",
     "text": [
      " 12%|█▏        | 8/65 [02:17<14:57, 15.74s/it]"
     ]
    },
    {
     "name": "stdout",
     "output_type": "stream",
     "text": [
      "[1030.5131853683365, 1030.474395079614, 1030.603727289799, 1030.6490012336506, 1030.694277166365, 1030.5502326958417, 1028.9779363525736, 1030.241301202428]\n",
      "-33.79839785311105\n",
      "-28.874256998090033\n",
      "-23.696200785773204\n"
     ]
    },
    {
     "name": "stderr",
     "output_type": "stream",
     "text": [
      " 14%|█▍        | 9/65 [02:30<13:51, 14.84s/it]"
     ]
    },
    {
     "name": "stdout",
     "output_type": "stream",
     "text": [
      "[1030.5131853683365, 1030.474395079614, 1030.603727289799, 1030.6490012336506, 1030.694277166365, 1030.5502326958417, 1028.9779363525736, 1030.241301202428, 1030.9206866659474]\n",
      "-34.49857155680732\n",
      "-26.89595382822209\n",
      "-28.258004391501217\n"
     ]
    },
    {
     "name": "stderr",
     "output_type": "stream",
     "text": [
      " 15%|█▌        | 10/65 [02:44<13:30, 14.74s/it]"
     ]
    },
    {
     "name": "stdout",
     "output_type": "stream",
     "text": [
      "[1030.5131853683365, 1030.474395079614, 1030.603727289799, 1030.6490012336506, 1030.694277166365, 1030.5502326958417, 1028.9779363525736, 1030.241301202428, 1030.9206866659474, 1030.887683615554]\n",
      "-20.97599104181981\n",
      "-26.34779093542699\n",
      "-27.169210535345282\n"
     ]
    },
    {
     "name": "stderr",
     "output_type": "stream",
     "text": [
      " 17%|█▋        | 11/65 [02:56<12:33, 13.95s/it]"
     ]
    },
    {
     "name": "stdout",
     "output_type": "stream",
     "text": [
      "[1030.5131853683365, 1030.474395079614, 1030.603727289799, 1030.6490012336506, 1030.694277166365, 1030.5502326958417, 1028.9779363525736, 1030.241301202428, 1030.9206866659474, 1030.887683615554, 1030.8481852326472]\n",
      "-47.0357531024483\n",
      "-40.01446664698138\n",
      "-25.836050550232958\n"
     ]
    },
    {
     "name": "stderr",
     "output_type": "stream",
     "text": [
      " 18%|█▊        | 12/65 [03:09<12:00, 13.59s/it]"
     ]
    },
    {
     "name": "stdout",
     "output_type": "stream",
     "text": [
      "[1030.5131853683365, 1030.474395079614, 1030.603727289799, 1030.6490012336506, 1030.694277166365, 1030.5502326958417, 1028.9779363525736, 1030.241301202428, 1030.9206866659474, 1030.887683615554, 1030.8481852326472, 1031.0113101628765]\n",
      "-37.68903466308165\n",
      "-31.566994695244272\n",
      "-30.094466206071324\n"
     ]
    },
    {
     "name": "stderr",
     "output_type": "stream",
     "text": [
      " 20%|██        | 13/65 [03:24<12:08, 14.01s/it]"
     ]
    },
    {
     "name": "stdout",
     "output_type": "stream",
     "text": [
      "[1030.5131853683365, 1030.474395079614, 1030.603727289799, 1030.6490012336506, 1030.694277166365, 1030.5502326958417, 1028.9779363525736, 1030.241301202428, 1030.9206866659474, 1030.887683615554, 1030.8481852326472, 1031.0113101628765, 1030.974877271532]\n",
      "-36.33958827594907\n",
      "-39.85637785511655\n",
      "-36.034883952636136\n"
     ]
    },
    {
     "name": "stderr",
     "output_type": "stream",
     "text": [
      " 22%|██▏       | 14/65 [03:36<11:22, 13.38s/it]"
     ]
    },
    {
     "name": "stdout",
     "output_type": "stream",
     "text": [
      "[1030.5131853683365, 1030.474395079614, 1030.603727289799, 1030.6490012336506, 1030.694277166365, 1030.5502326958417, 1028.9779363525736, 1030.241301202428, 1030.9206866659474, 1030.887683615554, 1030.8481852326472, 1031.0113101628765, 1030.974877271532, 1030.8612333631709]\n",
      "-18.951533135987276\n",
      "-39.968239944902216\n",
      "-27.188160183575977\n"
     ]
    },
    {
     "name": "stderr",
     "output_type": "stream",
     "text": [
      " 23%|██▎       | 15/65 [03:47<10:32, 12.64s/it]"
     ]
    },
    {
     "name": "stdout",
     "output_type": "stream",
     "text": [
      "[1030.5131853683365, 1030.474395079614, 1030.603727289799, 1030.6490012336506, 1030.694277166365, 1030.5502326958417, 1028.9779363525736, 1030.241301202428, 1030.9206866659474, 1030.887683615554, 1030.8481852326472, 1031.0113101628765, 1030.974877271532, 1030.8612333631709, 1030.9897954771006]\n",
      "-28.908722623805456\n",
      "-29.375039822247054\n",
      "-28.213763572116196\n"
     ]
    },
    {
     "name": "stderr",
     "output_type": "stream",
     "text": [
      " 25%|██▍       | 16/65 [03:57<09:43, 11.91s/it]"
     ]
    },
    {
     "name": "stdout",
     "output_type": "stream",
     "text": [
      "[1030.5131853683365, 1030.474395079614, 1030.603727289799, 1030.6490012336506, 1030.694277166365, 1030.5502326958417, 1028.9779363525736, 1030.241301202428, 1030.9206866659474, 1030.887683615554, 1030.8481852326472, 1031.0113101628765, 1030.974877271532, 1030.8612333631709, 1030.9897954771006, 1031.0693029913764]\n",
      "-25.542512243288066\n",
      "-27.92144961306447\n",
      "-24.293693187972668\n"
     ]
    },
    {
     "name": "stderr",
     "output_type": "stream",
     "text": [
      " 26%|██▌       | 17/65 [04:09<09:28, 11.85s/it]"
     ]
    },
    {
     "name": "stdout",
     "output_type": "stream",
     "text": [
      "[1030.5131853683365, 1030.474395079614, 1030.603727289799, 1030.6490012336506, 1030.694277166365, 1030.5502326958417, 1028.9779363525736, 1030.241301202428, 1030.9206866659474, 1030.887683615554, 1030.8481852326472, 1031.0113101628765, 1030.974877271532, 1030.8612333631709, 1030.9897954771006, 1031.0693029913764, 1031.2830453179809]\n",
      "-30.907265625053277\n",
      "-18.15572129001563\n",
      "-32.01584492789947\n"
     ]
    },
    {
     "name": "stderr",
     "output_type": "stream",
     "text": [
      " 28%|██▊       | 18/65 [04:23<09:52, 12.60s/it]"
     ]
    },
    {
     "name": "stdout",
     "output_type": "stream",
     "text": [
      "[1030.5131853683365, 1030.474395079614, 1030.603727289799, 1030.6490012336506, 1030.694277166365, 1030.5502326958417, 1028.9779363525736, 1030.241301202428, 1030.9206866659474, 1030.887683615554, 1030.8481852326472, 1031.0113101628765, 1030.974877271532, 1030.8612333631709, 1030.9897954771006, 1031.0693029913764, 1031.2830453179809, 1031.328349103958]\n",
      "-30.663023530000057\n",
      "-17.49468859182033\n",
      "-28.61362900700511\n"
     ]
    },
    {
     "name": "stderr",
     "output_type": "stream",
     "text": [
      " 29%|██▉       | 19/65 [04:36<09:37, 12.56s/it]"
     ]
    },
    {
     "name": "stdout",
     "output_type": "stream",
     "text": [
      "[1030.5131853683365, 1030.474395079614, 1030.603727289799, 1030.6490012336506, 1030.694277166365, 1030.5502326958417, 1028.9779363525736, 1030.241301202428, 1030.9206866659474, 1030.887683615554, 1030.8481852326472, 1031.0113101628765, 1030.974877271532, 1030.8612333631709, 1030.9897954771006, 1031.0693029913764, 1031.2830453179809, 1031.328349103958, 1031.2499673934356]\n",
      "-24.663264530481367\n",
      "-17.219307046724836\n",
      "-35.55940300515815\n"
     ]
    },
    {
     "name": "stderr",
     "output_type": "stream",
     "text": [
      " 31%|███       | 20/65 [04:48<09:21, 12.47s/it]"
     ]
    },
    {
     "name": "stdout",
     "output_type": "stream",
     "text": [
      "[1030.5131853683365, 1030.474395079614, 1030.603727289799, 1030.6490012336506, 1030.694277166365, 1030.5502326958417, 1028.9779363525736, 1030.241301202428, 1030.9206866659474, 1030.887683615554, 1030.8481852326472, 1031.0113101628765, 1030.974877271532, 1030.8612333631709, 1030.9897954771006, 1031.0693029913764, 1031.2830453179809, 1031.328349103958, 1031.2499673934356, 1031.418962646523]\n",
      "-23.87179645487881\n",
      "-25.238195381503505\n",
      "-40.544473582983215\n"
     ]
    },
    {
     "name": "stderr",
     "output_type": "stream",
     "text": [
      " 32%|███▏      | 21/65 [05:01<09:23, 12.80s/it]"
     ]
    },
    {
     "name": "stdout",
     "output_type": "stream",
     "text": [
      "[1030.5131853683365, 1030.474395079614, 1030.603727289799, 1030.6490012336506, 1030.694277166365, 1030.5502326958417, 1028.9779363525736, 1030.241301202428, 1030.9206866659474, 1030.887683615554, 1030.8481852326472, 1031.0113101628765, 1030.974877271532, 1030.8612333631709, 1030.9897954771006, 1031.0693029913764, 1031.2830453179809, 1031.328349103958, 1031.2499673934356, 1031.418962646523, 1031.4642724032856]\n",
      "-25.556246132893474\n",
      "-20.97549775890871\n",
      "-40.26665792684201\n"
     ]
    },
    {
     "name": "stderr",
     "output_type": "stream",
     "text": [
      " 34%|███▍      | 22/65 [05:15<09:21, 13.06s/it]"
     ]
    },
    {
     "name": "stdout",
     "output_type": "stream",
     "text": [
      "[1030.5131853683365, 1030.474395079614, 1030.603727289799, 1030.6490012336506, 1030.694277166365, 1030.5502326958417, 1028.9779363525736, 1030.241301202428, 1030.9206866659474, 1030.887683615554, 1030.8481852326472, 1031.0113101628765, 1030.974877271532, 1030.8612333631709, 1030.9897954771006, 1031.0693029913764, 1031.2830453179809, 1031.328349103958, 1031.2499673934356, 1031.418962646523, 1031.4642724032856, 1031.5095841504847]\n",
      "-23.63344699982339\n",
      "-24.530772703377554\n",
      "-42.58032963113544\n"
     ]
    },
    {
     "name": "stderr",
     "output_type": "stream",
     "text": [
      " 35%|███▌      | 23/65 [05:31<09:39, 13.80s/it]"
     ]
    },
    {
     "name": "stdout",
     "output_type": "stream",
     "text": [
      "[1030.5131853683365, 1030.474395079614, 1030.603727289799, 1030.6490012336506, 1030.694277166365, 1030.5502326958417, 1028.9779363525736, 1030.241301202428, 1030.9206866659474, 1030.887683615554, 1030.8481852326472, 1031.0113101628765, 1030.974877271532, 1030.8612333631709, 1030.9897954771006, 1031.0693029913764, 1031.2830453179809, 1031.328349103958, 1031.2499673934356, 1031.418962646523, 1031.4642724032856, 1031.5095841504847, 1031.5548978882075]\n",
      "-21.83982120870375\n",
      "-26.117683907182318\n",
      "-47.91438185981896\n"
     ]
    },
    {
     "name": "stderr",
     "output_type": "stream",
     "text": [
      " 37%|███▋      | 24/65 [05:44<09:23, 13.74s/it]"
     ]
    },
    {
     "name": "stdout",
     "output_type": "stream",
     "text": [
      "[1030.5131853683365, 1030.474395079614, 1030.603727289799, 1030.6490012336506, 1030.694277166365, 1030.5502326958417, 1028.9779363525736, 1030.241301202428, 1030.9206866659474, 1030.887683615554, 1030.8481852326472, 1031.0113101628765, 1030.974877271532, 1030.8612333631709, 1030.9897954771006, 1031.0693029913764, 1031.2830453179809, 1031.328349103958, 1031.2499673934356, 1031.418962646523, 1031.4642724032856, 1031.5095841504847, 1031.5548978882075, 1031.6002136165425]\n",
      "-30.640058866066035\n",
      "-27.637483682923172\n",
      "-46.527635224502724\n"
     ]
    },
    {
     "name": "stderr",
     "output_type": "stream",
     "text": [
      " 38%|███▊      | 25/65 [05:58<09:06, 13.66s/it]"
     ]
    },
    {
     "name": "stdout",
     "output_type": "stream",
     "text": [
      "[1030.5131853683365, 1030.474395079614, 1030.603727289799, 1030.6490012336506, 1030.694277166365, 1030.5502326958417, 1028.9779363525736, 1030.241301202428, 1030.9206866659474, 1030.887683615554, 1030.8481852326472, 1031.0113101628765, 1030.974877271532, 1030.8612333631709, 1030.9897954771006, 1031.0693029913764, 1031.2830453179809, 1031.328349103958, 1031.2499673934356, 1031.418962646523, 1031.4642724032856, 1031.5095841504847, 1031.5548978882075, 1031.6002136165425, 1031.6455313355762]\n",
      "-28.91317596719583\n",
      "-27.576249148824257\n",
      "-47.15482831785588\n"
     ]
    },
    {
     "name": "stderr",
     "output_type": "stream",
     "text": [
      " 40%|████      | 26/65 [06:13<09:15, 14.25s/it]"
     ]
    },
    {
     "name": "stdout",
     "output_type": "stream",
     "text": [
      "[1030.5131853683365, 1030.474395079614, 1030.603727289799, 1030.6490012336506, 1030.694277166365, 1030.5502326958417, 1028.9779363525736, 1030.241301202428, 1030.9206866659474, 1030.887683615554, 1030.8481852326472, 1031.0113101628765, 1030.974877271532, 1030.8612333631709, 1030.9897954771006, 1031.0693029913764, 1031.2830453179809, 1031.328349103958, 1031.2499673934356, 1031.418962646523, 1031.4642724032856, 1031.5095841504847, 1031.5548978882075, 1031.6002136165425, 1031.6455313355762, 1031.5691491904474]\n",
      "-32.374000270254705\n",
      "-38.968341717971626\n",
      "-69.29994981204675\n"
     ]
    },
    {
     "name": "stderr",
     "output_type": "stream",
     "text": [
      " 42%|████▏     | 27/65 [06:26<08:43, 13.76s/it]"
     ]
    },
    {
     "name": "stdout",
     "output_type": "stream",
     "text": [
      "[1030.5131853683365, 1030.474395079614, 1030.603727289799, 1030.6490012336506, 1030.694277166365, 1030.5502326958417, 1028.9779363525736, 1030.241301202428, 1030.9206866659474, 1030.887683615554, 1030.8481852326472, 1031.0113101628765, 1030.974877271532, 1030.8612333631709, 1030.9897954771006, 1031.0693029913764, 1031.2830453179809, 1031.328349103958, 1031.2499673934356, 1031.418962646523, 1031.4642724032856, 1031.5095841504847, 1031.5548978882075, 1031.6002136165425, 1031.6455313355762, 1031.5691491904474, 1031.73617274609]\n",
      "-25.300986937544128\n",
      "-38.65082523028176\n",
      "-47.907521223042544\n"
     ]
    },
    {
     "name": "stderr",
     "output_type": "stream",
     "text": [
      " 43%|████▎     | 28/65 [06:42<08:57, 14.52s/it]"
     ]
    },
    {
     "name": "stdout",
     "output_type": "stream",
     "text": [
      "[1030.5131853683365, 1030.474395079614, 1030.603727289799, 1030.6490012336506, 1030.694277166365, 1030.5502326958417, 1028.9779363525736, 1030.241301202428, 1030.9206866659474, 1030.887683615554, 1030.8481852326472, 1031.0113101628765, 1030.974877271532, 1030.8612333631709, 1030.9897954771006, 1031.0693029913764, 1031.2830453179809, 1031.328349103958, 1031.2499673934356, 1031.418962646523, 1031.4642724032856, 1031.5095841504847, 1031.5548978882075, 1031.6002136165425, 1031.6455313355762, 1031.5691491904474, 1031.73617274609, 1031.781496437745]\n",
      "-32.3828778305301\n",
      "-26.11929469194654\n",
      "-52.62568559461028\n"
     ]
    },
    {
     "name": "stderr",
     "output_type": "stream",
     "text": [
      " 45%|████▍     | 29/65 [06:58<08:55, 14.87s/it]"
     ]
    },
    {
     "name": "stdout",
     "output_type": "stream",
     "text": [
      "[1030.5131853683365, 1030.474395079614, 1030.603727289799, 1030.6490012336506, 1030.694277166365, 1030.5502326958417, 1028.9779363525736, 1030.241301202428, 1030.9206866659474, 1030.887683615554, 1030.8481852326472, 1031.0113101628765, 1030.974877271532, 1030.8612333631709, 1030.9897954771006, 1031.0693029913764, 1031.2830453179809, 1031.328349103958, 1031.2499673934356, 1031.418962646523, 1031.4642724032856, 1031.5095841504847, 1031.5548978882075, 1031.6002136165425, 1031.6455313355762, 1031.5691491904474, 1031.73617274609, 1031.781496437745, 1031.7054009470016]\n",
      "-30.773612308241212\n",
      "-26.39904356110651\n",
      "-43.82122830161304\n"
     ]
    },
    {
     "name": "stderr",
     "output_type": "stream",
     "text": [
      " 46%|████▌     | 30/65 [07:15<09:04, 15.55s/it]"
     ]
    },
    {
     "name": "stdout",
     "output_type": "stream",
     "text": [
      "[1030.5131853683365, 1030.474395079614, 1030.603727289799, 1030.6490012336506, 1030.694277166365, 1030.5502326958417, 1028.9779363525736, 1030.241301202428, 1030.9206866659474, 1030.887683615554, 1030.8481852326472, 1031.0113101628765, 1030.974877271532, 1030.8612333631709, 1030.9897954771006, 1031.0693029913764, 1031.2830453179809, 1031.328349103958, 1031.2499673934356, 1031.418962646523, 1031.4642724032856, 1031.5095841504847, 1031.5548978882075, 1031.6002136165425, 1031.6455313355762, 1031.5691491904474, 1031.73617274609, 1031.781496437745, 1031.7054009470016, 1031.8721497942895]\n",
      "-26.781483902073184\n",
      "-26.310143548456388\n",
      "-41.741137814606226\n"
     ]
    },
    {
     "name": "stderr",
     "output_type": "stream",
     "text": [
      " 48%|████▊     | 31/65 [07:31<08:50, 15.60s/it]"
     ]
    },
    {
     "name": "stdout",
     "output_type": "stream",
     "text": [
      "[1030.5131853683365, 1030.474395079614, 1030.603727289799, 1030.6490012336506, 1030.694277166365, 1030.5502326958417, 1028.9779363525736, 1030.241301202428, 1030.9206866659474, 1030.887683615554, 1030.8481852326472, 1031.0113101628765, 1030.974877271532, 1030.8612333631709, 1030.9897954771006, 1031.0693029913764, 1031.2830453179809, 1031.328349103958, 1031.2499673934356, 1031.418962646523, 1031.4642724032856, 1031.5095841504847, 1031.5548978882075, 1031.6002136165425, 1031.6455313355762, 1031.5691491904474, 1031.73617274609, 1031.781496437745, 1031.7054009470016, 1031.8721497942895, 1031.6328159416307]\n",
      "-43.11686352008228\n",
      "-27.345438708718213\n",
      "-42.511296859482066\n"
     ]
    },
    {
     "name": "stderr",
     "output_type": "stream",
     "text": [
      " 49%|████▉     | 32/65 [07:48<08:55, 16.22s/it]"
     ]
    },
    {
     "name": "stdout",
     "output_type": "stream",
     "text": [
      "[1030.5131853683365, 1030.474395079614, 1030.603727289799, 1030.6490012336506, 1030.694277166365, 1030.5502326958417, 1028.9779363525736, 1030.241301202428, 1030.9206866659474, 1030.887683615554, 1030.8481852326472, 1031.0113101628765, 1030.974877271532, 1030.8612333631709, 1030.9897954771006, 1031.0693029913764, 1031.2830453179809, 1031.328349103958, 1031.2499673934356, 1031.418962646523, 1031.4642724032856, 1031.5095841504847, 1031.5548978882075, 1031.6002136165425, 1031.6455313355762, 1031.5691491904474, 1031.73617274609, 1031.781496437745, 1031.7054009470016, 1031.8721497942895, 1031.6328159416307, 1031.9628111157285]\n",
      "-37.093224718447395\n",
      "-29.17207892961672\n",
      "-40.49662627729407\n"
     ]
    },
    {
     "name": "stderr",
     "output_type": "stream",
     "text": [
      " 51%|█████     | 33/65 [08:02<08:13, 15.42s/it]"
     ]
    },
    {
     "name": "stdout",
     "output_type": "stream",
     "text": [
      "[1030.5131853683365, 1030.474395079614, 1030.603727289799, 1030.6490012336506, 1030.694277166365, 1030.5502326958417, 1028.9779363525736, 1030.241301202428, 1030.9206866659474, 1030.887683615554, 1030.8481852326472, 1031.0113101628765, 1030.974877271532, 1030.8612333631709, 1030.9897954771006, 1031.0693029913764, 1031.2830453179809, 1031.328349103958, 1031.2499673934356, 1031.418962646523, 1031.4642724032856, 1031.5095841504847, 1031.5548978882075, 1031.6002136165425, 1031.6455313355762, 1031.5691491904474, 1031.73617274609, 1031.781496437745, 1031.7054009470016, 1031.8721497942895, 1031.6328159416307, 1031.9628111157285, 1032.0081447635018]\n",
      "-40.586565749742476\n",
      "-185.0868475471677\n",
      "-62.1679879063944\n"
     ]
    },
    {
     "name": "stderr",
     "output_type": "stream",
     "text": [
      " 52%|█████▏    | 34/65 [08:21<08:29, 16.44s/it]"
     ]
    },
    {
     "name": "stdout",
     "output_type": "stream",
     "text": [
      "[1030.5131853683365, 1030.474395079614, 1030.603727289799, 1030.6490012336506, 1030.694277166365, 1030.5502326958417, 1028.9779363525736, 1030.241301202428, 1030.9206866659474, 1030.887683615554, 1030.8481852326472, 1031.0113101628765, 1030.974877271532, 1030.8612333631709, 1030.9897954771006, 1031.0693029913764, 1031.2830453179809, 1031.328349103958, 1031.2499673934356, 1031.418962646523, 1031.4642724032856, 1031.5095841504847, 1031.5548978882075, 1031.6002136165425, 1031.6455313355762, 1031.5691491904474, 1031.73617274609, 1031.781496437745, 1031.7054009470016, 1031.8721497942895, 1031.6328159416307, 1031.9628111157285, 1032.0081447635018, 1032.0534804027614]\n",
      "-39.44302450532671\n",
      "-17.683961213328914\n",
      "-66.4606877468538\n"
     ]
    },
    {
     "name": "stderr",
     "output_type": "stream",
     "text": [
      " 54%|█████▍    | 35/65 [08:34<07:47, 15.60s/it]"
     ]
    },
    {
     "name": "stdout",
     "output_type": "stream",
     "text": [
      "[1030.5131853683365, 1030.474395079614, 1030.603727289799, 1030.6490012336506, 1030.694277166365, 1030.5502326958417, 1028.9779363525736, 1030.241301202428, 1030.9206866659474, 1030.887683615554, 1030.8481852326472, 1031.0113101628765, 1030.974877271532, 1030.8612333631709, 1030.9897954771006, 1031.0693029913764, 1031.2830453179809, 1031.328349103958, 1031.2499673934356, 1031.418962646523, 1031.4642724032856, 1031.5095841504847, 1031.5548978882075, 1031.6002136165425, 1031.6455313355762, 1031.5691491904474, 1031.73617274609, 1031.781496437745, 1031.7054009470016, 1031.8721497942895, 1031.6328159416307, 1031.9628111157285, 1032.0081447635018, 1032.0534804027614, 1014.598818033595]\n",
      "-32.541221602493266\n",
      "-17.484339571017298\n",
      "-48.640157882922495\n"
     ]
    },
    {
     "name": "stderr",
     "output_type": "stream",
     "text": [
      " 55%|█████▌    | 36/65 [08:49<07:23, 15.30s/it]"
     ]
    },
    {
     "name": "stdout",
     "output_type": "stream",
     "text": [
      "[1030.5131853683365, 1030.474395079614, 1030.603727289799, 1030.6490012336506, 1030.694277166365, 1030.5502326958417, 1028.9779363525736, 1030.241301202428, 1030.9206866659474, 1030.887683615554, 1030.8481852326472, 1031.0113101628765, 1030.974877271532, 1030.8612333631709, 1030.9897954771006, 1031.0693029913764, 1031.2830453179809, 1031.328349103958, 1031.2499673934356, 1031.418962646523, 1031.4642724032856, 1031.5095841504847, 1031.5548978882075, 1031.6002136165425, 1031.6455313355762, 1031.5691491904474, 1031.73617274609, 1031.781496437745, 1031.7054009470016, 1031.8721497942895, 1031.6328159416307, 1031.9628111157285, 1032.0081447635018, 1032.0534804027614, 1014.598818033595, 1014.6433888892042]\n",
      "-24.59675179911588\n",
      "-18.830888411981505\n",
      "-50.17778027831298\n"
     ]
    },
    {
     "name": "stderr",
     "output_type": "stream",
     "text": [
      " 57%|█████▋    | 37/65 [09:03<06:59, 14.98s/it]"
     ]
    },
    {
     "name": "stdout",
     "output_type": "stream",
     "text": [
      "[1030.5131853683365, 1030.474395079614, 1030.603727289799, 1030.6490012336506, 1030.694277166365, 1030.5502326958417, 1028.9779363525736, 1030.241301202428, 1030.9206866659474, 1030.887683615554, 1030.8481852326472, 1031.0113101628765, 1030.974877271532, 1030.8612333631709, 1030.9897954771006, 1031.0693029913764, 1031.2830453179809, 1031.328349103958, 1031.2499673934356, 1031.418962646523, 1031.4642724032856, 1031.5095841504847, 1031.5548978882075, 1031.6002136165425, 1031.6455313355762, 1031.5691491904474, 1031.73617274609, 1031.781496437745, 1031.7054009470016, 1031.8721497942895, 1031.6328159416307, 1031.9628111157285, 1032.0081447635018, 1032.0534804027614, 1014.598818033595, 1014.6433888892042, 1014.6062620472289]\n",
      "-29.78443910305878\n",
      "-20.80169481200907\n",
      "-49.84436514859962\n"
     ]
    },
    {
     "name": "stderr",
     "output_type": "stream",
     "text": [
      " 58%|█████▊    | 38/65 [09:18<06:42, 14.92s/it]"
     ]
    },
    {
     "name": "stdout",
     "output_type": "stream",
     "text": [
      "[1030.5131853683365, 1030.474395079614, 1030.603727289799, 1030.6490012336506, 1030.694277166365, 1030.5502326958417, 1028.9779363525736, 1030.241301202428, 1030.9206866659474, 1030.887683615554, 1030.8481852326472, 1031.0113101628765, 1030.974877271532, 1030.8612333631709, 1030.9897954771006, 1031.0693029913764, 1031.2830453179809, 1031.328349103958, 1031.2499673934356, 1031.418962646523, 1031.4642724032856, 1031.5095841504847, 1031.5548978882075, 1031.6002136165425, 1031.6455313355762, 1031.5691491904474, 1031.73617274609, 1031.781496437745, 1031.7054009470016, 1031.8721497942895, 1031.6328159416307, 1031.9628111157285, 1032.0081447635018, 1032.0534804027614, 1014.598818033595, 1014.6433888892042, 1014.6062620472289, 1014.7325364744394]\n",
      "-33.13291653404024\n",
      "-24.656171607919724\n",
      "-37.67150974299473\n"
     ]
    },
    {
     "name": "stderr",
     "output_type": "stream",
     "text": [
      " 60%|██████    | 39/65 [09:33<06:26, 14.85s/it]"
     ]
    },
    {
     "name": "stdout",
     "output_type": "stream",
     "text": [
      "[1030.5131853683365, 1030.474395079614, 1030.603727289799, 1030.6490012336506, 1030.694277166365, 1030.5502326958417, 1028.9779363525736, 1030.241301202428, 1030.9206866659474, 1030.887683615554, 1030.8481852326472, 1031.0113101628765, 1030.974877271532, 1030.8612333631709, 1030.9897954771006, 1031.0693029913764, 1031.2830453179809, 1031.328349103958, 1031.2499673934356, 1031.418962646523, 1031.4642724032856, 1031.5095841504847, 1031.5548978882075, 1031.6002136165425, 1031.6455313355762, 1031.5691491904474, 1031.73617274609, 1031.781496437745, 1031.7054009470016, 1031.8721497942895, 1031.6328159416307, 1031.9628111157285, 1032.0081447635018, 1032.0534804027614, 1014.598818033595, 1014.6433888892042, 1014.6062620472289, 1014.7325364744394, 1014.7771132042378]\n",
      "-44.46322891163831\n",
      "-20.345935229419265\n",
      "-37.195380819354966\n"
     ]
    },
    {
     "name": "stderr",
     "output_type": "stream",
     "text": [
      " 62%|██████▏   | 40/65 [09:48<06:14, 14.98s/it]"
     ]
    },
    {
     "name": "stdout",
     "output_type": "stream",
     "text": [
      "[1030.5131853683365, 1030.474395079614, 1030.603727289799, 1030.6490012336506, 1030.694277166365, 1030.5502326958417, 1028.9779363525736, 1030.241301202428, 1030.9206866659474, 1030.887683615554, 1030.8481852326472, 1031.0113101628765, 1030.974877271532, 1030.8612333631709, 1030.9897954771006, 1031.0693029913764, 1031.2830453179809, 1031.328349103958, 1031.2499673934356, 1031.418962646523, 1031.4642724032856, 1031.5095841504847, 1031.5548978882075, 1031.6002136165425, 1031.6455313355762, 1031.5691491904474, 1031.73617274609, 1031.781496437745, 1031.7054009470016, 1031.8721497942895, 1031.6328159416307, 1031.9628111157285, 1032.0081447635018, 1032.0534804027614, 1014.598818033595, 1014.6433888892042, 1014.6062620472289, 1014.7325364744394, 1014.7771132042378, 1014.8216918922712]\n",
      "-33.084018585615084\n",
      "-17.01067328432672\n",
      "-50.61954408769211\n"
     ]
    },
    {
     "name": "stderr",
     "output_type": "stream",
     "text": [
      " 63%|██████▎   | 41/65 [10:07<06:28, 16.20s/it]"
     ]
    },
    {
     "name": "stdout",
     "output_type": "stream",
     "text": [
      "[1030.5131853683365, 1030.474395079614, 1030.603727289799, 1030.6490012336506, 1030.694277166365, 1030.5502326958417, 1028.9779363525736, 1030.241301202428, 1030.9206866659474, 1030.887683615554, 1030.8481852326472, 1031.0113101628765, 1030.974877271532, 1030.8612333631709, 1030.9897954771006, 1031.0693029913764, 1031.2830453179809, 1031.328349103958, 1031.2499673934356, 1031.418962646523, 1031.4642724032856, 1031.5095841504847, 1031.5548978882075, 1031.6002136165425, 1031.6455313355762, 1031.5691491904474, 1031.73617274609, 1031.781496437745, 1031.7054009470016, 1031.8721497942895, 1031.6328159416307, 1031.9628111157285, 1032.0081447635018, 1032.0534804027614, 1014.598818033595, 1014.6433888892042, 1014.6062620472289, 1014.7325364744394, 1014.7771132042378, 1014.8216918922712, 1014.8662725386256]\n",
      "-102.48254645728322\n",
      "-163.62602638628974\n",
      "-43.11932034093997\n"
     ]
    },
    {
     "name": "stderr",
     "output_type": "stream",
     "text": [
      " 65%|██████▍   | 42/65 [10:29<06:49, 17.81s/it]"
     ]
    },
    {
     "name": "stdout",
     "output_type": "stream",
     "text": [
      "[1030.5131853683365, 1030.474395079614, 1030.603727289799, 1030.6490012336506, 1030.694277166365, 1030.5502326958417, 1028.9779363525736, 1030.241301202428, 1030.9206866659474, 1030.887683615554, 1030.8481852326472, 1031.0113101628765, 1030.974877271532, 1030.8612333631709, 1030.9897954771006, 1031.0693029913764, 1031.2830453179809, 1031.328349103958, 1031.2499673934356, 1031.418962646523, 1031.4642724032856, 1031.5095841504847, 1031.5548978882075, 1031.6002136165425, 1031.6455313355762, 1031.5691491904474, 1031.73617274609, 1031.781496437745, 1031.7054009470016, 1031.8721497942895, 1031.6328159416307, 1031.9628111157285, 1032.0081447635018, 1032.0534804027614, 1014.598818033595, 1014.6433888892042, 1014.6062620472289, 1014.7325364744394, 1014.7771132042378, 1014.8216918922712, 1014.8662725386256, 1014.7142509078957]\n",
      "-32.39263572581826\n",
      "-151.4423517642996\n",
      "-40.81398384027142\n"
     ]
    },
    {
     "name": "stderr",
     "output_type": "stream",
     "text": [
      " 66%|██████▌   | 43/65 [10:45<06:22, 17.38s/it]"
     ]
    },
    {
     "name": "stdout",
     "output_type": "stream",
     "text": [
      "[1030.5131853683365, 1030.474395079614, 1030.603727289799, 1030.6490012336506, 1030.694277166365, 1030.5502326958417, 1028.9779363525736, 1030.241301202428, 1030.9206866659474, 1030.887683615554, 1030.8481852326472, 1031.0113101628765, 1030.974877271532, 1030.8612333631709, 1030.9897954771006, 1031.0693029913764, 1031.2830453179809, 1031.328349103958, 1031.2499673934356, 1031.418962646523, 1031.4642724032856, 1031.5095841504847, 1031.5548978882075, 1031.6002136165425, 1031.6455313355762, 1031.5691491904474, 1031.73617274609, 1031.781496437745, 1031.7054009470016, 1031.8721497942895, 1031.6328159416307, 1031.9628111157285, 1032.0081447635018, 1032.0534804027614, 1014.598818033595, 1014.6433888892042, 1014.6062620472289, 1014.7325364744394, 1014.7771132042378, 1014.8216918922712, 1014.8662725386256, 1014.7142509078957, 1014.9554397066418]\n",
      "-30.205584909065397\n",
      "-14.548339355405217\n",
      "-50.304818679792234\n"
     ]
    },
    {
     "name": "stderr",
     "output_type": "stream",
     "text": [
      " 68%|██████▊   | 44/65 [11:01<05:55, 16.95s/it]"
     ]
    },
    {
     "name": "stdout",
     "output_type": "stream",
     "text": [
      "[1030.5131853683365, 1030.474395079614, 1030.603727289799, 1030.6490012336506, 1030.694277166365, 1030.5502326958417, 1028.9779363525736, 1030.241301202428, 1030.9206866659474, 1030.887683615554, 1030.8481852326472, 1031.0113101628765, 1030.974877271532, 1030.8612333631709, 1030.9897954771006, 1031.0693029913764, 1031.2830453179809, 1031.328349103958, 1031.2499673934356, 1031.418962646523, 1031.4642724032856, 1031.5095841504847, 1031.5548978882075, 1031.6002136165425, 1031.6455313355762, 1031.5691491904474, 1031.73617274609, 1031.781496437745, 1031.7054009470016, 1031.8721497942895, 1031.6328159416307, 1031.9628111157285, 1032.0081447635018, 1032.0534804027614, 1014.598818033595, 1014.6433888892042, 1014.6062620472289, 1014.7325364744394, 1014.7771132042378, 1014.8216918922712, 1014.8662725386256, 1014.7142509078957, 1014.9554397066418, 1015.0000262284756]\n",
      "-30.01696665390817\n",
      "-12.07842799390989\n",
      "-57.182550718588146\n"
     ]
    },
    {
     "name": "stderr",
     "output_type": "stream",
     "text": [
      " 69%|██████▉   | 45/65 [11:16<05:28, 16.43s/it]"
     ]
    },
    {
     "name": "stdout",
     "output_type": "stream",
     "text": [
      "[1030.5131853683365, 1030.474395079614, 1030.603727289799, 1030.6490012336506, 1030.694277166365, 1030.5502326958417, 1028.9779363525736, 1030.241301202428, 1030.9206866659474, 1030.887683615554, 1030.8481852326472, 1031.0113101628765, 1030.974877271532, 1030.8612333631709, 1030.9897954771006, 1031.0693029913764, 1031.2830453179809, 1031.328349103958, 1031.2499673934356, 1031.418962646523, 1031.4642724032856, 1031.5095841504847, 1031.5548978882075, 1031.6002136165425, 1031.6455313355762, 1031.5691491904474, 1031.73617274609, 1031.781496437745, 1031.7054009470016, 1031.8721497942895, 1031.6328159416307, 1031.9628111157285, 1032.0081447635018, 1032.0534804027614, 1014.598818033595, 1014.6433888892042, 1014.6062620472289, 1014.7325364744394, 1014.7771132042378, 1014.8216918922712, 1014.8662725386256, 1014.7142509078957, 1014.9554397066418, 1015.0000262284756, 1015.0446147089749]\n",
      "-29.712447319276333\n",
      "-12.258380051021067\n",
      "-39.32880384321792\n"
     ]
    },
    {
     "name": "stderr",
     "output_type": "stream",
     "text": [
      " 71%|███████   | 46/65 [11:29<04:53, 15.43s/it]"
     ]
    },
    {
     "name": "stdout",
     "output_type": "stream",
     "text": [
      "[1030.5131853683365, 1030.474395079614, 1030.603727289799, 1030.6490012336506, 1030.694277166365, 1030.5502326958417, 1028.9779363525736, 1030.241301202428, 1030.9206866659474, 1030.887683615554, 1030.8481852326472, 1031.0113101628765, 1030.974877271532, 1030.8612333631709, 1030.9897954771006, 1031.0693029913764, 1031.2830453179809, 1031.328349103958, 1031.2499673934356, 1031.418962646523, 1031.4642724032856, 1031.5095841504847, 1031.5548978882075, 1031.6002136165425, 1031.6455313355762, 1031.5691491904474, 1031.73617274609, 1031.781496437745, 1031.7054009470016, 1031.8721497942895, 1031.6328159416307, 1031.9628111157285, 1032.0081447635018, 1032.0534804027614, 1014.598818033595, 1014.6433888892042, 1014.6062620472289, 1014.7325364744394, 1014.7771132042378, 1014.8216918922712, 1014.8662725386256, 1014.7142509078957, 1014.9554397066418, 1015.0000262284756, 1015.0446147089749, 1015.0892051482257]\n",
      "-32.845957091256984\n",
      "-13.435215989148745\n",
      "-36.38461178665584\n"
     ]
    },
    {
     "name": "stderr",
     "output_type": "stream",
     "text": [
      " 72%|███████▏  | 47/65 [11:51<05:11, 17.33s/it]"
     ]
    },
    {
     "name": "stdout",
     "output_type": "stream",
     "text": [
      "[1030.5131853683365, 1030.474395079614, 1030.603727289799, 1030.6490012336506, 1030.694277166365, 1030.5502326958417, 1028.9779363525736, 1030.241301202428, 1030.9206866659474, 1030.887683615554, 1030.8481852326472, 1031.0113101628765, 1030.974877271532, 1030.8612333631709, 1030.9897954771006, 1031.0693029913764, 1031.2830453179809, 1031.328349103958, 1031.2499673934356, 1031.418962646523, 1031.4642724032856, 1031.5095841504847, 1031.5548978882075, 1031.6002136165425, 1031.6455313355762, 1031.5691491904474, 1031.73617274609, 1031.781496437745, 1031.7054009470016, 1031.8721497942895, 1031.6328159416307, 1031.9628111157285, 1032.0081447635018, 1032.0534804027614, 1014.598818033595, 1014.6433888892042, 1014.6062620472289, 1014.7325364744394, 1014.7771132042378, 1014.8216918922712, 1014.8662725386256, 1014.7142509078957, 1014.9554397066418, 1015.0000262284756, 1015.0446147089749, 1015.0892051482257, 1015.1337975463126]\n",
      "-26.88715989695205\n",
      "-13.063922104037367\n",
      "-40.710526353494586\n"
     ]
    },
    {
     "name": "stderr",
     "output_type": "stream",
     "text": [
      " 74%|███████▍  | 48/65 [12:08<04:52, 17.18s/it]"
     ]
    },
    {
     "name": "stdout",
     "output_type": "stream",
     "text": [
      "[1030.5131853683365, 1030.474395079614, 1030.603727289799, 1030.6490012336506, 1030.694277166365, 1030.5502326958417, 1028.9779363525736, 1030.241301202428, 1030.9206866659474, 1030.887683615554, 1030.8481852326472, 1031.0113101628765, 1030.974877271532, 1030.8612333631709, 1030.9897954771006, 1031.0693029913764, 1031.2830453179809, 1031.328349103958, 1031.2499673934356, 1031.418962646523, 1031.4642724032856, 1031.5095841504847, 1031.5548978882075, 1031.6002136165425, 1031.6455313355762, 1031.5691491904474, 1031.73617274609, 1031.781496437745, 1031.7054009470016, 1031.8721497942895, 1031.6328159416307, 1031.9628111157285, 1032.0081447635018, 1032.0534804027614, 1014.598818033595, 1014.6433888892042, 1014.6062620472289, 1014.7325364744394, 1014.7771132042378, 1014.8216918922712, 1014.8662725386256, 1014.7142509078957, 1014.9554397066418, 1015.0000262284756, 1015.0446147089749, 1015.0892051482257, 1015.1337975463126, 1015.178391903324]\n",
      "-39.87653116750677\n",
      "-12.968185884149827\n",
      "-43.499869800235636\n"
     ]
    },
    {
     "name": "stderr",
     "output_type": "stream",
     "text": [
      " 75%|███████▌  | 49/65 [12:22<04:22, 16.42s/it]"
     ]
    },
    {
     "name": "stdout",
     "output_type": "stream",
     "text": [
      "[1030.5131853683365, 1030.474395079614, 1030.603727289799, 1030.6490012336506, 1030.694277166365, 1030.5502326958417, 1028.9779363525736, 1030.241301202428, 1030.9206866659474, 1030.887683615554, 1030.8481852326472, 1031.0113101628765, 1030.974877271532, 1030.8612333631709, 1030.9897954771006, 1031.0693029913764, 1031.2830453179809, 1031.328349103958, 1031.2499673934356, 1031.418962646523, 1031.4642724032856, 1031.5095841504847, 1031.5548978882075, 1031.6002136165425, 1031.6455313355762, 1031.5691491904474, 1031.73617274609, 1031.781496437745, 1031.7054009470016, 1031.8721497942895, 1031.6328159416307, 1031.9628111157285, 1032.0081447635018, 1032.0534804027614, 1014.598818033595, 1014.6433888892042, 1014.6062620472289, 1014.7325364744394, 1014.7771132042378, 1014.8216918922712, 1014.8662725386256, 1014.7142509078957, 1014.9554397066418, 1015.0000262284756, 1015.0446147089749, 1015.0892051482257, 1015.1337975463126, 1015.178391903324, 1015.2229882193442]\n",
      "-32.90635928101234\n",
      "-12.030953779937697\n",
      "-44.1362338904495\n"
     ]
    },
    {
     "name": "stderr",
     "output_type": "stream",
     "text": [
      " 77%|███████▋  | 50/65 [12:37<03:55, 15.70s/it]"
     ]
    },
    {
     "name": "stdout",
     "output_type": "stream",
     "text": [
      "[1030.5131853683365, 1030.474395079614, 1030.603727289799, 1030.6490012336506, 1030.694277166365, 1030.5502326958417, 1028.9779363525736, 1030.241301202428, 1030.9206866659474, 1030.887683615554, 1030.8481852326472, 1031.0113101628765, 1030.974877271532, 1030.8612333631709, 1030.9897954771006, 1031.0693029913764, 1031.2830453179809, 1031.328349103958, 1031.2499673934356, 1031.418962646523, 1031.4642724032856, 1031.5095841504847, 1031.5548978882075, 1031.6002136165425, 1031.6455313355762, 1031.5691491904474, 1031.73617274609, 1031.781496437745, 1031.7054009470016, 1031.8721497942895, 1031.6328159416307, 1031.9628111157285, 1032.0081447635018, 1032.0534804027614, 1014.598818033595, 1014.6433888892042, 1014.6062620472289, 1014.7325364744394, 1014.7771132042378, 1014.8216918922712, 1014.8662725386256, 1014.7142509078957, 1014.9554397066418, 1015.0000262284756, 1015.0446147089749, 1015.0892051482257, 1015.1337975463126, 1015.178391903324, 1015.2229882193442, 1015.2675864944609]\n",
      "-35.928366417663\n",
      "-13.207364070502399\n",
      "-52.88004721888457\n"
     ]
    },
    {
     "name": "stderr",
     "output_type": "stream",
     "text": [
      " 78%|███████▊  | 51/65 [12:53<03:45, 16.08s/it]"
     ]
    },
    {
     "name": "stdout",
     "output_type": "stream",
     "text": [
      "[1030.5131853683365, 1030.474395079614, 1030.603727289799, 1030.6490012336506, 1030.694277166365, 1030.5502326958417, 1028.9779363525736, 1030.241301202428, 1030.9206866659474, 1030.887683615554, 1030.8481852326472, 1031.0113101628765, 1030.974877271532, 1030.8612333631709, 1030.9897954771006, 1031.0693029913764, 1031.2830453179809, 1031.328349103958, 1031.2499673934356, 1031.418962646523, 1031.4642724032856, 1031.5095841504847, 1031.5548978882075, 1031.6002136165425, 1031.6455313355762, 1031.5691491904474, 1031.73617274609, 1031.781496437745, 1031.7054009470016, 1031.8721497942895, 1031.6328159416307, 1031.9628111157285, 1032.0081447635018, 1032.0534804027614, 1014.598818033595, 1014.6433888892042, 1014.6062620472289, 1014.7325364744394, 1014.7771132042378, 1014.8216918922712, 1014.8662725386256, 1014.7142509078957, 1014.9554397066418, 1015.0000262284756, 1015.0446147089749, 1015.0892051482257, 1015.1337975463126, 1015.178391903324, 1015.2229882193442, 1015.2675864944609, 1015.3121867287588]\n",
      "-37.079042541998525\n",
      "-14.731131950252198\n",
      "-44.127039825695775\n"
     ]
    },
    {
     "name": "stderr",
     "output_type": "stream",
     "text": [
      " 80%|████████  | 52/65 [13:07<03:17, 15.19s/it]"
     ]
    },
    {
     "name": "stdout",
     "output_type": "stream",
     "text": [
      "[1030.5131853683365, 1030.474395079614, 1030.603727289799, 1030.6490012336506, 1030.694277166365, 1030.5502326958417, 1028.9779363525736, 1030.241301202428, 1030.9206866659474, 1030.887683615554, 1030.8481852326472, 1031.0113101628765, 1030.974877271532, 1030.8612333631709, 1030.9897954771006, 1031.0693029913764, 1031.2830453179809, 1031.328349103958, 1031.2499673934356, 1031.418962646523, 1031.4642724032856, 1031.5095841504847, 1031.5548978882075, 1031.6002136165425, 1031.6455313355762, 1031.5691491904474, 1031.73617274609, 1031.781496437745, 1031.7054009470016, 1031.8721497942895, 1031.6328159416307, 1031.9628111157285, 1032.0081447635018, 1032.0534804027614, 1014.598818033595, 1014.6433888892042, 1014.6062620472289, 1014.7325364744394, 1014.7771132042378, 1014.8216918922712, 1014.8662725386256, 1014.7142509078957, 1014.9554397066418, 1015.0000262284756, 1015.0446147089749, 1015.0892051482257, 1015.1337975463126, 1015.178391903324, 1015.2229882193442, 1015.2675864944609, 1015.3121867287588, 1015.3567889223231]\n",
      "-32.72087275746987\n",
      "-15.476133828300123\n",
      "-60.117960904703075\n"
     ]
    },
    {
     "name": "stderr",
     "output_type": "stream",
     "text": [
      " 82%|████████▏ | 53/65 [13:21<02:57, 14.82s/it]"
     ]
    },
    {
     "name": "stdout",
     "output_type": "stream",
     "text": [
      "[1030.5131853683365, 1030.474395079614, 1030.603727289799, 1030.6490012336506, 1030.694277166365, 1030.5502326958417, 1028.9779363525736, 1030.241301202428, 1030.9206866659474, 1030.887683615554, 1030.8481852326472, 1031.0113101628765, 1030.974877271532, 1030.8612333631709, 1030.9897954771006, 1031.0693029913764, 1031.2830453179809, 1031.328349103958, 1031.2499673934356, 1031.418962646523, 1031.4642724032856, 1031.5095841504847, 1031.5548978882075, 1031.6002136165425, 1031.6455313355762, 1031.5691491904474, 1031.73617274609, 1031.781496437745, 1031.7054009470016, 1031.8721497942895, 1031.6328159416307, 1031.9628111157285, 1032.0081447635018, 1032.0534804027614, 1014.598818033595, 1014.6433888892042, 1014.6062620472289, 1014.7325364744394, 1014.7771132042378, 1014.8216918922712, 1014.8662725386256, 1014.7142509078957, 1014.9554397066418, 1015.0000262284756, 1015.0446147089749, 1015.0892051482257, 1015.1337975463126, 1015.178391903324, 1015.2229882193442, 1015.2675864944609, 1015.3121867287588, 1015.3567889223231, 1015.4013930752425]\n",
      "-45.913510185426134\n",
      "-11.898529212522211\n",
      "-52.17419731613156\n"
     ]
    },
    {
     "name": "stderr",
     "output_type": "stream",
     "text": [
      " 83%|████████▎ | 54/65 [13:34<02:39, 14.49s/it]"
     ]
    },
    {
     "name": "stdout",
     "output_type": "stream",
     "text": [
      "[1030.5131853683365, 1030.474395079614, 1030.603727289799, 1030.6490012336506, 1030.694277166365, 1030.5502326958417, 1028.9779363525736, 1030.241301202428, 1030.9206866659474, 1030.887683615554, 1030.8481852326472, 1031.0113101628765, 1030.974877271532, 1030.8612333631709, 1030.9897954771006, 1031.0693029913764, 1031.2830453179809, 1031.328349103958, 1031.2499673934356, 1031.418962646523, 1031.4642724032856, 1031.5095841504847, 1031.5548978882075, 1031.6002136165425, 1031.6455313355762, 1031.5691491904474, 1031.73617274609, 1031.781496437745, 1031.7054009470016, 1031.8721497942895, 1031.6328159416307, 1031.9628111157285, 1032.0081447635018, 1032.0534804027614, 1014.598818033595, 1014.6433888892042, 1014.6062620472289, 1014.7325364744394, 1014.7771132042378, 1014.8216918922712, 1014.8662725386256, 1014.7142509078957, 1014.9554397066418, 1015.0000262284756, 1015.0446147089749, 1015.0892051482257, 1015.1337975463126, 1015.178391903324, 1015.2229882193442, 1015.2675864944609, 1015.3121867287588, 1015.3567889223231, 1015.4013930752425, 1015.4459991876009]\n",
      "-36.959543379775454\n",
      "-9.44012829613295\n",
      "-27.170561035710755\n"
     ]
    },
    {
     "name": "stderr",
     "output_type": "stream",
     "text": [
      " 85%|████████▍ | 55/65 [13:48<02:23, 14.40s/it]"
     ]
    },
    {
     "name": "stdout",
     "output_type": "stream",
     "text": [
      "[1030.5131853683365, 1030.474395079614, 1030.603727289799, 1030.6490012336506, 1030.694277166365, 1030.5502326958417, 1028.9779363525736, 1030.241301202428, 1030.9206866659474, 1030.887683615554, 1030.8481852326472, 1031.0113101628765, 1030.974877271532, 1030.8612333631709, 1030.9897954771006, 1031.0693029913764, 1031.2830453179809, 1031.328349103958, 1031.2499673934356, 1031.418962646523, 1031.4642724032856, 1031.5095841504847, 1031.5548978882075, 1031.6002136165425, 1031.6455313355762, 1031.5691491904474, 1031.73617274609, 1031.781496437745, 1031.7054009470016, 1031.8721497942895, 1031.6328159416307, 1031.9628111157285, 1032.0081447635018, 1032.0534804027614, 1014.598818033595, 1014.6433888892042, 1014.6062620472289, 1014.7325364744394, 1014.7771132042378, 1014.8216918922712, 1014.8662725386256, 1014.7142509078957, 1014.9554397066418, 1015.0000262284756, 1015.0446147089749, 1015.0892051482257, 1015.1337975463126, 1015.178391903324, 1015.2229882193442, 1015.2675864944609, 1015.3121867287588, 1015.3567889223231, 1015.4013930752425, 1015.4459991876009, 1015.4906072594853]\n",
      "-32.316100934468686\n",
      "-9.501420278906512\n",
      "-34.49661152351334\n"
     ]
    },
    {
     "name": "stderr",
     "output_type": "stream",
     "text": [
      " 86%|████████▌ | 56/65 [14:04<02:11, 14.60s/it]"
     ]
    },
    {
     "name": "stdout",
     "output_type": "stream",
     "text": [
      "[1030.5131853683365, 1030.474395079614, 1030.603727289799, 1030.6490012336506, 1030.694277166365, 1030.5502326958417, 1028.9779363525736, 1030.241301202428, 1030.9206866659474, 1030.887683615554, 1030.8481852326472, 1031.0113101628765, 1030.974877271532, 1030.8612333631709, 1030.9897954771006, 1031.0693029913764, 1031.2830453179809, 1031.328349103958, 1031.2499673934356, 1031.418962646523, 1031.4642724032856, 1031.5095841504847, 1031.5548978882075, 1031.6002136165425, 1031.6455313355762, 1031.5691491904474, 1031.73617274609, 1031.781496437745, 1031.7054009470016, 1031.8721497942895, 1031.6328159416307, 1031.9628111157285, 1032.0081447635018, 1032.0534804027614, 1014.598818033595, 1014.6433888892042, 1014.6062620472289, 1014.7325364744394, 1014.7771132042378, 1014.8216918922712, 1014.8662725386256, 1014.7142509078957, 1014.9554397066418, 1015.0000262284756, 1015.0446147089749, 1015.0892051482257, 1015.1337975463126, 1015.178391903324, 1015.2229882193442, 1015.2675864944609, 1015.3121867287588, 1015.3567889223231, 1015.4013930752425, 1015.4459991876009, 1015.4906072594853, 1015.4982358199883]\n",
      "-26.628954322238613\n",
      "-9.67865035304037\n",
      "-33.41261209932239\n"
     ]
    },
    {
     "name": "stderr",
     "output_type": "stream",
     "text": [
      " 88%|████████▊ | 57/65 [14:16<01:51, 13.93s/it]"
     ]
    },
    {
     "name": "stdout",
     "output_type": "stream",
     "text": [
      "[1030.5131853683365, 1030.474395079614, 1030.603727289799, 1030.6490012336506, 1030.694277166365, 1030.5502326958417, 1028.9779363525736, 1030.241301202428, 1030.9206866659474, 1030.887683615554, 1030.8481852326472, 1031.0113101628765, 1030.974877271532, 1030.8612333631709, 1030.9897954771006, 1031.0693029913764, 1031.2830453179809, 1031.328349103958, 1031.2499673934356, 1031.418962646523, 1031.4642724032856, 1031.5095841504847, 1031.5548978882075, 1031.6002136165425, 1031.6455313355762, 1031.5691491904474, 1031.73617274609, 1031.781496437745, 1031.7054009470016, 1031.8721497942895, 1031.6328159416307, 1031.9628111157285, 1032.0081447635018, 1032.0534804027614, 1014.598818033595, 1014.6433888892042, 1014.6062620472289, 1014.7325364744394, 1014.7771132042378, 1014.8216918922712, 1014.8662725386256, 1014.7142509078957, 1014.9554397066418, 1015.0000262284756, 1015.0446147089749, 1015.0892051482257, 1015.1337975463126, 1015.178391903324, 1015.2229882193442, 1015.2675864944609, 1015.3121867287588, 1015.3567889223231, 1015.4013930752425, 1015.4459991876009, 1015.4906072594853, 1015.4982358199883, 1015.5798292821761]\n",
      "-33.0986384293196\n",
      "-15.266967951733049\n",
      "-35.23915847103495\n"
     ]
    },
    {
     "name": "stderr",
     "output_type": "stream",
     "text": [
      " 89%|████████▉ | 58/65 [14:28<01:33, 13.35s/it]"
     ]
    },
    {
     "name": "stdout",
     "output_type": "stream",
     "text": [
      "[1030.5131853683365, 1030.474395079614, 1030.603727289799, 1030.6490012336506, 1030.694277166365, 1030.5502326958417, 1028.9779363525736, 1030.241301202428, 1030.9206866659474, 1030.887683615554, 1030.8481852326472, 1031.0113101628765, 1030.974877271532, 1030.8612333631709, 1030.9897954771006, 1031.0693029913764, 1031.2830453179809, 1031.328349103958, 1031.2499673934356, 1031.418962646523, 1031.4642724032856, 1031.5095841504847, 1031.5548978882075, 1031.6002136165425, 1031.6455313355762, 1031.5691491904474, 1031.73617274609, 1031.781496437745, 1031.7054009470016, 1031.8721497942895, 1031.6328159416307, 1031.9628111157285, 1032.0081447635018, 1032.0534804027614, 1014.598818033595, 1014.6433888892042, 1014.6062620472289, 1014.7325364744394, 1014.7771132042378, 1014.8216918922712, 1014.8662725386256, 1014.7142509078957, 1014.9554397066418, 1015.0000262284756, 1015.0446147089749, 1015.0892051482257, 1015.1337975463126, 1015.178391903324, 1015.2229882193442, 1015.2675864944609, 1015.3121867287588, 1015.3567889223231, 1015.4013930752425, 1015.4459991876009, 1015.4906072594853, 1015.4982358199883, 1015.5798292821761, 1015.6244432331546]\n",
      "-34.45607057207412\n",
      "-11.027861338588169\n",
      "-47.52434363792662\n"
     ]
    },
    {
     "name": "stderr",
     "output_type": "stream",
     "text": [
      " 91%|█████████ | 59/65 [14:41<01:19, 13.17s/it]"
     ]
    },
    {
     "name": "stdout",
     "output_type": "stream",
     "text": [
      "[1030.5131853683365, 1030.474395079614, 1030.603727289799, 1030.6490012336506, 1030.694277166365, 1030.5502326958417, 1028.9779363525736, 1030.241301202428, 1030.9206866659474, 1030.887683615554, 1030.8481852326472, 1031.0113101628765, 1030.974877271532, 1030.8612333631709, 1030.9897954771006, 1031.0693029913764, 1031.2830453179809, 1031.328349103958, 1031.2499673934356, 1031.418962646523, 1031.4642724032856, 1031.5095841504847, 1031.5548978882075, 1031.6002136165425, 1031.6455313355762, 1031.5691491904474, 1031.73617274609, 1031.781496437745, 1031.7054009470016, 1031.8721497942895, 1031.6328159416307, 1031.9628111157285, 1032.0081447635018, 1032.0534804027614, 1014.598818033595, 1014.6433888892042, 1014.6062620472289, 1014.7325364744394, 1014.7771132042378, 1014.8216918922712, 1014.8662725386256, 1014.7142509078957, 1014.9554397066418, 1015.0000262284756, 1015.0446147089749, 1015.0892051482257, 1015.1337975463126, 1015.178391903324, 1015.2229882193442, 1015.2675864944609, 1015.3121867287588, 1015.3567889223231, 1015.4013930752425, 1015.4459991876009, 1015.4906072594853, 1015.4982358199883, 1015.5798292821761, 1015.6244432331546, 1015.6690591440033]\n",
      "-29.716596393905466\n",
      "-13.198022393662866\n",
      "-37.07409933404256\n"
     ]
    },
    {
     "name": "stderr",
     "output_type": "stream",
     "text": [
      " 92%|█████████▏| 60/65 [14:51<01:02, 12.42s/it]"
     ]
    },
    {
     "name": "stdout",
     "output_type": "stream",
     "text": [
      "[1030.5131853683365, 1030.474395079614, 1030.603727289799, 1030.6490012336506, 1030.694277166365, 1030.5502326958417, 1028.9779363525736, 1030.241301202428, 1030.9206866659474, 1030.887683615554, 1030.8481852326472, 1031.0113101628765, 1030.974877271532, 1030.8612333631709, 1030.9897954771006, 1031.0693029913764, 1031.2830453179809, 1031.328349103958, 1031.2499673934356, 1031.418962646523, 1031.4642724032856, 1031.5095841504847, 1031.5548978882075, 1031.6002136165425, 1031.6455313355762, 1031.5691491904474, 1031.73617274609, 1031.781496437745, 1031.7054009470016, 1031.8721497942895, 1031.6328159416307, 1031.9628111157285, 1032.0081447635018, 1032.0534804027614, 1014.598818033595, 1014.6433888892042, 1014.6062620472289, 1014.7325364744394, 1014.7771132042378, 1014.8216918922712, 1014.8662725386256, 1014.7142509078957, 1014.9554397066418, 1015.0000262284756, 1015.0446147089749, 1015.0892051482257, 1015.1337975463126, 1015.178391903324, 1015.2229882193442, 1015.2675864944609, 1015.3121867287588, 1015.3567889223231, 1015.4013930752425, 1015.4459991876009, 1015.4906072594853, 1015.4982358199883, 1015.5798292821761, 1015.6244432331546, 1015.6690591440033, 1015.713677014808]\n",
      "-32.08609394839843\n",
      "-10.842329990494937\n",
      "-37.29167758563607\n"
     ]
    },
    {
     "name": "stderr",
     "output_type": "stream",
     "text": [
      " 94%|█████████▍| 61/65 [15:06<00:51, 12.96s/it]"
     ]
    },
    {
     "name": "stdout",
     "output_type": "stream",
     "text": [
      "[1030.5131853683365, 1030.474395079614, 1030.603727289799, 1030.6490012336506, 1030.694277166365, 1030.5502326958417, 1028.9779363525736, 1030.241301202428, 1030.9206866659474, 1030.887683615554, 1030.8481852326472, 1031.0113101628765, 1030.974877271532, 1030.8612333631709, 1030.9897954771006, 1031.0693029913764, 1031.2830453179809, 1031.328349103958, 1031.2499673934356, 1031.418962646523, 1031.4642724032856, 1031.5095841504847, 1031.5548978882075, 1031.6002136165425, 1031.6455313355762, 1031.5691491904474, 1031.73617274609, 1031.781496437745, 1031.7054009470016, 1031.8721497942895, 1031.6328159416307, 1031.9628111157285, 1032.0081447635018, 1032.0534804027614, 1014.598818033595, 1014.6433888892042, 1014.6062620472289, 1014.7325364744394, 1014.7771132042378, 1014.8216918922712, 1014.8662725386256, 1014.7142509078957, 1014.9554397066418, 1015.0000262284756, 1015.0446147089749, 1015.0892051482257, 1015.1337975463126, 1015.178391903324, 1015.2229882193442, 1015.2675864944609, 1015.3121867287588, 1015.3567889223231, 1015.4013930752425, 1015.4459991876009, 1015.4906072594853, 1015.4982358199883, 1015.5798292821761, 1015.6244432331546, 1015.6690591440033, 1015.713677014808, 1015.7582968456553]\n",
      "-37.834751267117156\n",
      "-9.665176444023626\n",
      "-38.41099530991219\n"
     ]
    },
    {
     "name": "stderr",
     "output_type": "stream",
     "text": [
      " 95%|█████████▌| 62/65 [15:16<00:36, 12.31s/it]"
     ]
    },
    {
     "name": "stdout",
     "output_type": "stream",
     "text": [
      "[1030.5131853683365, 1030.474395079614, 1030.603727289799, 1030.6490012336506, 1030.694277166365, 1030.5502326958417, 1028.9779363525736, 1030.241301202428, 1030.9206866659474, 1030.887683615554, 1030.8481852326472, 1031.0113101628765, 1030.974877271532, 1030.8612333631709, 1030.9897954771006, 1031.0693029913764, 1031.2830453179809, 1031.328349103958, 1031.2499673934356, 1031.418962646523, 1031.4642724032856, 1031.5095841504847, 1031.5548978882075, 1031.6002136165425, 1031.6455313355762, 1031.5691491904474, 1031.73617274609, 1031.781496437745, 1031.7054009470016, 1031.8721497942895, 1031.6328159416307, 1031.9628111157285, 1032.0081447635018, 1032.0534804027614, 1014.598818033595, 1014.6433888892042, 1014.6062620472289, 1014.7325364744394, 1014.7771132042378, 1014.8216918922712, 1014.8662725386256, 1014.7142509078957, 1014.9554397066418, 1015.0000262284756, 1015.0446147089749, 1015.0892051482257, 1015.1337975463126, 1015.178391903324, 1015.2229882193442, 1015.2675864944609, 1015.3121867287588, 1015.3567889223231, 1015.4013930752425, 1015.4459991876009, 1015.4906072594853, 1015.4982358199883, 1015.5798292821761, 1015.6244432331546, 1015.6690591440033, 1015.713677014808, 1015.7582968456553, 1015.802918636631]\n",
      "-24.89427391294546\n",
      "-10.21968559516678\n",
      "-40.14902584521399\n"
     ]
    },
    {
     "name": "stderr",
     "output_type": "stream",
     "text": [
      " 97%|█████████▋| 63/65 [15:30<00:25, 12.65s/it]"
     ]
    },
    {
     "name": "stdout",
     "output_type": "stream",
     "text": [
      "[1030.5131853683365, 1030.474395079614, 1030.603727289799, 1030.6490012336506, 1030.694277166365, 1030.5502326958417, 1028.9779363525736, 1030.241301202428, 1030.9206866659474, 1030.887683615554, 1030.8481852326472, 1031.0113101628765, 1030.974877271532, 1030.8612333631709, 1030.9897954771006, 1031.0693029913764, 1031.2830453179809, 1031.328349103958, 1031.2499673934356, 1031.418962646523, 1031.4642724032856, 1031.5095841504847, 1031.5548978882075, 1031.6002136165425, 1031.6455313355762, 1031.5691491904474, 1031.73617274609, 1031.781496437745, 1031.7054009470016, 1031.8721497942895, 1031.6328159416307, 1031.9628111157285, 1032.0081447635018, 1032.0534804027614, 1014.598818033595, 1014.6433888892042, 1014.6062620472289, 1014.7325364744394, 1014.7771132042378, 1014.8216918922712, 1014.8662725386256, 1014.7142509078957, 1014.9554397066418, 1015.0000262284756, 1015.0446147089749, 1015.0892051482257, 1015.1337975463126, 1015.178391903324, 1015.2229882193442, 1015.2675864944609, 1015.3121867287588, 1015.3567889223231, 1015.4013930752425, 1015.4459991876009, 1015.4906072594853, 1015.4982358199883, 1015.5798292821761, 1015.6244432331546, 1015.6690591440033, 1015.713677014808, 1015.7582968456553, 1015.802918636631, 1015.847542387821]\n",
      "-30.328424732278\n",
      "-11.25175535638235\n",
      "-44.712635080508264\n"
     ]
    },
    {
     "name": "stderr",
     "output_type": "stream",
     "text": [
      " 98%|█████████▊| 64/65 [15:44<00:13, 13.01s/it]"
     ]
    },
    {
     "name": "stdout",
     "output_type": "stream",
     "text": [
      "[1030.5131853683365, 1030.474395079614, 1030.603727289799, 1030.6490012336506, 1030.694277166365, 1030.5502326958417, 1028.9779363525736, 1030.241301202428, 1030.9206866659474, 1030.887683615554, 1030.8481852326472, 1031.0113101628765, 1030.974877271532, 1030.8612333631709, 1030.9897954771006, 1031.0693029913764, 1031.2830453179809, 1031.328349103958, 1031.2499673934356, 1031.418962646523, 1031.4642724032856, 1031.5095841504847, 1031.5548978882075, 1031.6002136165425, 1031.6455313355762, 1031.5691491904474, 1031.73617274609, 1031.781496437745, 1031.7054009470016, 1031.8721497942895, 1031.6328159416307, 1031.9628111157285, 1032.0081447635018, 1032.0534804027614, 1014.598818033595, 1014.6433888892042, 1014.6062620472289, 1014.7325364744394, 1014.7771132042378, 1014.8216918922712, 1014.8662725386256, 1014.7142509078957, 1014.9554397066418, 1015.0000262284756, 1015.0446147089749, 1015.0892051482257, 1015.1337975463126, 1015.178391903324, 1015.2229882193442, 1015.2675864944609, 1015.3121867287588, 1015.3567889223231, 1015.4013930752425, 1015.4459991876009, 1015.4906072594853, 1015.4982358199883, 1015.5798292821761, 1015.6244432331546, 1015.6690591440033, 1015.713677014808, 1015.7582968456553, 1015.802918636631, 1015.847542387821, 1015.8921680993118]\n",
      "-30.70104496355722\n",
      "-15.154444136588829\n",
      "-47.06982881761561\n"
     ]
    },
    {
     "name": "stderr",
     "output_type": "stream",
     "text": [
      "100%|██████████| 65/65 [15:55<00:00, 14.69s/it]"
     ]
    },
    {
     "name": "stdout",
     "output_type": "stream",
     "text": [
      "[1030.5131853683365, 1030.474395079614, 1030.603727289799, 1030.6490012336506, 1030.694277166365, 1030.5502326958417, 1028.9779363525736, 1030.241301202428, 1030.9206866659474, 1030.887683615554, 1030.8481852326472, 1031.0113101628765, 1030.974877271532, 1030.8612333631709, 1030.9897954771006, 1031.0693029913764, 1031.2830453179809, 1031.328349103958, 1031.2499673934356, 1031.418962646523, 1031.4642724032856, 1031.5095841504847, 1031.5548978882075, 1031.6002136165425, 1031.6455313355762, 1031.5691491904474, 1031.73617274609, 1031.781496437745, 1031.7054009470016, 1031.8721497942895, 1031.6328159416307, 1031.9628111157285, 1032.0081447635018, 1032.0534804027614, 1014.598818033595, 1014.6433888892042, 1014.6062620472289, 1014.7325364744394, 1014.7771132042378, 1014.8216918922712, 1014.8662725386256, 1014.7142509078957, 1014.9554397066418, 1015.0000262284756, 1015.0446147089749, 1015.0892051482257, 1015.1337975463126, 1015.178391903324, 1015.2229882193442, 1015.2675864944609, 1015.3121867287588, 1015.3567889223231, 1015.4013930752425, 1015.4459991876009, 1015.4906072594853, 1015.4982358199883, 1015.5798292821761, 1015.6244432331546, 1015.6690591440033, 1015.713677014808, 1015.7582968456553, 1015.802918636631, 1015.847542387821, 1015.8921680993118, 1015.9367957711896]\n"
     ]
    },
    {
     "name": "stderr",
     "output_type": "stream",
     "text": [
      "\n"
     ]
    }
   ],
   "source": [
    "# Initialize backtest parameters\n",
    "last_id = 287\n",
    "backtest_start = 187\n",
    "backtest_end = 252\n",
    "\n",
    "# Run backtest\n",
    "prices, prices_var, calibrated_result = run_heston_backtest(\n",
    "    combined_df, backtest_start, backtest_end, last_id, params\n",
    ")"
   ]
  },
  {
   "cell_type": "code",
   "execution_count": 80,
   "metadata": {},
   "outputs": [
    {
     "data": {
      "text/plain": [
       "[[1030.5131853683365,\n",
       "  1030.474395079614,\n",
       "  1030.603727289799,\n",
       "  1030.6490012336506,\n",
       "  1030.694277166365,\n",
       "  1030.5502326958417,\n",
       "  1028.9779363525736,\n",
       "  1030.241301202428,\n",
       "  1030.9206866659474,\n",
       "  1030.887683615554,\n",
       "  1030.8481852326472,\n",
       "  1031.0113101628765,\n",
       "  1030.974877271532,\n",
       "  1030.8612333631709,\n",
       "  1030.9897954771006,\n",
       "  1031.0693029913764,\n",
       "  1031.2830453179809,\n",
       "  1031.328349103958,\n",
       "  1031.2499673934356,\n",
       "  1031.418962646523,\n",
       "  1031.4642724032856,\n",
       "  1031.5095841504847,\n",
       "  1031.5548978882075,\n",
       "  1031.6002136165425,\n",
       "  1031.6455313355762,\n",
       "  1031.5691491904474,\n",
       "  1031.73617274609,\n",
       "  1031.781496437745,\n",
       "  1031.7054009470016,\n",
       "  1031.8721497942895,\n",
       "  1031.6328159416307,\n",
       "  1031.9628111157285,\n",
       "  1032.0081447635018,\n",
       "  1032.0534804027614,\n",
       "  1014.598818033595,\n",
       "  1014.6433888892042,\n",
       "  1014.6062620472289,\n",
       "  1014.7325364744394,\n",
       "  1014.7771132042378,\n",
       "  1014.8216918922712,\n",
       "  1014.8662725386256,\n",
       "  1014.7142509078957,\n",
       "  1014.9554397066418,\n",
       "  1015.0000262284756,\n",
       "  1015.0446147089749,\n",
       "  1015.0892051482257,\n",
       "  1015.1337975463126,\n",
       "  1015.178391903324,\n",
       "  1015.2229882193442,\n",
       "  1015.2675864944609,\n",
       "  1015.3121867287588,\n",
       "  1015.3567889223231,\n",
       "  1015.4013930752425,\n",
       "  1015.4459991876009,\n",
       "  1015.4906072594853,\n",
       "  1015.4982358199883,\n",
       "  1015.5798292821761,\n",
       "  1015.6244432331546,\n",
       "  1015.6690591440033,\n",
       "  1015.713677014808,\n",
       "  1015.7582968456553,\n",
       "  1015.802918636631,\n",
       "  1015.847542387821,\n",
       "  1015.8921680993118,\n",
       "  1015.9367957711896]]"
      ]
     },
     "execution_count": 80,
     "metadata": {},
     "output_type": "execute_result"
    }
   ],
   "source": [
    "[prices]"
   ]
  },
  {
   "cell_type": "code",
   "execution_count": 81,
   "metadata": {},
   "outputs": [
    {
     "name": "stderr",
     "output_type": "stream",
     "text": [
      "/home/bach/mh4518_simulation_in_fin/notebooks/../utils/utils.py:241: UserWarning: Could not infer format, so each element will be parsed individually, falling back to `dateutil`. To ensure parsing is consistent and as-expected, please specify a format.\n",
      "  real_price['Date'] = pd.to_datetime(real_price['Date'], dayfirst=True)\n"
     ]
    },
    {
     "name": "stdout",
     "output_type": "stream",
     "text": [
      "1185.4744897381754\n"
     ]
    },
    {
     "data": {
      "image/png": "[encoded data removed]",
      "text/plain": [
       "<Figure size 1600x400 with 1 Axes>"
      ]
     },
     "metadata": {},
     "output_type": "display_data"
    }
   ],
   "source": [
    "evaluation_plot(\n",
    "    backtest_start, backtest_end, combined_df, np.array([prices]), ylim=(900, 1100)\n",
    ")"
   ]
  },
  {
   "cell_type": "code",
   "execution_count": null,
   "metadata": {},
   "outputs": [],
   "source": [
    "df.DataFrame(calibrated_result).mean()"
   ]
  },
  {
   "cell_type": "code",
   "execution_count": null,
   "metadata": {},
   "outputs": [],
   "source": []
  }
 ],
 "metadata": {
  "kernelspec": {
   "display_name": "Python 3",
   "language": "python",
   "name": "python3"
  },
  "language_info": {
   "codemirror_mode": {
    "name": "ipython",
    "version": 3
   },
   "file_extension": ".py",
   "mimetype": "text/x-python",
   "name": "python",
   "nbconvert_exporter": "python",
   "pygments_lexer": "ipython3",
   "version": "3.11.9"
  },
  "orig_nbformat": 4
 },
 "nbformat": 4,
 "nbformat_minor": 2
}
