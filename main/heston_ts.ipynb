{
 "cells": [
  {
   "cell_type": "code",
   "execution_count": 1,
   "metadata": {},
   "outputs": [],
   "source": [
    "import numpy as np\n",
    "import pandas as pd\n",
    "import matplotlib.pyplot as plt\n",
    "import seaborn as sns\n",
    "from scipy.optimize import minimize\n",
    "from scipy.stats import norm\n",
    "from tqdm.auto import tqdm\n",
    "from lmfit import Parameters, minimize\n",
    "\n",
    "import sys\n",
    "import pickle\n",
    "\n",
    "sys.path.append(\"../utils\")\n",
    "from utils import *\n",
    "from data_retrieve import *\n",
    "from option import *"
   ]
  },
  {
   "cell_type": "code",
   "execution_count": 2,
   "metadata": {},
   "outputs": [
    {
     "data": {
      "text/html": [
       "<div>\n",
       "<style scoped>\n",
       "    .dataframe tbody tr th:only-of-type {\n",
       "        vertical-align: middle;\n",
       "    }\n",
       "\n",
       "    .dataframe tbody tr th {\n",
       "        vertical-align: top;\n",
       "    }\n",
       "\n",
       "    .dataframe thead th {\n",
       "        text-align: right;\n",
       "    }\n",
       "</style>\n",
       "<table border=\"1\" class=\"dataframe\">\n",
       "  <thead>\n",
       "    <tr style=\"text-align: right;\">\n",
       "      <th></th>\n",
       "      <th>Date</th>\n",
       "      <th>ROG_Last_Price</th>\n",
       "      <th>ROG_IVOL</th>\n",
       "      <th>CFR_Last_Price</th>\n",
       "      <th>CFR_IVOL</th>\n",
       "      <th>ZURN_Last_Price</th>\n",
       "      <th>ZURN_IVOL</th>\n",
       "      <th>Risk_Free_Rate</th>\n",
       "    </tr>\n",
       "  </thead>\n",
       "  <tbody>\n",
       "    <tr>\n",
       "      <th>0</th>\n",
       "      <td>2023-10-25</td>\n",
       "      <td>237.55</td>\n",
       "      <td>17.6858</td>\n",
       "      <td>107.00</td>\n",
       "      <td>33.0793</td>\n",
       "      <td>426.4</td>\n",
       "      <td>15.7900</td>\n",
       "      <td>1.4594</td>\n",
       "    </tr>\n",
       "    <tr>\n",
       "      <th>1</th>\n",
       "      <td>2023-10-26</td>\n",
       "      <td>237.25</td>\n",
       "      <td>17.9504</td>\n",
       "      <td>104.45</td>\n",
       "      <td>33.5406</td>\n",
       "      <td>426.8</td>\n",
       "      <td>15.9736</td>\n",
       "      <td>1.4508</td>\n",
       "    </tr>\n",
       "    <tr>\n",
       "      <th>2</th>\n",
       "      <td>2023-10-27</td>\n",
       "      <td>237.75</td>\n",
       "      <td>19.6028</td>\n",
       "      <td>104.40</td>\n",
       "      <td>33.4355</td>\n",
       "      <td>424.4</td>\n",
       "      <td>16.3945</td>\n",
       "      <td>1.4478</td>\n",
       "    </tr>\n",
       "    <tr>\n",
       "      <th>3</th>\n",
       "      <td>2023-10-30</td>\n",
       "      <td>241.30</td>\n",
       "      <td>19.3503</td>\n",
       "      <td>104.75</td>\n",
       "      <td>33.1531</td>\n",
       "      <td>428.2</td>\n",
       "      <td>15.9477</td>\n",
       "      <td>1.4623</td>\n",
       "    </tr>\n",
       "    <tr>\n",
       "      <th>4</th>\n",
       "      <td>2023-10-31</td>\n",
       "      <td>233.85</td>\n",
       "      <td>19.2518</td>\n",
       "      <td>106.90</td>\n",
       "      <td>32.7788</td>\n",
       "      <td>430.6</td>\n",
       "      <td>15.7948</td>\n",
       "      <td>1.4489</td>\n",
       "    </tr>\n",
       "    <tr>\n",
       "      <th>...</th>\n",
       "      <td>...</td>\n",
       "      <td>...</td>\n",
       "      <td>...</td>\n",
       "      <td>...</td>\n",
       "      <td>...</td>\n",
       "      <td>...</td>\n",
       "      <td>...</td>\n",
       "      <td>...</td>\n",
       "    </tr>\n",
       "    <tr>\n",
       "      <th>248</th>\n",
       "      <td>2024-10-21</td>\n",
       "      <td>272.90</td>\n",
       "      <td>17.7575</td>\n",
       "      <td>126.65</td>\n",
       "      <td>31.1486</td>\n",
       "      <td>526.2</td>\n",
       "      <td>14.1699</td>\n",
       "      <td>0.6532</td>\n",
       "    </tr>\n",
       "    <tr>\n",
       "      <th>249</th>\n",
       "      <td>2024-10-22</td>\n",
       "      <td>272.20</td>\n",
       "      <td>18.2963</td>\n",
       "      <td>126.95</td>\n",
       "      <td>30.9890</td>\n",
       "      <td>520.4</td>\n",
       "      <td>14.7228</td>\n",
       "      <td>0.6544</td>\n",
       "    </tr>\n",
       "    <tr>\n",
       "      <th>250</th>\n",
       "      <td>2024-10-23</td>\n",
       "      <td>277.20</td>\n",
       "      <td>17.6974</td>\n",
       "      <td>126.05</td>\n",
       "      <td>31.3139</td>\n",
       "      <td>519.6</td>\n",
       "      <td>14.0134</td>\n",
       "      <td>0.6448</td>\n",
       "    </tr>\n",
       "    <tr>\n",
       "      <th>251</th>\n",
       "      <td>2024-10-24</td>\n",
       "      <td>279.80</td>\n",
       "      <td>17.7883</td>\n",
       "      <td>128.45</td>\n",
       "      <td>31.6005</td>\n",
       "      <td>520.6</td>\n",
       "      <td>14.4540</td>\n",
       "      <td>0.6213</td>\n",
       "    </tr>\n",
       "    <tr>\n",
       "      <th>252</th>\n",
       "      <td>2024-10-25</td>\n",
       "      <td>279.60</td>\n",
       "      <td>NaN</td>\n",
       "      <td>128.05</td>\n",
       "      <td>NaN</td>\n",
       "      <td>521.2</td>\n",
       "      <td>NaN</td>\n",
       "      <td>NaN</td>\n",
       "    </tr>\n",
       "  </tbody>\n",
       "</table>\n",
       "<p>253 rows × 8 columns</p>\n",
       "</div>"
      ],
      "text/plain": [
       "          Date  ROG_Last_Price  ROG_IVOL  CFR_Last_Price  CFR_IVOL  \\\n",
       "0   2023-10-25          237.55   17.6858          107.00   33.0793   \n",
       "1   2023-10-26          237.25   17.9504          104.45   33.5406   \n",
       "2   2023-10-27          237.75   19.6028          104.40   33.4355   \n",
       "3   2023-10-30          241.30   19.3503          104.75   33.1531   \n",
       "4   2023-10-31          233.85   19.2518          106.90   32.7788   \n",
       "..         ...             ...       ...             ...       ...   \n",
       "248 2024-10-21          272.90   17.7575          126.65   31.1486   \n",
       "249 2024-10-22          272.20   18.2963          126.95   30.9890   \n",
       "250 2024-10-23          277.20   17.6974          126.05   31.3139   \n",
       "251 2024-10-24          279.80   17.7883          128.45   31.6005   \n",
       "252 2024-10-25          279.60       NaN          128.05       NaN   \n",
       "\n",
       "     ZURN_Last_Price  ZURN_IVOL  Risk_Free_Rate  \n",
       "0              426.4    15.7900          1.4594  \n",
       "1              426.8    15.9736          1.4508  \n",
       "2              424.4    16.3945          1.4478  \n",
       "3              428.2    15.9477          1.4623  \n",
       "4              430.6    15.7948          1.4489  \n",
       "..               ...        ...             ...  \n",
       "248            526.2    14.1699          0.6532  \n",
       "249            520.4    14.7228          0.6544  \n",
       "250            519.6    14.0134          0.6448  \n",
       "251            520.6    14.4540          0.6213  \n",
       "252            521.2        NaN             NaN  \n",
       "\n",
       "[253 rows x 8 columns]"
      ]
     },
     "execution_count": 2,
     "metadata": {},
     "output_type": "execute_result"
    }
   ],
   "source": [
    "combined_df = retrieve_data()\n",
    "combined_df"
   ]
  },
  {
   "cell_type": "code",
   "execution_count": 3,
   "metadata": {},
   "outputs": [],
   "source": [
    "combined_df = retrieve_data()\n",
    "df_bond = retrieve_bond()\n",
    "np.random.seed(42)\n",
    "n_days = 252\n",
    "dt = 1 / n_days\n",
    "close = combined_df[[\"ROG_Last_Price\", \"CFR_Last_Price\", \"ZURN_Last_Price\"]]\n",
    "tickers = close.columns\n",
    "log_returns = np.log((close / close.shift(1)).dropna())"
   ]
  },
  {
   "cell_type": "markdown",
   "metadata": {},
   "source": [
    "# Heston Stochastic Volatility Model "
   ]
  },
  {
   "cell_type": "code",
   "execution_count": 4,
   "metadata": {},
   "outputs": [
    {
     "name": "stderr",
     "output_type": "stream",
     "text": [
      "/tmp/ipykernel_262155/3233955995.py:14: FutureWarning: The behavior of DataFrame concatenation with empty or all-NA entries is deprecated. In a future version, this will no longer exclude empty or all-NA columns when determining the result dtypes. To retain the old behavior, exclude the relevant entries before the concat operation.\n",
      "  options = pd.concat([options, data])\n"
     ]
    }
   ],
   "source": [
    "files = [\"rog_call.csv\", \"cfr_call.csv\", \"zurn_call.csv\"]\n",
    "input_directory = \"../data/option_data/\"\n",
    "\n",
    "options = pd.DataFrame(\n",
    "    columns=[\"maturity\", \"strike\", \"price\", \"IV\", \"day\", \"month\", \"year\", \"product\"]\n",
    ")\n",
    "for i, f in enumerate(files):\n",
    "    for file in next(os.walk(input_directory + \"cleaned\"))[1]:\n",
    "        data = pd.read_csv(f\"../data/option_data/cleaned/{file}/\" + f)\n",
    "        data[\"day\"] = file[:2]\n",
    "        data[\"month\"] = file[2:4]\n",
    "        data[\"year\"] = file[4:]\n",
    "        data[\"product\"] = tickers[i]\n",
    "        options = pd.concat([options, data])\n",
    "        \n",
    "options = options.sort_values([\"product\", \"month\", \"day\", \"maturity\"])"
   ]
  },
  {
   "cell_type": "code",
   "execution_count": 5,
   "metadata": {},
   "outputs": [],
   "source": [
    "import numpy as np\n",
    "import pandas as pd\n",
    "from tqdm import tqdm\n",
    "\n",
    "\n",
    "class HestonModelCalibration:\n",
    "    def __init__(self, current_id, data, n_days=252):\n",
    "        self.current_id = current_id\n",
    "        self.data = data\n",
    "        self.n_days = n_days\n",
    "        self.dt = 1 / n_days\n",
    "        self.tickers = data.columns\n",
    "        self.log_returns = np.log((data / data.shift(1)).dropna())\n",
    "\n",
    "    def calculate_realized_vol(self, window_size=30):\n",
    "        \"\"\"Calculate realized volatility for initial variance\"\"\"\n",
    "        return self.log_returns.rolling(window=window_size).var() * self.n_days\n",
    "\n",
    "    def estimate_correlation_matrix(self, window_size=30):\n",
    "        \"\"\"Estimate correlation matrix from historical data\"\"\"\n",
    "        return self.log_returns.iloc[-window_size:].corr().values\n",
    "\n",
    "    def func_heston(\n",
    "        self,\n",
    "        u,\n",
    "        St,\n",
    "        K,\n",
    "        r,\n",
    "        T,\n",
    "        sigma,\n",
    "        kappa,\n",
    "        theta,\n",
    "        v0,\n",
    "        rho,\n",
    "    ):\n",
    "\n",
    "        # logger_yq.info(f\"Final result: {result}\")\n",
    "        # b1 = kappa + lambda_ - rho * sigma * r\n",
    "        # b2 = kappa + lambda_\n",
    "        # prod = rho * sigma * 1j * u\n",
    "        # d1 = np.sqrt((prod - b1)**2 - sigma ** 2 * (1j * r - (1j)**2))\n",
    "        # d2 = np.sqrt((prod - b2)**2 + sigma ** 2 * (1j * r - (1j)**2))\n",
    "        # g1 = (b1 - prod + d1) / (b1 - prod - d1)\n",
    "        # g2 = (b2 - prod + d2) / (b2 - prod - d2)\n",
    "\n",
    "        # c1 = r * 1j * u * T + kappa * theta / (sigma ** 2) * (b1 - prod + d1) * T - 2 * np.log((1 - g1 * np.exp(d1 * T)) / (1 - g1))\n",
    "        # c2 = r * 1j * u * T + kappa * theta / (sigma ** 2) * (b2 - prod + d2) * T - 2 * np.log((1 - g2 * np.exp(d2 * T)) / (1 - g2))\n",
    "\n",
    "        # d1 = (b1 - prod + d1) / (sigma ** 2) * (1 - g1 * np.exp(d1 * T)) / (1 - g1)\n",
    "        # d2 = (b2 - prod + d2) / (sigma ** 2) * (1 - g2 * np.exp(d2 * T)) / (1 - g2)\n",
    "\n",
    "        # res1 = St ** (u * 1j) * np.exp(c1 + d1 * v0)\n",
    "        # res2 = St ** (u * 1j) * np.exp(c2 + d2 * v0)\n",
    "\n",
    "        ## ASSUME LAMBDA IS 0\n",
    "        xi = kappa - rho * sigma * 1j * u\n",
    "        d = np.sqrt((rho * sigma * 1j * u - xi) ** 2 - sigma**2 * (-u * 1j - u**2))\n",
    "        g = (xi - rho * sigma * 1j * u - d) / (xi - rho * sigma * 1j * u + d)\n",
    "        C = r * 1j * u * T + (kappa * theta) / sigma**2 * (\n",
    "            (xi - rho * sigma * 1j * u - d) * T\n",
    "            - 2 * np.log((1 - g * np.exp(-d * T)) / (1 - g))\n",
    "        )\n",
    "        D = (\n",
    "            (xi - rho * sigma * 1j * u - d)\n",
    "            / sigma**2\n",
    "            * ((1 - np.exp(-d * T)) / (1 - g * np.exp(-d * T)))\n",
    "        )\n",
    "        return np.exp(C + D * v0 + 1j * u * np.log(St)).fillna(0)\n",
    "\n",
    "    def price_heston_mid(self, St, K, r, T, sigma, kappa, theta, v0, rho):\n",
    "\n",
    "        from scipy.integrate import quad_vec\n",
    "\n",
    "        res1 = lambda u: np.real(\n",
    "            np.exp(-1j * u * np.log(K))\n",
    "            / (1j * u)\n",
    "            * self.func_heston(u - 1j, St, K, r, T, sigma, kappa, theta, v0, rho)\n",
    "        )\n",
    "        # res2 = lambda u: np.real(np.exp(-1j * u * np.log(K)) / (1j * u) * self.func_heston(u, St, K, r, T, sigma, kappa, theta, v0, rho)[1])\n",
    "\n",
    "        integral1, _ = quad_vec(res1, 0, 1000)\n",
    "        # integral2, _ = quad_vec(res2, 0, np.inf)\n",
    "        # C = St * (1/2 + 1/np.pi * integral1) - K * np.exp(-r * T) * (1/2 + 1/np.pi * integral2)\n",
    "        # C = C.fillna(0)\n",
    "\n",
    "        C = np.exp(-r * T) * 0.5 * St - np.exp(-r * T) / np.pi * integral1\n",
    "        return C\n",
    "\n",
    "    def calibrate_heston_parameters(self, window_size=30):\n",
    "        \"\"\"\n",
    "        Calibrate Heston model parameters using historical data\n",
    "        Returns dict with parameters for each asset\n",
    "        \"\"\"\n",
    "        model_params = {}\n",
    "        mse = {}\n",
    "        for i, ticker in enumerate(self.tickers):\n",
    "            # Initial estimates based on historical data\n",
    "            # vol = self.calculate_realized_vol()[ticker].dropna()\n",
    "\n",
    "            # def objective(x):\n",
    "            #     kappa, theta, sigma, rho = x\n",
    "            #     var_pred = theta + (vol.iloc[0] - theta) * np.exp(-kappa * np.arange(len(vol)) * self.dt)\n",
    "            #     # ko tune cho sigma rho\n",
    "            #     return np.mean((var_pred - vol)**2)\n",
    "            # # variance_paths[k, i, j] = (v_prev +\n",
    "            # #             kappa[k] * (theta[k] - v_prev) * dt +\n",
    "            # #             sigma[k] * np.sqrt(v_prev * dt) * dw_s[k * 2 + 1, j] * chol_corr[k * 2 + 1][k * 2 + 1])\n",
    "            # bounds = [(0.1, 10.0),  # kappa\n",
    "            #          (0.001, 0.5),  # theta\n",
    "            #          (0.01, 1.0),   # sigma\n",
    "            #          (-0.99, 0.99)] # rho\n",
    "            option_date = (\n",
    "                options[\"year\"].astype(str)\n",
    "                + \"-\"\n",
    "                + options[\"month\"].astype(str)\n",
    "                + \"-\"\n",
    "                + options[\"day\"].astype(str)\n",
    "            )\n",
    "            date = combined_df.iloc[self.current_id][\"Date\"].strftime(\"%Y-%m-%d\")\n",
    "            volatility_surface = options[\n",
    "                (options[\"product\"] == ticker) & (option_date == date)\n",
    "            ]\n",
    "            maturities = volatility_surface[\"maturity\"].astype(\"float\")\n",
    "            strikes = volatility_surface[\"strike\"].astype(\"float\")\n",
    "            price = volatility_surface[\"price\"].astype(\"float\")\n",
    "            rates = 0.01107\n",
    "\n",
    "            params = Parameters()\n",
    "            params.add(\"kappa\", value=0.1, min=0.001, max=10)\n",
    "            params.add(\"theta\", value=0.1, min=0.001, max=0.1)\n",
    "            params.add(\"v0\", value=0.1, min=0.001, max=0.1)\n",
    "            params.add(\"rho\", value=0.1, min=-1, max=1.0)\n",
    "            params.add(\"sigma\", value=0.1, min=0.001, max=0.1)\n",
    "\n",
    "            default_values = {\n",
    "                \"kappa\": 0.1,\n",
    "                \"theta\": 0.1,\n",
    "                \"v0\": 0.1,\n",
    "                \"rho\": 0.0,\n",
    "                \"sigma\": 0.1,\n",
    "            }\n",
    "\n",
    "            objective = lambda paramVect: (\n",
    "                price\n",
    "                - self.price_heston_mid(\n",
    "                    self.data.iloc[self.current_id][ticker],\n",
    "                    strikes,\n",
    "                    rates,\n",
    "                    maturities,\n",
    "                    paramVect[\"sigma\"].value,\n",
    "                    paramVect[\"kappa\"].value,\n",
    "                    paramVect[\"theta\"].value,\n",
    "                    paramVect[\"v0\"].value,\n",
    "                    paramVect[\"rho\"].value,\n",
    "                )\n",
    "            ) / (price + 1e-8)\n",
    "\n",
    "            try:\n",
    "                result = minimize(\n",
    "                    objective,\n",
    "                    params,\n",
    "                    method=\"leastsq\",\n",
    "                    max_nfev=15,\n",
    "                    ftol=1e-4,\n",
    "                    xtol=1e-4,\n",
    "                    gtol=1e-4,\n",
    "                )\n",
    "                # Extract the fitted parameter values if successful\n",
    "                dicts = result.params.valuesdict()\n",
    "                mse[ticker] = result.residual\n",
    "            except ValueError as e:\n",
    "                dicts = default_values\n",
    "                mse[ticker] = 0\n",
    "\n",
    "            # dicts = result.params.valuesdict()\n",
    "            model_params[ticker] = {\n",
    "                \"kappa\": dicts[\"kappa\"],\n",
    "                \"theta\": dicts[\"theta\"],\n",
    "                \"sigma\": dicts[\"sigma\"],\n",
    "                \"rho\": dicts[\"rho\"],\n",
    "                \"v0\": dicts[\"v0\"],\n",
    "            }\n",
    "        return model_params, mse\n",
    "\n",
    "\n",
    "def MultivariateHestonSimulation(\n",
    "    s0,\n",
    "    tickers,\n",
    "    dt,\n",
    "    calibrated_params,\n",
    "    correlation_matrix,\n",
    "    n_paths=1000,\n",
    "    last_id=287,\n",
    "    current_id=187,\n",
    "    window_size=30,\n",
    "    variance_reduction=\"av\",\n",
    "    scheme=\"euler\",\n",
    "    r=0.01,\n",
    "):\n",
    "    np.random.seed(42)\n",
    "\n",
    "    if variance_reduction not in [\"av\", None]:\n",
    "        raise ValueError(\"Supported variance reduction method is av\")\n",
    "    if scheme not in [\"euler\", \"qe\"]:\n",
    "        raise ValueError(\"Supported discretization schemes are 'euler' and 'qe'\")\n",
    "    n_assets = len(tickers)\n",
    "    T = dt * (last_id - current_id)\n",
    "    n_steps = int(T / dt)\n",
    "\n",
    "    # Initialize arrays\n",
    "    result = np.zeros((n_assets, n_paths, n_steps))\n",
    "    variance_paths = np.zeros((n_assets, n_paths, n_steps))\n",
    "\n",
    "    # Extract parameters for each asset\n",
    "    kappa = np.array([calibrated_params[t][\"kappa\"] for t in tickers])\n",
    "    theta = np.array([calibrated_params[t][\"theta\"] for t in tickers])\n",
    "    sigma = np.array([calibrated_params[t][\"sigma\"] for t in tickers])\n",
    "    rho = np.array([calibrated_params[t][\"rho\"] for t in tickers])\n",
    "\n",
    "    # Get initial variances\n",
    "    v0 = {t: calibrated_params[t][\"v0\"] for t in tickers}\n",
    "    # Ensure correlation matrix is 2D numpy array\n",
    "    if isinstance(correlation_matrix, pd.DataFrame):\n",
    "        correlation_matrix = correlation_matrix.values\n",
    "\n",
    "    # Cholesky decomposition for correlated Brownian motions\n",
    "\n",
    "    # s1 s2 s3\n",
    "    #     s1  1  s1s2 s1s3\n",
    "    #     s2 s1s2 1  s2s3\n",
    "    #     s3\n",
    "\n",
    "    #     correlation matrix 6x6 (only si-sj and si-vi non-zero)\n",
    "    #     s1          v1          s2          v2          s3          v3\n",
    "    # s1   1          rho_s1v1    rho_s1s2    0           rho_s1s3    0\n",
    "    # v1   rho_s1v1   1           rho_s2v1\n",
    "    # s2   rho_s1s2   rho_s2v1    1\n",
    "    # v2   0\n",
    "    # s3   rho_s1s3\n",
    "    # v3   0\n",
    "\n",
    "    # ==> simulate s1, s2, s3, v1, v2, v3 with 6 different z\n",
    "    r1, r2, r3 = rho[0], rho[1], rho[2]\n",
    "    r12 = correlation_matrix[0][1]\n",
    "    r23 = correlation_matrix[1][2]\n",
    "    r13 = correlation_matrix[0][2]\n",
    "    correlation_matrix = np.array(\n",
    "        [\n",
    "            [1, r1, r12, r2 * r12, r13, r3 * r13],\n",
    "            [r1, 1, r1 * r12, r1 * r2 * r12, r1 * r13, r1 * r3 * r13],\n",
    "            [r12, r1 * r12, 1, r2, r23, r3 * r23],\n",
    "            [r2 * r12, r1 * r2 * r12, r2, 1, r2 * r23, r2 * r3 * r23],\n",
    "            [r13, r1 * r13, r23, r2 * r23, 1, r3],\n",
    "            [r3 * r13, r1 * r3 * r13, r2 * r23, r2 * r3 * r23, r3, 1],\n",
    "        ]\n",
    "    )\n",
    "\n",
    "    try:\n",
    "        chol_corr = np.linalg.cholesky(correlation_matrix)\n",
    "    except np.linalg.LinAlgError:\n",
    "        # If matrix is not positive definite, adjust it\n",
    "        correlation_matrix = (\n",
    "            correlation_matrix + correlation_matrix.T\n",
    "        ) / 2  # Ensure symmetry\n",
    "        min_eig = np.min(np.real(np.linalg.eigvals(correlation_matrix)))\n",
    "        if min_eig < 0:\n",
    "            correlation_matrix -= min_eig * np.eye(\n",
    "                correlation_matrix.shape[0]\n",
    "            )  # Shift eigenvalues if needed\n",
    "        try:\n",
    "            # Try Cholesky again on the adjusted matrix\n",
    "            chol_corr = np.linalg.cholesky(correlation_matrix)\n",
    "        except np.linalg.LinAlgError:\n",
    "            # If still not positive definite, add a small identity matrix (regularization)\n",
    "            epsilon = 1e-8\n",
    "            correlation_matrix += epsilon * np.eye(correlation_matrix.shape[0])\n",
    "            chol_corr = np.linalg.cholesky(correlation_matrix)\n",
    "\n",
    "    if (\n",
    "        scheme == \"qe\"\n",
    "    ):  # using the qe scheme, we have to apply correlation correction to our correlation matrix\n",
    "        q = np.zeros((n_assets * 2, n_assets * 2))\n",
    "        for i in range(n_assets):\n",
    "            q[i * 2][i * 2] = np.sqrt(1 - rho[i] ** 2)\n",
    "            q[i * 2][i * 2 + 1] = rho[i] ** 2\n",
    "            q[i * 2 + 1][i * 2 + 1] = 1\n",
    "\n",
    "        q_inverse = np.linalg.inv(q)\n",
    "        chol_corr = np.matmul(q_inverse, chol_corr)\n",
    "\n",
    "    paths_to_simulate = n_paths // 2 if variance_reduction == \"av\" else n_paths\n",
    "\n",
    "    dw = np.random.normal(size=(n_assets * 2, paths_to_simulate, n_steps))\n",
    "\n",
    "    for p in range(paths_to_simulate):\n",
    "        dw[:, p, :] = np.matmul(\n",
    "            chol_corr, dw[:, p, :]\n",
    "        )  # need to check if it is correct\n",
    "    # otherwise can just multiply it by in the for loop\n",
    "    # something like: np.matmul(chol_corr, dw[:, :, j])\n",
    "    # Correlate price and variance Brownian motion\n",
    "    date_str = combined_df['Date'].iloc[current_id]\n",
    "        # payment_dates = pd.to_datetime(['2023-12-11', '2024-03-11', '2024-06-11', '2024-09-11', '2024-12-11', '2024-12-11'])    \n",
    "        # days_count = [len(pd.bdate_range(start=pd.to_datetime(date_str), end=element)) for element in payment_dates]\n",
    "\n",
    "    spline = interpolate_rate(df_bond, date_str)\n",
    "    # discounts = [spline(element/252) for element in days_count]\n",
    "\n",
    "    drift_list = []\n",
    "    for j in range(n_steps):\n",
    "        # print(spline(0))\n",
    "        drift = spline(j/252) / spline((j+1)/252) \n",
    "        drift_list.append(drift)\n",
    "        # print(drift)\n",
    "\n",
    "\n",
    "    for j in range(n_steps):\n",
    "        r = drift_list[j]\n",
    "        for k in range(n_assets):\n",
    "            if j == 0:\n",
    "                result[k, :paths_to_simulate, j] = s0[tickers[k]]\n",
    "                variance_paths[k, :, j] = v0[tickers[k]]\n",
    "\n",
    "                if variance_reduction == \"av\":\n",
    "                    result[k, paths_to_simulate:, j] = s0[tickers[k]]\n",
    "                    variance_paths[k, paths_to_simulate:, j] = v0[tickers[k]]\n",
    "            else:\n",
    "                if scheme == \"euler\":\n",
    "                    v_prev = np.maximum(variance_paths[k, :paths_to_simulate, j - 1], 0)\n",
    "                    # Update variance\n",
    "                    result[k, :paths_to_simulate, j] = result[\n",
    "                        k, :paths_to_simulate, j - 1\n",
    "                    ] * r * np.exp(\n",
    "                        ( - 0.5 * v_prev) * dt + np.sqrt(v_prev * dt) * dw[k * 2, :, j]\n",
    "                    )\n",
    "\n",
    "                    variance_paths[k, :paths_to_simulate, j] = (\n",
    "                        v_prev\n",
    "                        + kappa[k] * (theta[k] - v_prev) * dt\n",
    "                        + sigma[k] * np.sqrt(v_prev * dt) * dw[k * 2 + 1, :, j]\n",
    "                    )\n",
    "\n",
    "                    # Update price\n",
    "\n",
    "                    if variance_reduction == \"av\":\n",
    "                        result[k, paths_to_simulate:, j] = result[\n",
    "                            k, paths_to_simulate:, j - 1\n",
    "                        ] * r * np.exp(\n",
    "                            (- 0.5 * v_prev) * dt\n",
    "                            + np.sqrt(v_prev * dt) * (-dw[k * 2, :, j])\n",
    "                        )\n",
    "\n",
    "                        variance_paths[k, paths_to_simulate:, j] = (\n",
    "                            v_prev\n",
    "                            + kappa[k] * (theta[k] - v_prev) * dt\n",
    "                            + sigma[k] * np.sqrt(v_prev * dt) * (-dw[k * 2 + 1, :, j])\n",
    "                        )\n",
    "\n",
    "                if scheme == \"qe\":\n",
    "                    # m = theta\n",
    "                    # sigma = sigma\n",
    "                    # kappa = kappa\n",
    "                    v_prev = variance_paths[k, :paths_to_simulate, j - 1]\n",
    "\n",
    "                    e_v = theta[k] + (v_prev - theta[k]) * np.exp(-kappa[k] * dt)\n",
    "                    var_v = (\n",
    "                        v_prev\n",
    "                        * sigma[k] ** 2\n",
    "                        * np.exp(-kappa[k] * dt)\n",
    "                        / kappa[k]\n",
    "                        * (1 - np.exp(-kappa[k] * dt))\n",
    "                        + theta[k]\n",
    "                        * sigma[k] ** 2\n",
    "                        / (2 * kappa[k])\n",
    "                        * (1 - np.exp(-kappa[k] * dt)) ** 2\n",
    "                    )\n",
    "\n",
    "                    trident = var_v / (e_v**2)\n",
    "                    mask_less = (trident <= 1.5).astype(\n",
    "                        \"int\"\n",
    "                    )  ## LEVEL CAN BE SET [1, 2]\n",
    "                    b = np.sqrt(2 / trident - 1 + np.sqrt(2 / trident * (2 / trident - 1)))\n",
    "                    a = e_v / (1 + b**2)\n",
    "                    p = (trident - 1) / (trident + 1)\n",
    "                    beta = (1 - p) / e_v\n",
    "                    U = norm.cdf(dw[k * 2 + 1, :, j])\n",
    "                    mask_pu = ((p < U)).astype(\"int\")\n",
    "                    variance_paths[k, :paths_to_simulate, j] = a * (\n",
    "                        (b + dw[k * 2 + 1, :, j]) ** 2\n",
    "                    ) * mask_less + 1 / beta * np.log((1 - p) / (1 - U)) * mask_pu * (\n",
    "                        1 - mask_less\n",
    "                    )\n",
    "\n",
    "                    k0 = - rho[k] * kappa[k] * theta[k] * dt / sigma[k]\n",
    "\n",
    "                    sigma1 = sigma2 = (\n",
    "                        0.5  # ARBITRARY SETTING, MORE SOPHISTICATED WOULD BE BASED ON MOMENT-MATCHING\n",
    "                    )\n",
    "                    k1 = (\n",
    "                        sigma1 * dt * (kappa[k] * rho[k] / sigma[k] - 0.5)\n",
    "                        - rho[k] / sigma[k]\n",
    "                    )\n",
    "                    k2 = (\n",
    "                        sigma2 * dt * (kappa[k] * rho[k] / sigma[k] - 0.5) + rho[k] / sigma[k]\n",
    "                    )\n",
    "                    k3 = sigma1 * dt * (1 - rho[k] ** 2)\n",
    "                    k4 = sigma2 * dt * (1 - rho[k] ** 2)\n",
    "                    result[k, :paths_to_simulate, j] = result[k, :paths_to_simulate, j - 1] * r * np.exp((0.5 * v_prev) * dt + k0 + k1 * v_prev + k2 * variance_paths[k, :paths_to_simulate, j] + \n",
    "                                np.sqrt(k3 * v_prev + k4 * variance_paths[k, :paths_to_simulate, j]) * dw[k * 2, :, j])\n",
    "\n",
    "    if variance_reduction == \"emc\":\n",
    "        for k in range(n_assets):\n",
    "            correction_factor = result[k][-1, :].mean() / result[k][-1, :]\n",
    "            result[k] = result[k] * correction_factor\n",
    "\n",
    "    return result, tickers, variance_paths\n",
    "\n",
    "\n",
    "def run_heston_backtest(combined_df, backtest_start, backtest_end, last_id, params):\n",
    "    # Initialize model and calibrate parameters\n",
    "    close = combined_df[[\"ROG_Last_Price\", \"CFR_Last_Price\", \"ZURN_Last_Price\"]]\n",
    "\n",
    "    prices = []\n",
    "    prices_var = []\n",
    "    calibrate_results = []\n",
    "    for current_id in tqdm(range(backtest_start, backtest_end)):\n",
    "\n",
    "\n",
    "        date_str = combined_df['Date'].iloc[current_id]\n",
    "        payment_dates = pd.to_datetime(['2023-12-11', '2024-03-11', '2024-06-11', '2024-09-11', '2024-12-11', '2024-12-11'])    \n",
    "        days_count = [len(pd.bdate_range(start=pd.to_datetime(date_str), end=element)) for element in payment_dates]\n",
    "\n",
    "        spline = interpolate_rate(df_bond, date_str)\n",
    "        discounts = [spline(element/252) for element in days_count]\n",
    "\n",
    "        # Get data for current window\n",
    "        window_data = close.iloc[max(0, current_id - 30) : current_id]\n",
    "        heston_calibration = HestonModelCalibration(current_id, close, )\n",
    "        calibrated_params, calibrate_res = (\n",
    "            heston_calibration.calibrate_heston_parameters(window_size=30)\n",
    "        )\n",
    "        calibrate_results.append(calibrate_res)\n",
    "        correlation_matrix = heston_calibration.estimate_correlation_matrix(\n",
    "            window_size=30\n",
    "        )\n",
    "\n",
    "        payoff = []\n",
    "        result, _, variance_paths = MultivariateHestonSimulation(\n",
    "            s0=close.iloc[current_id],\n",
    "            tickers=close.columns,\n",
    "            calibrated_params=calibrated_params,\n",
    "            correlation_matrix=correlation_matrix,\n",
    "            current_id=current_id,\n",
    "            last_id=last_id,\n",
    "            **params,\n",
    "        )\n",
    "\n",
    "        # Construct paths and calculate payoffs\n",
    "        old_path_rog = combined_df[\"ROG_Last_Price\"].iloc[:current_id]\n",
    "        old_path_cfr = combined_df[\"CFR_Last_Price\"].iloc[:current_id]\n",
    "        old_path_zurn = combined_df[\"ZURN_Last_Price\"].iloc[:current_id]\n",
    "\n",
    "        path_rog = []\n",
    "        path_cfr = []\n",
    "        path_zurn = []\n",
    "        for i in range(result.shape[-2]):\n",
    "            path_rog.append(np.append(old_path_rog, result[0][i].flatten()))\n",
    "            path_cfr.append(np.append(old_path_cfr, result[1][i].flatten()))\n",
    "            path_zurn.append(np.append(old_path_zurn, result[2][i].flatten()))\n",
    "        payoff = payoff_func_parallel(\n",
    "            path_rog,\n",
    "            path_cfr,\n",
    "            path_zurn,\n",
    "            combined_df.iloc[current_id][\"Date\"],\n",
    "            risk_free=discounts,\n",
    "            risk_neutral=False,\n",
    "            verbose=False,\n",
    "        )\n",
    "        prices.append(np.mean(payoff))\n",
    "        prices_var.append(np.mean(payoff))\n",
    "\n",
    "        print(prices)\n",
    "    return prices, prices_var, calibrate_results"
   ]
  },
  {
   "cell_type": "code",
   "execution_count": 6,
   "metadata": {},
   "outputs": [],
   "source": [
    "params = {\n",
    "    \"dt\": 1 / 252,\n",
    "    \"n_paths\": 10000,\n",
    "    \"variance_reduction\": None,  # None, 'av', 'emc'\n",
    "    \"scheme\": \"qe\",\n",
    "}  # 'qe', 'euler'"
   ]
  },
  {
   "cell_type": "code",
   "execution_count": 7,
   "metadata": {},
   "outputs": [
    {
     "name": "stderr",
     "output_type": "stream",
     "text": [
      "  2%|▏         | 1/65 [00:25<27:06, 25.41s/it]"
     ]
    },
    {
     "name": "stdout",
     "output_type": "stream",
     "text": [
      "[999.0541322379099]\n"
     ]
    },
    {
     "name": "stderr",
     "output_type": "stream",
     "text": [
      "  3%|▎         | 2/65 [02:43<1:36:03, 91.48s/it]"
     ]
    },
    {
     "name": "stdout",
     "output_type": "stream",
     "text": [
      "[999.0541322379099, 999.5578115151359]\n"
     ]
    },
    {
     "name": "stderr",
     "output_type": "stream",
     "text": [
      "  5%|▍         | 3/65 [03:04<1:01:22, 59.40s/it]"
     ]
    },
    {
     "name": "stdout",
     "output_type": "stream",
     "text": [
      "[999.0541322379099, 999.5578115151359, 999.9605953697627]\n"
     ]
    },
    {
     "name": "stderr",
     "output_type": "stream",
     "text": [
      "  6%|▌         | 4/65 [03:25<45:08, 44.41s/it]  "
     ]
    },
    {
     "name": "stdout",
     "output_type": "stream",
     "text": [
      "[999.0541322379099, 999.5578115151359, 999.9605953697627, 999.6143122333681]\n"
     ]
    },
    {
     "name": "stderr",
     "output_type": "stream",
     "text": [
      "  8%|▊         | 5/65 [03:46<35:47, 35.78s/it]"
     ]
    },
    {
     "name": "stdout",
     "output_type": "stream",
     "text": [
      "[999.0541322379099, 999.5578115151359, 999.9605953697627, 999.6143122333681, 999.4100195939899]\n"
     ]
    },
    {
     "name": "stderr",
     "output_type": "stream",
     "text": [
      "  9%|▉         | 6/65 [04:09<31:08, 31.67s/it]"
     ]
    },
    {
     "name": "stdout",
     "output_type": "stream",
     "text": [
      "[999.0541322379099, 999.5578115151359, 999.9605953697627, 999.6143122333681, 999.4100195939899, 997.5421844400706]\n"
     ]
    },
    {
     "name": "stderr",
     "output_type": "stream",
     "text": [
      " 11%|█         | 7/65 [04:33<27:55, 28.90s/it]"
     ]
    },
    {
     "name": "stdout",
     "output_type": "stream",
     "text": [
      "[999.0541322379099, 999.5578115151359, 999.9605953697627, 999.6143122333681, 999.4100195939899, 997.5421844400706, 996.1080952469438]\n"
     ]
    },
    {
     "name": "stderr",
     "output_type": "stream",
     "text": [
      " 12%|█▏        | 8/65 [04:55<25:36, 26.96s/it]"
     ]
    },
    {
     "name": "stdout",
     "output_type": "stream",
     "text": [
      "[999.0541322379099, 999.5578115151359, 999.9605953697627, 999.6143122333681, 999.4100195939899, 997.5421844400706, 996.1080952469438, 994.6884066956497]\n"
     ]
    },
    {
     "name": "stderr",
     "output_type": "stream",
     "text": [
      " 14%|█▍        | 9/65 [05:13<22:26, 24.04s/it]"
     ]
    },
    {
     "name": "stdout",
     "output_type": "stream",
     "text": [
      "[999.0541322379099, 999.5578115151359, 999.9605953697627, 999.6143122333681, 999.4100195939899, 997.5421844400706, 996.1080952469438, 994.6884066956497, 997.5225761939406]\n"
     ]
    },
    {
     "name": "stderr",
     "output_type": "stream",
     "text": [
      " 15%|█▌        | 10/65 [05:40<22:57, 25.05s/it]"
     ]
    },
    {
     "name": "stdout",
     "output_type": "stream",
     "text": [
      "[999.0541322379099, 999.5578115151359, 999.9605953697627, 999.6143122333681, 999.4100195939899, 997.5421844400706, 996.1080952469438, 994.6884066956497, 997.5225761939406, 997.2733888455922]\n"
     ]
    },
    {
     "name": "stderr",
     "output_type": "stream",
     "text": [
      " 17%|█▋        | 11/65 [06:00<21:06, 23.45s/it]"
     ]
    },
    {
     "name": "stdout",
     "output_type": "stream",
     "text": [
      "[999.0541322379099, 999.5578115151359, 999.9605953697627, 999.6143122333681, 999.4100195939899, 997.5421844400706, 996.1080952469438, 994.6884066956497, 997.5225761939406, 997.2733888455922, 997.6506976690458]\n"
     ]
    },
    {
     "name": "stderr",
     "output_type": "stream",
     "text": [
      " 18%|█▊        | 12/65 [06:16<18:43, 21.19s/it]"
     ]
    },
    {
     "name": "stdout",
     "output_type": "stream",
     "text": [
      "[999.0541322379099, 999.5578115151359, 999.9605953697627, 999.6143122333681, 999.4100195939899, 997.5421844400706, 996.1080952469438, 994.6884066956497, 997.5225761939406, 997.2733888455922, 997.6506976690458, 997.9830983827235]\n"
     ]
    },
    {
     "name": "stderr",
     "output_type": "stream",
     "text": [
      " 20%|██        | 13/65 [06:36<18:00, 20.79s/it]"
     ]
    },
    {
     "name": "stdout",
     "output_type": "stream",
     "text": [
      "[999.0541322379099, 999.5578115151359, 999.9605953697627, 999.6143122333681, 999.4100195939899, 997.5421844400706, 996.1080952469438, 994.6884066956497, 997.5225761939406, 997.2733888455922, 997.6506976690458, 997.9830983827235, 996.262543722017]\n"
     ]
    },
    {
     "name": "stderr",
     "output_type": "stream",
     "text": [
      " 22%|██▏       | 14/65 [06:56<17:19, 20.39s/it]"
     ]
    },
    {
     "name": "stdout",
     "output_type": "stream",
     "text": [
      "[999.0541322379099, 999.5578115151359, 999.9605953697627, 999.6143122333681, 999.4100195939899, 997.5421844400706, 996.1080952469438, 994.6884066956497, 997.5225761939406, 997.2733888455922, 997.6506976690458, 997.9830983827235, 996.262543722017, 996.3249660935912]\n"
     ]
    },
    {
     "name": "stderr",
     "output_type": "stream",
     "text": [
      " 23%|██▎       | 15/65 [07:17<17:10, 20.61s/it]"
     ]
    },
    {
     "name": "stdout",
     "output_type": "stream",
     "text": [
      "[999.0541322379099, 999.5578115151359, 999.9605953697627, 999.6143122333681, 999.4100195939899, 997.5421844400706, 996.1080952469438, 994.6884066956497, 997.5225761939406, 997.2733888455922, 997.6506976690458, 997.9830983827235, 996.262543722017, 996.3249660935912, 997.5139765996684]\n"
     ]
    },
    {
     "name": "stderr",
     "output_type": "stream",
     "text": [
      " 25%|██▍       | 16/65 [07:35<16:09, 19.78s/it]"
     ]
    },
    {
     "name": "stdout",
     "output_type": "stream",
     "text": [
      "[999.0541322379099, 999.5578115151359, 999.9605953697627, 999.6143122333681, 999.4100195939899, 997.5421844400706, 996.1080952469438, 994.6884066956497, 997.5225761939406, 997.2733888455922, 997.6506976690458, 997.9830983827235, 996.262543722017, 996.3249660935912, 997.5139765996684, 952.7859544180961]\n"
     ]
    },
    {
     "name": "stderr",
     "output_type": "stream",
     "text": [
      " 26%|██▌       | 17/65 [07:54<15:45, 19.70s/it]"
     ]
    },
    {
     "name": "stdout",
     "output_type": "stream",
     "text": [
      "[999.0541322379099, 999.5578115151359, 999.9605953697627, 999.6143122333681, 999.4100195939899, 997.5421844400706, 996.1080952469438, 994.6884066956497, 997.5225761939406, 997.2733888455922, 997.6506976690458, 997.9830983827235, 996.262543722017, 996.3249660935912, 997.5139765996684, 952.7859544180961, 997.2451428296474]\n"
     ]
    },
    {
     "name": "stderr",
     "output_type": "stream",
     "text": [
      " 28%|██▊       | 18/65 [08:14<15:31, 19.82s/it]"
     ]
    },
    {
     "name": "stdout",
     "output_type": "stream",
     "text": [
      "[999.0541322379099, 999.5578115151359, 999.9605953697627, 999.6143122333681, 999.4100195939899, 997.5421844400706, 996.1080952469438, 994.6884066956497, 997.5225761939406, 997.2733888455922, 997.6506976690458, 997.9830983827235, 996.262543722017, 996.3249660935912, 997.5139765996684, 952.7859544180961, 997.2451428296474, 995.8794117619638]\n"
     ]
    },
    {
     "name": "stderr",
     "output_type": "stream",
     "text": [
      " 29%|██▉       | 19/65 [08:35<15:19, 19.98s/it]"
     ]
    },
    {
     "name": "stdout",
     "output_type": "stream",
     "text": [
      "[999.0541322379099, 999.5578115151359, 999.9605953697627, 999.6143122333681, 999.4100195939899, 997.5421844400706, 996.1080952469438, 994.6884066956497, 997.5225761939406, 997.2733888455922, 997.6506976690458, 997.9830983827235, 996.262543722017, 996.3249660935912, 997.5139765996684, 952.7859544180961, 997.2451428296474, 995.8794117619638, 996.1874753608726]\n"
     ]
    },
    {
     "name": "stderr",
     "output_type": "stream",
     "text": [
      " 31%|███       | 20/65 [08:56<15:19, 20.43s/it]"
     ]
    },
    {
     "name": "stdout",
     "output_type": "stream",
     "text": [
      "[999.0541322379099, 999.5578115151359, 999.9605953697627, 999.6143122333681, 999.4100195939899, 997.5421844400706, 996.1080952469438, 994.6884066956497, 997.5225761939406, 997.2733888455922, 997.6506976690458, 997.9830983827235, 996.262543722017, 996.3249660935912, 997.5139765996684, 952.7859544180961, 997.2451428296474, 995.8794117619638, 996.1874753608726, 997.3660470667872]\n"
     ]
    },
    {
     "name": "stderr",
     "output_type": "stream",
     "text": [
      " 32%|███▏      | 21/65 [09:13<14:11, 19.35s/it]"
     ]
    },
    {
     "name": "stdout",
     "output_type": "stream",
     "text": [
      "[999.0541322379099, 999.5578115151359, 999.9605953697627, 999.6143122333681, 999.4100195939899, 997.5421844400706, 996.1080952469438, 994.6884066956497, 997.5225761939406, 997.2733888455922, 997.6506976690458, 997.9830983827235, 996.262543722017, 996.3249660935912, 997.5139765996684, 952.7859544180961, 997.2451428296474, 995.8794117619638, 996.1874753608726, 997.3660470667872, 995.8796734214637]\n"
     ]
    },
    {
     "name": "stderr",
     "output_type": "stream",
     "text": [
      " 34%|███▍      | 22/65 [09:38<15:01, 20.97s/it]"
     ]
    },
    {
     "name": "stdout",
     "output_type": "stream",
     "text": [
      "[999.0541322379099, 999.5578115151359, 999.9605953697627, 999.6143122333681, 999.4100195939899, 997.5421844400706, 996.1080952469438, 994.6884066956497, 997.5225761939406, 997.2733888455922, 997.6506976690458, 997.9830983827235, 996.262543722017, 996.3249660935912, 997.5139765996684, 952.7859544180961, 997.2451428296474, 995.8794117619638, 996.1874753608726, 997.3660470667872, 995.8796734214637, 996.1267038198378]\n"
     ]
    },
    {
     "name": "stderr",
     "output_type": "stream",
     "text": [
      " 35%|███▌      | 23/65 [10:03<15:43, 22.45s/it]"
     ]
    },
    {
     "name": "stdout",
     "output_type": "stream",
     "text": [
      "[999.0541322379099, 999.5578115151359, 999.9605953697627, 999.6143122333681, 999.4100195939899, 997.5421844400706, 996.1080952469438, 994.6884066956497, 997.5225761939406, 997.2733888455922, 997.6506976690458, 997.9830983827235, 996.262543722017, 996.3249660935912, 997.5139765996684, 952.7859544180961, 997.2451428296474, 995.8794117619638, 996.1874753608726, 997.3660470667872, 995.8796734214637, 996.1267038198378, 997.3683058887949]\n"
     ]
    },
    {
     "name": "stderr",
     "output_type": "stream",
     "text": [
      " 37%|███▋      | 24/65 [10:28<15:51, 23.20s/it]"
     ]
    },
    {
     "name": "stdout",
     "output_type": "stream",
     "text": [
      "[999.0541322379099, 999.5578115151359, 999.9605953697627, 999.6143122333681, 999.4100195939899, 997.5421844400706, 996.1080952469438, 994.6884066956497, 997.5225761939406, 997.2733888455922, 997.6506976690458, 997.9830983827235, 996.262543722017, 996.3249660935912, 997.5139765996684, 952.7859544180961, 997.2451428296474, 995.8794117619638, 996.1874753608726, 997.3660470667872, 995.8796734214637, 996.1267038198378, 997.3683058887949, 996.7880618368251]\n"
     ]
    },
    {
     "name": "stderr",
     "output_type": "stream",
     "text": [
      " 38%|███▊      | 25/65 [10:54<15:53, 23.84s/it]"
     ]
    },
    {
     "name": "stdout",
     "output_type": "stream",
     "text": [
      "[999.0541322379099, 999.5578115151359, 999.9605953697627, 999.6143122333681, 999.4100195939899, 997.5421844400706, 996.1080952469438, 994.6884066956497, 997.5225761939406, 997.2733888455922, 997.6506976690458, 997.9830983827235, 996.262543722017, 996.3249660935912, 997.5139765996684, 952.7859544180961, 997.2451428296474, 995.8794117619638, 996.1874753608726, 997.3660470667872, 995.8796734214637, 996.1267038198378, 997.3683058887949, 996.7880618368251, 996.7018636580668]\n"
     ]
    },
    {
     "name": "stderr",
     "output_type": "stream",
     "text": [
      " 40%|████      | 26/65 [11:22<16:24, 25.24s/it]"
     ]
    },
    {
     "name": "stdout",
     "output_type": "stream",
     "text": [
      "[999.0541322379099, 999.5578115151359, 999.9605953697627, 999.6143122333681, 999.4100195939899, 997.5421844400706, 996.1080952469438, 994.6884066956497, 997.5225761939406, 997.2733888455922, 997.6506976690458, 997.9830983827235, 996.262543722017, 996.3249660935912, 997.5139765996684, 952.7859544180961, 997.2451428296474, 995.8794117619638, 996.1874753608726, 997.3660470667872, 995.8796734214637, 996.1267038198378, 997.3683058887949, 996.7880618368251, 996.7018636580668, 996.6553915495252]\n"
     ]
    },
    {
     "name": "stderr",
     "output_type": "stream",
     "text": [
      " 42%|████▏     | 27/65 [11:48<16:05, 25.42s/it]"
     ]
    },
    {
     "name": "stdout",
     "output_type": "stream",
     "text": [
      "[999.0541322379099, 999.5578115151359, 999.9605953697627, 999.6143122333681, 999.4100195939899, 997.5421844400706, 996.1080952469438, 994.6884066956497, 997.5225761939406, 997.2733888455922, 997.6506976690458, 997.9830983827235, 996.262543722017, 996.3249660935912, 997.5139765996684, 952.7859544180961, 997.2451428296474, 995.8794117619638, 996.1874753608726, 997.3660470667872, 995.8796734214637, 996.1267038198378, 997.3683058887949, 996.7880618368251, 996.7018636580668, 996.6553915495252, 996.1975637510924]\n"
     ]
    },
    {
     "name": "stderr",
     "output_type": "stream",
     "text": [
      " 43%|████▎     | 28/65 [12:08<14:34, 23.63s/it]"
     ]
    },
    {
     "name": "stdout",
     "output_type": "stream",
     "text": [
      "[999.0541322379099, 999.5578115151359, 999.9605953697627, 999.6143122333681, 999.4100195939899, 997.5421844400706, 996.1080952469438, 994.6884066956497, 997.5225761939406, 997.2733888455922, 997.6506976690458, 997.9830983827235, 996.262543722017, 996.3249660935912, 997.5139765996684, 952.7859544180961, 997.2451428296474, 995.8794117619638, 996.1874753608726, 997.3660470667872, 995.8796734214637, 996.1267038198378, 997.3683058887949, 996.7880618368251, 996.7018636580668, 996.6553915495252, 996.1975637510924, 995.8717180974933]\n"
     ]
    },
    {
     "name": "stderr",
     "output_type": "stream",
     "text": [
      " 45%|████▍     | 29/65 [12:30<13:57, 23.26s/it]"
     ]
    },
    {
     "name": "stdout",
     "output_type": "stream",
     "text": [
      "[999.0541322379099, 999.5578115151359, 999.9605953697627, 999.6143122333681, 999.4100195939899, 997.5421844400706, 996.1080952469438, 994.6884066956497, 997.5225761939406, 997.2733888455922, 997.6506976690458, 997.9830983827235, 996.262543722017, 996.3249660935912, 997.5139765996684, 952.7859544180961, 997.2451428296474, 995.8794117619638, 996.1874753608726, 997.3660470667872, 995.8796734214637, 996.1267038198378, 997.3683058887949, 996.7880618368251, 996.7018636580668, 996.6553915495252, 996.1975637510924, 995.8717180974933, 995.377740204779]\n"
     ]
    },
    {
     "name": "stderr",
     "output_type": "stream",
     "text": [
      " 46%|████▌     | 30/65 [12:52<13:24, 22.98s/it]"
     ]
    },
    {
     "name": "stdout",
     "output_type": "stream",
     "text": [
      "[999.0541322379099, 999.5578115151359, 999.9605953697627, 999.6143122333681, 999.4100195939899, 997.5421844400706, 996.1080952469438, 994.6884066956497, 997.5225761939406, 997.2733888455922, 997.6506976690458, 997.9830983827235, 996.262543722017, 996.3249660935912, 997.5139765996684, 952.7859544180961, 997.2451428296474, 995.8794117619638, 996.1874753608726, 997.3660470667872, 995.8796734214637, 996.1267038198378, 997.3683058887949, 996.7880618368251, 996.7018636580668, 996.6553915495252, 996.1975637510924, 995.8717180974933, 995.377740204779, 995.7882320806218]\n"
     ]
    },
    {
     "name": "stderr",
     "output_type": "stream",
     "text": [
      " 48%|████▊     | 31/65 [13:13<12:42, 22.42s/it]"
     ]
    },
    {
     "name": "stdout",
     "output_type": "stream",
     "text": [
      "[999.0541322379099, 999.5578115151359, 999.9605953697627, 999.6143122333681, 999.4100195939899, 997.5421844400706, 996.1080952469438, 994.6884066956497, 997.5225761939406, 997.2733888455922, 997.6506976690458, 997.9830983827235, 996.262543722017, 996.3249660935912, 997.5139765996684, 952.7859544180961, 997.2451428296474, 995.8794117619638, 996.1874753608726, 997.3660470667872, 995.8796734214637, 996.1267038198378, 997.3683058887949, 996.7880618368251, 996.7018636580668, 996.6553915495252, 996.1975637510924, 995.8717180974933, 995.377740204779, 995.7882320806218, 995.9797555943084]\n"
     ]
    },
    {
     "name": "stderr",
     "output_type": "stream",
     "text": [
      " 49%|████▉     | 32/65 [13:36<12:22, 22.49s/it]"
     ]
    },
    {
     "name": "stdout",
     "output_type": "stream",
     "text": [
      "[999.0541322379099, 999.5578115151359, 999.9605953697627, 999.6143122333681, 999.4100195939899, 997.5421844400706, 996.1080952469438, 994.6884066956497, 997.5225761939406, 997.2733888455922, 997.6506976690458, 997.9830983827235, 996.262543722017, 996.3249660935912, 997.5139765996684, 952.7859544180961, 997.2451428296474, 995.8794117619638, 996.1874753608726, 997.3660470667872, 995.8796734214637, 996.1267038198378, 997.3683058887949, 996.7880618368251, 996.7018636580668, 996.6553915495252, 996.1975637510924, 995.8717180974933, 995.377740204779, 995.7882320806218, 995.9797555943084, 994.3357868852762]\n"
     ]
    },
    {
     "name": "stderr",
     "output_type": "stream",
     "text": [
      " 51%|█████     | 33/65 [14:02<12:30, 23.44s/it]"
     ]
    },
    {
     "name": "stdout",
     "output_type": "stream",
     "text": [
      "[999.0541322379099, 999.5578115151359, 999.9605953697627, 999.6143122333681, 999.4100195939899, 997.5421844400706, 996.1080952469438, 994.6884066956497, 997.5225761939406, 997.2733888455922, 997.6506976690458, 997.9830983827235, 996.262543722017, 996.3249660935912, 997.5139765996684, 952.7859544180961, 997.2451428296474, 995.8794117619638, 996.1874753608726, 997.3660470667872, 995.8796734214637, 996.1267038198378, 997.3683058887949, 996.7880618368251, 996.7018636580668, 996.6553915495252, 996.1975637510924, 995.8717180974933, 995.377740204779, 995.7882320806218, 995.9797555943084, 994.3357868852762, 994.9411244082304]\n"
     ]
    },
    {
     "name": "stderr",
     "output_type": "stream",
     "text": [
      " 52%|█████▏    | 34/65 [14:38<14:06, 27.30s/it]"
     ]
    },
    {
     "name": "stdout",
     "output_type": "stream",
     "text": [
      "[999.0541322379099, 999.5578115151359, 999.9605953697627, 999.6143122333681, 999.4100195939899, 997.5421844400706, 996.1080952469438, 994.6884066956497, 997.5225761939406, 997.2733888455922, 997.6506976690458, 997.9830983827235, 996.262543722017, 996.3249660935912, 997.5139765996684, 952.7859544180961, 997.2451428296474, 995.8794117619638, 996.1874753608726, 997.3660470667872, 995.8796734214637, 996.1267038198378, 997.3683058887949, 996.7880618368251, 996.7018636580668, 996.6553915495252, 996.1975637510924, 995.8717180974933, 995.377740204779, 995.7882320806218, 995.9797555943084, 994.3357868852762, 994.9411244082304, 994.7772279875409]\n"
     ]
    },
    {
     "name": "stderr",
     "output_type": "stream",
     "text": [
      " 54%|█████▍    | 35/65 [14:56<12:18, 24.62s/it]"
     ]
    },
    {
     "name": "stdout",
     "output_type": "stream",
     "text": [
      "[999.0541322379099, 999.5578115151359, 999.9605953697627, 999.6143122333681, 999.4100195939899, 997.5421844400706, 996.1080952469438, 994.6884066956497, 997.5225761939406, 997.2733888455922, 997.6506976690458, 997.9830983827235, 996.262543722017, 996.3249660935912, 997.5139765996684, 952.7859544180961, 997.2451428296474, 995.8794117619638, 996.1874753608726, 997.3660470667872, 995.8796734214637, 996.1267038198378, 997.3683058887949, 996.7880618368251, 996.7018636580668, 996.6553915495252, 996.1975637510924, 995.8717180974933, 995.377740204779, 995.7882320806218, 995.9797555943084, 994.3357868852762, 994.9411244082304, 994.7772279875409, 976.7887729507162]\n"
     ]
    },
    {
     "name": "stderr",
     "output_type": "stream",
     "text": [
      " 55%|█████▌    | 36/65 [15:22<12:04, 25.00s/it]"
     ]
    },
    {
     "name": "stdout",
     "output_type": "stream",
     "text": [
      "[999.0541322379099, 999.5578115151359, 999.9605953697627, 999.6143122333681, 999.4100195939899, 997.5421844400706, 996.1080952469438, 994.6884066956497, 997.5225761939406, 997.2733888455922, 997.6506976690458, 997.9830983827235, 996.262543722017, 996.3249660935912, 997.5139765996684, 952.7859544180961, 997.2451428296474, 995.8794117619638, 996.1874753608726, 997.3660470667872, 995.8796734214637, 996.1267038198378, 997.3683058887949, 996.7880618368251, 996.7018636580668, 996.6553915495252, 996.1975637510924, 995.8717180974933, 995.377740204779, 995.7882320806218, 995.9797555943084, 994.3357868852762, 994.9411244082304, 994.7772279875409, 976.7887729507162, 976.4865966531927]\n"
     ]
    },
    {
     "name": "stderr",
     "output_type": "stream",
     "text": [
      " 57%|█████▋    | 37/65 [15:48<11:48, 25.29s/it]"
     ]
    },
    {
     "name": "stdout",
     "output_type": "stream",
     "text": [
      "[999.0541322379099, 999.5578115151359, 999.9605953697627, 999.6143122333681, 999.4100195939899, 997.5421844400706, 996.1080952469438, 994.6884066956497, 997.5225761939406, 997.2733888455922, 997.6506976690458, 997.9830983827235, 996.262543722017, 996.3249660935912, 997.5139765996684, 952.7859544180961, 997.2451428296474, 995.8794117619638, 996.1874753608726, 997.3660470667872, 995.8796734214637, 996.1267038198378, 997.3683058887949, 996.7880618368251, 996.7018636580668, 996.6553915495252, 996.1975637510924, 995.8717180974933, 995.377740204779, 995.7882320806218, 995.9797555943084, 994.3357868852762, 994.9411244082304, 994.7772279875409, 976.7887729507162, 976.4865966531927, 975.4067881519362]\n"
     ]
    },
    {
     "name": "stderr",
     "output_type": "stream",
     "text": [
      " 58%|█████▊    | 38/65 [16:12<11:12, 24.90s/it]"
     ]
    },
    {
     "name": "stdout",
     "output_type": "stream",
     "text": [
      "[999.0541322379099, 999.5578115151359, 999.9605953697627, 999.6143122333681, 999.4100195939899, 997.5421844400706, 996.1080952469438, 994.6884066956497, 997.5225761939406, 997.2733888455922, 997.6506976690458, 997.9830983827235, 996.262543722017, 996.3249660935912, 997.5139765996684, 952.7859544180961, 997.2451428296474, 995.8794117619638, 996.1874753608726, 997.3660470667872, 995.8796734214637, 996.1267038198378, 997.3683058887949, 996.7880618368251, 996.7018636580668, 996.6553915495252, 996.1975637510924, 995.8717180974933, 995.377740204779, 995.7882320806218, 995.9797555943084, 994.3357868852762, 994.9411244082304, 994.7772279875409, 976.7887729507162, 976.4865966531927, 975.4067881519362, 975.7432046617398]\n"
     ]
    },
    {
     "name": "stderr",
     "output_type": "stream",
     "text": [
      " 60%|██████    | 39/65 [16:43<11:33, 26.68s/it]"
     ]
    },
    {
     "name": "stdout",
     "output_type": "stream",
     "text": [
      "[999.0541322379099, 999.5578115151359, 999.9605953697627, 999.6143122333681, 999.4100195939899, 997.5421844400706, 996.1080952469438, 994.6884066956497, 997.5225761939406, 997.2733888455922, 997.6506976690458, 997.9830983827235, 996.262543722017, 996.3249660935912, 997.5139765996684, 952.7859544180961, 997.2451428296474, 995.8794117619638, 996.1874753608726, 997.3660470667872, 995.8796734214637, 996.1267038198378, 997.3683058887949, 996.7880618368251, 996.7018636580668, 996.6553915495252, 996.1975637510924, 995.8717180974933, 995.377740204779, 995.7882320806218, 995.9797555943084, 994.3357868852762, 994.9411244082304, 994.7772279875409, 976.7887729507162, 976.4865966531927, 975.4067881519362, 975.7432046617398, 976.8794875548126]\n"
     ]
    },
    {
     "name": "stderr",
     "output_type": "stream",
     "text": [
      " 62%|██████▏   | 40/65 [17:04<10:22, 24.91s/it]"
     ]
    },
    {
     "name": "stdout",
     "output_type": "stream",
     "text": [
      "[999.0541322379099, 999.5578115151359, 999.9605953697627, 999.6143122333681, 999.4100195939899, 997.5421844400706, 996.1080952469438, 994.6884066956497, 997.5225761939406, 997.2733888455922, 997.6506976690458, 997.9830983827235, 996.262543722017, 996.3249660935912, 997.5139765996684, 952.7859544180961, 997.2451428296474, 995.8794117619638, 996.1874753608726, 997.3660470667872, 995.8796734214637, 996.1267038198378, 997.3683058887949, 996.7880618368251, 996.7018636580668, 996.6553915495252, 996.1975637510924, 995.8717180974933, 995.377740204779, 995.7882320806218, 995.9797555943084, 994.3357868852762, 994.9411244082304, 994.7772279875409, 976.7887729507162, 976.4865966531927, 975.4067881519362, 975.7432046617398, 976.8794875548126, 976.3819920382136]\n"
     ]
    },
    {
     "name": "stderr",
     "output_type": "stream",
     "text": [
      " 63%|██████▎   | 41/65 [17:26<09:40, 24.21s/it]"
     ]
    },
    {
     "name": "stdout",
     "output_type": "stream",
     "text": [
      "[999.0541322379099, 999.5578115151359, 999.9605953697627, 999.6143122333681, 999.4100195939899, 997.5421844400706, 996.1080952469438, 994.6884066956497, 997.5225761939406, 997.2733888455922, 997.6506976690458, 997.9830983827235, 996.262543722017, 996.3249660935912, 997.5139765996684, 952.7859544180961, 997.2451428296474, 995.8794117619638, 996.1874753608726, 997.3660470667872, 995.8796734214637, 996.1267038198378, 997.3683058887949, 996.7880618368251, 996.7018636580668, 996.6553915495252, 996.1975637510924, 995.8717180974933, 995.377740204779, 995.7882320806218, 995.9797555943084, 994.3357868852762, 994.9411244082304, 994.7772279875409, 976.7887729507162, 976.4865966531927, 975.4067881519362, 975.7432046617398, 976.8794875548126, 976.3819920382136, 977.1900673788244]\n"
     ]
    },
    {
     "name": "stderr",
     "output_type": "stream",
     "text": [
      " 65%|██████▍   | 42/65 [18:00<10:21, 27.02s/it]"
     ]
    },
    {
     "name": "stdout",
     "output_type": "stream",
     "text": [
      "[999.0541322379099, 999.5578115151359, 999.9605953697627, 999.6143122333681, 999.4100195939899, 997.5421844400706, 996.1080952469438, 994.6884066956497, 997.5225761939406, 997.2733888455922, 997.6506976690458, 997.9830983827235, 996.262543722017, 996.3249660935912, 997.5139765996684, 952.7859544180961, 997.2451428296474, 995.8794117619638, 996.1874753608726, 997.3660470667872, 995.8796734214637, 996.1267038198378, 997.3683058887949, 996.7880618368251, 996.7018636580668, 996.6553915495252, 996.1975637510924, 995.8717180974933, 995.377740204779, 995.7882320806218, 995.9797555943084, 994.3357868852762, 994.9411244082304, 994.7772279875409, 976.7887729507162, 976.4865966531927, 975.4067881519362, 975.7432046617398, 976.8794875548126, 976.3819920382136, 977.1900673788244, 975.8698651480557]\n"
     ]
    },
    {
     "name": "stderr",
     "output_type": "stream",
     "text": [
      " 66%|██████▌   | 43/65 [18:21<09:17, 25.33s/it]"
     ]
    },
    {
     "name": "stdout",
     "output_type": "stream",
     "text": [
      "[999.0541322379099, 999.5578115151359, 999.9605953697627, 999.6143122333681, 999.4100195939899, 997.5421844400706, 996.1080952469438, 994.6884066956497, 997.5225761939406, 997.2733888455922, 997.6506976690458, 997.9830983827235, 996.262543722017, 996.3249660935912, 997.5139765996684, 952.7859544180961, 997.2451428296474, 995.8794117619638, 996.1874753608726, 997.3660470667872, 995.8796734214637, 996.1267038198378, 997.3683058887949, 996.7880618368251, 996.7018636580668, 996.6553915495252, 996.1975637510924, 995.8717180974933, 995.377740204779, 995.7882320806218, 995.9797555943084, 994.3357868852762, 994.9411244082304, 994.7772279875409, 976.7887729507162, 976.4865966531927, 975.4067881519362, 975.7432046617398, 976.8794875548126, 976.3819920382136, 977.1900673788244, 975.8698651480557, 976.4996426429998]\n"
     ]
    },
    {
     "name": "stderr",
     "output_type": "stream",
     "text": [
      " 68%|██████▊   | 44/65 [18:45<08:39, 24.73s/it]"
     ]
    },
    {
     "name": "stdout",
     "output_type": "stream",
     "text": [
      "[999.0541322379099, 999.5578115151359, 999.9605953697627, 999.6143122333681, 999.4100195939899, 997.5421844400706, 996.1080952469438, 994.6884066956497, 997.5225761939406, 997.2733888455922, 997.6506976690458, 997.9830983827235, 996.262543722017, 996.3249660935912, 997.5139765996684, 952.7859544180961, 997.2451428296474, 995.8794117619638, 996.1874753608726, 997.3660470667872, 995.8796734214637, 996.1267038198378, 997.3683058887949, 996.7880618368251, 996.7018636580668, 996.6553915495252, 996.1975637510924, 995.8717180974933, 995.377740204779, 995.7882320806218, 995.9797555943084, 994.3357868852762, 994.9411244082304, 994.7772279875409, 976.7887729507162, 976.4865966531927, 975.4067881519362, 975.7432046617398, 976.8794875548126, 976.3819920382136, 977.1900673788244, 975.8698651480557, 976.4996426429998, 977.3965973516852]\n"
     ]
    },
    {
     "name": "stderr",
     "output_type": "stream",
     "text": [
      " 69%|██████▉   | 45/65 [19:09<08:12, 24.63s/it]"
     ]
    },
    {
     "name": "stdout",
     "output_type": "stream",
     "text": [
      "[999.0541322379099, 999.5578115151359, 999.9605953697627, 999.6143122333681, 999.4100195939899, 997.5421844400706, 996.1080952469438, 994.6884066956497, 997.5225761939406, 997.2733888455922, 997.6506976690458, 997.9830983827235, 996.262543722017, 996.3249660935912, 997.5139765996684, 952.7859544180961, 997.2451428296474, 995.8794117619638, 996.1874753608726, 997.3660470667872, 995.8796734214637, 996.1267038198378, 997.3683058887949, 996.7880618368251, 996.7018636580668, 996.6553915495252, 996.1975637510924, 995.8717180974933, 995.377740204779, 995.7882320806218, 995.9797555943084, 994.3357868852762, 994.9411244082304, 994.7772279875409, 976.7887729507162, 976.4865966531927, 975.4067881519362, 975.7432046617398, 976.8794875548126, 976.3819920382136, 977.1900673788244, 975.8698651480557, 976.4996426429998, 977.3965973516852, 977.0322507803211]\n"
     ]
    },
    {
     "name": "stderr",
     "output_type": "stream",
     "text": [
      " 71%|███████   | 46/65 [19:30<07:29, 23.66s/it]"
     ]
    },
    {
     "name": "stdout",
     "output_type": "stream",
     "text": [
      "[999.0541322379099, 999.5578115151359, 999.9605953697627, 999.6143122333681, 999.4100195939899, 997.5421844400706, 996.1080952469438, 994.6884066956497, 997.5225761939406, 997.2733888455922, 997.6506976690458, 997.9830983827235, 996.262543722017, 996.3249660935912, 997.5139765996684, 952.7859544180961, 997.2451428296474, 995.8794117619638, 996.1874753608726, 997.3660470667872, 995.8796734214637, 996.1267038198378, 997.3683058887949, 996.7880618368251, 996.7018636580668, 996.6553915495252, 996.1975637510924, 995.8717180974933, 995.377740204779, 995.7882320806218, 995.9797555943084, 994.3357868852762, 994.9411244082304, 994.7772279875409, 976.7887729507162, 976.4865966531927, 975.4067881519362, 975.7432046617398, 976.8794875548126, 976.3819920382136, 977.1900673788244, 975.8698651480557, 976.4996426429998, 977.3965973516852, 977.0322507803211, 976.9502572477165]\n"
     ]
    },
    {
     "name": "stderr",
     "output_type": "stream",
     "text": [
      " 72%|███████▏  | 47/65 [19:56<07:13, 24.10s/it]"
     ]
    },
    {
     "name": "stdout",
     "output_type": "stream",
     "text": [
      "[999.0541322379099, 999.5578115151359, 999.9605953697627, 999.6143122333681, 999.4100195939899, 997.5421844400706, 996.1080952469438, 994.6884066956497, 997.5225761939406, 997.2733888455922, 997.6506976690458, 997.9830983827235, 996.262543722017, 996.3249660935912, 997.5139765996684, 952.7859544180961, 997.2451428296474, 995.8794117619638, 996.1874753608726, 997.3660470667872, 995.8796734214637, 996.1267038198378, 997.3683058887949, 996.7880618368251, 996.7018636580668, 996.6553915495252, 996.1975637510924, 995.8717180974933, 995.377740204779, 995.7882320806218, 995.9797555943084, 994.3357868852762, 994.9411244082304, 994.7772279875409, 976.7887729507162, 976.4865966531927, 975.4067881519362, 975.7432046617398, 976.8794875548126, 976.3819920382136, 977.1900673788244, 975.8698651480557, 976.4996426429998, 977.3965973516852, 977.0322507803211, 976.9502572477165, 976.325378394045]\n"
     ]
    },
    {
     "name": "stderr",
     "output_type": "stream",
     "text": [
      " 74%|███████▍  | 48/65 [20:19<06:44, 23.81s/it]"
     ]
    },
    {
     "name": "stdout",
     "output_type": "stream",
     "text": [
      "[999.0541322379099, 999.5578115151359, 999.9605953697627, 999.6143122333681, 999.4100195939899, 997.5421844400706, 996.1080952469438, 994.6884066956497, 997.5225761939406, 997.2733888455922, 997.6506976690458, 997.9830983827235, 996.262543722017, 996.3249660935912, 997.5139765996684, 952.7859544180961, 997.2451428296474, 995.8794117619638, 996.1874753608726, 997.3660470667872, 995.8796734214637, 996.1267038198378, 997.3683058887949, 996.7880618368251, 996.7018636580668, 996.6553915495252, 996.1975637510924, 995.8717180974933, 995.377740204779, 995.7882320806218, 995.9797555943084, 994.3357868852762, 994.9411244082304, 994.7772279875409, 976.7887729507162, 976.4865966531927, 975.4067881519362, 975.7432046617398, 976.8794875548126, 976.3819920382136, 977.1900673788244, 975.8698651480557, 976.4996426429998, 977.3965973516852, 977.0322507803211, 976.9502572477165, 976.325378394045, 976.9683079594612]\n"
     ]
    },
    {
     "name": "stderr",
     "output_type": "stream",
     "text": [
      " 75%|███████▌  | 49/65 [20:38<06:01, 22.59s/it]"
     ]
    },
    {
     "name": "stdout",
     "output_type": "stream",
     "text": [
      "[999.0541322379099, 999.5578115151359, 999.9605953697627, 999.6143122333681, 999.4100195939899, 997.5421844400706, 996.1080952469438, 994.6884066956497, 997.5225761939406, 997.2733888455922, 997.6506976690458, 997.9830983827235, 996.262543722017, 996.3249660935912, 997.5139765996684, 952.7859544180961, 997.2451428296474, 995.8794117619638, 996.1874753608726, 997.3660470667872, 995.8796734214637, 996.1267038198378, 997.3683058887949, 996.7880618368251, 996.7018636580668, 996.6553915495252, 996.1975637510924, 995.8717180974933, 995.377740204779, 995.7882320806218, 995.9797555943084, 994.3357868852762, 994.9411244082304, 994.7772279875409, 976.7887729507162, 976.4865966531927, 975.4067881519362, 975.7432046617398, 976.8794875548126, 976.3819920382136, 977.1900673788244, 975.8698651480557, 976.4996426429998, 977.3965973516852, 977.0322507803211, 976.9502572477165, 976.325378394045, 976.9683079594612, 977.2501495705618]\n"
     ]
    },
    {
     "name": "stderr",
     "output_type": "stream",
     "text": [
      " 77%|███████▋  | 50/65 [21:06<06:03, 24.21s/it]"
     ]
    },
    {
     "name": "stdout",
     "output_type": "stream",
     "text": [
      "[999.0541322379099, 999.5578115151359, 999.9605953697627, 999.6143122333681, 999.4100195939899, 997.5421844400706, 996.1080952469438, 994.6884066956497, 997.5225761939406, 997.2733888455922, 997.6506976690458, 997.9830983827235, 996.262543722017, 996.3249660935912, 997.5139765996684, 952.7859544180961, 997.2451428296474, 995.8794117619638, 996.1874753608726, 997.3660470667872, 995.8796734214637, 996.1267038198378, 997.3683058887949, 996.7880618368251, 996.7018636580668, 996.6553915495252, 996.1975637510924, 995.8717180974933, 995.377740204779, 995.7882320806218, 995.9797555943084, 994.3357868852762, 994.9411244082304, 994.7772279875409, 976.7887729507162, 976.4865966531927, 975.4067881519362, 975.7432046617398, 976.8794875548126, 976.3819920382136, 977.1900673788244, 975.8698651480557, 976.4996426429998, 977.3965973516852, 977.0322507803211, 976.9502572477165, 976.325378394045, 976.9683079594612, 977.2501495705618, 978.5325791555096]\n"
     ]
    },
    {
     "name": "stderr",
     "output_type": "stream",
     "text": [
      " 78%|███████▊  | 51/65 [21:28<05:26, 23.31s/it]"
     ]
    },
    {
     "name": "stdout",
     "output_type": "stream",
     "text": [
      "[999.0541322379099, 999.5578115151359, 999.9605953697627, 999.6143122333681, 999.4100195939899, 997.5421844400706, 996.1080952469438, 994.6884066956497, 997.5225761939406, 997.2733888455922, 997.6506976690458, 997.9830983827235, 996.262543722017, 996.3249660935912, 997.5139765996684, 952.7859544180961, 997.2451428296474, 995.8794117619638, 996.1874753608726, 997.3660470667872, 995.8796734214637, 996.1267038198378, 997.3683058887949, 996.7880618368251, 996.7018636580668, 996.6553915495252, 996.1975637510924, 995.8717180974933, 995.377740204779, 995.7882320806218, 995.9797555943084, 994.3357868852762, 994.9411244082304, 994.7772279875409, 976.7887729507162, 976.4865966531927, 975.4067881519362, 975.7432046617398, 976.8794875548126, 976.3819920382136, 977.1900673788244, 975.8698651480557, 976.4996426429998, 977.3965973516852, 977.0322507803211, 976.9502572477165, 976.325378394045, 976.9683079594612, 977.2501495705618, 978.5325791555096, 977.9465671006598]\n"
     ]
    },
    {
     "name": "stderr",
     "output_type": "stream",
     "text": [
      " 80%|████████  | 52/65 [21:45<04:40, 21.56s/it]"
     ]
    },
    {
     "name": "stdout",
     "output_type": "stream",
     "text": [
      "[999.0541322379099, 999.5578115151359, 999.9605953697627, 999.6143122333681, 999.4100195939899, 997.5421844400706, 996.1080952469438, 994.6884066956497, 997.5225761939406, 997.2733888455922, 997.6506976690458, 997.9830983827235, 996.262543722017, 996.3249660935912, 997.5139765996684, 952.7859544180961, 997.2451428296474, 995.8794117619638, 996.1874753608726, 997.3660470667872, 995.8796734214637, 996.1267038198378, 997.3683058887949, 996.7880618368251, 996.7018636580668, 996.6553915495252, 996.1975637510924, 995.8717180974933, 995.377740204779, 995.7882320806218, 995.9797555943084, 994.3357868852762, 994.9411244082304, 994.7772279875409, 976.7887729507162, 976.4865966531927, 975.4067881519362, 975.7432046617398, 976.8794875548126, 976.3819920382136, 977.1900673788244, 975.8698651480557, 976.4996426429998, 977.3965973516852, 977.0322507803211, 976.9502572477165, 976.325378394045, 976.9683079594612, 977.2501495705618, 978.5325791555096, 977.9465671006598, 977.6077140724027]\n"
     ]
    },
    {
     "name": "stderr",
     "output_type": "stream",
     "text": [
      " 82%|████████▏ | 53/65 [22:04<04:10, 20.84s/it]"
     ]
    },
    {
     "name": "stdout",
     "output_type": "stream",
     "text": [
      "[999.0541322379099, 999.5578115151359, 999.9605953697627, 999.6143122333681, 999.4100195939899, 997.5421844400706, 996.1080952469438, 994.6884066956497, 997.5225761939406, 997.2733888455922, 997.6506976690458, 997.9830983827235, 996.262543722017, 996.3249660935912, 997.5139765996684, 952.7859544180961, 997.2451428296474, 995.8794117619638, 996.1874753608726, 997.3660470667872, 995.8796734214637, 996.1267038198378, 997.3683058887949, 996.7880618368251, 996.7018636580668, 996.6553915495252, 996.1975637510924, 995.8717180974933, 995.377740204779, 995.7882320806218, 995.9797555943084, 994.3357868852762, 994.9411244082304, 994.7772279875409, 976.7887729507162, 976.4865966531927, 975.4067881519362, 975.7432046617398, 976.8794875548126, 976.3819920382136, 977.1900673788244, 975.8698651480557, 976.4996426429998, 977.3965973516852, 977.0322507803211, 976.9502572477165, 976.325378394045, 976.9683079594612, 977.2501495705618, 978.5325791555096, 977.9465671006598, 977.6077140724027, 977.7957010198937]\n"
     ]
    },
    {
     "name": "stderr",
     "output_type": "stream",
     "text": [
      " 83%|████████▎ | 54/65 [22:23<03:43, 20.32s/it]"
     ]
    },
    {
     "name": "stdout",
     "output_type": "stream",
     "text": [
      "[999.0541322379099, 999.5578115151359, 999.9605953697627, 999.6143122333681, 999.4100195939899, 997.5421844400706, 996.1080952469438, 994.6884066956497, 997.5225761939406, 997.2733888455922, 997.6506976690458, 997.9830983827235, 996.262543722017, 996.3249660935912, 997.5139765996684, 952.7859544180961, 997.2451428296474, 995.8794117619638, 996.1874753608726, 997.3660470667872, 995.8796734214637, 996.1267038198378, 997.3683058887949, 996.7880618368251, 996.7018636580668, 996.6553915495252, 996.1975637510924, 995.8717180974933, 995.377740204779, 995.7882320806218, 995.9797555943084, 994.3357868852762, 994.9411244082304, 994.7772279875409, 976.7887729507162, 976.4865966531927, 975.4067881519362, 975.7432046617398, 976.8794875548126, 976.3819920382136, 977.1900673788244, 975.8698651480557, 976.4996426429998, 977.3965973516852, 977.0322507803211, 976.9502572477165, 976.325378394045, 976.9683079594612, 977.2501495705618, 978.5325791555096, 977.9465671006598, 977.6077140724027, 977.7957010198937, 977.2920788028424]\n"
     ]
    },
    {
     "name": "stderr",
     "output_type": "stream",
     "text": [
      " 85%|████████▍ | 55/65 [22:42<03:16, 19.69s/it]"
     ]
    },
    {
     "name": "stdout",
     "output_type": "stream",
     "text": [
      "[999.0541322379099, 999.5578115151359, 999.9605953697627, 999.6143122333681, 999.4100195939899, 997.5421844400706, 996.1080952469438, 994.6884066956497, 997.5225761939406, 997.2733888455922, 997.6506976690458, 997.9830983827235, 996.262543722017, 996.3249660935912, 997.5139765996684, 952.7859544180961, 997.2451428296474, 995.8794117619638, 996.1874753608726, 997.3660470667872, 995.8796734214637, 996.1267038198378, 997.3683058887949, 996.7880618368251, 996.7018636580668, 996.6553915495252, 996.1975637510924, 995.8717180974933, 995.377740204779, 995.7882320806218, 995.9797555943084, 994.3357868852762, 994.9411244082304, 994.7772279875409, 976.7887729507162, 976.4865966531927, 975.4067881519362, 975.7432046617398, 976.8794875548126, 976.3819920382136, 977.1900673788244, 975.8698651480557, 976.4996426429998, 977.3965973516852, 977.0322507803211, 976.9502572477165, 976.325378394045, 976.9683079594612, 977.2501495705618, 978.5325791555096, 977.9465671006598, 977.6077140724027, 977.7957010198937, 977.2920788028424, 977.6575774101361]\n"
     ]
    },
    {
     "name": "stderr",
     "output_type": "stream",
     "text": [
      " 86%|████████▌ | 56/65 [23:01<02:56, 19.64s/it]"
     ]
    },
    {
     "name": "stdout",
     "output_type": "stream",
     "text": [
      "[999.0541322379099, 999.5578115151359, 999.9605953697627, 999.6143122333681, 999.4100195939899, 997.5421844400706, 996.1080952469438, 994.6884066956497, 997.5225761939406, 997.2733888455922, 997.6506976690458, 997.9830983827235, 996.262543722017, 996.3249660935912, 997.5139765996684, 952.7859544180961, 997.2451428296474, 995.8794117619638, 996.1874753608726, 997.3660470667872, 995.8796734214637, 996.1267038198378, 997.3683058887949, 996.7880618368251, 996.7018636580668, 996.6553915495252, 996.1975637510924, 995.8717180974933, 995.377740204779, 995.7882320806218, 995.9797555943084, 994.3357868852762, 994.9411244082304, 994.7772279875409, 976.7887729507162, 976.4865966531927, 975.4067881519362, 975.7432046617398, 976.8794875548126, 976.3819920382136, 977.1900673788244, 975.8698651480557, 976.4996426429998, 977.3965973516852, 977.0322507803211, 976.9502572477165, 976.325378394045, 976.9683079594612, 977.2501495705618, 978.5325791555096, 977.9465671006598, 977.6077140724027, 977.7957010198937, 977.2920788028424, 977.6575774101361, 976.5006446457578]\n"
     ]
    },
    {
     "name": "stderr",
     "output_type": "stream",
     "text": [
      " 88%|████████▊ | 57/65 [23:21<02:36, 19.58s/it]"
     ]
    },
    {
     "name": "stdout",
     "output_type": "stream",
     "text": [
      "[999.0541322379099, 999.5578115151359, 999.9605953697627, 999.6143122333681, 999.4100195939899, 997.5421844400706, 996.1080952469438, 994.6884066956497, 997.5225761939406, 997.2733888455922, 997.6506976690458, 997.9830983827235, 996.262543722017, 996.3249660935912, 997.5139765996684, 952.7859544180961, 997.2451428296474, 995.8794117619638, 996.1874753608726, 997.3660470667872, 995.8796734214637, 996.1267038198378, 997.3683058887949, 996.7880618368251, 996.7018636580668, 996.6553915495252, 996.1975637510924, 995.8717180974933, 995.377740204779, 995.7882320806218, 995.9797555943084, 994.3357868852762, 994.9411244082304, 994.7772279875409, 976.7887729507162, 976.4865966531927, 975.4067881519362, 975.7432046617398, 976.8794875548126, 976.3819920382136, 977.1900673788244, 975.8698651480557, 976.4996426429998, 977.3965973516852, 977.0322507803211, 976.9502572477165, 976.325378394045, 976.9683079594612, 977.2501495705618, 978.5325791555096, 977.9465671006598, 977.6077140724027, 977.7957010198937, 977.2920788028424, 977.6575774101361, 976.5006446457578, 976.5859442603302]\n"
     ]
    },
    {
     "name": "stderr",
     "output_type": "stream",
     "text": [
      " 89%|████████▉ | 58/65 [23:40<02:16, 19.48s/it]"
     ]
    },
    {
     "name": "stdout",
     "output_type": "stream",
     "text": [
      "[999.0541322379099, 999.5578115151359, 999.9605953697627, 999.6143122333681, 999.4100195939899, 997.5421844400706, 996.1080952469438, 994.6884066956497, 997.5225761939406, 997.2733888455922, 997.6506976690458, 997.9830983827235, 996.262543722017, 996.3249660935912, 997.5139765996684, 952.7859544180961, 997.2451428296474, 995.8794117619638, 996.1874753608726, 997.3660470667872, 995.8796734214637, 996.1267038198378, 997.3683058887949, 996.7880618368251, 996.7018636580668, 996.6553915495252, 996.1975637510924, 995.8717180974933, 995.377740204779, 995.7882320806218, 995.9797555943084, 994.3357868852762, 994.9411244082304, 994.7772279875409, 976.7887729507162, 976.4865966531927, 975.4067881519362, 975.7432046617398, 976.8794875548126, 976.3819920382136, 977.1900673788244, 975.8698651480557, 976.4996426429998, 977.3965973516852, 977.0322507803211, 976.9502572477165, 976.325378394045, 976.9683079594612, 977.2501495705618, 978.5325791555096, 977.9465671006598, 977.6077140724027, 977.7957010198937, 977.2920788028424, 977.6575774101361, 976.5006446457578, 976.5859442603302, 976.3554922794756]\n"
     ]
    },
    {
     "name": "stderr",
     "output_type": "stream",
     "text": [
      " 91%|█████████ | 59/65 [24:01<02:00, 20.10s/it]"
     ]
    },
    {
     "name": "stdout",
     "output_type": "stream",
     "text": [
      "[999.0541322379099, 999.5578115151359, 999.9605953697627, 999.6143122333681, 999.4100195939899, 997.5421844400706, 996.1080952469438, 994.6884066956497, 997.5225761939406, 997.2733888455922, 997.6506976690458, 997.9830983827235, 996.262543722017, 996.3249660935912, 997.5139765996684, 952.7859544180961, 997.2451428296474, 995.8794117619638, 996.1874753608726, 997.3660470667872, 995.8796734214637, 996.1267038198378, 997.3683058887949, 996.7880618368251, 996.7018636580668, 996.6553915495252, 996.1975637510924, 995.8717180974933, 995.377740204779, 995.7882320806218, 995.9797555943084, 994.3357868852762, 994.9411244082304, 994.7772279875409, 976.7887729507162, 976.4865966531927, 975.4067881519362, 975.7432046617398, 976.8794875548126, 976.3819920382136, 977.1900673788244, 975.8698651480557, 976.4996426429998, 977.3965973516852, 977.0322507803211, 976.9502572477165, 976.325378394045, 976.9683079594612, 977.2501495705618, 978.5325791555096, 977.9465671006598, 977.6077140724027, 977.7957010198937, 977.2920788028424, 977.6575774101361, 976.5006446457578, 976.5859442603302, 976.3554922794756, 975.6511247482141]\n"
     ]
    },
    {
     "name": "stderr",
     "output_type": "stream",
     "text": [
      " 92%|█████████▏| 60/65 [24:21<01:39, 19.82s/it]"
     ]
    },
    {
     "name": "stdout",
     "output_type": "stream",
     "text": [
      "[999.0541322379099, 999.5578115151359, 999.9605953697627, 999.6143122333681, 999.4100195939899, 997.5421844400706, 996.1080952469438, 994.6884066956497, 997.5225761939406, 997.2733888455922, 997.6506976690458, 997.9830983827235, 996.262543722017, 996.3249660935912, 997.5139765996684, 952.7859544180961, 997.2451428296474, 995.8794117619638, 996.1874753608726, 997.3660470667872, 995.8796734214637, 996.1267038198378, 997.3683058887949, 996.7880618368251, 996.7018636580668, 996.6553915495252, 996.1975637510924, 995.8717180974933, 995.377740204779, 995.7882320806218, 995.9797555943084, 994.3357868852762, 994.9411244082304, 994.7772279875409, 976.7887729507162, 976.4865966531927, 975.4067881519362, 975.7432046617398, 976.8794875548126, 976.3819920382136, 977.1900673788244, 975.8698651480557, 976.4996426429998, 977.3965973516852, 977.0322507803211, 976.9502572477165, 976.325378394045, 976.9683079594612, 977.2501495705618, 978.5325791555096, 977.9465671006598, 977.6077140724027, 977.7957010198937, 977.2920788028424, 977.6575774101361, 976.5006446457578, 976.5859442603302, 976.3554922794756, 975.6511247482141, 976.4044345157281]\n"
     ]
    },
    {
     "name": "stderr",
     "output_type": "stream",
     "text": [
      " 94%|█████████▍| 61/65 [24:48<01:27, 21.99s/it]"
     ]
    },
    {
     "name": "stdout",
     "output_type": "stream",
     "text": [
      "[999.0541322379099, 999.5578115151359, 999.9605953697627, 999.6143122333681, 999.4100195939899, 997.5421844400706, 996.1080952469438, 994.6884066956497, 997.5225761939406, 997.2733888455922, 997.6506976690458, 997.9830983827235, 996.262543722017, 996.3249660935912, 997.5139765996684, 952.7859544180961, 997.2451428296474, 995.8794117619638, 996.1874753608726, 997.3660470667872, 995.8796734214637, 996.1267038198378, 997.3683058887949, 996.7880618368251, 996.7018636580668, 996.6553915495252, 996.1975637510924, 995.8717180974933, 995.377740204779, 995.7882320806218, 995.9797555943084, 994.3357868852762, 994.9411244082304, 994.7772279875409, 976.7887729507162, 976.4865966531927, 975.4067881519362, 975.7432046617398, 976.8794875548126, 976.3819920382136, 977.1900673788244, 975.8698651480557, 976.4996426429998, 977.3965973516852, 977.0322507803211, 976.9502572477165, 976.325378394045, 976.9683079594612, 977.2501495705618, 978.5325791555096, 977.9465671006598, 977.6077140724027, 977.7957010198937, 977.2920788028424, 977.6575774101361, 976.5006446457578, 976.5859442603302, 976.3554922794756, 975.6511247482141, 976.4044345157281, 975.504652285023]\n"
     ]
    },
    {
     "name": "stderr",
     "output_type": "stream",
     "text": [
      " 95%|█████████▌| 62/65 [25:15<01:11, 23.74s/it]"
     ]
    },
    {
     "name": "stdout",
     "output_type": "stream",
     "text": [
      "[999.0541322379099, 999.5578115151359, 999.9605953697627, 999.6143122333681, 999.4100195939899, 997.5421844400706, 996.1080952469438, 994.6884066956497, 997.5225761939406, 997.2733888455922, 997.6506976690458, 997.9830983827235, 996.262543722017, 996.3249660935912, 997.5139765996684, 952.7859544180961, 997.2451428296474, 995.8794117619638, 996.1874753608726, 997.3660470667872, 995.8796734214637, 996.1267038198378, 997.3683058887949, 996.7880618368251, 996.7018636580668, 996.6553915495252, 996.1975637510924, 995.8717180974933, 995.377740204779, 995.7882320806218, 995.9797555943084, 994.3357868852762, 994.9411244082304, 994.7772279875409, 976.7887729507162, 976.4865966531927, 975.4067881519362, 975.7432046617398, 976.8794875548126, 976.3819920382136, 977.1900673788244, 975.8698651480557, 976.4996426429998, 977.3965973516852, 977.0322507803211, 976.9502572477165, 976.325378394045, 976.9683079594612, 977.2501495705618, 978.5325791555096, 977.9465671006598, 977.6077140724027, 977.7957010198937, 977.2920788028424, 977.6575774101361, 976.5006446457578, 976.5859442603302, 976.3554922794756, 975.6511247482141, 976.4044345157281, 975.504652285023, 976.1747952434876]\n"
     ]
    },
    {
     "name": "stderr",
     "output_type": "stream",
     "text": [
      " 97%|█████████▋| 63/65 [25:40<00:47, 23.94s/it]"
     ]
    },
    {
     "name": "stdout",
     "output_type": "stream",
     "text": [
      "[999.0541322379099, 999.5578115151359, 999.9605953697627, 999.6143122333681, 999.4100195939899, 997.5421844400706, 996.1080952469438, 994.6884066956497, 997.5225761939406, 997.2733888455922, 997.6506976690458, 997.9830983827235, 996.262543722017, 996.3249660935912, 997.5139765996684, 952.7859544180961, 997.2451428296474, 995.8794117619638, 996.1874753608726, 997.3660470667872, 995.8796734214637, 996.1267038198378, 997.3683058887949, 996.7880618368251, 996.7018636580668, 996.6553915495252, 996.1975637510924, 995.8717180974933, 995.377740204779, 995.7882320806218, 995.9797555943084, 994.3357868852762, 994.9411244082304, 994.7772279875409, 976.7887729507162, 976.4865966531927, 975.4067881519362, 975.7432046617398, 976.8794875548126, 976.3819920382136, 977.1900673788244, 975.8698651480557, 976.4996426429998, 977.3965973516852, 977.0322507803211, 976.9502572477165, 976.325378394045, 976.9683079594612, 977.2501495705618, 978.5325791555096, 977.9465671006598, 977.6077140724027, 977.7957010198937, 977.2920788028424, 977.6575774101361, 976.5006446457578, 976.5859442603302, 976.3554922794756, 975.6511247482141, 976.4044345157281, 975.504652285023, 976.1747952434876, 976.9720885979509]\n"
     ]
    },
    {
     "name": "stderr",
     "output_type": "stream",
     "text": [
      " 98%|█████████▊| 64/65 [26:03<00:23, 23.65s/it]"
     ]
    },
    {
     "name": "stdout",
     "output_type": "stream",
     "text": [
      "[999.0541322379099, 999.5578115151359, 999.9605953697627, 999.6143122333681, 999.4100195939899, 997.5421844400706, 996.1080952469438, 994.6884066956497, 997.5225761939406, 997.2733888455922, 997.6506976690458, 997.9830983827235, 996.262543722017, 996.3249660935912, 997.5139765996684, 952.7859544180961, 997.2451428296474, 995.8794117619638, 996.1874753608726, 997.3660470667872, 995.8796734214637, 996.1267038198378, 997.3683058887949, 996.7880618368251, 996.7018636580668, 996.6553915495252, 996.1975637510924, 995.8717180974933, 995.377740204779, 995.7882320806218, 995.9797555943084, 994.3357868852762, 994.9411244082304, 994.7772279875409, 976.7887729507162, 976.4865966531927, 975.4067881519362, 975.7432046617398, 976.8794875548126, 976.3819920382136, 977.1900673788244, 975.8698651480557, 976.4996426429998, 977.3965973516852, 977.0322507803211, 976.9502572477165, 976.325378394045, 976.9683079594612, 977.2501495705618, 978.5325791555096, 977.9465671006598, 977.6077140724027, 977.7957010198937, 977.2920788028424, 977.6575774101361, 976.5006446457578, 976.5859442603302, 976.3554922794756, 975.6511247482141, 976.4044345157281, 975.504652285023, 976.1747952434876, 976.9720885979509, 977.2879671190504]\n"
     ]
    },
    {
     "name": "stderr",
     "output_type": "stream",
     "text": [
      "100%|██████████| 65/65 [26:23<00:00, 24.37s/it]"
     ]
    },
    {
     "name": "stdout",
     "output_type": "stream",
     "text": [
      "[999.0541322379099, 999.5578115151359, 999.9605953697627, 999.6143122333681, 999.4100195939899, 997.5421844400706, 996.1080952469438, 994.6884066956497, 997.5225761939406, 997.2733888455922, 997.6506976690458, 997.9830983827235, 996.262543722017, 996.3249660935912, 997.5139765996684, 952.7859544180961, 997.2451428296474, 995.8794117619638, 996.1874753608726, 997.3660470667872, 995.8796734214637, 996.1267038198378, 997.3683058887949, 996.7880618368251, 996.7018636580668, 996.6553915495252, 996.1975637510924, 995.8717180974933, 995.377740204779, 995.7882320806218, 995.9797555943084, 994.3357868852762, 994.9411244082304, 994.7772279875409, 976.7887729507162, 976.4865966531927, 975.4067881519362, 975.7432046617398, 976.8794875548126, 976.3819920382136, 977.1900673788244, 975.8698651480557, 976.4996426429998, 977.3965973516852, 977.0322507803211, 976.9502572477165, 976.325378394045, 976.9683079594612, 977.2501495705618, 978.5325791555096, 977.9465671006598, 977.6077140724027, 977.7957010198937, 977.2920788028424, 977.6575774101361, 976.5006446457578, 976.5859442603302, 976.3554922794756, 975.6511247482141, 976.4044345157281, 975.504652285023, 976.1747952434876, 976.9720885979509, 977.2879671190504, 976.9449560152843]\n"
     ]
    },
    {
     "name": "stderr",
     "output_type": "stream",
     "text": [
      "\n"
     ]
    }
   ],
   "source": [
    "# Initialize backtest parameters\n",
    "last_id = 287\n",
    "backtest_start = 187\n",
    "backtest_end = 252\n",
    "\n",
    "# Run backtest\n",
    "prices, prices_var, calibrated_result = run_heston_backtest(\n",
    "    combined_df, backtest_start, backtest_end, last_id, params\n",
    ")"
   ]
  },
  {
   "cell_type": "code",
   "execution_count": 8,
   "metadata": {},
   "outputs": [],
   "source": [
    "calibrated_params = {\n",
    "    \"ROG_Last_Price\": {\n",
    "        \"kappa\": 0.10001357790518331,\n",
    "        \"theta\": 0.1,\n",
    "        \"sigma\": 0.09999999999999999,\n",
    "        \"rho\": 0.10000000000000009,\n",
    "        \"v0\": 0.1,\n",
    "    },\n",
    "    \"CFR_Last_Price\": {\n",
    "        \"kappa\": 0.10001357790518331,\n",
    "        \"theta\": 0.1,\n",
    "        \"sigma\": 0.09999999999999999,\n",
    "        \"rho\": 0.10000000000000009,\n",
    "        \"v0\": 0.1,\n",
    "    },\n",
    "    \"ZURN_Last_Price\": {\n",
    "        \"kappa\": 0.10001357790518331,\n",
    "        \"theta\": 0.1,\n",
    "        \"sigma\": 0.09999999999999999,\n",
    "        \"rho\": 0.10000000000000009,\n",
    "        \"v0\": 0.1,\n",
    "    },\n",
    "}"
   ]
  },
  {
   "cell_type": "code",
   "execution_count": 9,
   "metadata": {},
   "outputs": [
    {
     "data": {
      "text/plain": [
       "array([0.10001358, 0.10001358, 0.10001358])"
      ]
     },
     "execution_count": 9,
     "metadata": {},
     "output_type": "execute_result"
    }
   ],
   "source": [
    "np.array([calibrated_params[t][\"kappa\"] for t in tickers])"
   ]
  },
  {
   "cell_type": "code",
   "execution_count": 10,
   "metadata": {},
   "outputs": [
    {
     "name": "stderr",
     "output_type": "stream",
     "text": [
      "/home/bach/mh4518_simulation_in_fin/main/../utils/utils.py:242: UserWarning: Could not infer format, so each element will be parsed individually, falling back to `dateutil`. To ensure parsing is consistent and as-expected, please specify a format.\n",
      "  real_price['Date'] = pd.to_datetime(real_price['Date'], dayfirst=True)\n"
     ]
    },
    {
     "name": "stdout",
     "output_type": "stream",
     "text": [
      "11.415073405006883\n"
     ]
    },
    {
     "data": {
      "image/png": "[encoded data removed]",
      "text/plain": [
       "<Figure size 1600x400 with 1 Axes>"
      ]
     },
     "metadata": {},
     "output_type": "display_data"
    }
   ],
   "source": [
    "evaluation_plot(\n",
    "    backtest_start, backtest_end, combined_df, [prices], ylim=(950, 1050)\n",
    ")\n",
    "\n",
    "with open('../output/heston_ts_qe.pkl', 'wb') as file:\n",
    "    pickle.dump(prices, file)"
   ]
  },
  {
   "cell_type": "code",
   "execution_count": null,
   "metadata": {},
   "outputs": [],
   "source": []
  }
 ],
 "metadata": {
  "kernelspec": {
   "display_name": "mh4518",
   "language": "python",
   "name": "python3"
  },
  "language_info": {
   "codemirror_mode": {
    "name": "ipython",
    "version": 3
   },
   "file_extension": ".py",
   "mimetype": "text/x-python",
   "name": "python",
   "nbconvert_exporter": "python",
   "pygments_lexer": "ipython3",
   "version": "3.11.10"
  },
  "orig_nbformat": 4
 },
 "nbformat": 4,
 "nbformat_minor": 2
}
