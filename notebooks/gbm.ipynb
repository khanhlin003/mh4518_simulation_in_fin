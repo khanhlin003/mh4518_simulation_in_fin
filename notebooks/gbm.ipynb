{
 "cells": [
  {
   "cell_type": "code",
   "execution_count": 1,
   "metadata": {},
   "outputs": [],
   "source": [
    "%load_ext autoreload\n",
    "%autoreload 2"
   ]
  },
  {
   "cell_type": "code",
   "execution_count": 11,
   "metadata": {},
   "outputs": [],
   "source": [
    "import numpy as np\n",
    "import pandas as pd\n",
    "import matplotlib.pyplot as plt\n",
    "import seaborn as sns\n",
    "from scipy.optimize import minimize\n",
    "from scipy.stats import norm\n",
    "from tqdm.auto import tqdm\n",
    "\n",
    "import sys\n",
    "sys.path.append('../utils')\n",
    "from utils import *\n",
    "from data_retrieve import *\n",
    "from gbm import *"
   ]
  },
  {
   "cell_type": "code",
   "execution_count": 5,
   "metadata": {},
   "outputs": [],
   "source": [
    "last_id = 287\n",
    "backtest_start = 55\n",
    "backtest_end = 56"
   ]
  },
  {
   "cell_type": "code",
   "execution_count": 14,
   "metadata": {},
   "outputs": [
    {
     "name": "stderr",
     "output_type": "stream",
     "text": [
      "100%|██████████| 232/232 [00:00<00:00, 9343.50it/s]\n",
      "100%|██████████| 1/1 [00:00<00:00,  1.08it/s]\n"
     ]
    }
   ],
   "source": [
    "prices = []\n",
    "for current_id in tqdm(range(backtest_start, backtest_end)):\n",
    "    payoff = []\n",
    "    result, _, discounts = MultivariateGBMSimulationTS(s0=close.iloc[current_id], n_paths=100, current_id=current_id, window_size=30, implied_volatility=True)\n",
    "    \n",
    "    old_path_rog = combined_df['ROG_Last_Price'].iloc[:current_id]\n",
    "    old_path_cfr = combined_df['CFR_Last_Price'].iloc[:current_id]\n",
    "    old_path_zurn = combined_df['ZURN_Last_Price'].iloc[:current_id]\n",
    "\n",
    "    for i in range(result.shape[1]):\n",
    "        path_rog = np.append(old_path_rog, result[0][i].flatten())\n",
    "        path_cfr = np.append(old_path_cfr, result[1][i].flatten())\n",
    "        path_zurn = np.append(old_path_zurn, result[2][i].flatten())\n",
    "\n",
    "        payoff.append(payoff_func(path_rog, path_cfr, path_zurn, combined_df.iloc[current_id]['Date'], risk_free=discounts, risk_neutral=False, verbose=False))\n",
    "    \n",
    "    prices.append(np.mean(payoff))\n",
    "\n"
   ]
  },
  {
   "cell_type": "code",
   "execution_count": 15,
   "metadata": {},
   "outputs": [
    {
     "data": {
      "text/plain": [
       "array([237.55      , 237.25      , 237.75      , 241.3       ,\n",
       "       233.85      , 237.7       , 238.15      , 237.25      ,\n",
       "       237.15      , 236.4       , 238.15      , 238.1       ,\n",
       "       236.75      , 238.75      , 239.6       , 238.        ,\n",
       "       236.85      , 237.6       , 237.15      , 237.6       ,\n",
       "       236.6       , 238.35      , 238.7       , 236.9       ,\n",
       "       235.9       , 236.4       , 236.05      , 239.6       ,\n",
       "       246.3       , 250.95      , 249.95      , 249.45      ,\n",
       "       253.3       , 254.3       , 253.7       , 252.65      ,\n",
       "       245.9       , 244.35      , 245.2       , 244.05      ,\n",
       "       243.5       , 245.        , 244.3       , 243.7       ,\n",
       "       242.45      , 244.5       , 251.85      , 254.35      ,\n",
       "       251.3       , 251.45      , 252.25      , 253.9       ,\n",
       "       250.6       , 252.5       , 250.85      , 250.1       ,\n",
       "       251.515195  , 252.15838656, 255.1300968 , 255.31040592,\n",
       "       258.41706781, 262.37778127, 264.09364646, 262.1208465 ,\n",
       "       261.8596515 , 265.40079206, 261.34489671, 260.36619713,\n",
       "       259.524797  , 257.26636024, 259.74049055, 260.87111379,\n",
       "       259.02045576, 260.77496802, 260.43643757, 258.10042007,\n",
       "       256.26326933, 257.53774105, 260.19342304, 258.95680394,\n",
       "       260.54117683, 265.01555979, 261.61824718, 262.69503927,\n",
       "       265.09932746, 264.92850241, 268.50331915, 274.89406429,\n",
       "       275.98815548, 275.40708652, 278.3546741 , 280.93387841,\n",
       "       273.6722335 , 273.75987034, 272.71893783, 273.95617945,\n",
       "       273.49228942, 273.34111925, 270.95944598, 273.15800561,\n",
       "       278.05779837, 275.67923389, 271.74322317, 271.89232244,\n",
       "       271.90176585, 275.36934153, 271.91700888, 270.47029945,\n",
       "       264.50663103, 268.45520867, 269.2535952 , 268.03020793,\n",
       "       264.40866896, 261.08815681, 262.31554119, 259.35675383,\n",
       "       259.72500157, 265.46145829, 264.57592595, 261.99309763,\n",
       "       263.13348575, 259.83944282, 264.67476968, 268.70263281,\n",
       "       268.3224743 , 265.88089488, 264.77334837, 264.03179236,\n",
       "       265.18298254, 268.18627011, 265.35489334, 268.27831121,\n",
       "       270.11223062, 268.75254834, 265.77336358, 266.17921162,\n",
       "       263.30317866, 266.23797174, 263.18235431, 264.78399866,\n",
       "       264.63737668, 263.15628561, 262.94840276, 266.03515798,\n",
       "       262.79065827, 261.72777813, 259.73792007, 259.70687722,\n",
       "       257.91395324, 253.22606047, 250.49766004, 254.92963645,\n",
       "       255.66515587, 256.30967639, 255.61897934, 255.55101546,\n",
       "       254.46681086, 255.95400973, 256.29634962, 253.22218017,\n",
       "       253.96911464, 247.54155059, 248.69037523, 245.09070254,\n",
       "       244.90827986, 241.90945506, 241.98078981, 243.52387147,\n",
       "       247.47545963, 243.55269097, 246.13279873, 246.5370377 ,\n",
       "       245.43252013, 247.46884271, 246.91759101, 248.85464569,\n",
       "       246.32892771, 244.75326365, 247.26070148, 251.22352614,\n",
       "       251.19324106, 243.98411782, 243.53291786, 243.67581925,\n",
       "       243.1382049 , 244.06052957, 242.89590294, 245.11107714,\n",
       "       242.17438539, 245.40926208, 249.50911959, 247.17855057,\n",
       "       244.8680647 , 245.98724187, 242.98580607, 241.78373033,\n",
       "       244.66484303, 246.6299274 , 251.88667103, 252.39732016,\n",
       "       250.83451661, 251.0260699 , 250.683824  , 250.37875556,\n",
       "       250.37101336, 247.97935382, 248.77189541, 245.15999804,\n",
       "       243.36774732, 243.11510683, 237.44621406, 239.42845384,\n",
       "       234.35403647, 236.06253147, 232.91733172, 231.97370286,\n",
       "       233.29388627, 238.80866867, 239.15039474, 234.25389795,\n",
       "       236.66703488, 236.13652549, 236.35734625, 237.79748718,\n",
       "       232.33230342, 232.39351012, 231.43728046, 234.48091991,\n",
       "       236.32924957, 232.35668624, 235.51275519, 236.67514665,\n",
       "       232.89155018, 233.07146916, 235.66979207, 232.71695591,\n",
       "       236.16204749, 232.47000305, 230.5813251 , 228.34259626,\n",
       "       231.72023176, 230.56493285, 227.79703328, 228.90759702,\n",
       "       230.54729735, 232.2140079 , 231.59023643, 232.25110595,\n",
       "       230.70385722, 234.84973077, 237.73706328, 240.50435006,\n",
       "       242.56425192, 243.93528926, 240.79638011, 242.44675834,\n",
       "       242.776878  , 246.06830091, 248.20882434, 249.6905463 ,\n",
       "       245.33615407, 245.14314429, 243.74286353, 244.42804675,\n",
       "       243.39600997, 242.72478195, 243.93678946, 242.86348013,\n",
       "       243.20936628, 239.38067991, 237.32359661, 239.00275168,\n",
       "       235.95733784, 239.10717639, 241.607101  , 240.9574387 ,\n",
       "       248.72481488, 252.0368898 , 249.56108941, 251.5631347 ,\n",
       "       251.76982963, 249.74940615, 246.9807614 , 249.61413907,\n",
       "       248.07690905, 247.84081869, 245.4768864 ])"
      ]
     },
     "execution_count": 15,
     "metadata": {},
     "output_type": "execute_result"
    }
   ],
   "source": [
    "path_rog"
   ]
  },
  {
   "cell_type": "code",
   "execution_count": 16,
   "metadata": {},
   "outputs": [
    {
     "data": {
      "text/plain": [
       "[1006.4536109623879]"
      ]
     },
     "execution_count": 16,
     "metadata": {},
     "output_type": "execute_result"
    }
   ],
   "source": [
    "prices"
   ]
  },
  {
   "cell_type": "code",
   "execution_count": 9,
   "metadata": {},
   "outputs": [
    {
     "data": {
      "text/plain": [
       "[[1006.4536109623879]]"
      ]
     },
     "execution_count": 9,
     "metadata": {},
     "output_type": "execute_result"
    }
   ],
   "source": [
    "price_1 = [prices.copy()]\n",
    "price_1"
   ]
  },
  {
   "cell_type": "code",
   "execution_count": 99,
   "metadata": {},
   "outputs": [
    {
     "data": {
      "application/vnd.jupyter.widget-view+json": {
       "model_id": "b34475ada57c4498a97aa7aaf5c55507",
       "version_major": 2,
       "version_minor": 0
      },
      "text/plain": [
       "  0%|          | 0/5 [00:00<?, ?it/s]"
      ]
     },
     "metadata": {},
     "output_type": "display_data"
    },
    {
     "data": {
      "application/vnd.jupyter.widget-view+json": {
       "model_id": "79c7602e426646cbb45a63ef6e8b336f",
       "version_major": 2,
       "version_minor": 0
      },
      "text/plain": [
       "  0%|          | 0/232 [00:00<?, ?it/s]"
      ]
     },
     "metadata": {},
     "output_type": "display_data"
    },
    {
     "data": {
      "application/vnd.jupyter.widget-view+json": {
       "model_id": "0890c3b7d1de4c8598f1e7a2a6ddc515",
       "version_major": 2,
       "version_minor": 0
      },
      "text/plain": [
       "  0%|          | 0/231 [00:00<?, ?it/s]"
      ]
     },
     "metadata": {},
     "output_type": "display_data"
    },
    {
     "data": {
      "application/vnd.jupyter.widget-view+json": {
       "model_id": "87fa1445ef774dd1927c76b145cdca53",
       "version_major": 2,
       "version_minor": 0
      },
      "text/plain": [
       "  0%|          | 0/230 [00:00<?, ?it/s]"
      ]
     },
     "metadata": {},
     "output_type": "display_data"
    },
    {
     "data": {
      "application/vnd.jupyter.widget-view+json": {
       "model_id": "558d901860644a7d94304be71fa0c689",
       "version_major": 2,
       "version_minor": 0
      },
      "text/plain": [
       "  0%|          | 0/229 [00:00<?, ?it/s]"
      ]
     },
     "metadata": {},
     "output_type": "display_data"
    },
    {
     "data": {
      "application/vnd.jupyter.widget-view+json": {
       "model_id": "5268c196a04441b1b1033925bbd8e4eb",
       "version_major": 2,
       "version_minor": 0
      },
      "text/plain": [
       "  0%|          | 0/228 [00:00<?, ?it/s]"
      ]
     },
     "metadata": {},
     "output_type": "display_data"
    }
   ],
   "source": [
    "prices = []\n",
    "for current_id in tqdm(range(backtest_start, backtest_end)):\n",
    "    payoff = []\n",
    "    result, _ = MultivariateGBMSimulationAV(s0=close.iloc[current_id], n_paths=100, current_id=current_id, window_size=30, implied_volatility=True)\n",
    "    \n",
    "    old_path_rog = combined_df['ROG_Last_Price'].iloc[:current_id]\n",
    "    old_path_cfr = combined_df['CFR_Last_Price'].iloc[:current_id]\n",
    "    old_path_zurn = combined_df['ZURN_Last_Price'].iloc[:current_id]\n",
    "\n",
    "    for i in range(result.shape[1]):\n",
    "        path_rog = np.append(old_path_rog, result[0][i].flatten())\n",
    "        path_cfr = np.append(old_path_cfr, result[1][i].flatten())\n",
    "        path_zurn = np.append(old_path_zurn, result[2][i].flatten())\n",
    "\n",
    "        payoff.append(payoff_func(path_rog, path_cfr, path_zurn, combined_df.iloc[current_id]['Date'], risk_free=0.01107, risk_neutral=True, verbose=False))\n",
    "    # print(path_rog)\n",
    "    # print(result[0][0].flatten())\n",
    "    \n",
    "    prices.append(np.mean(payoff))\n",
    "\n"
   ]
  },
  {
   "cell_type": "code",
   "execution_count": 100,
   "metadata": {},
   "outputs": [],
   "source": [
    "price_1.append(prices.copy())"
   ]
  },
  {
   "cell_type": "code",
   "execution_count": 104,
   "metadata": {},
   "outputs": [
    {
     "data": {
      "text/plain": [
       "[[970.3111169767072,\n",
       "  975.4368135410966,\n",
       "  1022.2441912775325,\n",
       "  1010.5184672848283,\n",
       "  1014.483740010248],\n",
       " [990.3514801922461,\n",
       "  981.0002196042493,\n",
       "  1024.0273644844538,\n",
       "  1029.3325264024327,\n",
       "  1028.5516069034275]]"
      ]
     },
     "execution_count": 104,
     "metadata": {},
     "output_type": "execute_result"
    }
   ],
   "source": [
    "price_1"
   ]
  },
  {
   "cell_type": "code",
   "execution_count": 10,
   "metadata": {},
   "outputs": [
    {
     "name": "stderr",
     "output_type": "stream",
     "text": [
      "d:\\mh4518_simulation_in_fin\\notebooks\\../utils\\utils.py:241: UserWarning: Could not infer format, so each element will be parsed individually, falling back to `dateutil`. To ensure parsing is consistent and as-expected, please specify a format.\n",
      "  real_price['Date'] = pd.to_datetime(real_price['Date'], dayfirst=True)\n"
     ]
    },
    {
     "name": "stdout",
     "output_type": "stream",
     "text": [
      "4051.782188551031\n"
     ]
    },
    {
     "data": {
      "image/png": "[encoded data removed]",
      "text/plain": [
       "<Figure size 1600x400 with 1 Axes>"
      ]
     },
     "metadata": {},
     "output_type": "display_data"
    }
   ],
   "source": [
    "combined_df = retrieve_data()\n",
    "\n",
    "evaluation_plot(\n",
    "    backtest_start,\n",
    "    backtest_end,\n",
    "    combined_df,\n",
    "    price_1,\n",
    "    ylim=(900, 1100)\n",
    "    )"
   ]
  },
  {
   "cell_type": "code",
   "execution_count": 102,
   "metadata": {},
   "outputs": [
    {
     "data": {
      "text/html": [
       "<div>\n",
       "<style scoped>\n",
       "    .dataframe tbody tr th:only-of-type {\n",
       "        vertical-align: middle;\n",
       "    }\n",
       "\n",
       "    .dataframe tbody tr th {\n",
       "        vertical-align: top;\n",
       "    }\n",
       "\n",
       "    .dataframe thead th {\n",
       "        text-align: right;\n",
       "    }\n",
       "</style>\n",
       "<table border=\"1\" class=\"dataframe\">\n",
       "  <thead>\n",
       "    <tr style=\"text-align: right;\">\n",
       "      <th></th>\n",
       "      <th>Date</th>\n",
       "      <th>ROG_Last_Price</th>\n",
       "      <th>ROG_IVOL</th>\n",
       "      <th>CFR_Last_Price</th>\n",
       "      <th>CFR_IVOL</th>\n",
       "      <th>ZURN_Last_Price</th>\n",
       "      <th>ZURN_IVOL</th>\n",
       "      <th>Risk_Free_Rate</th>\n",
       "    </tr>\n",
       "  </thead>\n",
       "  <tbody>\n",
       "    <tr>\n",
       "      <th>50</th>\n",
       "      <td>2024-01-09</td>\n",
       "      <td>252.25</td>\n",
       "      <td>17.3357</td>\n",
       "      <td>112.75</td>\n",
       "      <td>27.6846</td>\n",
       "      <td>439.0</td>\n",
       "      <td>13.5786</td>\n",
       "      <td>1.3758</td>\n",
       "    </tr>\n",
       "    <tr>\n",
       "      <th>51</th>\n",
       "      <td>2024-01-10</td>\n",
       "      <td>253.90</td>\n",
       "      <td>17.1207</td>\n",
       "      <td>112.30</td>\n",
       "      <td>27.6068</td>\n",
       "      <td>435.9</td>\n",
       "      <td>14.2341</td>\n",
       "      <td>1.3806</td>\n",
       "    </tr>\n",
       "    <tr>\n",
       "      <th>52</th>\n",
       "      <td>2024-01-11</td>\n",
       "      <td>250.60</td>\n",
       "      <td>17.2272</td>\n",
       "      <td>110.45</td>\n",
       "      <td>27.5545</td>\n",
       "      <td>432.8</td>\n",
       "      <td>13.7492</td>\n",
       "      <td>1.3729</td>\n",
       "    </tr>\n",
       "    <tr>\n",
       "      <th>53</th>\n",
       "      <td>2024-01-12</td>\n",
       "      <td>252.50</td>\n",
       "      <td>16.9516</td>\n",
       "      <td>110.25</td>\n",
       "      <td>27.8636</td>\n",
       "      <td>436.9</td>\n",
       "      <td>13.6311</td>\n",
       "      <td>1.3376</td>\n",
       "    </tr>\n",
       "    <tr>\n",
       "      <th>54</th>\n",
       "      <td>2024-01-15</td>\n",
       "      <td>250.85</td>\n",
       "      <td>17.1497</td>\n",
       "      <td>109.85</td>\n",
       "      <td>27.6874</td>\n",
       "      <td>439.0</td>\n",
       "      <td>13.5356</td>\n",
       "      <td>1.3421</td>\n",
       "    </tr>\n",
       "    <tr>\n",
       "      <th>55</th>\n",
       "      <td>2024-01-16</td>\n",
       "      <td>250.10</td>\n",
       "      <td>17.1424</td>\n",
       "      <td>108.00</td>\n",
       "      <td>27.7113</td>\n",
       "      <td>442.4</td>\n",
       "      <td>13.1857</td>\n",
       "      <td>1.3382</td>\n",
       "    </tr>\n",
       "    <tr>\n",
       "      <th>56</th>\n",
       "      <td>2024-01-17</td>\n",
       "      <td>247.25</td>\n",
       "      <td>17.2372</td>\n",
       "      <td>105.40</td>\n",
       "      <td>28.9632</td>\n",
       "      <td>434.3</td>\n",
       "      <td>13.7452</td>\n",
       "      <td>1.3608</td>\n",
       "    </tr>\n",
       "    <tr>\n",
       "      <th>57</th>\n",
       "      <td>2024-01-18</td>\n",
       "      <td>245.95</td>\n",
       "      <td>17.2125</td>\n",
       "      <td>116.35</td>\n",
       "      <td>26.0605</td>\n",
       "      <td>430.2</td>\n",
       "      <td>14.1039</td>\n",
       "      <td>1.3585</td>\n",
       "    </tr>\n",
       "    <tr>\n",
       "      <th>58</th>\n",
       "      <td>2024-01-19</td>\n",
       "      <td>244.10</td>\n",
       "      <td>16.8093</td>\n",
       "      <td>116.40</td>\n",
       "      <td>27.2070</td>\n",
       "      <td>434.2</td>\n",
       "      <td>13.3972</td>\n",
       "      <td>1.3713</td>\n",
       "    </tr>\n",
       "    <tr>\n",
       "      <th>59</th>\n",
       "      <td>2024-01-22</td>\n",
       "      <td>247.80</td>\n",
       "      <td>16.9903</td>\n",
       "      <td>117.65</td>\n",
       "      <td>24.8685</td>\n",
       "      <td>441.8</td>\n",
       "      <td>12.0093</td>\n",
       "      <td>1.3693</td>\n",
       "    </tr>\n",
       "  </tbody>\n",
       "</table>\n",
       "</div>"
      ],
      "text/plain": [
       "         Date  ROG_Last_Price  ROG_IVOL  CFR_Last_Price  CFR_IVOL  \\\n",
       "50 2024-01-09          252.25   17.3357          112.75   27.6846   \n",
       "51 2024-01-10          253.90   17.1207          112.30   27.6068   \n",
       "52 2024-01-11          250.60   17.2272          110.45   27.5545   \n",
       "53 2024-01-12          252.50   16.9516          110.25   27.8636   \n",
       "54 2024-01-15          250.85   17.1497          109.85   27.6874   \n",
       "55 2024-01-16          250.10   17.1424          108.00   27.7113   \n",
       "56 2024-01-17          247.25   17.2372          105.40   28.9632   \n",
       "57 2024-01-18          245.95   17.2125          116.35   26.0605   \n",
       "58 2024-01-19          244.10   16.8093          116.40   27.2070   \n",
       "59 2024-01-22          247.80   16.9903          117.65   24.8685   \n",
       "\n",
       "    ZURN_Last_Price  ZURN_IVOL  Risk_Free_Rate  \n",
       "50            439.0    13.5786          1.3758  \n",
       "51            435.9    14.2341          1.3806  \n",
       "52            432.8    13.7492          1.3729  \n",
       "53            436.9    13.6311          1.3376  \n",
       "54            439.0    13.5356          1.3421  \n",
       "55            442.4    13.1857          1.3382  \n",
       "56            434.3    13.7452          1.3608  \n",
       "57            430.2    14.1039          1.3585  \n",
       "58            434.2    13.3972          1.3713  \n",
       "59            441.8    12.0093          1.3693  "
      ]
     },
     "execution_count": 102,
     "metadata": {},
     "output_type": "execute_result"
    }
   ],
   "source": [
    "combined_df.iloc[50:60, :]"
   ]
  },
  {
   "cell_type": "code",
   "execution_count": null,
   "metadata": {},
   "outputs": [],
   "source": []
  }
 ],
 "metadata": {
  "kernelspec": {
   "display_name": "Python 3",
   "language": "python",
   "name": "python3"
  },
  "language_info": {
   "codemirror_mode": {
    "name": "ipython",
    "version": 3
   },
   "file_extension": ".py",
   "mimetype": "text/x-python",
   "name": "python",
   "nbconvert_exporter": "python",
   "pygments_lexer": "ipython3",
   "version": "3.11.9"
  }
 },
 "nbformat": 4,
 "nbformat_minor": 2
}
