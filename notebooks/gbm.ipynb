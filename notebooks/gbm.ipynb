{
 "cells": [
  {
   "cell_type": "code",
   "execution_count": 91,
   "metadata": {},
   "outputs": [
    {
     "name": "stdout",
     "output_type": "stream",
     "text": [
      "The autoreload extension is already loaded. To reload it, use:\n",
      "  %reload_ext autoreload\n"
     ]
    }
   ],
   "source": [
    "%load_ext autoreload\n",
    "%autoreload 2"
   ]
  },
  {
   "cell_type": "code",
   "execution_count": 92,
   "metadata": {},
   "outputs": [],
   "source": [
    "import numpy as np\n",
    "import pandas as pd\n",
    "import matplotlib.pyplot as plt\n",
    "import seaborn as sns\n",
    "from scipy.optimize import minimize\n",
    "from scipy.stats import norm\n",
    "from tqdm.auto import tqdm\n",
    "\n",
    "import sys\n",
    "sys.path.append('../utils')\n",
    "from utils import *\n",
    "from data_retrieve import *\n",
    "from gbm import *"
   ]
  },
  {
   "cell_type": "code",
   "execution_count": 93,
   "metadata": {},
   "outputs": [],
   "source": [
    "last_id = 287\n",
    "backtest_start = 55\n",
    "backtest_end = 60"
   ]
  },
  {
   "cell_type": "code",
   "execution_count": 94,
   "metadata": {},
   "outputs": [
    {
     "data": {
      "text/plain": [
       "[array(1.08685512),\n",
       " array(1.06983534),\n",
       " array(1.04341078),\n",
       " array(1.02301718),\n",
       " array(1.00865202),\n",
       " array(1.00865202)]"
      ]
     },
     "execution_count": 94,
     "metadata": {},
     "output_type": "execute_result"
    }
   ],
   "source": [
    "discounts"
   ]
  },
  {
   "cell_type": "code",
   "execution_count": 95,
   "metadata": {},
   "outputs": [
    {
     "data": {
      "application/vnd.jupyter.widget-view+json": {
       "model_id": "49a973fcd6964909b5ff47fe5ace8796",
       "version_major": 2,
       "version_minor": 0
      },
      "text/plain": [
       "  0%|          | 0/5 [00:00<?, ?it/s]"
      ]
     },
     "metadata": {},
     "output_type": "display_data"
    },
    {
     "data": {
      "application/vnd.jupyter.widget-view+json": {
       "model_id": "0e95c65e549b4ec6a693e99bbf3e4fbb",
       "version_major": 2,
       "version_minor": 0
      },
      "text/plain": [
       "  0%|          | 0/232 [00:00<?, ?it/s]"
      ]
     },
     "metadata": {},
     "output_type": "display_data"
    },
    {
     "data": {
      "application/vnd.jupyter.widget-view+json": {
       "model_id": "4ca5ecf1d52f4cb2ae1c06c2689623d2",
       "version_major": 2,
       "version_minor": 0
      },
      "text/plain": [
       "  0%|          | 0/231 [00:00<?, ?it/s]"
      ]
     },
     "metadata": {},
     "output_type": "display_data"
    },
    {
     "data": {
      "application/vnd.jupyter.widget-view+json": {
       "model_id": "d64b75a375d34d0b85d8635cca2b8075",
       "version_major": 2,
       "version_minor": 0
      },
      "text/plain": [
       "  0%|          | 0/230 [00:00<?, ?it/s]"
      ]
     },
     "metadata": {},
     "output_type": "display_data"
    },
    {
     "data": {
      "application/vnd.jupyter.widget-view+json": {
       "model_id": "775c48e49f9841a9bb6bfb995e8a5e80",
       "version_major": 2,
       "version_minor": 0
      },
      "text/plain": [
       "  0%|          | 0/229 [00:00<?, ?it/s]"
      ]
     },
     "metadata": {},
     "output_type": "display_data"
    },
    {
     "data": {
      "application/vnd.jupyter.widget-view+json": {
       "model_id": "045cce109f164fdaac7fcf5b2b70bd2c",
       "version_major": 2,
       "version_minor": 0
      },
      "text/plain": [
       "  0%|          | 0/228 [00:00<?, ?it/s]"
      ]
     },
     "metadata": {},
     "output_type": "display_data"
    }
   ],
   "source": [
    "prices = []\n",
    "for current_id in tqdm(range(backtest_start, backtest_end)):\n",
    "    payoff = []\n",
    "    result, _, discounts = MultivariateGBMSimulationTS(s0=close.iloc[current_id], n_paths=100, current_id=current_id, window_size=30, implied_volatility=True)\n",
    "    \n",
    "    old_path_rog = combined_df['ROG_Last_Price'].iloc[:current_id]\n",
    "    old_path_cfr = combined_df['CFR_Last_Price'].iloc[:current_id]\n",
    "    old_path_zurn = combined_df['ZURN_Last_Price'].iloc[:current_id]\n",
    "\n",
    "    for i in range(result.shape[1]):\n",
    "        path_rog = np.append(old_path_rog, result[0][i].flatten())\n",
    "        path_cfr = np.append(old_path_cfr, result[1][i].flatten())\n",
    "        path_zurn = np.append(old_path_zurn, result[2][i].flatten())\n",
    "\n",
    "        payoff.append(payoff_func(path_rog, path_cfr, path_zurn, combined_df.iloc[current_id]['Date'], risk_free=discounts, risk_neutral=False, verbose=False))\n",
    "    \n",
    "    prices.append(np.mean(payoff))\n",
    "\n"
   ]
  },
  {
   "cell_type": "code",
   "execution_count": 96,
   "metadata": {},
   "outputs": [
    {
     "data": {
      "text/plain": [
       "[array(1.08685512),\n",
       " array(1.06983534),\n",
       " array(1.04341078),\n",
       " array(1.02301718),\n",
       " array(1.00865202),\n",
       " array(1.00865202)]"
      ]
     },
     "execution_count": 96,
     "metadata": {},
     "output_type": "execute_result"
    }
   ],
   "source": [
    "discounts"
   ]
  },
  {
   "cell_type": "code",
   "execution_count": 97,
   "metadata": {},
   "outputs": [
    {
     "data": {
      "text/plain": [
       "[970.3111169767072,\n",
       " 975.4368135410966,\n",
       " 1022.2441912775325,\n",
       " 1010.5184672848283,\n",
       " 1014.483740010248]"
      ]
     },
     "execution_count": 97,
     "metadata": {},
     "output_type": "execute_result"
    }
   ],
   "source": [
    "prices"
   ]
  },
  {
   "cell_type": "code",
   "execution_count": 98,
   "metadata": {},
   "outputs": [
    {
     "data": {
      "text/plain": [
       "[[970.3111169767072,\n",
       "  975.4368135410966,\n",
       "  1022.2441912775325,\n",
       "  1010.5184672848283,\n",
       "  1014.483740010248]]"
      ]
     },
     "execution_count": 98,
     "metadata": {},
     "output_type": "execute_result"
    }
   ],
   "source": [
    "price_1 = [prices.copy()]\n",
    "price_1"
   ]
  },
  {
   "cell_type": "code",
   "execution_count": 99,
   "metadata": {},
   "outputs": [
    {
     "data": {
      "application/vnd.jupyter.widget-view+json": {
       "model_id": "b34475ada57c4498a97aa7aaf5c55507",
       "version_major": 2,
       "version_minor": 0
      },
      "text/plain": [
       "  0%|          | 0/5 [00:00<?, ?it/s]"
      ]
     },
     "metadata": {},
     "output_type": "display_data"
    },
    {
     "data": {
      "application/vnd.jupyter.widget-view+json": {
       "model_id": "79c7602e426646cbb45a63ef6e8b336f",
       "version_major": 2,
       "version_minor": 0
      },
      "text/plain": [
       "  0%|          | 0/232 [00:00<?, ?it/s]"
      ]
     },
     "metadata": {},
     "output_type": "display_data"
    },
    {
     "data": {
      "application/vnd.jupyter.widget-view+json": {
       "model_id": "0890c3b7d1de4c8598f1e7a2a6ddc515",
       "version_major": 2,
       "version_minor": 0
      },
      "text/plain": [
       "  0%|          | 0/231 [00:00<?, ?it/s]"
      ]
     },
     "metadata": {},
     "output_type": "display_data"
    },
    {
     "data": {
      "application/vnd.jupyter.widget-view+json": {
       "model_id": "87fa1445ef774dd1927c76b145cdca53",
       "version_major": 2,
       "version_minor": 0
      },
      "text/plain": [
       "  0%|          | 0/230 [00:00<?, ?it/s]"
      ]
     },
     "metadata": {},
     "output_type": "display_data"
    },
    {
     "data": {
      "application/vnd.jupyter.widget-view+json": {
       "model_id": "558d901860644a7d94304be71fa0c689",
       "version_major": 2,
       "version_minor": 0
      },
      "text/plain": [
       "  0%|          | 0/229 [00:00<?, ?it/s]"
      ]
     },
     "metadata": {},
     "output_type": "display_data"
    },
    {
     "data": {
      "application/vnd.jupyter.widget-view+json": {
       "model_id": "5268c196a04441b1b1033925bbd8e4eb",
       "version_major": 2,
       "version_minor": 0
      },
      "text/plain": [
       "  0%|          | 0/228 [00:00<?, ?it/s]"
      ]
     },
     "metadata": {},
     "output_type": "display_data"
    }
   ],
   "source": [
    "prices = []\n",
    "for current_id in tqdm(range(backtest_start, backtest_end)):\n",
    "    payoff = []\n",
    "    result, _ = MultivariateGBMSimulationAV(s0=close.iloc[current_id], n_paths=100, current_id=current_id, window_size=30, implied_volatility=True)\n",
    "    \n",
    "    old_path_rog = combined_df['ROG_Last_Price'].iloc[:current_id]\n",
    "    old_path_cfr = combined_df['CFR_Last_Price'].iloc[:current_id]\n",
    "    old_path_zurn = combined_df['ZURN_Last_Price'].iloc[:current_id]\n",
    "\n",
    "    for i in range(result.shape[1]):\n",
    "        path_rog = np.append(old_path_rog, result[0][i].flatten())\n",
    "        path_cfr = np.append(old_path_cfr, result[1][i].flatten())\n",
    "        path_zurn = np.append(old_path_zurn, result[2][i].flatten())\n",
    "\n",
    "        payoff.append(payoff_func(path_rog, path_cfr, path_zurn, combined_df.iloc[current_id]['Date'], risk_free=0.01107, risk_neutral=True, verbose=False))\n",
    "    # print(path_rog)\n",
    "    # print(result[0][0].flatten())\n",
    "    \n",
    "    prices.append(np.mean(payoff))\n",
    "\n"
   ]
  },
  {
   "cell_type": "code",
   "execution_count": 100,
   "metadata": {},
   "outputs": [],
   "source": [
    "price_1.append(prices.copy())"
   ]
  },
  {
   "cell_type": "code",
   "execution_count": 104,
   "metadata": {},
   "outputs": [
    {
     "data": {
      "text/plain": [
       "[[970.3111169767072,\n",
       "  975.4368135410966,\n",
       "  1022.2441912775325,\n",
       "  1010.5184672848283,\n",
       "  1014.483740010248],\n",
       " [990.3514801922461,\n",
       "  981.0002196042493,\n",
       "  1024.0273644844538,\n",
       "  1029.3325264024327,\n",
       "  1028.5516069034275]]"
      ]
     },
     "execution_count": 104,
     "metadata": {},
     "output_type": "execute_result"
    }
   ],
   "source": [
    "price_1"
   ]
  },
  {
   "cell_type": "code",
   "execution_count": 103,
   "metadata": {},
   "outputs": [
    {
     "name": "stdout",
     "output_type": "stream",
     "text": [
      "2095.0976144263427\n",
      "3259.31201984888\n"
     ]
    },
    {
     "name": "stderr",
     "output_type": "stream",
     "text": [
      "/home/bach/mh4518_simulation_in_fin/notebooks/../utils/utils.py:241: UserWarning: Could not infer format, so each element will be parsed individually, falling back to `dateutil`. To ensure parsing is consistent and as-expected, please specify a format.\n",
      "  real_price['Date'] = pd.to_datetime(real_price['Date'], dayfirst=True)\n"
     ]
    },
    {
     "data": {
      "image/png": "[encoded data removed]",
      "text/plain": [
       "<Figure size 1600x400 with 1 Axes>"
      ]
     },
     "metadata": {},
     "output_type": "display_data"
    }
   ],
   "source": [
    "combined_df = retrieve_data()\n",
    "\n",
    "evaluation_plot(\n",
    "    backtest_start,\n",
    "    backtest_end,\n",
    "    combined_df,\n",
    "    price_1,\n",
    "    ylim=(900, 1100)\n",
    "    )"
   ]
  },
  {
   "cell_type": "code",
   "execution_count": 102,
   "metadata": {},
   "outputs": [
    {
     "data": {
      "text/html": [
       "<div>\n",
       "<style scoped>\n",
       "    .dataframe tbody tr th:only-of-type {\n",
       "        vertical-align: middle;\n",
       "    }\n",
       "\n",
       "    .dataframe tbody tr th {\n",
       "        vertical-align: top;\n",
       "    }\n",
       "\n",
       "    .dataframe thead th {\n",
       "        text-align: right;\n",
       "    }\n",
       "</style>\n",
       "<table border=\"1\" class=\"dataframe\">\n",
       "  <thead>\n",
       "    <tr style=\"text-align: right;\">\n",
       "      <th></th>\n",
       "      <th>Date</th>\n",
       "      <th>ROG_Last_Price</th>\n",
       "      <th>ROG_IVOL</th>\n",
       "      <th>CFR_Last_Price</th>\n",
       "      <th>CFR_IVOL</th>\n",
       "      <th>ZURN_Last_Price</th>\n",
       "      <th>ZURN_IVOL</th>\n",
       "      <th>Risk_Free_Rate</th>\n",
       "    </tr>\n",
       "  </thead>\n",
       "  <tbody>\n",
       "    <tr>\n",
       "      <th>50</th>\n",
       "      <td>2024-01-09</td>\n",
       "      <td>252.25</td>\n",
       "      <td>17.3357</td>\n",
       "      <td>112.75</td>\n",
       "      <td>27.6846</td>\n",
       "      <td>439.0</td>\n",
       "      <td>13.5786</td>\n",
       "      <td>1.3758</td>\n",
       "    </tr>\n",
       "    <tr>\n",
       "      <th>51</th>\n",
       "      <td>2024-01-10</td>\n",
       "      <td>253.90</td>\n",
       "      <td>17.1207</td>\n",
       "      <td>112.30</td>\n",
       "      <td>27.6068</td>\n",
       "      <td>435.9</td>\n",
       "      <td>14.2341</td>\n",
       "      <td>1.3806</td>\n",
       "    </tr>\n",
       "    <tr>\n",
       "      <th>52</th>\n",
       "      <td>2024-01-11</td>\n",
       "      <td>250.60</td>\n",
       "      <td>17.2272</td>\n",
       "      <td>110.45</td>\n",
       "      <td>27.5545</td>\n",
       "      <td>432.8</td>\n",
       "      <td>13.7492</td>\n",
       "      <td>1.3729</td>\n",
       "    </tr>\n",
       "    <tr>\n",
       "      <th>53</th>\n",
       "      <td>2024-01-12</td>\n",
       "      <td>252.50</td>\n",
       "      <td>16.9516</td>\n",
       "      <td>110.25</td>\n",
       "      <td>27.8636</td>\n",
       "      <td>436.9</td>\n",
       "      <td>13.6311</td>\n",
       "      <td>1.3376</td>\n",
       "    </tr>\n",
       "    <tr>\n",
       "      <th>54</th>\n",
       "      <td>2024-01-15</td>\n",
       "      <td>250.85</td>\n",
       "      <td>17.1497</td>\n",
       "      <td>109.85</td>\n",
       "      <td>27.6874</td>\n",
       "      <td>439.0</td>\n",
       "      <td>13.5356</td>\n",
       "      <td>1.3421</td>\n",
       "    </tr>\n",
       "    <tr>\n",
       "      <th>55</th>\n",
       "      <td>2024-01-16</td>\n",
       "      <td>250.10</td>\n",
       "      <td>17.1424</td>\n",
       "      <td>108.00</td>\n",
       "      <td>27.7113</td>\n",
       "      <td>442.4</td>\n",
       "      <td>13.1857</td>\n",
       "      <td>1.3382</td>\n",
       "    </tr>\n",
       "    <tr>\n",
       "      <th>56</th>\n",
       "      <td>2024-01-17</td>\n",
       "      <td>247.25</td>\n",
       "      <td>17.2372</td>\n",
       "      <td>105.40</td>\n",
       "      <td>28.9632</td>\n",
       "      <td>434.3</td>\n",
       "      <td>13.7452</td>\n",
       "      <td>1.3608</td>\n",
       "    </tr>\n",
       "    <tr>\n",
       "      <th>57</th>\n",
       "      <td>2024-01-18</td>\n",
       "      <td>245.95</td>\n",
       "      <td>17.2125</td>\n",
       "      <td>116.35</td>\n",
       "      <td>26.0605</td>\n",
       "      <td>430.2</td>\n",
       "      <td>14.1039</td>\n",
       "      <td>1.3585</td>\n",
       "    </tr>\n",
       "    <tr>\n",
       "      <th>58</th>\n",
       "      <td>2024-01-19</td>\n",
       "      <td>244.10</td>\n",
       "      <td>16.8093</td>\n",
       "      <td>116.40</td>\n",
       "      <td>27.2070</td>\n",
       "      <td>434.2</td>\n",
       "      <td>13.3972</td>\n",
       "      <td>1.3713</td>\n",
       "    </tr>\n",
       "    <tr>\n",
       "      <th>59</th>\n",
       "      <td>2024-01-22</td>\n",
       "      <td>247.80</td>\n",
       "      <td>16.9903</td>\n",
       "      <td>117.65</td>\n",
       "      <td>24.8685</td>\n",
       "      <td>441.8</td>\n",
       "      <td>12.0093</td>\n",
       "      <td>1.3693</td>\n",
       "    </tr>\n",
       "  </tbody>\n",
       "</table>\n",
       "</div>"
      ],
      "text/plain": [
       "         Date  ROG_Last_Price  ROG_IVOL  CFR_Last_Price  CFR_IVOL  \\\n",
       "50 2024-01-09          252.25   17.3357          112.75   27.6846   \n",
       "51 2024-01-10          253.90   17.1207          112.30   27.6068   \n",
       "52 2024-01-11          250.60   17.2272          110.45   27.5545   \n",
       "53 2024-01-12          252.50   16.9516          110.25   27.8636   \n",
       "54 2024-01-15          250.85   17.1497          109.85   27.6874   \n",
       "55 2024-01-16          250.10   17.1424          108.00   27.7113   \n",
       "56 2024-01-17          247.25   17.2372          105.40   28.9632   \n",
       "57 2024-01-18          245.95   17.2125          116.35   26.0605   \n",
       "58 2024-01-19          244.10   16.8093          116.40   27.2070   \n",
       "59 2024-01-22          247.80   16.9903          117.65   24.8685   \n",
       "\n",
       "    ZURN_Last_Price  ZURN_IVOL  Risk_Free_Rate  \n",
       "50            439.0    13.5786          1.3758  \n",
       "51            435.9    14.2341          1.3806  \n",
       "52            432.8    13.7492          1.3729  \n",
       "53            436.9    13.6311          1.3376  \n",
       "54            439.0    13.5356          1.3421  \n",
       "55            442.4    13.1857          1.3382  \n",
       "56            434.3    13.7452          1.3608  \n",
       "57            430.2    14.1039          1.3585  \n",
       "58            434.2    13.3972          1.3713  \n",
       "59            441.8    12.0093          1.3693  "
      ]
     },
     "execution_count": 102,
     "metadata": {},
     "output_type": "execute_result"
    }
   ],
   "source": [
    "combined_df.iloc[50:60, :]"
   ]
  },
  {
   "cell_type": "code",
   "execution_count": null,
   "metadata": {},
   "outputs": [],
   "source": []
  }
 ],
 "metadata": {
  "kernelspec": {
   "display_name": "mh4518",
   "language": "python",
   "name": "python3"
  },
  "language_info": {
   "codemirror_mode": {
    "name": "ipython",
    "version": 3
   },
   "file_extension": ".py",
   "mimetype": "text/x-python",
   "name": "python",
   "nbconvert_exporter": "python",
   "pygments_lexer": "ipython3",
   "version": "3.11.10"
  }
 },
 "nbformat": 4,
 "nbformat_minor": 2
}
