{
 "cells": [
  {
   "cell_type": "code",
   "execution_count": null,
   "metadata": {},
   "outputs": [],
   "source": [
    "import numpy as np\n",
    "import pandas as pd\n",
    "import matplotlib.pyplot as plt\n",
    "import seaborn as sns\n",
    "from scipy.optimize import minimize\n",
    "from scipy.stats import norm\n",
    "from tqdm.auto import tqdm\n",
    "\n",
    "import sys\n",
    "sys.path.append('../utils')\n",
    "from utils import *\n",
    "from data_retrieve import *\n",
    "from gbm import *"
   ]
  },
  {
   "cell_type": "code",
   "execution_count": 24,
   "metadata": {},
   "outputs": [
    {
     "name": "stderr",
     "output_type": "stream",
     "text": [
      "100%|██████████| 100/100 [00:02<00:00, 49.62it/s]\n"
     ]
    },
    {
     "name": "stdout",
     "output_type": "stream",
     "text": [
      "1.009727911943209\n"
     ]
    },
    {
     "name": "stderr",
     "output_type": "stream",
     "text": [
      "100%|██████████| 100/100 [00:01<00:00, 59.51it/s]\n"
     ]
    },
    {
     "name": "stdout",
     "output_type": "stream",
     "text": [
      "1.0093396018362275\n"
     ]
    },
    {
     "name": "stderr",
     "output_type": "stream",
     "text": [
      "100%|██████████| 100/100 [00:01<00:00, 59.74it/s]\n"
     ]
    },
    {
     "name": "stdout",
     "output_type": "stream",
     "text": [
      "1.009583707576013\n"
     ]
    },
    {
     "name": "stderr",
     "output_type": "stream",
     "text": [
      "100%|██████████| 100/100 [00:01<00:00, 60.07it/s]\n"
     ]
    },
    {
     "name": "stdout",
     "output_type": "stream",
     "text": [
      "1.009706369666431\n"
     ]
    },
    {
     "name": "stderr",
     "output_type": "stream",
     "text": [
      "100%|██████████| 100/100 [00:01<00:00, 56.62it/s]\n"
     ]
    },
    {
     "name": "stdout",
     "output_type": "stream",
     "text": [
      "1.0095594750784984\n"
     ]
    },
    {
     "name": "stderr",
     "output_type": "stream",
     "text": [
      "100%|██████████| 100/100 [00:01<00:00, 57.78it/s]\n"
     ]
    },
    {
     "name": "stdout",
     "output_type": "stream",
     "text": [
      "1.009376966086521\n"
     ]
    },
    {
     "name": "stderr",
     "output_type": "stream",
     "text": [
      "100%|██████████| 100/100 [00:01<00:00, 60.20it/s]\n"
     ]
    },
    {
     "name": "stdout",
     "output_type": "stream",
     "text": [
      "1.009480812215689\n"
     ]
    },
    {
     "name": "stderr",
     "output_type": "stream",
     "text": [
      "100%|██████████| 100/100 [00:01<00:00, 53.45it/s]\n"
     ]
    },
    {
     "name": "stdout",
     "output_type": "stream",
     "text": [
      "1.0103886405981783\n"
     ]
    },
    {
     "name": "stderr",
     "output_type": "stream",
     "text": [
      "100%|██████████| 100/100 [00:01<00:00, 55.49it/s]\n"
     ]
    },
    {
     "name": "stdout",
     "output_type": "stream",
     "text": [
      "1.0107773710626515\n"
     ]
    },
    {
     "name": "stderr",
     "output_type": "stream",
     "text": [
      "100%|██████████| 100/100 [00:01<00:00, 60.89it/s]\n"
     ]
    },
    {
     "name": "stdout",
     "output_type": "stream",
     "text": [
      "1.0114296992672716\n"
     ]
    },
    {
     "name": "stderr",
     "output_type": "stream",
     "text": [
      "100%|██████████| 10/10 [00:26<00:00,  2.67s/it]\n"
     ]
    }
   ],
   "source": [
    "last_id = 287\n",
    "backtest_start = 55\n",
    "backtest_end = 65\n",
    "\n",
    "prices = []\n",
    "for current_id in tqdm(range(backtest_start, backtest_end)):\n",
    "    payoff = []\n",
    "    result, _, discounts = MultivariateGBMSimulationTS(s0=close.iloc[current_id], n_paths=100, current_id=current_id, window_size=30, implied_volatility=True)\n",
    "    \n",
    "    old_path_rog = combined_df['ROG_Last_Price'].iloc[:current_id]\n",
    "    old_path_cfr = combined_df['CFR_Last_Price'].iloc[:current_id]\n",
    "    old_path_zurn = combined_df['ZURN_Last_Price'].iloc[:current_id]\n",
    "\n",
    "    for i in range(result.shape[1]):\n",
    "        path_rog = np.append(old_path_rog, result[0][i].flatten())\n",
    "        path_cfr = np.append(old_path_cfr, result[1][i].flatten())\n",
    "        path_zurn = np.append(old_path_zurn, result[2][i].flatten())\n",
    "\n",
    "        payoff.append(payoff_func(path_rog, path_cfr, path_zurn, combined_df.iloc[current_id]['Date'], risk_free=discounts, risk_neutral=False, verbose=False))\n",
    "    \n",
    "    prices.append(np.mean(payoff))\n",
    "\n"
   ]
  },
  {
   "cell_type": "code",
   "execution_count": 28,
   "metadata": {},
   "outputs": [
    {
     "data": {
      "text/plain": [
       "[960.548693519771,\n",
       " 948.1680442441345,\n",
       " 1021.4286024592653,\n",
       " 999.9994601817698,\n",
       " 1008.4664410679735,\n",
       " 1028.5115087699696,\n",
       " 1014.644192836532,\n",
       " 1042.222173400832,\n",
       " 1035.2748815035668,\n",
       " 1034.6055879472558]"
      ]
     },
     "execution_count": 28,
     "metadata": {},
     "output_type": "execute_result"
    }
   ],
   "source": [
    "prices"
   ]
  },
  {
   "cell_type": "code",
   "execution_count": 12,
   "metadata": {},
   "outputs": [
    {
     "name": "stderr",
     "output_type": "stream",
     "text": [
      "100%|██████████| 100/100 [00:00<00:00, 161.56it/s]\n",
      "100%|██████████| 100/100 [00:00<00:00, 161.01it/s]\n",
      "100%|██████████| 100/100 [00:00<00:00, 173.11it/s]\n",
      "100%|██████████| 100/100 [00:00<00:00, 185.29it/s]\n",
      "100%|██████████| 100/100 [00:00<00:00, 184.50it/s]\n",
      "100%|██████████| 100/100 [00:00<00:00, 190.11it/s]\n",
      "100%|██████████| 100/100 [00:00<00:00, 169.19it/s]\n",
      "100%|██████████| 100/100 [00:00<00:00, 156.75it/s]\n",
      "100%|██████████| 100/100 [00:00<00:00, 186.71it/s]\n",
      "100%|██████████| 100/100 [00:00<00:00, 186.61it/s]\n",
      "100%|██████████| 10/10 [00:09<00:00,  1.11it/s]\n"
     ]
    }
   ],
   "source": [
    "last_id = 287\n",
    "backtest_start = 187\n",
    "backtest_end = 197\n",
    "\n",
    "prices = []\n",
    "for current_id in tqdm(range(backtest_start, backtest_end)):\n",
    "    payoff = []\n",
    "    result, _ = MultivariateGBMSimulationEMS(s0=close.iloc[current_id], n_paths=100, current_id=current_id, window_size=60, implied_volatility=False)\n",
    "    \n",
    "    old_path_rog = combined_df['ROG_Last_Price'].iloc[:current_id]\n",
    "    old_path_cfr = combined_df['CFR_Last_Price'].iloc[:current_id]\n",
    "    old_path_zurn = combined_df['ZURN_Last_Price'].iloc[:current_id]\n",
    "\n",
    "    for i in range(result.shape[1]):\n",
    "        path_rog = np.append(old_path_rog, result[0][i].flatten())\n",
    "        path_cfr = np.append(old_path_cfr, result[1][i].flatten())\n",
    "        path_zurn = np.append(old_path_zurn, result[2][i].flatten())\n",
    "\n",
    "        payoff.append(payoff_func(path_rog, path_cfr, path_zurn, combined_df.iloc[current_id]['Date'], risk_free=0.01107, risk_neutral=True, verbose=False))\n",
    "    \n",
    "    prices.append(np.mean(payoff))\n",
    "\n"
   ]
  },
  {
   "cell_type": "code",
   "execution_count": 13,
   "metadata": {},
   "outputs": [
    {
     "data": {
      "text/plain": [
       "[1030.5131853683367,\n",
       " 1030.5584553347237,\n",
       " 1030.603727289799,\n",
       " 1030.6490012336503,\n",
       " 1030.6942771663648,\n",
       " 1030.7848349987341,\n",
       " 1030.8301168985631,\n",
       " 1026.6057890578795,\n",
       " 1030.9206866659474,\n",
       " 1030.9659745336774]"
      ]
     },
     "execution_count": 13,
     "metadata": {},
     "output_type": "execute_result"
    }
   ],
   "source": [
    "prices"
   ]
  },
  {
   "cell_type": "code",
   "execution_count": 5,
   "metadata": {},
   "outputs": [
    {
     "data": {
      "text/plain": [
       "[1026.6123738323108,\n",
       " 1030.5584553347237,\n",
       " 1030.603727289799,\n",
       " 1030.6490012336503,\n",
       " 1030.6942771663648,\n",
       " 1030.7848349987341,\n",
       " 1030.8301168985631,\n",
       " 1026.628893505392,\n",
       " 1030.9206866659474,\n",
       " 1030.9659745336774]"
      ]
     },
     "execution_count": 5,
     "metadata": {},
     "output_type": "execute_result"
    }
   ],
   "source": [
    "prices"
   ]
  },
  {
   "cell_type": "code",
   "execution_count": null,
   "metadata": {},
   "outputs": [],
   "source": [
    "last_id = 287\n",
    "backtest_start = 187\n",
    "backtest_end = 197\n",
    "\n",
    "combined_df = retrieve_data()\n",
    "\n",
    "evaluation_plot(\n",
    "    backtest_start,\n",
    "    backtest_end,\n",
    "    combined_df,\n",
    "    prices\n",
    "    )"
   ]
  },
  {
   "cell_type": "code",
   "execution_count": 35,
   "metadata": {},
   "outputs": [
    {
     "data": {
      "text/html": [
       "<div>\n",
       "<style scoped>\n",
       "    .dataframe tbody tr th:only-of-type {\n",
       "        vertical-align: middle;\n",
       "    }\n",
       "\n",
       "    .dataframe tbody tr th {\n",
       "        vertical-align: top;\n",
       "    }\n",
       "\n",
       "    .dataframe thead th {\n",
       "        text-align: right;\n",
       "    }\n",
       "</style>\n",
       "<table border=\"1\" class=\"dataframe\">\n",
       "  <thead>\n",
       "    <tr style=\"text-align: right;\">\n",
       "      <th></th>\n",
       "      <th>Date</th>\n",
       "      <th>ROG_Last_Price</th>\n",
       "      <th>ROG_IVOL</th>\n",
       "      <th>CFR_Last_Price</th>\n",
       "      <th>CFR_IVOL</th>\n",
       "      <th>ZURN_Last_Price</th>\n",
       "      <th>ZURN_IVOL</th>\n",
       "      <th>Risk_Free_Rate</th>\n",
       "    </tr>\n",
       "  </thead>\n",
       "  <tbody>\n",
       "    <tr>\n",
       "      <th>55</th>\n",
       "      <td>2024-01-16</td>\n",
       "      <td>250.10</td>\n",
       "      <td>17.1424</td>\n",
       "      <td>108.00</td>\n",
       "      <td>27.7113</td>\n",
       "      <td>442.4</td>\n",
       "      <td>13.1857</td>\n",
       "      <td>1.3382</td>\n",
       "    </tr>\n",
       "    <tr>\n",
       "      <th>56</th>\n",
       "      <td>2024-01-17</td>\n",
       "      <td>247.25</td>\n",
       "      <td>17.2372</td>\n",
       "      <td>105.40</td>\n",
       "      <td>28.9632</td>\n",
       "      <td>434.3</td>\n",
       "      <td>13.7452</td>\n",
       "      <td>1.3608</td>\n",
       "    </tr>\n",
       "    <tr>\n",
       "      <th>57</th>\n",
       "      <td>2024-01-18</td>\n",
       "      <td>245.95</td>\n",
       "      <td>17.2125</td>\n",
       "      <td>116.35</td>\n",
       "      <td>26.0605</td>\n",
       "      <td>430.2</td>\n",
       "      <td>14.1039</td>\n",
       "      <td>1.3585</td>\n",
       "    </tr>\n",
       "    <tr>\n",
       "      <th>58</th>\n",
       "      <td>2024-01-19</td>\n",
       "      <td>244.10</td>\n",
       "      <td>16.8093</td>\n",
       "      <td>116.40</td>\n",
       "      <td>27.2070</td>\n",
       "      <td>434.2</td>\n",
       "      <td>13.3972</td>\n",
       "      <td>1.3713</td>\n",
       "    </tr>\n",
       "    <tr>\n",
       "      <th>59</th>\n",
       "      <td>2024-01-22</td>\n",
       "      <td>247.80</td>\n",
       "      <td>16.9903</td>\n",
       "      <td>117.65</td>\n",
       "      <td>24.8685</td>\n",
       "      <td>441.8</td>\n",
       "      <td>12.0093</td>\n",
       "      <td>1.3693</td>\n",
       "    </tr>\n",
       "    <tr>\n",
       "      <th>60</th>\n",
       "      <td>2024-01-23</td>\n",
       "      <td>243.75</td>\n",
       "      <td>16.6065</td>\n",
       "      <td>119.65</td>\n",
       "      <td>25.8150</td>\n",
       "      <td>438.9</td>\n",
       "      <td>12.1057</td>\n",
       "      <td>1.3717</td>\n",
       "    </tr>\n",
       "    <tr>\n",
       "      <th>61</th>\n",
       "      <td>2024-01-24</td>\n",
       "      <td>245.15</td>\n",
       "      <td>16.9345</td>\n",
       "      <td>121.40</td>\n",
       "      <td>25.5687</td>\n",
       "      <td>441.4</td>\n",
       "      <td>11.9808</td>\n",
       "      <td>1.3685</td>\n",
       "    </tr>\n",
       "    <tr>\n",
       "      <th>62</th>\n",
       "      <td>2024-01-25</td>\n",
       "      <td>242.00</td>\n",
       "      <td>17.1325</td>\n",
       "      <td>121.00</td>\n",
       "      <td>25.2226</td>\n",
       "      <td>441.8</td>\n",
       "      <td>12.0888</td>\n",
       "      <td>1.3453</td>\n",
       "    </tr>\n",
       "    <tr>\n",
       "      <th>63</th>\n",
       "      <td>2024-01-26</td>\n",
       "      <td>247.45</td>\n",
       "      <td>18.6470</td>\n",
       "      <td>128.50</td>\n",
       "      <td>25.1589</td>\n",
       "      <td>442.7</td>\n",
       "      <td>12.7280</td>\n",
       "      <td>1.3430</td>\n",
       "    </tr>\n",
       "    <tr>\n",
       "      <th>64</th>\n",
       "      <td>2024-01-29</td>\n",
       "      <td>246.75</td>\n",
       "      <td>17.9734</td>\n",
       "      <td>128.75</td>\n",
       "      <td>25.5351</td>\n",
       "      <td>444.0</td>\n",
       "      <td>13.1963</td>\n",
       "      <td>1.3229</td>\n",
       "    </tr>\n",
       "  </tbody>\n",
       "</table>\n",
       "</div>"
      ],
      "text/plain": [
       "         Date  ROG_Last_Price  ROG_IVOL  CFR_Last_Price  CFR_IVOL  \\\n",
       "55 2024-01-16          250.10   17.1424          108.00   27.7113   \n",
       "56 2024-01-17          247.25   17.2372          105.40   28.9632   \n",
       "57 2024-01-18          245.95   17.2125          116.35   26.0605   \n",
       "58 2024-01-19          244.10   16.8093          116.40   27.2070   \n",
       "59 2024-01-22          247.80   16.9903          117.65   24.8685   \n",
       "60 2024-01-23          243.75   16.6065          119.65   25.8150   \n",
       "61 2024-01-24          245.15   16.9345          121.40   25.5687   \n",
       "62 2024-01-25          242.00   17.1325          121.00   25.2226   \n",
       "63 2024-01-26          247.45   18.6470          128.50   25.1589   \n",
       "64 2024-01-29          246.75   17.9734          128.75   25.5351   \n",
       "\n",
       "    ZURN_Last_Price  ZURN_IVOL  Risk_Free_Rate  \n",
       "55            442.4    13.1857          1.3382  \n",
       "56            434.3    13.7452          1.3608  \n",
       "57            430.2    14.1039          1.3585  \n",
       "58            434.2    13.3972          1.3713  \n",
       "59            441.8    12.0093          1.3693  \n",
       "60            438.9    12.1057          1.3717  \n",
       "61            441.4    11.9808          1.3685  \n",
       "62            441.8    12.0888          1.3453  \n",
       "63            442.7    12.7280          1.3430  \n",
       "64            444.0    13.1963          1.3229  "
      ]
     },
     "execution_count": 35,
     "metadata": {},
     "output_type": "execute_result"
    }
   ],
   "source": [
    "combined_df.iloc[55:65, :]"
   ]
  },
  {
   "cell_type": "code",
   "execution_count": null,
   "metadata": {},
   "outputs": [],
   "source": []
  }
 ],
 "metadata": {
  "kernelspec": {
   "display_name": "Python 3",
   "language": "python",
   "name": "python3"
  },
  "language_info": {
   "codemirror_mode": {
    "name": "ipython",
    "version": 3
   },
   "file_extension": ".py",
   "mimetype": "text/x-python",
   "name": "python",
   "nbconvert_exporter": "python",
   "pygments_lexer": "ipython3",
   "version": "3.11.9"
  }
 },
 "nbformat": 4,
 "nbformat_minor": 2
}
