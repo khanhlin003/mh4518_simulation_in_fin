{
 "cells": [
  {
   "cell_type": "code",
   "execution_count": 1,
   "metadata": {},
   "outputs": [],
   "source": [
    "%load_ext autoreload\n",
    "%autoreload 2"
   ]
  },
  {
   "cell_type": "code",
   "execution_count": 1,
   "metadata": {},
   "outputs": [
    {
     "name": "stderr",
     "output_type": "stream",
     "text": [
      "C:\\Users\\ASUS\\AppData\\Local\\Packages\\PythonSoftwareFoundation.Python.3.11_qbz5n2kfra8p0\\LocalCache\\local-packages\\Python311\\site-packages\\tqdm\\auto.py:21: TqdmWarning: IProgress not found. Please update jupyter and ipywidgets. See https://ipywidgets.readthedocs.io/en/stable/user_install.html\n",
      "  from .autonotebook import tqdm as notebook_tqdm\n"
     ]
    }
   ],
   "source": [
    "import numpy as np\n",
    "import pandas as pd\n",
    "import matplotlib.pyplot as plt\n",
    "import seaborn as sns\n",
    "from scipy.optimize import minimize\n",
    "from scipy.stats import norm\n",
    "from tqdm.auto import tqdm\n",
    "\n",
    "import sys\n",
    "\n",
    "sys.path.append(\"../utils\")\n",
    "from utils import *\n",
    "from data_retrieve import *\n",
    "from gbm import *"
   ]
  },
  {
   "cell_type": "code",
   "execution_count": null,
   "metadata": {},
   "outputs": [],
   "source": [
    "last_id = 287\n",
    "backtest_start = 187\n",
    "backtest_end = 252"
   ]
  },
  {
   "cell_type": "code",
   "execution_count": 4,
   "metadata": {},
   "outputs": [
    {
     "name": "stderr",
     "output_type": "stream",
     "text": [
      "100%|██████████| 100/100 [00:00<00:00, 2037.32it/s]\n",
      "100%|██████████| 99/99 [00:00<00:00, 15515.30it/s]\n",
      "100%|██████████| 98/98 [00:00<00:00, 11849.00it/s]\n",
      "100%|██████████| 97/97 [00:00<?, ?it/s]\n",
      "100%|██████████| 96/96 [00:00<00:00, 9719.11it/s]\n",
      "100%|██████████| 95/95 [00:00<00:00, 11838.46it/s]\n",
      "100%|██████████| 94/94 [00:00<?, ?it/s]33it/s]\n",
      "100%|██████████| 93/93 [00:00<?, ?it/s]\n",
      "100%|██████████| 92/92 [00:00<?, ?it/s]\n",
      "100%|██████████| 91/91 [00:00<00:00, 5783.41it/s]\n",
      "100%|██████████| 10/10 [00:00<00:00, 30.82it/s]\n"
     ]
    }
   ],
   "source": [
    "prices = []\n",
    "prices_var = []\n",
    "for current_id in tqdm(range(backtest_start, backtest_end)):\n",
    "    payoff = []\n",
    "    result, _, discounts = MultivariateGBMSimulationTS(\n",
    "        s0=close.iloc[current_id],\n",
    "        n_paths=100,\n",
    "        current_id=current_id,\n",
    "        window_size=30,\n",
    "        implied_volatility=True,\n",
    "    )\n",
    "\n",
    "    old_path_rog = combined_df[\"ROG_Last_Price\"].iloc[:current_id]\n",
    "    old_path_cfr = combined_df[\"CFR_Last_Price\"].iloc[:current_id]\n",
    "    old_path_zurn = combined_df[\"ZURN_Last_Price\"].iloc[:current_id]\n",
    "\n",
    "    path_rog = []\n",
    "    path_cfr = []\n",
    "    path_zurn = []\n",
    "    for i in range(result.shape[-2]):\n",
    "        path_rog.append(np.append(old_path_rog, result[0][i].flatten()))\n",
    "        path_cfr.append(np.append(old_path_cfr, result[1][i].flatten()))\n",
    "        path_zurn.append(np.append(old_path_zurn, result[2][i].flatten()))\n",
    "\n",
    "    payoff = payoff_func_parallel(\n",
    "        path_rog,\n",
    "        path_cfr,\n",
    "        path_zurn,\n",
    "        combined_df.iloc[current_id][\"Date\"],\n",
    "        risk_free=discounts,\n",
    "        risk_neutral=False,\n",
    "        verbose=False,\n",
    "    )\n",
    "    # print(path_rog)\n",
    "    # print(result[0][0].flatten())\n",
    "\n",
    "    prices.append(np.mean(payoff))\n",
    "    prices_var.append(np.var(payoff))"
   ]
  },
  {
   "cell_type": "code",
   "execution_count": 13,
   "metadata": {},
   "outputs": [
    {
     "data": {
      "text/plain": [
       "[0.0,\n",
       " 0.0,\n",
       " 0.0,\n",
       " 1.1632227364026952e-25,\n",
       " 5.169878828456423e-26,\n",
       " 0.0,\n",
       " 5.169878828456423e-26,\n",
       " 2.0679515313825692e-25,\n",
       " 5.169878828456423e-26,\n",
       " 1.1632227364026952e-25,\n",
       " 1.1632227364026952e-25,\n",
       " 2.0679515313825692e-25,\n",
       " 5.169878828456423e-26,\n",
       " 1.1632227364026952e-25,\n",
       " 1.1632227364026952e-25,\n",
       " 5.169878828456423e-26,\n",
       " 0.0,\n",
       " 5.169878828456423e-26,\n",
       " 5.169878828456423e-26,\n",
       " 1.1632227364026952e-25,\n",
       " 1.2924697071141057e-26,\n",
       " 1.2924697071141057e-26,\n",
       " 5.169878828456423e-26,\n",
       " 0.0,\n",
       " 5.169878828456423e-26,\n",
       " 1.2924697071141057e-26,\n",
       " 1.2924697071141057e-26,\n",
       " 1.2924697071141057e-26,\n",
       " 1.2924697071141057e-26,\n",
       " 1.1632227364026952e-25,\n",
       " 1.2924697071141057e-26,\n",
       " 1.2924697071141057e-26,\n",
       " 1.1632227364026952e-25,\n",
       " 5.169878828456423e-26,\n",
       " 3.2311742677852644e-25,\n",
       " 0.0,\n",
       " 1.2924697071141057e-26,\n",
       " 1.1632227364026952e-25,\n",
       " 1.2924697071141057e-26,\n",
       " 1.1632227364026952e-25,\n",
       " 1.2924697071141057e-26,\n",
       " 1.1632227364026952e-25,\n",
       " 1.1632227364026952e-25,\n",
       " 1.2924697071141057e-26,\n",
       " 1.2924697071141057e-26,\n",
       " 1.2924697071141057e-26,\n",
       " 5.169878828456423e-26,\n",
       " 1.2924697071141057e-26,\n",
       " 5.169878828456423e-26,\n",
       " 0.0,\n",
       " 1.2924697071141057e-26,\n",
       " 1.1632227364026952e-25,\n",
       " 1.1632227364026952e-25,\n",
       " 1.1632227364026952e-25,\n",
       " 1.2924697071141057e-26,\n",
       " 1.1632227364026952e-25,\n",
       " 0.0,\n",
       " 0.0,\n",
       " 1.1632227364026952e-25,\n",
       " 0.0,\n",
       " 2.0679515313825692e-25,\n",
       " 2.0679515313825692e-25,\n",
       " 0.0,\n",
       " 5.169878828456423e-26,\n",
       " 1.2924697071141057e-26]"
      ]
     },
     "execution_count": 13,
     "metadata": {},
     "output_type": "execute_result"
    }
   ],
   "source": [
    "prices_var"
   ]
  },
  {
   "cell_type": "code",
   "execution_count": 6,
   "metadata": {},
   "outputs": [
    {
     "data": {
      "text/plain": [
       "[[1001.0694237124229,\n",
       "  1000.9809650181201,\n",
       "  1001.0348354818934,\n",
       "  1000.5500200538225,\n",
       "  1000.4405811554927,\n",
       "  999.4565640693925,\n",
       "  998.973015055341,\n",
       "  998.7085853979021,\n",
       "  999.4939263987147,\n",
       "  999.1545682964555]]"
      ]
     },
     "execution_count": 6,
     "metadata": {},
     "output_type": "execute_result"
    }
   ],
   "source": [
    "price_1 = [prices.copy()]\n",
    "var_1 = [prices_var.copy()]\n",
    "price_1"
   ]
  },
  {
   "cell_type": "code",
   "execution_count": null,
   "metadata": {},
   "outputs": [],
   "source": [
    "prices = []\n",
    "prices_var = []\n",
    "for current_id in tqdm(range(backtest_start, backtest_end)):\n",
    "    payoff = []\n",
    "    result, _ = MultivariateGBMSimulationAV(\n",
    "        s0=close.iloc[current_id],\n",
    "        n_paths=100,\n",
    "        current_id=current_id,\n",
    "        window_size=30,\n",
    "        implied_volatility=True,\n",
    "    )\n",
    "\n",
    "    old_path_rog = combined_df[\"ROG_Last_Price\"].iloc[:current_id]\n",
    "    old_path_cfr = combined_df[\"CFR_Last_Price\"].iloc[:current_id]\n",
    "    old_path_zurn = combined_df[\"ZURN_Last_Price\"].iloc[:current_id]\n",
    "    path_rog = []\n",
    "    path_cfr = []\n",
    "    path_zurn = []\n",
    "    for i in range(result.shape[-2]):\n",
    "        path_rog.append(np.append(old_path_rog, result[0][i].flatten()))\n",
    "        path_cfr.append(np.append(old_path_cfr, result[1][i].flatten()))\n",
    "        path_zurn.append(np.append(old_path_zurn, result[2][i].flatten()))\n",
    "\n",
    "    payoff = payoff_func_parallel(\n",
    "        path_rog,\n",
    "        path_cfr,\n",
    "        path_zurn,\n",
    "        combined_df.iloc[current_id][\"Date\"],\n",
    "        risk_free=0.01107,\n",
    "        risk_neutral=True,\n",
    "        verbose=False,\n",
    "    )\n",
    "    # print(path_rog)\n",
    "    # print(result[0][0].flatten())\n",
    "\n",
    "    prices_var.append(np.var(payoff))\n",
    "    prices.append(np.mean(payoff))"
   ]
  },
  {
   "cell_type": "code",
   "execution_count": null,
   "metadata": {},
   "outputs": [],
   "source": [
    "price_1.append(prices.copy())\n",
    "var_1.append(prices_var.copy())"
   ]
  },
  {
   "cell_type": "code",
   "execution_count": null,
   "metadata": {},
   "outputs": [],
   "source": [
    "prices = []\n",
    "prices_var = []\n",
    "for current_id in tqdm(range(backtest_start, backtest_end)):\n",
    "    payoff = []\n",
    "    (\n",
    "        result,\n",
    "        _,\n",
    "    ) = MultivariateGBMSimulation(\n",
    "        s0=close.iloc[current_id],\n",
    "        n_paths=100,\n",
    "        current_id=current_id,\n",
    "        window_size=30,\n",
    "        implied_volatility=False,\n",
    "    )\n",
    "\n",
    "    old_path_rog = combined_df[\"ROG_Last_Price\"].iloc[:current_id]\n",
    "    old_path_cfr = combined_df[\"CFR_Last_Price\"].iloc[:current_id]\n",
    "    old_path_zurn = combined_df[\"ZURN_Last_Price\"].iloc[:current_id]\n",
    "\n",
    "    path_rog = []\n",
    "    path_cfr = []\n",
    "    path_zurn = []\n",
    "    for i in range(result.shape[-2]):\n",
    "        path_rog.append(np.append(old_path_rog, result[0][i].flatten()))\n",
    "        path_cfr.append(np.append(old_path_cfr, result[1][i].flatten()))\n",
    "        path_zurn.append(np.append(old_path_zurn, result[2][i].flatten()))\n",
    "\n",
    "    payoff = payoff_func_parallel(\n",
    "        path_rog,\n",
    "        path_cfr,\n",
    "        path_zurn,\n",
    "        combined_df.iloc[current_id][\"Date\"],\n",
    "        risk_free=0.01107,\n",
    "        risk_neutral=True,\n",
    "        verbose=False,\n",
    "    )\n",
    "    # print(path_rog)\n",
    "    # print(result[0][0].flatten())\n",
    "\n",
    "    prices.append(np.mean(payoff))\n",
    "    prices_var.append(np.var(payoff))"
   ]
  },
  {
   "cell_type": "code",
   "execution_count": 28,
   "metadata": {},
   "outputs": [],
   "source": [
    "price_1.append(prices.copy())\n",
    "var_1.append(prices_var.copy())"
   ]
  },
  {
   "cell_type": "code",
   "execution_count": 29,
   "metadata": {},
   "outputs": [
    {
     "data": {
      "text/plain": [
       "array([6.20385459e-26, 5.42837277e-26, 2.10836648e+01])"
      ]
     },
     "execution_count": 29,
     "metadata": {},
     "output_type": "execute_result"
    }
   ],
   "source": [
    "np.mean(var_1, axis=1)"
   ]
  },
  {
   "cell_type": "code",
   "execution_count": 32,
   "metadata": {},
   "outputs": [
    {
     "data": {
      "text/plain": [
       "1.0"
      ]
     },
     "execution_count": 32,
     "metadata": {},
     "output_type": "execute_result"
    }
   ],
   "source": [
    "(21 - 6e-26) / 21"
   ]
  },
  {
   "cell_type": "code",
   "execution_count": 7,
   "metadata": {},
   "outputs": [
    {
     "name": "stderr",
     "output_type": "stream",
     "text": [
      "d:\\mh4518_simulation_in_fin\\notebooks\\../utils\\utils.py:241: UserWarning: Could not infer format, so each element will be parsed individually, falling back to `dateutil`. To ensure parsing is consistent and as-expected, please specify a format.\n",
      "  real_price['Date'] = pd.to_datetime(real_price['Date'], dayfirst=True)\n"
     ]
    },
    {
     "name": "stdout",
     "output_type": "stream",
     "text": [
      "133.7258898511904\n"
     ]
    },
    {
     "data": {
      "image/png": "[encoded data removed]",
      "text/plain": [
       "<Figure size 1600x400 with 1 Axes>"
      ]
     },
     "metadata": {},
     "output_type": "display_data"
    }
   ],
   "source": [
    "combined_df = retrieve_data()\n",
    "\n",
    "evaluation_plot(backtest_start, backtest_end, combined_df, price_1, ylim=(900, 1100))"
   ]
  },
  {
   "cell_type": "code",
   "execution_count": 26,
   "metadata": {},
   "outputs": [
    {
     "data": {
      "text/plain": [
       "(6.203854594147707e-26, 5.428372769879244e-26)"
      ]
     },
     "execution_count": 26,
     "metadata": {},
     "output_type": "execute_result"
    }
   ],
   "source": [
    "np.mean(var_1[0]), np.mean(var_1[1])"
   ]
  },
  {
   "cell_type": "code",
   "execution_count": null,
   "metadata": {},
   "outputs": [],
   "source": []
  }
 ],
 "metadata": {
  "kernelspec": {
   "display_name": "Python 3",
   "language": "python",
   "name": "python3"
  },
  "language_info": {
   "codemirror_mode": {
    "name": "ipython",
    "version": 3
   },
   "file_extension": ".py",
   "mimetype": "text/x-python",
   "name": "python",
   "nbconvert_exporter": "python",
   "pygments_lexer": "ipython3",
   "version": "3.11.9"
  }
 },
 "nbformat": 4,
 "nbformat_minor": 2
}
