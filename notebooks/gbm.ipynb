{
 "cells": [
  {
   "cell_type": "code",
   "execution_count": null,
   "metadata": {},
   "outputs": [],
   "source": [
    "import numpy as np\n",
    "import pandas as pd\n",
    "import matplotlib.pyplot as plt\n",
    "import seaborn as sns\n",
    "from scipy.optimize import minimize\n",
    "from scipy.stats import norm\n",
    "from tqdm.auto import tqdm\n",
    "\n",
    "import sys\n",
    "sys.path.append('../utils')\n",
    "from utils import *\n",
    "from data_retrieve import *\n",
    "from gbm import *"
   ]
  },
  {
   "cell_type": "code",
   "execution_count": null,
   "metadata": {},
   "outputs": [
    {
     "name": "stderr",
     "output_type": "stream",
     "text": [
      "100%|██████████| 100/100 [00:01<00:00, 53.18it/s]\n"
     ]
    },
    {
     "name": "stdout",
     "output_type": "stream",
     "text": [
      "1.0075713743984938\n"
     ]
    },
    {
     "name": "stderr",
     "output_type": "stream",
     "text": [
      "100%|██████████| 100/100 [00:02<00:00, 47.55it/s]\n"
     ]
    },
    {
     "name": "stdout",
     "output_type": "stream",
     "text": [
      "1.0075846487465134\n"
     ]
    },
    {
     "name": "stderr",
     "output_type": "stream",
     "text": [
      "100%|██████████| 100/100 [00:01<00:00, 56.82it/s]\n"
     ]
    },
    {
     "name": "stdout",
     "output_type": "stream",
     "text": [
      "1.0083738021515356\n"
     ]
    },
    {
     "name": "stderr",
     "output_type": "stream",
     "text": [
      "100%|██████████| 100/100 [00:01<00:00, 52.29it/s]\n"
     ]
    },
    {
     "name": "stdout",
     "output_type": "stream",
     "text": [
      "1.0095500326228624\n"
     ]
    },
    {
     "name": "stderr",
     "output_type": "stream",
     "text": [
      "100%|██████████| 100/100 [00:01<00:00, 53.64it/s]\n"
     ]
    },
    {
     "name": "stdout",
     "output_type": "stream",
     "text": [
      "1.0095760733498125\n"
     ]
    },
    {
     "name": "stderr",
     "output_type": "stream",
     "text": [
      "100%|██████████| 100/100 [00:01<00:00, 56.96it/s]\n"
     ]
    },
    {
     "name": "stdout",
     "output_type": "stream",
     "text": [
      "1.009727911943209\n"
     ]
    },
    {
     "name": "stderr",
     "output_type": "stream",
     "text": [
      "100%|██████████| 100/100 [00:02<00:00, 44.53it/s]\n"
     ]
    },
    {
     "name": "stdout",
     "output_type": "stream",
     "text": [
      "1.0093396018362275\n"
     ]
    },
    {
     "name": "stderr",
     "output_type": "stream",
     "text": [
      "100%|██████████| 100/100 [00:01<00:00, 52.64it/s]\n"
     ]
    },
    {
     "name": "stdout",
     "output_type": "stream",
     "text": [
      "1.009583707576013\n"
     ]
    },
    {
     "name": "stderr",
     "output_type": "stream",
     "text": [
      "100%|██████████| 100/100 [00:02<00:00, 48.83it/s]\n"
     ]
    },
    {
     "name": "stdout",
     "output_type": "stream",
     "text": [
      "1.009706369666431\n"
     ]
    },
    {
     "name": "stderr",
     "output_type": "stream",
     "text": [
      "100%|██████████| 100/100 [00:01<00:00, 51.73it/s]\n"
     ]
    },
    {
     "name": "stdout",
     "output_type": "stream",
     "text": [
      "1.0095594750784984\n"
     ]
    },
    {
     "name": "stderr",
     "output_type": "stream",
     "text": [
      "100%|██████████| 100/100 [00:02<00:00, 47.32it/s]\n"
     ]
    },
    {
     "name": "stdout",
     "output_type": "stream",
     "text": [
      "1.009376966086521\n"
     ]
    },
    {
     "name": "stderr",
     "output_type": "stream",
     "text": [
      "100%|██████████| 100/100 [00:01<00:00, 53.92it/s]\n"
     ]
    },
    {
     "name": "stdout",
     "output_type": "stream",
     "text": [
      "1.009480812215689\n"
     ]
    },
    {
     "name": "stderr",
     "output_type": "stream",
     "text": [
      "100%|██████████| 100/100 [00:02<00:00, 49.70it/s]\n"
     ]
    },
    {
     "name": "stdout",
     "output_type": "stream",
     "text": [
      "1.0103886405981783\n"
     ]
    },
    {
     "name": "stderr",
     "output_type": "stream",
     "text": [
      "100%|██████████| 100/100 [00:01<00:00, 59.87it/s]\n"
     ]
    },
    {
     "name": "stdout",
     "output_type": "stream",
     "text": [
      "1.0107773710626515\n"
     ]
    },
    {
     "name": "stderr",
     "output_type": "stream",
     "text": [
      "100%|██████████| 100/100 [00:02<00:00, 49.05it/s]\n"
     ]
    },
    {
     "name": "stdout",
     "output_type": "stream",
     "text": [
      "1.0114296992672716\n"
     ]
    },
    {
     "name": "stderr",
     "output_type": "stream",
     "text": [
      "100%|██████████| 100/100 [00:01<00:00, 55.13it/s]\n"
     ]
    },
    {
     "name": "stdout",
     "output_type": "stream",
     "text": [
      "1.011245755418285\n"
     ]
    },
    {
     "name": "stderr",
     "output_type": "stream",
     "text": [
      "100%|██████████| 100/100 [00:01<00:00, 60.92it/s]\n"
     ]
    },
    {
     "name": "stdout",
     "output_type": "stream",
     "text": [
      "1.0118178057596006\n"
     ]
    },
    {
     "name": "stderr",
     "output_type": "stream",
     "text": [
      "100%|██████████| 100/100 [00:01<00:00, 64.13it/s]\n"
     ]
    },
    {
     "name": "stdout",
     "output_type": "stream",
     "text": [
      "1.0120060627523315\n"
     ]
    },
    {
     "name": "stderr",
     "output_type": "stream",
     "text": [
      "100%|██████████| 100/100 [00:01<00:00, 61.38it/s]\n"
     ]
    },
    {
     "name": "stdout",
     "output_type": "stream",
     "text": [
      "1.0116270363407762\n"
     ]
    },
    {
     "name": "stderr",
     "output_type": "stream",
     "text": [
      "100%|██████████| 100/100 [00:01<00:00, 52.65it/s]\n"
     ]
    },
    {
     "name": "stdout",
     "output_type": "stream",
     "text": [
      "1.0107941783340162\n"
     ]
    },
    {
     "name": "stderr",
     "output_type": "stream",
     "text": [
      "100%|██████████| 20/20 [00:57<00:00,  2.88s/it]\n"
     ]
    }
   ],
   "source": [
    "last_id = 287\n",
    "backtest_start = 55\n",
    "backtest_end = 60\n",
    "\n",
    "prices = []\n",
    "for current_id in tqdm(range(backtest_start, backtest_end)):\n",
    "    payoff = []\n",
    "    result, _, discounts = MultivariateGBMSimulationTS(s0=close.iloc[current_id], n_paths=100, current_id=current_id, window_size=30, implied_volatility=True)\n",
    "    \n",
    "    old_path_rog = combined_df['ROG_Last_Price'].iloc[:current_id]\n",
    "    old_path_cfr = combined_df['CFR_Last_Price'].iloc[:current_id]\n",
    "    old_path_zurn = combined_df['ZURN_Last_Price'].iloc[:current_id]\n",
    "\n",
    "    for i in range(result.shape[1]):\n",
    "        path_rog = np.append(old_path_rog, result[0][i].flatten())\n",
    "        path_cfr = np.append(old_path_cfr, result[1][i].flatten())\n",
    "        path_zurn = np.append(old_path_zurn, result[2][i].flatten())\n",
    "\n",
    "        payoff.append(payoff_func(path_rog, path_cfr, path_zurn, combined_df.iloc[current_id]['Date'], risk_free=discounts, risk_neutral=False, verbose=False))\n",
    "    \n",
    "    prices.append(np.mean(payoff))\n",
    "\n"
   ]
  },
  {
   "cell_type": "code",
   "execution_count": 8,
   "metadata": {},
   "outputs": [
    {
     "data": {
      "text/plain": [
       "[[976.590191819296,\n",
       "  1011.7671355933805,\n",
       "  991.9258421702002,\n",
       "  993.313890009779,\n",
       "  996.2728665155544,\n",
       "  960.548693519771,\n",
       "  948.1680442441345,\n",
       "  1021.4286024592653,\n",
       "  999.9994601817698,\n",
       "  1008.4664410679735,\n",
       "  1028.5115087699696,\n",
       "  1014.644192836532,\n",
       "  1042.222173400832,\n",
       "  1035.2748815035668,\n",
       "  1034.6055879472558,\n",
       "  1043.8317078406963,\n",
       "  1030.4726849533242,\n",
       "  1023.9665663434663,\n",
       "  1048.379612851632,\n",
       "  1031.1239715576698]]"
      ]
     },
     "execution_count": 8,
     "metadata": {},
     "output_type": "execute_result"
    }
   ],
   "source": [
    "price_1 = [prices.copy()]\n",
    "price_1"
   ]
  },
  {
   "cell_type": "code",
   "execution_count": 9,
   "metadata": {},
   "outputs": [
    {
     "name": "stderr",
     "output_type": "stream",
     "text": [
      "100%|██████████| 50/50 [00:01<00:00, 34.17it/s]\n",
      "100%|██████████| 50/50 [00:01<00:00, 38.22it/s]\n",
      "100%|██████████| 50/50 [00:01<00:00, 39.24it/s]\n",
      "100%|██████████| 50/50 [00:01<00:00, 38.23it/s]\n",
      "100%|██████████| 50/50 [00:01<00:00, 39.95it/s]\n",
      "100%|██████████| 50/50 [00:01<00:00, 39.98it/s]\n",
      "100%|██████████| 50/50 [00:01<00:00, 39.79it/s]\n",
      "100%|██████████| 50/50 [00:01<00:00, 41.95it/s]\n",
      "100%|██████████| 50/50 [00:01<00:00, 41.91it/s]\n",
      "100%|██████████| 50/50 [00:01<00:00, 41.11it/s]\n",
      "100%|██████████| 50/50 [00:01<00:00, 42.92it/s]\n",
      "100%|██████████| 50/50 [00:01<00:00, 41.81it/s]\n",
      "100%|██████████| 50/50 [00:01<00:00, 42.35it/s]\n",
      "100%|██████████| 50/50 [00:01<00:00, 41.83it/s]\n",
      "100%|██████████| 50/50 [00:01<00:00, 43.27it/s]\n",
      "100%|██████████| 50/50 [00:01<00:00, 35.12it/s]\n",
      "100%|██████████| 50/50 [00:01<00:00, 37.81it/s]\n",
      "100%|██████████| 50/50 [00:01<00:00, 42.38it/s]\n",
      "100%|██████████| 50/50 [00:01<00:00, 45.47it/s]\n",
      "100%|██████████| 50/50 [00:01<00:00, 42.95it/s]\n",
      "100%|██████████| 20/20 [00:41<00:00,  2.06s/it]\n"
     ]
    }
   ],
   "source": [
    "last_id = 287\n",
    "backtest_start = 50\n",
    "backtest_end = 70\n",
    "\n",
    "prices = []\n",
    "for current_id in tqdm(range(backtest_start, backtest_end)):\n",
    "    payoff = []\n",
    "    result, _ = MultivariateGBMSimulationAV(s0=close.iloc[current_id], n_paths=100, current_id=current_id, window_size=30, implied_volatility=False)\n",
    "    \n",
    "    old_path_rog = combined_df['ROG_Last_Price'].iloc[:current_id]\n",
    "    old_path_cfr = combined_df['CFR_Last_Price'].iloc[:current_id]\n",
    "    old_path_zurn = combined_df['ZURN_Last_Price'].iloc[:current_id]\n",
    "\n",
    "    for i in range(result.shape[1]):\n",
    "        path_rog = np.append(old_path_rog, result[0][i].flatten())\n",
    "        path_cfr = np.append(old_path_cfr, result[1][i].flatten())\n",
    "        path_zurn = np.append(old_path_zurn, result[2][i].flatten())\n",
    "\n",
    "        payoff.append(payoff_func(path_rog, path_cfr, path_zurn, combined_df.iloc[current_id]['Date'], risk_free=0.01107, risk_neutral=True, verbose=False))\n",
    "    \n",
    "    prices.append(np.mean(payoff))\n",
    "\n"
   ]
  },
  {
   "cell_type": "code",
   "execution_count": 11,
   "metadata": {},
   "outputs": [],
   "source": [
    "price_1.append(prices.copy())"
   ]
  },
  {
   "cell_type": "code",
   "execution_count": 12,
   "metadata": {},
   "outputs": [
    {
     "name": "stderr",
     "output_type": "stream",
     "text": [
      "d:\\mh4518_simulation_in_fin\\notebooks\\../utils\\utils.py:143: UserWarning: Could not infer format, so each element will be parsed individually, falling back to `dateutil`. To ensure parsing is consistent and as-expected, please specify a format.\n",
      "  real_price['Date'] = pd.to_datetime(real_price['Date'], dayfirst=True)\n"
     ]
    },
    {
     "data": {
      "image/png": "[encoded data removed]",
      "text/plain": [
       "<Figure size 2000x400 with 1 Axes>"
      ]
     },
     "metadata": {},
     "output_type": "display_data"
    }
   ],
   "source": [
    "last_id = 287\n",
    "backtest_start = 50\n",
    "backtest_end = 70\n",
    "\n",
    "combined_df = retrieve_data()\n",
    "\n",
    "evaluation_plot(\n",
    "    backtest_start,\n",
    "    backtest_end,\n",
    "    combined_df,\n",
    "    price_1\n",
    "    )"
   ]
  },
  {
   "cell_type": "code",
   "execution_count": 16,
   "metadata": {},
   "outputs": [
    {
     "data": {
      "text/html": [
       "<div>\n",
       "<style scoped>\n",
       "    .dataframe tbody tr th:only-of-type {\n",
       "        vertical-align: middle;\n",
       "    }\n",
       "\n",
       "    .dataframe tbody tr th {\n",
       "        vertical-align: top;\n",
       "    }\n",
       "\n",
       "    .dataframe thead th {\n",
       "        text-align: right;\n",
       "    }\n",
       "</style>\n",
       "<table border=\"1\" class=\"dataframe\">\n",
       "  <thead>\n",
       "    <tr style=\"text-align: right;\">\n",
       "      <th></th>\n",
       "      <th>Date</th>\n",
       "      <th>ROG_Last_Price</th>\n",
       "      <th>ROG_IVOL</th>\n",
       "      <th>CFR_Last_Price</th>\n",
       "      <th>CFR_IVOL</th>\n",
       "      <th>ZURN_Last_Price</th>\n",
       "      <th>ZURN_IVOL</th>\n",
       "      <th>Risk_Free_Rate</th>\n",
       "    </tr>\n",
       "  </thead>\n",
       "  <tbody>\n",
       "    <tr>\n",
       "      <th>50</th>\n",
       "      <td>2024-01-09</td>\n",
       "      <td>252.25</td>\n",
       "      <td>17.3357</td>\n",
       "      <td>112.75</td>\n",
       "      <td>27.6846</td>\n",
       "      <td>439.0</td>\n",
       "      <td>13.5786</td>\n",
       "      <td>1.3758</td>\n",
       "    </tr>\n",
       "    <tr>\n",
       "      <th>51</th>\n",
       "      <td>2024-01-10</td>\n",
       "      <td>253.90</td>\n",
       "      <td>17.1207</td>\n",
       "      <td>112.30</td>\n",
       "      <td>27.6068</td>\n",
       "      <td>435.9</td>\n",
       "      <td>14.2341</td>\n",
       "      <td>1.3806</td>\n",
       "    </tr>\n",
       "    <tr>\n",
       "      <th>52</th>\n",
       "      <td>2024-01-11</td>\n",
       "      <td>250.60</td>\n",
       "      <td>17.2272</td>\n",
       "      <td>110.45</td>\n",
       "      <td>27.5545</td>\n",
       "      <td>432.8</td>\n",
       "      <td>13.7492</td>\n",
       "      <td>1.3729</td>\n",
       "    </tr>\n",
       "    <tr>\n",
       "      <th>53</th>\n",
       "      <td>2024-01-12</td>\n",
       "      <td>252.50</td>\n",
       "      <td>16.9516</td>\n",
       "      <td>110.25</td>\n",
       "      <td>27.8636</td>\n",
       "      <td>436.9</td>\n",
       "      <td>13.6311</td>\n",
       "      <td>1.3376</td>\n",
       "    </tr>\n",
       "    <tr>\n",
       "      <th>54</th>\n",
       "      <td>2024-01-15</td>\n",
       "      <td>250.85</td>\n",
       "      <td>17.1497</td>\n",
       "      <td>109.85</td>\n",
       "      <td>27.6874</td>\n",
       "      <td>439.0</td>\n",
       "      <td>13.5356</td>\n",
       "      <td>1.3421</td>\n",
       "    </tr>\n",
       "    <tr>\n",
       "      <th>55</th>\n",
       "      <td>2024-01-16</td>\n",
       "      <td>250.10</td>\n",
       "      <td>17.1424</td>\n",
       "      <td>108.00</td>\n",
       "      <td>27.7113</td>\n",
       "      <td>442.4</td>\n",
       "      <td>13.1857</td>\n",
       "      <td>1.3382</td>\n",
       "    </tr>\n",
       "    <tr>\n",
       "      <th>56</th>\n",
       "      <td>2024-01-17</td>\n",
       "      <td>247.25</td>\n",
       "      <td>17.2372</td>\n",
       "      <td>105.40</td>\n",
       "      <td>28.9632</td>\n",
       "      <td>434.3</td>\n",
       "      <td>13.7452</td>\n",
       "      <td>1.3608</td>\n",
       "    </tr>\n",
       "    <tr>\n",
       "      <th>57</th>\n",
       "      <td>2024-01-18</td>\n",
       "      <td>245.95</td>\n",
       "      <td>17.2125</td>\n",
       "      <td>116.35</td>\n",
       "      <td>26.0605</td>\n",
       "      <td>430.2</td>\n",
       "      <td>14.1039</td>\n",
       "      <td>1.3585</td>\n",
       "    </tr>\n",
       "    <tr>\n",
       "      <th>58</th>\n",
       "      <td>2024-01-19</td>\n",
       "      <td>244.10</td>\n",
       "      <td>16.8093</td>\n",
       "      <td>116.40</td>\n",
       "      <td>27.2070</td>\n",
       "      <td>434.2</td>\n",
       "      <td>13.3972</td>\n",
       "      <td>1.3713</td>\n",
       "    </tr>\n",
       "    <tr>\n",
       "      <th>59</th>\n",
       "      <td>2024-01-22</td>\n",
       "      <td>247.80</td>\n",
       "      <td>16.9903</td>\n",
       "      <td>117.65</td>\n",
       "      <td>24.8685</td>\n",
       "      <td>441.8</td>\n",
       "      <td>12.0093</td>\n",
       "      <td>1.3693</td>\n",
       "    </tr>\n",
       "  </tbody>\n",
       "</table>\n",
       "</div>"
      ],
      "text/plain": [
       "         Date  ROG_Last_Price  ROG_IVOL  CFR_Last_Price  CFR_IVOL  \\\n",
       "50 2024-01-09          252.25   17.3357          112.75   27.6846   \n",
       "51 2024-01-10          253.90   17.1207          112.30   27.6068   \n",
       "52 2024-01-11          250.60   17.2272          110.45   27.5545   \n",
       "53 2024-01-12          252.50   16.9516          110.25   27.8636   \n",
       "54 2024-01-15          250.85   17.1497          109.85   27.6874   \n",
       "55 2024-01-16          250.10   17.1424          108.00   27.7113   \n",
       "56 2024-01-17          247.25   17.2372          105.40   28.9632   \n",
       "57 2024-01-18          245.95   17.2125          116.35   26.0605   \n",
       "58 2024-01-19          244.10   16.8093          116.40   27.2070   \n",
       "59 2024-01-22          247.80   16.9903          117.65   24.8685   \n",
       "\n",
       "    ZURN_Last_Price  ZURN_IVOL  Risk_Free_Rate  \n",
       "50            439.0    13.5786          1.3758  \n",
       "51            435.9    14.2341          1.3806  \n",
       "52            432.8    13.7492          1.3729  \n",
       "53            436.9    13.6311          1.3376  \n",
       "54            439.0    13.5356          1.3421  \n",
       "55            442.4    13.1857          1.3382  \n",
       "56            434.3    13.7452          1.3608  \n",
       "57            430.2    14.1039          1.3585  \n",
       "58            434.2    13.3972          1.3713  \n",
       "59            441.8    12.0093          1.3693  "
      ]
     },
     "execution_count": 16,
     "metadata": {},
     "output_type": "execute_result"
    }
   ],
   "source": [
    "combined_df.iloc[50:60, :]"
   ]
  },
  {
   "cell_type": "code",
   "execution_count": null,
   "metadata": {},
   "outputs": [],
   "source": []
  }
 ],
 "metadata": {
  "kernelspec": {
   "display_name": "Python 3",
   "language": "python",
   "name": "python3"
  },
  "language_info": {
   "codemirror_mode": {
    "name": "ipython",
    "version": 3
   },
   "file_extension": ".py",
   "mimetype": "text/x-python",
   "name": "python",
   "nbconvert_exporter": "python",
   "pygments_lexer": "ipython3",
   "version": "3.11.9"
  }
 },
 "nbformat": 4,
 "nbformat_minor": 2
}
