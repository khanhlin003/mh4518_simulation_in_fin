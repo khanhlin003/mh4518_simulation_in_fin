{
 "cells": [
  {
   "cell_type": "code",
   "execution_count": 1,
   "metadata": {},
   "outputs": [],
   "source": [
    "import sys\n",
    "sys.path.append('/Users/linhtrankhanh/Documents/GitHub/mh4518_simulation_in_fin/utils')\n",
    "from utils import *\n",
    "from option_test import * "
   ]
  },
  {
   "cell_type": "code",
   "execution_count": 2,
   "metadata": {},
   "outputs": [],
   "source": [
    "input_directory = \"/Users/linhtrankhanh/Documents/GitHub/mh4518_simulation_in_fin/data/option_data\"\n",
    "output_directory = \"/Users/linhtrankhanh/Documents/GitHub/mh4518_simulation_in_fin/data/option_data/processed\"\n",
    "# Process all files\n",
    "process_all_option_data(input_directory, output_directory)\n",
    "\n",
    "# Set the paths for processed and cleaned folders\n",
    "processed_folder = \"/Users/linhtrankhanh/Documents/GitHub/mh4518_simulation_in_fin/data/option_data/processed\"\n",
    "cleaned_folder = \"/Users/linhtrankhanh/Documents/GitHub/mh4518_simulation_in_fin/data/option_data/cleaned\"\n",
    "\n",
    "# Run the data cleaning process\n",
    "process_and_save_cleaned_data(processed_folder, cleaned_folder)\n"
   ]
  },
  {
   "cell_type": "code",
   "execution_count": null,
   "metadata": {},
   "outputs": [],
   "source": [
    "'''\n",
    "Hi gpt, pls help me \n",
    "\n",
    "'''"
   ]
  }
 ],
 "metadata": {
  "kernelspec": {
   "display_name": "Python 3.10.6 64-bit",
   "language": "python",
   "name": "python3"
  },
  "language_info": {
   "codemirror_mode": {
    "name": "ipython",
    "version": 3
   },
   "file_extension": ".py",
   "mimetype": "text/x-python",
   "name": "python",
   "nbconvert_exporter": "python",
   "pygments_lexer": "ipython3",
   "version": "3.10.6"
  },
  "orig_nbformat": 4,
  "vscode": {
   "interpreter": {
    "hash": "7e1998ff7f8aa20ada591c520b972326324e5ea05489af9e422744c7c09f6dad"
   }
  }
 },
 "nbformat": 4,
 "nbformat_minor": 2
}
