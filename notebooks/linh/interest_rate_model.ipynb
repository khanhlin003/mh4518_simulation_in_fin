{
 "cells": [
  {
   "cell_type": "code",
   "execution_count": null,
   "metadata": {},
   "outputs": [],
   "source": [
    "# irr.py \n",
    "\n",
    "from __future__ import annotations\n",
    "import typing\n",
    "from datetime import date, timedelta, datetime\n",
    "import numpy as np\n",
    "import pandas as pd\n",
    "\n",
    "def get_period(key: str):\n",
    "    map = {\n",
    "        '1-Week': 1/52,\n",
    "        '1-Month': 1/12,\n",
    "        '2-Month': 2/12,\n",
    "        '3-Month': 3/12,\n",
    "        '6-Month': 1/2,\n",
    "        '1-Year': 1,\n",
    "        '2-Year': 2,\n",
    "    }\n",
    "    return map[key]\n",
    "\n",
    "def populate_bond_table(bond_price, today, maturity_date):\n",
    "    bond_table = pd.DataFrame(index=pd.date_range(today, maturity_date), columns=['price'])\n",
    "    X = [get_period(col) for col in bond_price.columns]\n",
    "    Y = bond_price.loc[today].to_list()  \n",
    "    for date in bond_table.index:\n",
    "        tdelta = (date - today).days/365\n",
    "        interpolated_y = np.interp(tdelta,X,Y)\n",
    "        bond_table.loc[date]['price'] = interpolated_y\n",
    "    return bond_table\n",
    "\n",
    "class VasicekModel(object):\n",
    "    def __init__(self, data: pd.DataFrame, params: typing.Dict):\n",
    "        \"\"\"\n",
    "        b: long term mean level: All future trajectories of r will evolve around a mean level b in the long run.\n",
    "        a: speed of reversion: A characterizes the velocity at which such trajectories will regroup around b.\n",
    "        sigma: instantaneous volatility: measures instant by instant the amplitude of randomness\n",
    "        \"\"\"\n",
    "        self.data = data\n",
    "        self.a = params.get('speed of reversion') # 0\n",
    "        self.b = params.get('long term mean level') # 0.107659718380514\n",
    "        self.sigma = params.get('sigma') # 0.106212663278328\n",
    "        self.maturity_date = params.get('maturity_date')\n",
    "        self.dt = 1/252\n",
    "    \n",
    "    def generate_path(self, current_date: str)->pd.DataFrame:\n",
    "        \"\"\"\n",
    "            N: the number steps in the path\n",
    "        \"\"\"\n",
    "        N = (pd.to_datetime(self.maturity_date) - pd.to_datetime(current_date)).days + 1\n",
    "        Rt = [0]*(N+1)\n",
    "        prev_date = pd.to_datetime(current_date) - pd.DateOffset(days=1)\n",
    "        Rt[0] = self.data.loc[prev_date]['Price']\n",
    "        for i in range(1, N+1):\n",
    "            Rt[i] = self.a*(self.b-Rt[i-1]) * self.dt + self.sigma * np.random.normal(0, np.sqrt(self.dt)) + Rt[i-1]\n",
    "        Rt = Rt[1:]\n",
    "        return pd.DataFrame(data=Rt, index=pd.date_range(current_date, self.maturity_date), columns=['Rate'])"
   ]
  }
 ],
 "metadata": {
  "kernelspec": {
   "display_name": "Python 3.10.6 64-bit",
   "language": "python",
   "name": "python3"
  },
  "language_info": {
   "name": "python",
   "version": "3.10.6"
  },
  "orig_nbformat": 4,
  "vscode": {
   "interpreter": {
    "hash": "7e1998ff7f8aa20ada591c520b972326324e5ea05489af9e422744c7c09f6dad"
   }
  }
 },
 "nbformat": 4,
 "nbformat_minor": 2
}
