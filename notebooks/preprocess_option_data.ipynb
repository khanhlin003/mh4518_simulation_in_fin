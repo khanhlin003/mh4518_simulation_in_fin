{
 "cells": [
  {
   "cell_type": "code",
   "execution_count": 1,
   "metadata": {},
   "outputs": [
    {
     "name": "stdout",
     "output_type": "stream",
     "text": [
      "Error processing sheet call_rog_23072024: Worksheet named 'call_rog_23072024' not found\n",
      "Saved call_rog_23082024.csv to ../data/option_data/23082024\n",
      "    maturity  strike      price         IV\n",
      "0 2024-09-20     234  49.574997  33.994099\n",
      "1 2024-09-20     235  48.574997  33.326797\n",
      "2 2024-09-20     236  47.574997  32.660213\n",
      "3 2024-09-20     238  45.599998  31.916555\n",
      "4 2024-09-20     240  43.624992  31.114557\n",
      "Saved call_rog_25092024.csv to ../data/option_data/25092024\n",
      "    maturity  strike      price         IV\n",
      "0 2024-10-18     210  61.799995  42.994598\n",
      "1 2024-10-18     215  56.849998  41.726521\n",
      "2 2024-10-18     220  51.849991  38.028236\n",
      "3 2024-10-18     225  46.899994  36.034473\n",
      "4 2024-10-18     230  41.949997  33.622883\n",
      "Error processing sheet call_cfr_23072024: Worksheet named 'call_cfr_23072024' not found\n",
      "Saved call_cfr_23082024.csv to ../data/option_data/23082024\n",
      "    maturity  strike      price         IV\n",
      "0 2024-09-20     114  22.149994  38.891621\n",
      "1 2024-09-20     116  20.174995  36.301975\n",
      "2 2024-09-20     118  18.199997  33.643349\n",
      "3 2024-09-20     120  16.250000  31.368092\n",
      "4 2024-09-20     122  14.325000  29.312361\n",
      "Saved call_cfr_25092024.csv to ../data/option_data/25092024\n",
      "    maturity  strike      price           IV\n",
      "0 2024-10-18       0  59.775002  8000.000000\n",
      "1 2024-10-18      91  30.649994    49.300709\n",
      "2 2024-10-18      92  29.699997    52.216763\n",
      "3 2024-10-18      93  28.699997    50.416626\n",
      "4 2024-10-18      94  27.699997    48.633358\n",
      "Error processing sheet call_zurn_23072024: Worksheet named 'call_zurn_23072024' not found\n",
      "No valid data found for call_zurn_23082024\n"
     ]
    }
   ],
   "source": []
  }
 ],
 "metadata": {
  "kernelspec": {
   "display_name": "Python 3.10.6 64-bit",
   "language": "python",
   "name": "python3"
  },
  "language_info": {
   "codemirror_mode": {
    "name": "ipython",
    "version": 3
   },
   "file_extension": ".py",
   "mimetype": "text/x-python",
   "name": "python",
   "nbconvert_exporter": "python",
   "pygments_lexer": "ipython3",
   "version": "3.10.6"
  },
  "orig_nbformat": 4,
  "vscode": {
   "interpreter": {
    "hash": "7e1998ff7f8aa20ada591c520b972326324e5ea05489af9e422744c7c09f6dad"
   }
  }
 },
 "nbformat": 4,
 "nbformat_minor": 2
}
