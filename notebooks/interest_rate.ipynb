{
 "cells": [
  {
   "cell_type": "markdown",
   "metadata": {},
   "source": [
    "# 1. Calibrate VasicekModel parameter \n",
    "\n",
    "Estimation of Parameters: mle, ls, moment matching "
   ]
  },
  {
   "cell_type": "code",
   "execution_count": 1,
   "metadata": {},
   "outputs": [],
   "source": [
    "# Import dependencies\n",
    "import math\n",
    "import numpy as np\n",
    "import pandas as pd\n",
    "import matplotlib.pyplot as plt\n",
    "import os\n",
    "import seaborn as sns\n",
    "import typing\n",
    "from datetime import date, timedelta, datetime\n",
    "import sys\n",
    "\n",
    "sys.path.append(\"../utils\")\n",
    "from utils import *\n",
    "from interest_rate import *\n",
    "from sklearn.linear_model import LinearRegression"
   ]
  },
  {
   "cell_type": "code",
   "execution_count": 3,
   "metadata": {},
   "outputs": [
    {
     "name": "stdout",
     "output_type": "stream",
     "text": [
      "Least Squares Calibration:\n",
      "r: 0.0000, k: 0.0934, θ: 0.0588\n",
      "\n",
      "Maximum Likelihood Estimation:\n"
     ]
    },
    {
     "name": "stderr",
     "output_type": "stream",
     "text": [
      "/var/folders/km/_b5m00hj0l91hg5vzm9rf92m0000gn/T/ipykernel_4103/1807510469.py:42: RuntimeWarning: divide by zero encountered in scalar divide\n",
      "  likelihood += np.log(np.exp(-(r_t - r_t_1 * np.exp(-k * t)) / (1 - np.exp(-k * t)) * theta) / (t * theta * np.sqrt(1 - np.exp(-2 * k * t))))\n",
      "/var/folders/km/_b5m00hj0l91hg5vzm9rf92m0000gn/T/ipykernel_4103/1807510469.py:42: RuntimeWarning: invalid value encountered in scalar multiply\n",
      "  likelihood += np.log(np.exp(-(r_t - r_t_1 * np.exp(-k * t)) / (1 - np.exp(-k * t)) * theta) / (t * theta * np.sqrt(1 - np.exp(-2 * k * t))))\n",
      "/var/folders/km/_b5m00hj0l91hg5vzm9rf92m0000gn/T/ipykernel_4103/1807510469.py:42: RuntimeWarning: invalid value encountered in scalar divide\n",
      "  likelihood += np.log(np.exp(-(r_t - r_t_1 * np.exp(-k * t)) / (1 - np.exp(-k * t)) * theta) / (t * theta * np.sqrt(1 - np.exp(-2 * k * t))))\n"
     ]
    },
    {
     "name": "stdout",
     "output_type": "stream",
     "text": [
      "r: 1.0000, k: 0.0934, θ: 0.0588\n",
      "\n",
      "Moment Matching:\n",
      "r: 1.3914, k: 0.0934, θ: 0.0588\n"
     ]
    }
   ],
   "source": [
    "def calibrate_vasicek_model_least_squares(bond_data, initial_params):\n",
    "    \"\"\"\n",
    "    Calibrate the Vasicek interest rate model using the least squares method.\n",
    "    \"\"\"\n",
    "\n",
    "    def vasicek_objective(params):\n",
    "        \"\"\"\n",
    "        Objective function for Vasicek model parameter optimization.\n",
    "        \"\"\"\n",
    "        r, k, theta = params\n",
    "        model_prices = []\n",
    "        for _, row in bond_data.iterrows():\n",
    "            t = row[\"period\"]\n",
    "            model_price = row[\"Price\"] * np.exp(-r * t)\n",
    "            model_prices.append(model_price)\n",
    "        return np.mean((bond_data[\"Price\"] - model_prices) ** 2)\n",
    "\n",
    "    result = minimize(\n",
    "        vasicek_objective,\n",
    "        initial_params,\n",
    "        method=\"L-BFGS-B\",\n",
    "        bounds=[(0, 1), (0, 1), (0, 1)],\n",
    "    )\n",
    "    r, k, theta = result.x\n",
    "    return r, k, theta\n",
    "\n",
    "\n",
    "def calibrate_vasicek_model_mle(bond_data, initial_params):\n",
    "    \"\"\"\n",
    "    Calibrate the Vasicek interest rate model using maximum likelihood estimation.\n",
    "    \"\"\"\n",
    "\n",
    "    def vasicek_likelihood(params):\n",
    "        \"\"\"\n",
    "        Log-likelihood function for the Vasicek model.\n",
    "        \"\"\"\n",
    "        r, k, theta = params\n",
    "        likelihood = 0\n",
    "        for i in range(1, len(bond_data)):\n",
    "            t = bond_data[\"period\"].iloc[i]\n",
    "            r_t = bond_data[\"Price\"].iloc[i]\n",
    "            r_t_1 = bond_data[\"Price\"].iloc[i - 1]\n",
    "            likelihood += np.log(\n",
    "                np.exp(-(r_t - r_t_1 * np.exp(-k * t)) / (1 - np.exp(-k * t)) * theta)\n",
    "                / (t * theta * np.sqrt(1 - np.exp(-2 * k * t)))\n",
    "            )\n",
    "        return -likelihood\n",
    "\n",
    "    result = minimize(\n",
    "        vasicek_likelihood,\n",
    "        initial_params,\n",
    "        method=\"L-BFGS-B\",\n",
    "        bounds=[(0, 1), (0, 1), (0, 1)],\n",
    "    )\n",
    "    r, k, theta = result.x\n",
    "    return r, k, theta\n",
    "\n",
    "\n",
    "def calibrate_vasicek_model_moment_matching(bond_data):\n",
    "    \"\"\"\n",
    "    Calibrate the Vasicek interest rate model using moment matching.\n",
    "    \"\"\"\n",
    "    X = bond_data[\"period\"].to_numpy()\n",
    "    Y = bond_data[\"Price\"].to_numpy()\n",
    "\n",
    "    # Fit a linear regression model to the log-transformed bond prices\n",
    "    model = LinearRegression()\n",
    "    model.fit(X.reshape(-1, 1), np.log(Y))\n",
    "    k = -model.coef_[0]\n",
    "    theta = np.sqrt(model.score(X.reshape(-1, 1), np.log(Y)) * k)\n",
    "    r = np.mean(Y) / np.mean(np.exp(-X * k))\n",
    "\n",
    "    return r, k, theta\n",
    "\n",
    "\n",
    "def main():\n",
    "    data_dir = \"../data/bond/\"\n",
    "    bond_data = read_bond_data(data_dir)\n",
    "\n",
    "    # Calculate initial parameter estimates from historical data\n",
    "    r_initial = np.mean(bond_data[\"Price\"])\n",
    "    k_initial = (\n",
    "        -LinearRegression()\n",
    "        .fit(\n",
    "            bond_data[\"period\"].to_numpy().reshape(-1, 1),\n",
    "            np.log(bond_data[\"Price\"].to_numpy()),\n",
    "        )\n",
    "        .coef_[0]\n",
    "    )\n",
    "    theta_initial = np.sqrt(\n",
    "        LinearRegression()\n",
    "        .fit(\n",
    "            bond_data[\"period\"].to_numpy().reshape(-1, 1),\n",
    "            np.log(bond_data[\"Price\"].to_numpy()),\n",
    "        )\n",
    "        .score(\n",
    "            bond_data[\"period\"].to_numpy().reshape(-1, 1),\n",
    "            np.log(bond_data[\"Price\"].to_numpy()),\n",
    "        )\n",
    "        * k_initial\n",
    "    )\n",
    "    initial_params = [r_initial, k_initial, theta_initial]\n",
    "\n",
    "    print(\"Least Squares Calibration:\")\n",
    "    r_ls, k_ls, theta_ls = calibrate_vasicek_model_least_squares(\n",
    "        bond_data, initial_params\n",
    "    )\n",
    "    print(f\"r: {r_ls:.4f}, k: {k_ls:.4f}, θ: {theta_ls:.4f}\")\n",
    "\n",
    "    print(\"\\nMaximum Likelihood Estimation:\")\n",
    "    r_mle, k_mle, theta_mle = calibrate_vasicek_model_mle(bond_data, initial_params)\n",
    "    print(f\"r: {r_mle:.4f}, k: {k_mle:.4f}, θ: {theta_mle:.4f}\")\n",
    "\n",
    "    print(\"\\nMoment Matching:\")\n",
    "    r_mm, k_mm, theta_mm = calibrate_vasicek_model_moment_matching(bond_data)\n",
    "    print(f\"r: {r_mm:.4f}, k: {k_mm:.4f}, θ: {theta_mm:.4f}\")\n",
    "\n",
    "\n",
    "if __name__ == \"__main__\":\n",
    "    main()"
   ]
  },
  {
   "cell_type": "code",
   "execution_count": null,
   "metadata": {},
   "outputs": [],
   "source": [
    "Choose"
   ]
  }
 ],
 "metadata": {
  "kernelspec": {
   "display_name": "Python 3.10.6 64-bit",
   "language": "python",
   "name": "python3"
  },
  "language_info": {
   "codemirror_mode": {
    "name": "ipython",
    "version": 3
   },
   "file_extension": ".py",
   "mimetype": "text/x-python",
   "name": "python",
   "nbconvert_exporter": "python",
   "pygments_lexer": "ipython3",
   "version": "3.10.6"
  },
  "orig_nbformat": 4,
  "vscode": {
   "interpreter": {
    "hash": "7e1998ff7f8aa20ada591c520b972326324e5ea05489af9e422744c7c09f6dad"
   }
  }
 },
 "nbformat": 4,
 "nbformat_minor": 2
}
