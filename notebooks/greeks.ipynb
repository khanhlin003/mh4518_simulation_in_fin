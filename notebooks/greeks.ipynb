{
 "cells": [
  {
   "cell_type": "code",
   "execution_count": 776,
   "metadata": {},
   "outputs": [
    {
     "name": "stdout",
     "output_type": "stream",
     "text": [
      "The autoreload extension is already loaded. To reload it, use:\n",
      "  %reload_ext autoreload\n"
     ]
    }
   ],
   "source": [
    "%load_ext autoreload\n",
    "%autoreload 2"
   ]
  },
  {
   "cell_type": "code",
   "execution_count": 777,
   "metadata": {},
   "outputs": [],
   "source": [
    "import numpy as np\n",
    "import pandas as pd\n",
    "import matplotlib.pyplot as plt\n",
    "import seaborn as sns\n",
    "from scipy.optimize import minimize\n",
    "from scipy.stats import norm\n",
    "from tqdm.auto import tqdm\n",
    "\n",
    "import sys\n",
    "\n",
    "sys.path.append(\"../utils\")\n",
    "from utils import *\n",
    "from data_retrieve import *\n",
    "from gbm import *"
   ]
  },
  {
   "cell_type": "code",
   "execution_count": 778,
   "metadata": {},
   "outputs": [],
   "source": [
    "last_id = 287\n",
    "backtest_start = 187\n",
    "backtest_end = 252\n",
    "h = 0.01"
   ]
  },
  {
   "cell_type": "code",
   "execution_count": 779,
   "metadata": {},
   "outputs": [
    {
     "data": {
      "text/plain": [
       "(Date               2024-07-25 00:00:00\n",
       " ROG_Last_Price                   277.5\n",
       " ROG_IVOL                       18.2666\n",
       " CFR_Last_Price                   131.2\n",
       " CFR_IVOL                        23.415\n",
       " ZURN_Last_Price                  474.6\n",
       " ZURN_IVOL                      14.5858\n",
       " Risk_Free_Rate                  0.8649\n",
       " Name: 187, dtype: object,\n",
       " Date               2024-10-25 00:00:00\n",
       " ROG_Last_Price                   279.6\n",
       " ROG_IVOL                           NaN\n",
       " CFR_Last_Price                  128.05\n",
       " CFR_IVOL                           NaN\n",
       " ZURN_Last_Price                  521.2\n",
       " ZURN_IVOL                          NaN\n",
       " Risk_Free_Rate                     NaN\n",
       " Name: 252, dtype: object)"
      ]
     },
     "execution_count": 779,
     "metadata": {},
     "output_type": "execute_result"
    }
   ],
   "source": [
    "combined_df.iloc[backtest_start], combined_df.iloc[backtest_end]"
   ]
  },
  {
   "cell_type": "code",
   "execution_count": 780,
   "metadata": {},
   "outputs": [],
   "source": [
    "tickers = [\"ROG_Last_Price\", \"CFR_Last_Price\", \"ZURN_Last_Price\"]"
   ]
  },
  {
   "cell_type": "markdown",
   "metadata": {},
   "source": [
    "# Getting Delta and gammas"
   ]
  },
  {
   "cell_type": "code",
   "execution_count": 781,
   "metadata": {},
   "outputs": [
    {
     "data": {
      "application/vnd.jupyter.widget-view+json": {
       "model_id": "c3db2cecaaf04e1ab3049a0debe67f00",
       "version_major": 2,
       "version_minor": 0
      },
      "text/plain": [
       "  0%|          | 0/65 [00:00<?, ?it/s]"
      ]
     },
     "metadata": {},
     "output_type": "display_data"
    },
    {
     "data": {
      "application/vnd.jupyter.widget-view+json": {
       "model_id": "843748bb186e44e2b28c38519d345e66",
       "version_major": 2,
       "version_minor": 0
      },
      "text/plain": [
       "  0%|          | 0/100 [00:00<?, ?it/s]"
      ]
     },
     "metadata": {},
     "output_type": "display_data"
    },
    {
     "data": {
      "application/vnd.jupyter.widget-view+json": {
       "model_id": "330dacfa58da4cf6a71e35642e700eed",
       "version_major": 2,
       "version_minor": 0
      },
      "text/plain": [
       "  0%|          | 0/99 [00:00<?, ?it/s]"
      ]
     },
     "metadata": {},
     "output_type": "display_data"
    },
    {
     "data": {
      "application/vnd.jupyter.widget-view+json": {
       "model_id": "f3efa4ee76dd4b70a67f5071b06df572",
       "version_major": 2,
       "version_minor": 0
      },
      "text/plain": [
       "  0%|          | 0/98 [00:00<?, ?it/s]"
      ]
     },
     "metadata": {},
     "output_type": "display_data"
    },
    {
     "data": {
      "application/vnd.jupyter.widget-view+json": {
       "model_id": "e25950e8d2cf4386a98b1d2efc9c8365",
       "version_major": 2,
       "version_minor": 0
      },
      "text/plain": [
       "  0%|          | 0/97 [00:00<?, ?it/s]"
      ]
     },
     "metadata": {},
     "output_type": "display_data"
    },
    {
     "data": {
      "application/vnd.jupyter.widget-view+json": {
       "model_id": "3a172aacfebe4ecc97b45e6456e70b2f",
       "version_major": 2,
       "version_minor": 0
      },
      "text/plain": [
       "  0%|          | 0/96 [00:00<?, ?it/s]"
      ]
     },
     "metadata": {},
     "output_type": "display_data"
    },
    {
     "data": {
      "application/vnd.jupyter.widget-view+json": {
       "model_id": "623dd057c4274ebe997e2169ca00db7a",
       "version_major": 2,
       "version_minor": 0
      },
      "text/plain": [
       "  0%|          | 0/95 [00:00<?, ?it/s]"
      ]
     },
     "metadata": {},
     "output_type": "display_data"
    },
    {
     "data": {
      "application/vnd.jupyter.widget-view+json": {
       "model_id": "10910c27839e4ee4a26b286c49ad03c9",
       "version_major": 2,
       "version_minor": 0
      },
      "text/plain": [
       "  0%|          | 0/94 [00:00<?, ?it/s]"
      ]
     },
     "metadata": {},
     "output_type": "display_data"
    },
    {
     "data": {
      "application/vnd.jupyter.widget-view+json": {
       "model_id": "6b759f372fc74665ad4573922d02984f",
       "version_major": 2,
       "version_minor": 0
      },
      "text/plain": [
       "  0%|          | 0/93 [00:00<?, ?it/s]"
      ]
     },
     "metadata": {},
     "output_type": "display_data"
    },
    {
     "data": {
      "application/vnd.jupyter.widget-view+json": {
       "model_id": "32b6496c124c488cb75f57479e438de0",
       "version_major": 2,
       "version_minor": 0
      },
      "text/plain": [
       "  0%|          | 0/92 [00:00<?, ?it/s]"
      ]
     },
     "metadata": {},
     "output_type": "display_data"
    },
    {
     "data": {
      "application/vnd.jupyter.widget-view+json": {
       "model_id": "8ad332ec7dd941d481e26d7ede428861",
       "version_major": 2,
       "version_minor": 0
      },
      "text/plain": [
       "  0%|          | 0/91 [00:00<?, ?it/s]"
      ]
     },
     "metadata": {},
     "output_type": "display_data"
    },
    {
     "data": {
      "application/vnd.jupyter.widget-view+json": {
       "model_id": "8915e910e9ee4abbb145ee38b6979d1f",
       "version_major": 2,
       "version_minor": 0
      },
      "text/plain": [
       "  0%|          | 0/90 [00:00<?, ?it/s]"
      ]
     },
     "metadata": {},
     "output_type": "display_data"
    },
    {
     "data": {
      "application/vnd.jupyter.widget-view+json": {
       "model_id": "041db8c8240a4399b10b0a67a9e7acd1",
       "version_major": 2,
       "version_minor": 0
      },
      "text/plain": [
       "  0%|          | 0/89 [00:00<?, ?it/s]"
      ]
     },
     "metadata": {},
     "output_type": "display_data"
    },
    {
     "data": {
      "application/vnd.jupyter.widget-view+json": {
       "model_id": "be6f30ae633646fb83a3a84976692dd0",
       "version_major": 2,
       "version_minor": 0
      },
      "text/plain": [
       "  0%|          | 0/88 [00:00<?, ?it/s]"
      ]
     },
     "metadata": {},
     "output_type": "display_data"
    },
    {
     "data": {
      "application/vnd.jupyter.widget-view+json": {
       "model_id": "e2d2f44ea30545cbb9d78b7130d14f43",
       "version_major": 2,
       "version_minor": 0
      },
      "text/plain": [
       "  0%|          | 0/87 [00:00<?, ?it/s]"
      ]
     },
     "metadata": {},
     "output_type": "display_data"
    },
    {
     "data": {
      "application/vnd.jupyter.widget-view+json": {
       "model_id": "ecfe40c099254d51a511e4eb0d473429",
       "version_major": 2,
       "version_minor": 0
      },
      "text/plain": [
       "  0%|          | 0/86 [00:00<?, ?it/s]"
      ]
     },
     "metadata": {},
     "output_type": "display_data"
    },
    {
     "data": {
      "application/vnd.jupyter.widget-view+json": {
       "model_id": "d612534982e64b8d966b5055fe34cd84",
       "version_major": 2,
       "version_minor": 0
      },
      "text/plain": [
       "  0%|          | 0/85 [00:00<?, ?it/s]"
      ]
     },
     "metadata": {},
     "output_type": "display_data"
    },
    {
     "data": {
      "application/vnd.jupyter.widget-view+json": {
       "model_id": "cbe3cb26cf7d4ee98f97757bf0021f9c",
       "version_major": 2,
       "version_minor": 0
      },
      "text/plain": [
       "  0%|          | 0/84 [00:00<?, ?it/s]"
      ]
     },
     "metadata": {},
     "output_type": "display_data"
    },
    {
     "data": {
      "application/vnd.jupyter.widget-view+json": {
       "model_id": "d89b70451e314feea7e20d2cd47f264b",
       "version_major": 2,
       "version_minor": 0
      },
      "text/plain": [
       "  0%|          | 0/83 [00:00<?, ?it/s]"
      ]
     },
     "metadata": {},
     "output_type": "display_data"
    },
    {
     "data": {
      "application/vnd.jupyter.widget-view+json": {
       "model_id": "d4460247b5184dbcaf3a71d61b897268",
       "version_major": 2,
       "version_minor": 0
      },
      "text/plain": [
       "  0%|          | 0/82 [00:00<?, ?it/s]"
      ]
     },
     "metadata": {},
     "output_type": "display_data"
    },
    {
     "data": {
      "application/vnd.jupyter.widget-view+json": {
       "model_id": "9f22c2433f61454a926388a9575eebf7",
       "version_major": 2,
       "version_minor": 0
      },
      "text/plain": [
       "  0%|          | 0/81 [00:00<?, ?it/s]"
      ]
     },
     "metadata": {},
     "output_type": "display_data"
    },
    {
     "data": {
      "application/vnd.jupyter.widget-view+json": {
       "model_id": "5c8b92805d8c461dac6c755307e8cc9e",
       "version_major": 2,
       "version_minor": 0
      },
      "text/plain": [
       "  0%|          | 0/80 [00:00<?, ?it/s]"
      ]
     },
     "metadata": {},
     "output_type": "display_data"
    },
    {
     "data": {
      "application/vnd.jupyter.widget-view+json": {
       "model_id": "6163adfee62e40dda2715f1427f99101",
       "version_major": 2,
       "version_minor": 0
      },
      "text/plain": [
       "  0%|          | 0/79 [00:00<?, ?it/s]"
      ]
     },
     "metadata": {},
     "output_type": "display_data"
    },
    {
     "data": {
      "application/vnd.jupyter.widget-view+json": {
       "model_id": "64c0a6fb574c4e59877c24b692900771",
       "version_major": 2,
       "version_minor": 0
      },
      "text/plain": [
       "  0%|          | 0/78 [00:00<?, ?it/s]"
      ]
     },
     "metadata": {},
     "output_type": "display_data"
    },
    {
     "data": {
      "application/vnd.jupyter.widget-view+json": {
       "model_id": "b2c956a73c8f4d619d92ec3ee3913b09",
       "version_major": 2,
       "version_minor": 0
      },
      "text/plain": [
       "  0%|          | 0/77 [00:00<?, ?it/s]"
      ]
     },
     "metadata": {},
     "output_type": "display_data"
    },
    {
     "data": {
      "application/vnd.jupyter.widget-view+json": {
       "model_id": "f2c535b1381143b9ac3fd0424a13be62",
       "version_major": 2,
       "version_minor": 0
      },
      "text/plain": [
       "  0%|          | 0/76 [00:00<?, ?it/s]"
      ]
     },
     "metadata": {},
     "output_type": "display_data"
    },
    {
     "data": {
      "application/vnd.jupyter.widget-view+json": {
       "model_id": "0088aa95984b44eba2a6e2979541b24a",
       "version_major": 2,
       "version_minor": 0
      },
      "text/plain": [
       "  0%|          | 0/75 [00:00<?, ?it/s]"
      ]
     },
     "metadata": {},
     "output_type": "display_data"
    },
    {
     "data": {
      "application/vnd.jupyter.widget-view+json": {
       "model_id": "cbb3e456eae1416188ca936b67f69f27",
       "version_major": 2,
       "version_minor": 0
      },
      "text/plain": [
       "  0%|          | 0/74 [00:00<?, ?it/s]"
      ]
     },
     "metadata": {},
     "output_type": "display_data"
    },
    {
     "data": {
      "application/vnd.jupyter.widget-view+json": {
       "model_id": "d741cd56137a4f799451ba2030e01cf8",
       "version_major": 2,
       "version_minor": 0
      },
      "text/plain": [
       "  0%|          | 0/73 [00:00<?, ?it/s]"
      ]
     },
     "metadata": {},
     "output_type": "display_data"
    },
    {
     "data": {
      "application/vnd.jupyter.widget-view+json": {
       "model_id": "c7221c702f494187ab5e1ebf161b8dc0",
       "version_major": 2,
       "version_minor": 0
      },
      "text/plain": [
       "  0%|          | 0/72 [00:00<?, ?it/s]"
      ]
     },
     "metadata": {},
     "output_type": "display_data"
    },
    {
     "data": {
      "application/vnd.jupyter.widget-view+json": {
       "model_id": "b4f81fa0fec84f3faec5725986db4e8b",
       "version_major": 2,
       "version_minor": 0
      },
      "text/plain": [
       "  0%|          | 0/71 [00:00<?, ?it/s]"
      ]
     },
     "metadata": {},
     "output_type": "display_data"
    },
    {
     "data": {
      "application/vnd.jupyter.widget-view+json": {
       "model_id": "454431f630334903a2d4fb6a0417f4ea",
       "version_major": 2,
       "version_minor": 0
      },
      "text/plain": [
       "  0%|          | 0/70 [00:00<?, ?it/s]"
      ]
     },
     "metadata": {},
     "output_type": "display_data"
    },
    {
     "data": {
      "application/vnd.jupyter.widget-view+json": {
       "model_id": "5095620e6e3e497c9326e56493e26c85",
       "version_major": 2,
       "version_minor": 0
      },
      "text/plain": [
       "  0%|          | 0/69 [00:00<?, ?it/s]"
      ]
     },
     "metadata": {},
     "output_type": "display_data"
    },
    {
     "data": {
      "application/vnd.jupyter.widget-view+json": {
       "model_id": "49278490c95949f687bca84adc67e3a4",
       "version_major": 2,
       "version_minor": 0
      },
      "text/plain": [
       "  0%|          | 0/68 [00:00<?, ?it/s]"
      ]
     },
     "metadata": {},
     "output_type": "display_data"
    },
    {
     "data": {
      "application/vnd.jupyter.widget-view+json": {
       "model_id": "21dd96170b65489f82957ff1d46dfd88",
       "version_major": 2,
       "version_minor": 0
      },
      "text/plain": [
       "  0%|          | 0/67 [00:00<?, ?it/s]"
      ]
     },
     "metadata": {},
     "output_type": "display_data"
    },
    {
     "data": {
      "application/vnd.jupyter.widget-view+json": {
       "model_id": "dc28b60cfcde4d579f758518eafca672",
       "version_major": 2,
       "version_minor": 0
      },
      "text/plain": [
       "  0%|          | 0/66 [00:00<?, ?it/s]"
      ]
     },
     "metadata": {},
     "output_type": "display_data"
    },
    {
     "data": {
      "application/vnd.jupyter.widget-view+json": {
       "model_id": "a679d77da9e94228ab637a631ca5b3d7",
       "version_major": 2,
       "version_minor": 0
      },
      "text/plain": [
       "  0%|          | 0/65 [00:00<?, ?it/s]"
      ]
     },
     "metadata": {},
     "output_type": "display_data"
    },
    {
     "data": {
      "application/vnd.jupyter.widget-view+json": {
       "model_id": "95228dbb33c1479e835bface895c9459",
       "version_major": 2,
       "version_minor": 0
      },
      "text/plain": [
       "  0%|          | 0/64 [00:00<?, ?it/s]"
      ]
     },
     "metadata": {},
     "output_type": "display_data"
    },
    {
     "data": {
      "application/vnd.jupyter.widget-view+json": {
       "model_id": "0bfffb14e3f24e12a0b3469f11d2c12c",
       "version_major": 2,
       "version_minor": 0
      },
      "text/plain": [
       "  0%|          | 0/63 [00:00<?, ?it/s]"
      ]
     },
     "metadata": {},
     "output_type": "display_data"
    },
    {
     "data": {
      "application/vnd.jupyter.widget-view+json": {
       "model_id": "11f55e7eb0014a45890c38fe347e2aee",
       "version_major": 2,
       "version_minor": 0
      },
      "text/plain": [
       "  0%|          | 0/62 [00:00<?, ?it/s]"
      ]
     },
     "metadata": {},
     "output_type": "display_data"
    },
    {
     "data": {
      "application/vnd.jupyter.widget-view+json": {
       "model_id": "5593e2264a184a6d8c5d78c96dacbf60",
       "version_major": 2,
       "version_minor": 0
      },
      "text/plain": [
       "  0%|          | 0/61 [00:00<?, ?it/s]"
      ]
     },
     "metadata": {},
     "output_type": "display_data"
    },
    {
     "data": {
      "application/vnd.jupyter.widget-view+json": {
       "model_id": "5cc5300d13ab445da5c2e80eb8d1c722",
       "version_major": 2,
       "version_minor": 0
      },
      "text/plain": [
       "  0%|          | 0/60 [00:00<?, ?it/s]"
      ]
     },
     "metadata": {},
     "output_type": "display_data"
    },
    {
     "data": {
      "application/vnd.jupyter.widget-view+json": {
       "model_id": "55cabd84b596428c9a7803167e11e117",
       "version_major": 2,
       "version_minor": 0
      },
      "text/plain": [
       "  0%|          | 0/59 [00:00<?, ?it/s]"
      ]
     },
     "metadata": {},
     "output_type": "display_data"
    },
    {
     "data": {
      "application/vnd.jupyter.widget-view+json": {
       "model_id": "c3bbba70751f4fc0b6112034826c5346",
       "version_major": 2,
       "version_minor": 0
      },
      "text/plain": [
       "  0%|          | 0/58 [00:00<?, ?it/s]"
      ]
     },
     "metadata": {},
     "output_type": "display_data"
    },
    {
     "data": {
      "application/vnd.jupyter.widget-view+json": {
       "model_id": "33e233556b9c49a0a1bf20627b627ef5",
       "version_major": 2,
       "version_minor": 0
      },
      "text/plain": [
       "  0%|          | 0/57 [00:00<?, ?it/s]"
      ]
     },
     "metadata": {},
     "output_type": "display_data"
    },
    {
     "data": {
      "application/vnd.jupyter.widget-view+json": {
       "model_id": "7ac805e3b6f54cfea4a18af31795fc30",
       "version_major": 2,
       "version_minor": 0
      },
      "text/plain": [
       "  0%|          | 0/56 [00:00<?, ?it/s]"
      ]
     },
     "metadata": {},
     "output_type": "display_data"
    },
    {
     "data": {
      "application/vnd.jupyter.widget-view+json": {
       "model_id": "1da273c59fb34de1b58758f00c0b01bc",
       "version_major": 2,
       "version_minor": 0
      },
      "text/plain": [
       "  0%|          | 0/55 [00:00<?, ?it/s]"
      ]
     },
     "metadata": {},
     "output_type": "display_data"
    },
    {
     "data": {
      "application/vnd.jupyter.widget-view+json": {
       "model_id": "98d4571b53034342a06af8a7b5036d7d",
       "version_major": 2,
       "version_minor": 0
      },
      "text/plain": [
       "  0%|          | 0/54 [00:00<?, ?it/s]"
      ]
     },
     "metadata": {},
     "output_type": "display_data"
    },
    {
     "data": {
      "application/vnd.jupyter.widget-view+json": {
       "model_id": "f51bb0ba3f174b038f9d751eb848440f",
       "version_major": 2,
       "version_minor": 0
      },
      "text/plain": [
       "  0%|          | 0/53 [00:00<?, ?it/s]"
      ]
     },
     "metadata": {},
     "output_type": "display_data"
    },
    {
     "data": {
      "application/vnd.jupyter.widget-view+json": {
       "model_id": "bb79ebeb767b49a79020083e3e22737e",
       "version_major": 2,
       "version_minor": 0
      },
      "text/plain": [
       "  0%|          | 0/52 [00:00<?, ?it/s]"
      ]
     },
     "metadata": {},
     "output_type": "display_data"
    },
    {
     "data": {
      "application/vnd.jupyter.widget-view+json": {
       "model_id": "b962662476d84765945fc3120489c741",
       "version_major": 2,
       "version_minor": 0
      },
      "text/plain": [
       "  0%|          | 0/51 [00:00<?, ?it/s]"
      ]
     },
     "metadata": {},
     "output_type": "display_data"
    },
    {
     "data": {
      "application/vnd.jupyter.widget-view+json": {
       "model_id": "48a087c39d2e4a57a9ac88a3695e2170",
       "version_major": 2,
       "version_minor": 0
      },
      "text/plain": [
       "  0%|          | 0/50 [00:00<?, ?it/s]"
      ]
     },
     "metadata": {},
     "output_type": "display_data"
    },
    {
     "data": {
      "application/vnd.jupyter.widget-view+json": {
       "model_id": "6e510794f39e47a0bbda747c44d5f440",
       "version_major": 2,
       "version_minor": 0
      },
      "text/plain": [
       "  0%|          | 0/49 [00:00<?, ?it/s]"
      ]
     },
     "metadata": {},
     "output_type": "display_data"
    },
    {
     "data": {
      "application/vnd.jupyter.widget-view+json": {
       "model_id": "62a78f9e7c314e57851ca3227ae21ab2",
       "version_major": 2,
       "version_minor": 0
      },
      "text/plain": [
       "  0%|          | 0/48 [00:00<?, ?it/s]"
      ]
     },
     "metadata": {},
     "output_type": "display_data"
    },
    {
     "data": {
      "application/vnd.jupyter.widget-view+json": {
       "model_id": "a20ad77bd3e0469e8c4a08a9a0d01e6b",
       "version_major": 2,
       "version_minor": 0
      },
      "text/plain": [
       "  0%|          | 0/47 [00:00<?, ?it/s]"
      ]
     },
     "metadata": {},
     "output_type": "display_data"
    },
    {
     "data": {
      "application/vnd.jupyter.widget-view+json": {
       "model_id": "326fb6187d6f48c6816f94a779cf7f04",
       "version_major": 2,
       "version_minor": 0
      },
      "text/plain": [
       "  0%|          | 0/46 [00:00<?, ?it/s]"
      ]
     },
     "metadata": {},
     "output_type": "display_data"
    },
    {
     "data": {
      "application/vnd.jupyter.widget-view+json": {
       "model_id": "f7a076585e204c20a886deb42acae42a",
       "version_major": 2,
       "version_minor": 0
      },
      "text/plain": [
       "  0%|          | 0/45 [00:00<?, ?it/s]"
      ]
     },
     "metadata": {},
     "output_type": "display_data"
    },
    {
     "data": {
      "application/vnd.jupyter.widget-view+json": {
       "model_id": "340f5573b388460d80793702d4278576",
       "version_major": 2,
       "version_minor": 0
      },
      "text/plain": [
       "  0%|          | 0/44 [00:00<?, ?it/s]"
      ]
     },
     "metadata": {},
     "output_type": "display_data"
    },
    {
     "data": {
      "application/vnd.jupyter.widget-view+json": {
       "model_id": "cbf152c957a64b009f88594782cbe3b2",
       "version_major": 2,
       "version_minor": 0
      },
      "text/plain": [
       "  0%|          | 0/43 [00:00<?, ?it/s]"
      ]
     },
     "metadata": {},
     "output_type": "display_data"
    },
    {
     "data": {
      "application/vnd.jupyter.widget-view+json": {
       "model_id": "fda3d5f73d1841e298f3c08605e7738e",
       "version_major": 2,
       "version_minor": 0
      },
      "text/plain": [
       "  0%|          | 0/42 [00:00<?, ?it/s]"
      ]
     },
     "metadata": {},
     "output_type": "display_data"
    },
    {
     "data": {
      "application/vnd.jupyter.widget-view+json": {
       "model_id": "d4732df9db1c479abc0d323b1155083a",
       "version_major": 2,
       "version_minor": 0
      },
      "text/plain": [
       "  0%|          | 0/41 [00:00<?, ?it/s]"
      ]
     },
     "metadata": {},
     "output_type": "display_data"
    },
    {
     "data": {
      "application/vnd.jupyter.widget-view+json": {
       "model_id": "7f2e151804ce4a80adeca348c477d5ea",
       "version_major": 2,
       "version_minor": 0
      },
      "text/plain": [
       "  0%|          | 0/40 [00:00<?, ?it/s]"
      ]
     },
     "metadata": {},
     "output_type": "display_data"
    },
    {
     "data": {
      "application/vnd.jupyter.widget-view+json": {
       "model_id": "d855511e14834b7ab80f54227a4fa5d1",
       "version_major": 2,
       "version_minor": 0
      },
      "text/plain": [
       "  0%|          | 0/39 [00:00<?, ?it/s]"
      ]
     },
     "metadata": {},
     "output_type": "display_data"
    },
    {
     "data": {
      "application/vnd.jupyter.widget-view+json": {
       "model_id": "0e54fe268f6c4363b5095e4bbb4632be",
       "version_major": 2,
       "version_minor": 0
      },
      "text/plain": [
       "  0%|          | 0/38 [00:00<?, ?it/s]"
      ]
     },
     "metadata": {},
     "output_type": "display_data"
    },
    {
     "data": {
      "application/vnd.jupyter.widget-view+json": {
       "model_id": "8431131daff6405cba6eab42aad23320",
       "version_major": 2,
       "version_minor": 0
      },
      "text/plain": [
       "  0%|          | 0/37 [00:00<?, ?it/s]"
      ]
     },
     "metadata": {},
     "output_type": "display_data"
    },
    {
     "data": {
      "application/vnd.jupyter.widget-view+json": {
       "model_id": "dfcb6020045a4a2686ff00959f50bea6",
       "version_major": 2,
       "version_minor": 0
      },
      "text/plain": [
       "  0%|          | 0/36 [00:00<?, ?it/s]"
      ]
     },
     "metadata": {},
     "output_type": "display_data"
    }
   ],
   "source": [
    "prices = []\n",
    "prices_up = {}\n",
    "prices_down = {}\n",
    "deltas = {}\n",
    "gammas = {}\n",
    "\n",
    "for t in tickers:\n",
    "    gammas[t] = []\n",
    "    deltas[t] = []\n",
    "    prices_up[t] = []\n",
    "    prices_down[t] = []\n",
    "\n",
    "\n",
    "h = 0.01\n",
    "n_paths = 100\n",
    "drift = 0.01107  # overwrriten by GBMTS\n",
    "risk_neutral = False\n",
    "implied_volatility = True\n",
    "drifts = []\n",
    "for current_id in tqdm(range(backtest_start, backtest_end)):\n",
    "    payoff = []\n",
    "    result, tickers, drift = MultivariateGBMSimulationTS(\n",
    "        s0=close.iloc[current_id],\n",
    "        n_paths=n_paths,\n",
    "        current_id=current_id,\n",
    "        window_size=30,\n",
    "        implied_volatility=implied_volatility,\n",
    "        h=h,\n",
    "    )\n",
    "    drift = np.array(drift)\n",
    "    drifts.append(drift[0] / 100)\n",
    "    # result, tickers = MultivariateGBMSimulation(s0=close.iloc[current_id], n_paths=n_paths, current_id=current_id, drift=drift, window_size=30, implied_volatility=implied_volatility, h=h)\n",
    "\n",
    "    old_path = {}\n",
    "    payoff_up = {}\n",
    "    payoff_down = {}\n",
    "    for t in tickers:\n",
    "        old_path[t] = combined_df[t].iloc[:current_id]\n",
    "        payoff_up[t] = []\n",
    "        payoff_down[t] = []\n",
    "    path_rog = [[], [], []]\n",
    "    path_cfr = [[], [], []]\n",
    "    path_zurn = [[], [], []]\n",
    "    for i in range(result.shape[-2]):\n",
    "        path_rog[0].append(np.append(old_path[tickers[0]], result[0][0][i].flatten()))\n",
    "        path_cfr[0].append(np.append(old_path[tickers[1]], result[0][1][i].flatten()))\n",
    "        path_zurn[0].append(np.append(old_path[tickers[2]], result[0][2][i].flatten()))\n",
    "\n",
    "        path_rog[1].append(np.append(old_path[tickers[0]], result[1][0][i].flatten()))\n",
    "        path_cfr[1].append(np.append(old_path[tickers[1]], result[1][1][i].flatten()))\n",
    "        path_zurn[1].append(np.append(old_path[tickers[2]], result[1][2][i].flatten()))\n",
    "\n",
    "        path_rog[2].append(np.append(old_path[tickers[0]], result[2][0][i].flatten()))\n",
    "        path_cfr[2].append(np.append(old_path[tickers[1]], result[2][1][i].flatten()))\n",
    "        path_zurn[2].append(np.append(old_path[tickers[2]], result[2][2][i].flatten()))\n",
    "\n",
    "    payoff = payoff_func_parallel(\n",
    "        path_rog[0],\n",
    "        path_cfr[0],\n",
    "        path_zurn[0],\n",
    "        combined_df.iloc[current_id][\"Date\"],\n",
    "        risk_free=drift,\n",
    "        risk_neutral=risk_neutral,\n",
    "        verbose=False,\n",
    "    )\n",
    "\n",
    "    up = payoff_func_parallel(\n",
    "        path_rog[1],\n",
    "        path_cfr[0],\n",
    "        path_zurn[0],\n",
    "        combined_df.iloc[current_id][\"Date\"],\n",
    "        risk_free=drift,\n",
    "        risk_neutral=risk_neutral,\n",
    "        verbose=False,\n",
    "    )\n",
    "    down = payoff_func_parallel(\n",
    "        path_rog[2],\n",
    "        path_cfr[0],\n",
    "        path_zurn[0],\n",
    "        combined_df.iloc[current_id][\"Date\"],\n",
    "        risk_free=drift,\n",
    "        risk_neutral=risk_neutral,\n",
    "        verbose=False,\n",
    "    )\n",
    "    payoff_up[\"ROG_Last_Price\"] = up\n",
    "    payoff_down[\"ROG_Last_Price\"] = down\n",
    "\n",
    "    up = payoff_func_parallel(\n",
    "        path_rog[0],\n",
    "        path_cfr[1],\n",
    "        path_zurn[0],\n",
    "        combined_df.iloc[current_id][\"Date\"],\n",
    "        risk_free=drift,\n",
    "        risk_neutral=risk_neutral,\n",
    "        verbose=False,\n",
    "    )\n",
    "    down = payoff_func_parallel(\n",
    "        path_rog[0],\n",
    "        path_cfr[2],\n",
    "        path_zurn[0],\n",
    "        combined_df.iloc[current_id][\"Date\"],\n",
    "        risk_free=drift,\n",
    "        risk_neutral=risk_neutral,\n",
    "        verbose=False,\n",
    "    )\n",
    "    payoff_up[\"CFR_Last_Price\"] = up\n",
    "    payoff_down[\"CFR_Last_Price\"] = down\n",
    "    up = payoff_func_parallel(\n",
    "        path_rog[0],\n",
    "        path_cfr[0],\n",
    "        path_zurn[1],\n",
    "        combined_df.iloc[current_id][\"Date\"],\n",
    "        risk_free=drift,\n",
    "        risk_neutral=risk_neutral,\n",
    "        verbose=False,\n",
    "    )\n",
    "    down = payoff_func_parallel(\n",
    "        path_rog[0],\n",
    "        path_cfr[0],\n",
    "        path_zurn[2],\n",
    "        combined_df.iloc[current_id][\"Date\"],\n",
    "        risk_free=drift,\n",
    "        risk_neutral=risk_neutral,\n",
    "        verbose=False,\n",
    "    )\n",
    "    payoff_up[\"ZURN_Last_Price\"] = up\n",
    "    payoff_down[\"ZURN_Last_Price\"] = down\n",
    "\n",
    "    for t in tickers:\n",
    "        prices_up[t].append(np.mean(payoff_up[t]))\n",
    "        prices_down[t].append(np.mean(payoff_down[t]))\n",
    "    prices.append(np.mean(payoff))\n",
    "\n",
    "prices = np.array(prices)\n",
    "\n",
    "for t in tickers:\n",
    "    prices_up[t] = np.array(prices_up[t])\n",
    "    prices_down[t] = np.array(prices_down[t])\n",
    "\n",
    "for t in tickers:\n",
    "    deltas[t].append(\n",
    "        np.exp(-np.mean(drifts) * (last_id - current_id))\n",
    "        * (prices_up[t] - prices_down[t])\n",
    "        / (2 * h)\n",
    "    )\n",
    "    gammas[t].append(\n",
    "        np.exp(-np.mean(drifts) * (last_id - current_id))\n",
    "        * (prices_up[t] - prices * 2 + prices_down[t])\n",
    "        / (h * h)\n",
    "    )"
   ]
  },
  {
   "cell_type": "markdown",
   "metadata": {},
   "source": [
    "## AV GREEKS CELL"
   ]
  },
  {
   "cell_type": "code",
   "execution_count": null,
   "metadata": {},
   "outputs": [
    {
     "data": {
      "application/vnd.jupyter.widget-view+json": {
       "model_id": "81fc0523cf3d4e4ebb07da8b330382f4",
       "version_major": 2,
       "version_minor": 0
      },
      "text/plain": [
       "  0%|          | 0/65 [00:00<?, ?it/s]"
      ]
     },
     "metadata": {},
     "output_type": "display_data"
    },
    {
     "data": {
      "application/vnd.jupyter.widget-view+json": {
       "model_id": "12e9d874faee4501a703444c56db7be9",
       "version_major": 2,
       "version_minor": 0
      },
      "text/plain": [
       "  0%|          | 0/100 [00:00<?, ?it/s]"
      ]
     },
     "metadata": {},
     "output_type": "display_data"
    },
    {
     "data": {
      "application/vnd.jupyter.widget-view+json": {
       "model_id": "2eac5ec7581c48ac87bf76e3ca153743",
       "version_major": 2,
       "version_minor": 0
      },
      "text/plain": [
       "  0%|          | 0/99 [00:00<?, ?it/s]"
      ]
     },
     "metadata": {},
     "output_type": "display_data"
    },
    {
     "data": {
      "application/vnd.jupyter.widget-view+json": {
       "model_id": "dc530e43bc654fe68be2717b3e606d14",
       "version_major": 2,
       "version_minor": 0
      },
      "text/plain": [
       "  0%|          | 0/98 [00:00<?, ?it/s]"
      ]
     },
     "metadata": {},
     "output_type": "display_data"
    },
    {
     "data": {
      "application/vnd.jupyter.widget-view+json": {
       "model_id": "669ea4e0da6745b5a50ee347a3ecaddf",
       "version_major": 2,
       "version_minor": 0
      },
      "text/plain": [
       "  0%|          | 0/97 [00:00<?, ?it/s]"
      ]
     },
     "metadata": {},
     "output_type": "display_data"
    },
    {
     "data": {
      "application/vnd.jupyter.widget-view+json": {
       "model_id": "55a45aa6f2ec4e5c9c268fbf82e9597e",
       "version_major": 2,
       "version_minor": 0
      },
      "text/plain": [
       "  0%|          | 0/96 [00:00<?, ?it/s]"
      ]
     },
     "metadata": {},
     "output_type": "display_data"
    },
    {
     "data": {
      "application/vnd.jupyter.widget-view+json": {
       "model_id": "4f2cec29a7694f0d960dcde11f3b0982",
       "version_major": 2,
       "version_minor": 0
      },
      "text/plain": [
       "  0%|          | 0/95 [00:00<?, ?it/s]"
      ]
     },
     "metadata": {},
     "output_type": "display_data"
    },
    {
     "data": {
      "application/vnd.jupyter.widget-view+json": {
       "model_id": "f145e9bb463f43ed919bb69a1617f63b",
       "version_major": 2,
       "version_minor": 0
      },
      "text/plain": [
       "  0%|          | 0/94 [00:00<?, ?it/s]"
      ]
     },
     "metadata": {},
     "output_type": "display_data"
    },
    {
     "data": {
      "application/vnd.jupyter.widget-view+json": {
       "model_id": "21b8574705d042e99454b42b784e838e",
       "version_major": 2,
       "version_minor": 0
      },
      "text/plain": [
       "  0%|          | 0/93 [00:00<?, ?it/s]"
      ]
     },
     "metadata": {},
     "output_type": "display_data"
    },
    {
     "data": {
      "application/vnd.jupyter.widget-view+json": {
       "model_id": "9e5cfa7b820e4eb2b9c4f5fb03934cf3",
       "version_major": 2,
       "version_minor": 0
      },
      "text/plain": [
       "  0%|          | 0/92 [00:00<?, ?it/s]"
      ]
     },
     "metadata": {},
     "output_type": "display_data"
    },
    {
     "data": {
      "application/vnd.jupyter.widget-view+json": {
       "model_id": "25d66dff9a9a49b8a2a9740d0c926ff6",
       "version_major": 2,
       "version_minor": 0
      },
      "text/plain": [
       "  0%|          | 0/91 [00:00<?, ?it/s]"
      ]
     },
     "metadata": {},
     "output_type": "display_data"
    },
    {
     "data": {
      "application/vnd.jupyter.widget-view+json": {
       "model_id": "1064b59b736a4083bba134ca63987dcd",
       "version_major": 2,
       "version_minor": 0
      },
      "text/plain": [
       "  0%|          | 0/90 [00:00<?, ?it/s]"
      ]
     },
     "metadata": {},
     "output_type": "display_data"
    },
    {
     "data": {
      "application/vnd.jupyter.widget-view+json": {
       "model_id": "5ee7948b180e4e189856f548bf084f98",
       "version_major": 2,
       "version_minor": 0
      },
      "text/plain": [
       "  0%|          | 0/89 [00:00<?, ?it/s]"
      ]
     },
     "metadata": {},
     "output_type": "display_data"
    },
    {
     "data": {
      "application/vnd.jupyter.widget-view+json": {
       "model_id": "46a2b13d50b94a47a6bddde2cdaa4927",
       "version_major": 2,
       "version_minor": 0
      },
      "text/plain": [
       "  0%|          | 0/88 [00:00<?, ?it/s]"
      ]
     },
     "metadata": {},
     "output_type": "display_data"
    },
    {
     "data": {
      "application/vnd.jupyter.widget-view+json": {
       "model_id": "f57983029f02440391e052d852dd41f0",
       "version_major": 2,
       "version_minor": 0
      },
      "text/plain": [
       "  0%|          | 0/87 [00:00<?, ?it/s]"
      ]
     },
     "metadata": {},
     "output_type": "display_data"
    },
    {
     "data": {
      "application/vnd.jupyter.widget-view+json": {
       "model_id": "be3d65dade624d869e67df624e79a444",
       "version_major": 2,
       "version_minor": 0
      },
      "text/plain": [
       "  0%|          | 0/86 [00:00<?, ?it/s]"
      ]
     },
     "metadata": {},
     "output_type": "display_data"
    },
    {
     "data": {
      "application/vnd.jupyter.widget-view+json": {
       "model_id": "55b4e6851bd74dc3a9775cdb617cfbc7",
       "version_major": 2,
       "version_minor": 0
      },
      "text/plain": [
       "  0%|          | 0/85 [00:00<?, ?it/s]"
      ]
     },
     "metadata": {},
     "output_type": "display_data"
    },
    {
     "data": {
      "application/vnd.jupyter.widget-view+json": {
       "model_id": "7adac1d3d27d41e58fa2972c1406060c",
       "version_major": 2,
       "version_minor": 0
      },
      "text/plain": [
       "  0%|          | 0/84 [00:00<?, ?it/s]"
      ]
     },
     "metadata": {},
     "output_type": "display_data"
    },
    {
     "data": {
      "application/vnd.jupyter.widget-view+json": {
       "model_id": "475fdc05109a47d3b2628faf2b2b6269",
       "version_major": 2,
       "version_minor": 0
      },
      "text/plain": [
       "  0%|          | 0/83 [00:00<?, ?it/s]"
      ]
     },
     "metadata": {},
     "output_type": "display_data"
    },
    {
     "data": {
      "application/vnd.jupyter.widget-view+json": {
       "model_id": "c4404641109b4d6290b2d6d46c6b7d32",
       "version_major": 2,
       "version_minor": 0
      },
      "text/plain": [
       "  0%|          | 0/82 [00:00<?, ?it/s]"
      ]
     },
     "metadata": {},
     "output_type": "display_data"
    },
    {
     "data": {
      "application/vnd.jupyter.widget-view+json": {
       "model_id": "c42ea16f73bf48d7b3619fa472dff9be",
       "version_major": 2,
       "version_minor": 0
      },
      "text/plain": [
       "  0%|          | 0/81 [00:00<?, ?it/s]"
      ]
     },
     "metadata": {},
     "output_type": "display_data"
    },
    {
     "data": {
      "application/vnd.jupyter.widget-view+json": {
       "model_id": "8ec644a4549048c3bd878c8651ab7691",
       "version_major": 2,
       "version_minor": 0
      },
      "text/plain": [
       "  0%|          | 0/80 [00:00<?, ?it/s]"
      ]
     },
     "metadata": {},
     "output_type": "display_data"
    },
    {
     "data": {
      "application/vnd.jupyter.widget-view+json": {
       "model_id": "72be42b68fb448a9938175a72b4a2627",
       "version_major": 2,
       "version_minor": 0
      },
      "text/plain": [
       "  0%|          | 0/79 [00:00<?, ?it/s]"
      ]
     },
     "metadata": {},
     "output_type": "display_data"
    },
    {
     "data": {
      "application/vnd.jupyter.widget-view+json": {
       "model_id": "df057b8f67c244c184d53987c56c5cc4",
       "version_major": 2,
       "version_minor": 0
      },
      "text/plain": [
       "  0%|          | 0/78 [00:00<?, ?it/s]"
      ]
     },
     "metadata": {},
     "output_type": "display_data"
    },
    {
     "data": {
      "application/vnd.jupyter.widget-view+json": {
       "model_id": "5919d11ce1d94fc7852229cca9b76497",
       "version_major": 2,
       "version_minor": 0
      },
      "text/plain": [
       "  0%|          | 0/77 [00:00<?, ?it/s]"
      ]
     },
     "metadata": {},
     "output_type": "display_data"
    },
    {
     "data": {
      "application/vnd.jupyter.widget-view+json": {
       "model_id": "96b31bfad3c34ce2b39ba2c1c4f322a0",
       "version_major": 2,
       "version_minor": 0
      },
      "text/plain": [
       "  0%|          | 0/76 [00:00<?, ?it/s]"
      ]
     },
     "metadata": {},
     "output_type": "display_data"
    },
    {
     "data": {
      "application/vnd.jupyter.widget-view+json": {
       "model_id": "37ab274bd5664811a536ff080176b093",
       "version_major": 2,
       "version_minor": 0
      },
      "text/plain": [
       "  0%|          | 0/75 [00:00<?, ?it/s]"
      ]
     },
     "metadata": {},
     "output_type": "display_data"
    },
    {
     "data": {
      "application/vnd.jupyter.widget-view+json": {
       "model_id": "aebc098200eb43ec923a0be092df718b",
       "version_major": 2,
       "version_minor": 0
      },
      "text/plain": [
       "  0%|          | 0/74 [00:00<?, ?it/s]"
      ]
     },
     "metadata": {},
     "output_type": "display_data"
    },
    {
     "data": {
      "application/vnd.jupyter.widget-view+json": {
       "model_id": "17d8cc220b964e18ac10384c1be55f5f",
       "version_major": 2,
       "version_minor": 0
      },
      "text/plain": [
       "  0%|          | 0/73 [00:00<?, ?it/s]"
      ]
     },
     "metadata": {},
     "output_type": "display_data"
    },
    {
     "data": {
      "application/vnd.jupyter.widget-view+json": {
       "model_id": "7d37d2fae04a4a8b85a2379be3325157",
       "version_major": 2,
       "version_minor": 0
      },
      "text/plain": [
       "  0%|          | 0/72 [00:00<?, ?it/s]"
      ]
     },
     "metadata": {},
     "output_type": "display_data"
    },
    {
     "data": {
      "application/vnd.jupyter.widget-view+json": {
       "model_id": "7dbf174da371445790b355b6d8ce6e53",
       "version_major": 2,
       "version_minor": 0
      },
      "text/plain": [
       "  0%|          | 0/71 [00:00<?, ?it/s]"
      ]
     },
     "metadata": {},
     "output_type": "display_data"
    },
    {
     "data": {
      "application/vnd.jupyter.widget-view+json": {
       "model_id": "70b224ca3a9341e39f9953c59f7148db",
       "version_major": 2,
       "version_minor": 0
      },
      "text/plain": [
       "  0%|          | 0/70 [00:00<?, ?it/s]"
      ]
     },
     "metadata": {},
     "output_type": "display_data"
    },
    {
     "data": {
      "application/vnd.jupyter.widget-view+json": {
       "model_id": "a18d54159d1d44c09fc482449342b247",
       "version_major": 2,
       "version_minor": 0
      },
      "text/plain": [
       "  0%|          | 0/69 [00:00<?, ?it/s]"
      ]
     },
     "metadata": {},
     "output_type": "display_data"
    },
    {
     "data": {
      "application/vnd.jupyter.widget-view+json": {
       "model_id": "32e47652b57a4ceebcc38447138a11b1",
       "version_major": 2,
       "version_minor": 0
      },
      "text/plain": [
       "  0%|          | 0/68 [00:00<?, ?it/s]"
      ]
     },
     "metadata": {},
     "output_type": "display_data"
    },
    {
     "data": {
      "application/vnd.jupyter.widget-view+json": {
       "model_id": "3065e27455c34e8984af0672f182b2f1",
       "version_major": 2,
       "version_minor": 0
      },
      "text/plain": [
       "  0%|          | 0/67 [00:00<?, ?it/s]"
      ]
     },
     "metadata": {},
     "output_type": "display_data"
    },
    {
     "data": {
      "application/vnd.jupyter.widget-view+json": {
       "model_id": "2f7cc921aa0c40e8a11f69b25523abf0",
       "version_major": 2,
       "version_minor": 0
      },
      "text/plain": [
       "  0%|          | 0/66 [00:00<?, ?it/s]"
      ]
     },
     "metadata": {},
     "output_type": "display_data"
    },
    {
     "data": {
      "application/vnd.jupyter.widget-view+json": {
       "model_id": "b167763e90d447f580b6d015fbed354c",
       "version_major": 2,
       "version_minor": 0
      },
      "text/plain": [
       "  0%|          | 0/65 [00:00<?, ?it/s]"
      ]
     },
     "metadata": {},
     "output_type": "display_data"
    },
    {
     "data": {
      "application/vnd.jupyter.widget-view+json": {
       "model_id": "a23d57fdf02743329cb21364b3bd2254",
       "version_major": 2,
       "version_minor": 0
      },
      "text/plain": [
       "  0%|          | 0/64 [00:00<?, ?it/s]"
      ]
     },
     "metadata": {},
     "output_type": "display_data"
    },
    {
     "data": {
      "application/vnd.jupyter.widget-view+json": {
       "model_id": "2d218e57babb4d4488514448c6eaf581",
       "version_major": 2,
       "version_minor": 0
      },
      "text/plain": [
       "  0%|          | 0/63 [00:00<?, ?it/s]"
      ]
     },
     "metadata": {},
     "output_type": "display_data"
    },
    {
     "data": {
      "application/vnd.jupyter.widget-view+json": {
       "model_id": "ea6a30f9609b49b0a785c2490cde8909",
       "version_major": 2,
       "version_minor": 0
      },
      "text/plain": [
       "  0%|          | 0/62 [00:00<?, ?it/s]"
      ]
     },
     "metadata": {},
     "output_type": "display_data"
    },
    {
     "data": {
      "application/vnd.jupyter.widget-view+json": {
       "model_id": "7e7b207a0ea5490f802bee4d70232325",
       "version_major": 2,
       "version_minor": 0
      },
      "text/plain": [
       "  0%|          | 0/61 [00:00<?, ?it/s]"
      ]
     },
     "metadata": {},
     "output_type": "display_data"
    },
    {
     "data": {
      "application/vnd.jupyter.widget-view+json": {
       "model_id": "b815088d775e4a0284febcf51390bdcb",
       "version_major": 2,
       "version_minor": 0
      },
      "text/plain": [
       "  0%|          | 0/60 [00:00<?, ?it/s]"
      ]
     },
     "metadata": {},
     "output_type": "display_data"
    },
    {
     "data": {
      "application/vnd.jupyter.widget-view+json": {
       "model_id": "91c86e57855e448e990ed8be10424d6b",
       "version_major": 2,
       "version_minor": 0
      },
      "text/plain": [
       "  0%|          | 0/59 [00:00<?, ?it/s]"
      ]
     },
     "metadata": {},
     "output_type": "display_data"
    },
    {
     "data": {
      "application/vnd.jupyter.widget-view+json": {
       "model_id": "42611c27118042bab24c95cc4903d416",
       "version_major": 2,
       "version_minor": 0
      },
      "text/plain": [
       "  0%|          | 0/58 [00:00<?, ?it/s]"
      ]
     },
     "metadata": {},
     "output_type": "display_data"
    },
    {
     "data": {
      "application/vnd.jupyter.widget-view+json": {
       "model_id": "02c701d77af24da6bf50ecfe0010e3d1",
       "version_major": 2,
       "version_minor": 0
      },
      "text/plain": [
       "  0%|          | 0/57 [00:00<?, ?it/s]"
      ]
     },
     "metadata": {},
     "output_type": "display_data"
    },
    {
     "data": {
      "application/vnd.jupyter.widget-view+json": {
       "model_id": "2ccd221133c1401c8f0525e6b74751a4",
       "version_major": 2,
       "version_minor": 0
      },
      "text/plain": [
       "  0%|          | 0/56 [00:00<?, ?it/s]"
      ]
     },
     "metadata": {},
     "output_type": "display_data"
    },
    {
     "data": {
      "application/vnd.jupyter.widget-view+json": {
       "model_id": "27d0316fff2544d7b535fbaea24aa84d",
       "version_major": 2,
       "version_minor": 0
      },
      "text/plain": [
       "  0%|          | 0/55 [00:00<?, ?it/s]"
      ]
     },
     "metadata": {},
     "output_type": "display_data"
    },
    {
     "data": {
      "application/vnd.jupyter.widget-view+json": {
       "model_id": "bcb2e065233342f0ace1d91a74155f23",
       "version_major": 2,
       "version_minor": 0
      },
      "text/plain": [
       "  0%|          | 0/54 [00:00<?, ?it/s]"
      ]
     },
     "metadata": {},
     "output_type": "display_data"
    },
    {
     "data": {
      "application/vnd.jupyter.widget-view+json": {
       "model_id": "221119455d7e4838952a64a83c079dbf",
       "version_major": 2,
       "version_minor": 0
      },
      "text/plain": [
       "  0%|          | 0/53 [00:00<?, ?it/s]"
      ]
     },
     "metadata": {},
     "output_type": "display_data"
    },
    {
     "data": {
      "application/vnd.jupyter.widget-view+json": {
       "model_id": "23166aaf68a3473b9f9fcb6ee1e4f950",
       "version_major": 2,
       "version_minor": 0
      },
      "text/plain": [
       "  0%|          | 0/52 [00:00<?, ?it/s]"
      ]
     },
     "metadata": {},
     "output_type": "display_data"
    },
    {
     "data": {
      "application/vnd.jupyter.widget-view+json": {
       "model_id": "3322e38a5f034b978a04bdb0689cb8dd",
       "version_major": 2,
       "version_minor": 0
      },
      "text/plain": [
       "  0%|          | 0/51 [00:00<?, ?it/s]"
      ]
     },
     "metadata": {},
     "output_type": "display_data"
    },
    {
     "data": {
      "application/vnd.jupyter.widget-view+json": {
       "model_id": "23c2deead5874e1ea52952fd3f98d347",
       "version_major": 2,
       "version_minor": 0
      },
      "text/plain": [
       "  0%|          | 0/50 [00:00<?, ?it/s]"
      ]
     },
     "metadata": {},
     "output_type": "display_data"
    },
    {
     "data": {
      "application/vnd.jupyter.widget-view+json": {
       "model_id": "e69b88f6ea4844aca43642f9242217df",
       "version_major": 2,
       "version_minor": 0
      },
      "text/plain": [
       "  0%|          | 0/49 [00:00<?, ?it/s]"
      ]
     },
     "metadata": {},
     "output_type": "display_data"
    },
    {
     "data": {
      "application/vnd.jupyter.widget-view+json": {
       "model_id": "2670e5b76f0a42b39b276045245adcd6",
       "version_major": 2,
       "version_minor": 0
      },
      "text/plain": [
       "  0%|          | 0/48 [00:00<?, ?it/s]"
      ]
     },
     "metadata": {},
     "output_type": "display_data"
    },
    {
     "data": {
      "application/vnd.jupyter.widget-view+json": {
       "model_id": "1c76bae381094fcaab29d9d875ef068b",
       "version_major": 2,
       "version_minor": 0
      },
      "text/plain": [
       "  0%|          | 0/47 [00:00<?, ?it/s]"
      ]
     },
     "metadata": {},
     "output_type": "display_data"
    },
    {
     "data": {
      "application/vnd.jupyter.widget-view+json": {
       "model_id": "4b2da7eb414c450cb8324a04f17006bb",
       "version_major": 2,
       "version_minor": 0
      },
      "text/plain": [
       "  0%|          | 0/46 [00:00<?, ?it/s]"
      ]
     },
     "metadata": {},
     "output_type": "display_data"
    },
    {
     "data": {
      "application/vnd.jupyter.widget-view+json": {
       "model_id": "6fb5c338dcca4c8681a80e864e8da230",
       "version_major": 2,
       "version_minor": 0
      },
      "text/plain": [
       "  0%|          | 0/45 [00:00<?, ?it/s]"
      ]
     },
     "metadata": {},
     "output_type": "display_data"
    },
    {
     "data": {
      "application/vnd.jupyter.widget-view+json": {
       "model_id": "d512dad3da9a405eb8f91c4bcbb46341",
       "version_major": 2,
       "version_minor": 0
      },
      "text/plain": [
       "  0%|          | 0/44 [00:00<?, ?it/s]"
      ]
     },
     "metadata": {},
     "output_type": "display_data"
    },
    {
     "data": {
      "application/vnd.jupyter.widget-view+json": {
       "model_id": "53b8393def714025a472ca5b6638550f",
       "version_major": 2,
       "version_minor": 0
      },
      "text/plain": [
       "  0%|          | 0/43 [00:00<?, ?it/s]"
      ]
     },
     "metadata": {},
     "output_type": "display_data"
    },
    {
     "data": {
      "application/vnd.jupyter.widget-view+json": {
       "model_id": "7a942444bc0b476da0bb7da0e0ed3a94",
       "version_major": 2,
       "version_minor": 0
      },
      "text/plain": [
       "  0%|          | 0/42 [00:00<?, ?it/s]"
      ]
     },
     "metadata": {},
     "output_type": "display_data"
    },
    {
     "data": {
      "application/vnd.jupyter.widget-view+json": {
       "model_id": "30a2efa85710481fa60232ff6074f306",
       "version_major": 2,
       "version_minor": 0
      },
      "text/plain": [
       "  0%|          | 0/41 [00:00<?, ?it/s]"
      ]
     },
     "metadata": {},
     "output_type": "display_data"
    },
    {
     "data": {
      "application/vnd.jupyter.widget-view+json": {
       "model_id": "089067dbd9424efa9136260e2cca98cc",
       "version_major": 2,
       "version_minor": 0
      },
      "text/plain": [
       "  0%|          | 0/40 [00:00<?, ?it/s]"
      ]
     },
     "metadata": {},
     "output_type": "display_data"
    },
    {
     "data": {
      "application/vnd.jupyter.widget-view+json": {
       "model_id": "8f94eee26e394d45a7659af60d5d0061",
       "version_major": 2,
       "version_minor": 0
      },
      "text/plain": [
       "  0%|          | 0/39 [00:00<?, ?it/s]"
      ]
     },
     "metadata": {},
     "output_type": "display_data"
    },
    {
     "data": {
      "application/vnd.jupyter.widget-view+json": {
       "model_id": "f682833254a9423f8bd5eb4ea38b940c",
       "version_major": 2,
       "version_minor": 0
      },
      "text/plain": [
       "  0%|          | 0/38 [00:00<?, ?it/s]"
      ]
     },
     "metadata": {},
     "output_type": "display_data"
    },
    {
     "data": {
      "application/vnd.jupyter.widget-view+json": {
       "model_id": "1d1d21cf8fd342ad865644dd464c1b82",
       "version_major": 2,
       "version_minor": 0
      },
      "text/plain": [
       "  0%|          | 0/37 [00:00<?, ?it/s]"
      ]
     },
     "metadata": {},
     "output_type": "display_data"
    },
    {
     "data": {
      "application/vnd.jupyter.widget-view+json": {
       "model_id": "3421168d235f4653bcb038fc4b5997e8",
       "version_major": 2,
       "version_minor": 0
      },
      "text/plain": [
       "  0%|          | 0/36 [00:00<?, ?it/s]"
      ]
     },
     "metadata": {},
     "output_type": "display_data"
    },
    {
     "data": {
      "text/plain": [
       "{'ROG_Last_Price': [array([0., 0., 0., 0., 0., 0., 0., 0., 0., 0., 0., 0., 0., 0., 0., 0., 0.,\n",
       "         0., 0., 0., 0., 0., 0., 0., 0., 0., 0., 0., 0., 0., 0., 0., 0., 0.,\n",
       "         0., 0., 0., 0., 0., 0., 0., 0., 0., 0., 0., 0., 0., 0., 0., 0., 0.,\n",
       "         0., 0., 0., 0., 0., 0., 0., 0., 0., 0., 0., 0., 0., 0.])],\n",
       " 'CFR_Last_Price': [array([ 1.44188477,  1.4670207 ,  1.22273814,  0.        ,  0.        ,\n",
       "          0.08037712,  6.69206293,  4.13371542,  1.39376138,  5.1055901 ,\n",
       "          0.08076224,  2.68985597,  0.        ,  0.08478671,  1.32239264,\n",
       "          1.36402408,  0.03873278,  0.04006417,  0.        ,  0.        ,\n",
       "          0.        ,  0.        ,  0.        ,  0.        ,  0.        ,\n",
       "          0.        ,  0.        ,  0.        ,  0.        ,  0.        ,\n",
       "          0.        ,  0.        ,  2.66051851,  1.34695737,  0.        ,\n",
       "          0.        ,  2.65951872,  1.45954851,  0.1118077 ,  5.49766088,\n",
       "         14.88317934,  5.40892874,  0.04036052,  0.        ,  0.        ,\n",
       "          0.        ,  0.        ,  0.        ,  0.        ,  0.        ,\n",
       "          0.        ,  0.        ,  0.        ,  0.        ,  0.        ,\n",
       "          0.        ,  0.        ,  0.        ,  0.        ,  0.        ,\n",
       "          0.        ,  0.        ,  0.        ,  0.        ,  0.        ])],\n",
       " 'ZURN_Last_Price': [array([0., 0., 0., 0., 0., 0., 0., 0., 0., 0., 0., 0., 0., 0., 0., 0., 0.,\n",
       "         0., 0., 0., 0., 0., 0., 0., 0., 0., 0., 0., 0., 0., 0., 0., 0., 0.,\n",
       "         0., 0., 0., 0., 0., 0., 0., 0., 0., 0., 0., 0., 0., 0., 0., 0., 0.,\n",
       "         0., 0., 0., 0., 0., 0., 0., 0., 0., 0., 0., 0., 0., 0.])]}"
      ]
     },
     "execution_count": 782,
     "metadata": {},
     "output_type": "execute_result"
    }
   ],
   "source": [
    "prices = []\n",
    "prices_up = {}\n",
    "prices_down = {}\n",
    "deltas = {}\n",
    "gammas = {}\n",
    "\n",
    "for t in tickers:\n",
    "    gammas[t] = []\n",
    "    deltas[t] = []\n",
    "    prices_up[t] = []\n",
    "    prices_down[t] = []\n",
    "\n",
    "\n",
    "h = 0.01\n",
    "n_paths = 10000\n",
    "drift = 0.01107  # overwrriten by GBMTS\n",
    "risk_neutral = True\n",
    "implied_volatility = True\n",
    "\n",
    "# drifts = []\n",
    "for current_id in tqdm(range(backtest_start, backtest_end)):\n",
    "    payoff = []\n",
    "    result, tickers = MultivariateGBMSimulationAV(\n",
    "        s0=close.iloc[current_id],\n",
    "        n_paths=n_paths,\n",
    "        current_id=current_id,\n",
    "        window_size=30,\n",
    "        implied_volatility=implied_volatility,\n",
    "        h=h,\n",
    "    )\n",
    "    # drifts.append(drift[0] / 100)\n",
    "    # result, tickers = MultivariateGBMSimulation(s0=close.iloc[current_id], n_paths=n_paths, current_id=current_id, drift=drift, window_size=30, implied_volatility=implied_volatility, h=h)\n",
    "\n",
    "    old_path = {}\n",
    "    payoff_up = {}\n",
    "    payoff_down = {}\n",
    "    for t in tickers:\n",
    "        old_path[t] = combined_df[t].iloc[:current_id]\n",
    "        payoff_up[t] = []\n",
    "        payoff_down[t] = []\n",
    "    path_rog = [[], [], []]\n",
    "    path_cfr = [[], [], []]\n",
    "    path_zurn = [[], [], []]\n",
    "    for i in range(result.shape[-2]):\n",
    "        path_rog[0].append(np.append(old_path[tickers[0]], result[0][0][i].flatten()))\n",
    "        path_cfr[0].append(np.append(old_path[tickers[1]], result[0][1][i].flatten()))\n",
    "        path_zurn[0].append(np.append(old_path[tickers[2]], result[0][2][i].flatten()))\n",
    "\n",
    "        path_rog[1].append(np.append(old_path[tickers[0]], result[1][0][i].flatten()))\n",
    "        path_cfr[1].append(np.append(old_path[tickers[1]], result[1][1][i].flatten()))\n",
    "        path_zurn[1].append(np.append(old_path[tickers[2]], result[1][2][i].flatten()))\n",
    "\n",
    "        path_rog[2].append(np.append(old_path[tickers[0]], result[2][0][i].flatten()))\n",
    "        path_cfr[2].append(np.append(old_path[tickers[1]], result[2][1][i].flatten()))\n",
    "        path_zurn[2].append(np.append(old_path[tickers[2]], result[2][2][i].flatten()))\n",
    "\n",
    "    payoff = payoff_func_parallel(\n",
    "        path_rog[0],\n",
    "        path_cfr[0],\n",
    "        path_zurn[0],\n",
    "        combined_df.iloc[current_id][\"Date\"],\n",
    "        risk_free=drift,\n",
    "        risk_neutral=risk_neutral,\n",
    "        verbose=False,\n",
    "    )\n",
    "\n",
    "    up = payoff_func_parallel(\n",
    "        path_rog[1],\n",
    "        path_cfr[0],\n",
    "        path_zurn[0],\n",
    "        combined_df.iloc[current_id][\"Date\"],\n",
    "        risk_free=drift,\n",
    "        risk_neutral=risk_neutral,\n",
    "        verbose=False,\n",
    "    )\n",
    "    down = payoff_func_parallel(\n",
    "        path_rog[2],\n",
    "        path_cfr[0],\n",
    "        path_zurn[0],\n",
    "        combined_df.iloc[current_id][\"Date\"],\n",
    "        risk_free=drift,\n",
    "        risk_neutral=risk_neutral,\n",
    "        verbose=False,\n",
    "    )\n",
    "    payoff_up[\"ROG_Last_Price\"] = up\n",
    "    payoff_down[\"ROG_Last_Price\"] = down\n",
    "\n",
    "    up = payoff_func_parallel(\n",
    "        path_rog[0],\n",
    "        path_cfr[1],\n",
    "        path_zurn[0],\n",
    "        combined_df.iloc[current_id][\"Date\"],\n",
    "        risk_free=drift,\n",
    "        risk_neutral=risk_neutral,\n",
    "        verbose=False,\n",
    "    )\n",
    "    down = payoff_func_parallel(\n",
    "        path_rog[0],\n",
    "        path_cfr[2],\n",
    "        path_zurn[0],\n",
    "        combined_df.iloc[current_id][\"Date\"],\n",
    "        risk_free=drift,\n",
    "        risk_neutral=risk_neutral,\n",
    "        verbose=False,\n",
    "    )\n",
    "    payoff_up[\"CFR_Last_Price\"] = up\n",
    "    payoff_down[\"CFR_Last_Price\"] = down\n",
    "    up = payoff_func_parallel(\n",
    "        path_rog[0],\n",
    "        path_cfr[0],\n",
    "        path_zurn[1],\n",
    "        combined_df.iloc[current_id][\"Date\"],\n",
    "        risk_free=drift,\n",
    "        risk_neutral=risk_neutral,\n",
    "        verbose=False,\n",
    "    )\n",
    "    down = payoff_func_parallel(\n",
    "        path_rog[0],\n",
    "        path_cfr[0],\n",
    "        path_zurn[2],\n",
    "        combined_df.iloc[current_id][\"Date\"],\n",
    "        risk_free=drift,\n",
    "        risk_neutral=risk_neutral,\n",
    "        verbose=False,\n",
    "    )\n",
    "    payoff_up[\"ZURN_Last_Price\"] = up\n",
    "    payoff_down[\"ZURN_Last_Price\"] = down\n",
    "\n",
    "    for t in tickers:\n",
    "        prices_up[t].append(np.mean(payoff_up[t]))\n",
    "        prices_down[t].append(np.mean(payoff_down[t]))\n",
    "    prices.append(np.mean(payoff))\n",
    "\n",
    "prices = np.array(prices)\n",
    "\n",
    "for t in tickers:\n",
    "    prices_up[t] = np.array(prices_up[t])\n",
    "    prices_down[t] = np.array(prices_down[t])\n",
    "\n",
    "for t in tickers:\n",
    "    deltas[t].append(\n",
    "        np.exp(-drift * (last_id - current_id))\n",
    "        * (prices_up[t] - prices_down[t])\n",
    "        / (2 * h)\n",
    "    )\n",
    "    gammas[t].append(\n",
    "        np.exp(-drift * (last_id - current_id))\n",
    "        * (prices_up[t] - prices * 2 + prices_down[t])\n",
    "        / (h * h)\n",
    "    )"
   ]
  },
  {
   "cell_type": "code",
   "execution_count": 788,
   "metadata": {},
   "outputs": [
    {
     "data": {
      "image/png": "[encoded data removed]",
      "text/plain": [
       "<Figure size 1500x1000 with 6 Axes>"
      ]
     },
     "metadata": {},
     "output_type": "display_data"
    }
   ],
   "source": [
    "labels = [\"ROG\", \"CFR\", \"ZURN\"]\n",
    "f, axes = plt.subplots(3, 2, figsize=(15, 10))\n",
    "for i, t in enumerate(tickers):\n",
    "    sns.lineplot(deltas[t], ax=axes[i][0])\n",
    "    axes[i][0].set_title(f\"{labels[i]} deltas\")\n",
    "    sns.lineplot(gammas[t], ax=axes[i][1])\n",
    "    axes[i][1].set_title(f\"{labels[i]} gammas\")\n",
    "\n",
    "plt.tight_layout()"
   ]
  },
  {
   "cell_type": "code",
   "execution_count": 784,
   "metadata": {},
   "outputs": [
    {
     "data": {
      "image/png": "[encoded data removed]",
      "text/plain": [
       "<Figure size 1500x1000 with 6 Axes>"
      ]
     },
     "metadata": {},
     "output_type": "display_data"
    }
   ],
   "source": [
    "labels = [\"ROG\", \"CFR\", \"ZURN\"]\n",
    "f, axes = plt.subplots(3, 2, figsize=(15, 10))\n",
    "for i, t in enumerate(tickers):\n",
    "    sns.lineplot(deltas[t], ax=axes[i][0])\n",
    "    axes[i][0].set_title(f\"{labels[i]} deltas\")\n",
    "    sns.lineplot(gammas[t], ax=axes[i][1])\n",
    "    axes[i][1].set_title(f\"{labels[i]} gammas\")\n",
    "\n",
    "plt.tight_layout()"
   ]
  },
  {
   "cell_type": "code",
   "execution_count": 789,
   "metadata": {},
   "outputs": [],
   "source": [
    "price_1 = [prices]"
   ]
  },
  {
   "cell_type": "code",
   "execution_count": 792,
   "metadata": {},
   "outputs": [
    {
     "name": "stderr",
     "output_type": "stream",
     "text": [
      "/home/bach/mh4518_simulation_in_fin/notebooks/../utils/utils.py:241: UserWarning: Could not infer format, so each element will be parsed individually, falling back to `dateutil`. To ensure parsing is consistent and as-expected, please specify a format.\n"
     ]
    },
    {
     "name": "stdout",
     "output_type": "stream",
     "text": [
      "1188.9192639996186\n"
     ]
    },
    {
     "data": {
      "image/png": "[encoded data removed]",
      "text/plain": [
       "<Figure size 1600x400 with 1 Axes>"
      ]
     },
     "metadata": {},
     "output_type": "display_data"
    }
   ],
   "source": [
    "combined_df = retrieve_data()\n",
    "\n",
    "evaluation_plot(backtest_start, backtest_end, combined_df, price_1, ylim=(900, 1100))"
   ]
  },
  {
   "cell_type": "code",
   "execution_count": null,
   "metadata": {},
   "outputs": [],
   "source": []
  }
 ],
 "metadata": {
  "kernelspec": {
   "display_name": "mh4518",
   "language": "python",
   "name": "python3"
  },
  "language_info": {
   "codemirror_mode": {
    "name": "ipython",
    "version": 3
   },
   "file_extension": ".py",
   "mimetype": "text/x-python",
   "name": "python",
   "nbconvert_exporter": "python",
   "pygments_lexer": "ipython3",
   "version": "3.11.10"
  }
 },
 "nbformat": 4,
 "nbformat_minor": 2
}
