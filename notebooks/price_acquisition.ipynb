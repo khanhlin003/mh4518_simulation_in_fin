{
 "cells": [
  {
   "cell_type": "code",
   "execution_count": 5,
   "metadata": {},
   "outputs": [],
   "source": [
    "import pandas as pd \n",
    "import yfinance as yf"
   ]
  },
  {
   "cell_type": "code",
   "execution_count": 14,
   "metadata": {},
   "outputs": [
    {
     "name": "stderr",
     "output_type": "stream",
     "text": [
      "[*********************100%***********************]  3 of 3 completed\n"
     ]
    }
   ],
   "source": [
    "data = yf.download(['ROG.SW', 'CFR.SW', 'ZURN.SW'], start='2019-07-19')"
   ]
  },
  {
   "cell_type": "code",
   "execution_count": 2,
   "metadata": {},
   "outputs": [],
   "source": [
    "ticker = ['rog', 'cfr', 'zurn', 'rog_ivol', 'cfr_ivol', 'zurn_ivol', 'risk-free']"
   ]
  },
  {
   "cell_type": "code",
   "execution_count": 1,
   "metadata": {},
   "outputs": [
    {
     "ename": "NameError",
     "evalue": "name 'ticker' is not defined",
     "output_type": "error",
     "traceback": [
      "\u001b[0;31m---------------------------------------------------------------------------\u001b[0m",
      "\u001b[0;31mNameError\u001b[0m                                 Traceback (most recent call last)",
      "Cell \u001b[0;32mIn[1], line 1\u001b[0m\n\u001b[0;32m----> 1\u001b[0m \u001b[38;5;28;01mfor\u001b[39;00m t \u001b[38;5;129;01min\u001b[39;00m ticker:\n\u001b[1;32m      2\u001b[0m     pd\u001b[38;5;241m.\u001b[39mread_excel(\u001b[38;5;124m'\u001b[39m\u001b[38;5;124m../data/mh4518 updated data.xlsx\u001b[39m\u001b[38;5;124m'\u001b[39m, t)\u001b[38;5;241m.\u001b[39mto_csv(\u001b[38;5;124mf\u001b[39m\u001b[38;5;124m'\u001b[39m\u001b[38;5;124m../data/long_\u001b[39m\u001b[38;5;132;01m{\u001b[39;00mt\u001b[38;5;132;01m}\u001b[39;00m\u001b[38;5;124m.csv\u001b[39m\u001b[38;5;124m'\u001b[39m, index\u001b[38;5;241m=\u001b[39m\u001b[38;5;28;01mNone\u001b[39;00m)\n",
      "\u001b[0;31mNameError\u001b[0m: name 'ticker' is not defined"
     ]
    }
   ],
   "source": [
    "for t in ticker:\n",
    "    pd.read_excel('../data/mh4518 updated data.xlsx', t).to_csv(f'../data/long_{t}.csv', index=None)"
   ]
  },
  {
   "cell_type": "code",
   "execution_count": 16,
   "metadata": {},
   "outputs": [
    {
     "data": {
      "text/html": [
       "<div>\n",
       "<style scoped>\n",
       "    .dataframe tbody tr th:only-of-type {\n",
       "        vertical-align: middle;\n",
       "    }\n",
       "\n",
       "    .dataframe tbody tr th {\n",
       "        vertical-align: top;\n",
       "    }\n",
       "\n",
       "    .dataframe thead tr th {\n",
       "        text-align: left;\n",
       "    }\n",
       "\n",
       "    .dataframe thead tr:last-of-type th {\n",
       "        text-align: right;\n",
       "    }\n",
       "</style>\n",
       "<table border=\"1\" class=\"dataframe\">\n",
       "  <thead>\n",
       "    <tr>\n",
       "      <th>Price</th>\n",
       "      <th colspan=\"3\" halign=\"left\">Adj Close</th>\n",
       "      <th colspan=\"3\" halign=\"left\">Close</th>\n",
       "      <th colspan=\"3\" halign=\"left\">High</th>\n",
       "      <th colspan=\"3\" halign=\"left\">Low</th>\n",
       "      <th colspan=\"3\" halign=\"left\">Open</th>\n",
       "      <th colspan=\"3\" halign=\"left\">Volume</th>\n",
       "    </tr>\n",
       "    <tr>\n",
       "      <th>Ticker</th>\n",
       "      <th>CFR.SW</th>\n",
       "      <th>ROG.SW</th>\n",
       "      <th>ZURN.SW</th>\n",
       "      <th>CFR.SW</th>\n",
       "      <th>ROG.SW</th>\n",
       "      <th>ZURN.SW</th>\n",
       "      <th>CFR.SW</th>\n",
       "      <th>ROG.SW</th>\n",
       "      <th>ZURN.SW</th>\n",
       "      <th>CFR.SW</th>\n",
       "      <th>ROG.SW</th>\n",
       "      <th>ZURN.SW</th>\n",
       "      <th>CFR.SW</th>\n",
       "      <th>ROG.SW</th>\n",
       "      <th>ZURN.SW</th>\n",
       "      <th>CFR.SW</th>\n",
       "      <th>ROG.SW</th>\n",
       "      <th>ZURN.SW</th>\n",
       "    </tr>\n",
       "    <tr>\n",
       "      <th>Date</th>\n",
       "      <th></th>\n",
       "      <th></th>\n",
       "      <th></th>\n",
       "      <th></th>\n",
       "      <th></th>\n",
       "      <th></th>\n",
       "      <th></th>\n",
       "      <th></th>\n",
       "      <th></th>\n",
       "      <th></th>\n",
       "      <th></th>\n",
       "      <th></th>\n",
       "      <th></th>\n",
       "      <th></th>\n",
       "      <th></th>\n",
       "      <th></th>\n",
       "      <th></th>\n",
       "      <th></th>\n",
       "    </tr>\n",
       "  </thead>\n",
       "  <tbody>\n",
       "    <tr>\n",
       "      <th>2019-07-19 00:00:00+00:00</th>\n",
       "      <td>76.119804</td>\n",
       "      <td>224.475647</td>\n",
       "      <td>265.548859</td>\n",
       "      <td>85.540001</td>\n",
       "      <td>264.649994</td>\n",
       "      <td>349.000000</td>\n",
       "      <td>87.440002</td>\n",
       "      <td>271.549988</td>\n",
       "      <td>350.299988</td>\n",
       "      <td>85.139999</td>\n",
       "      <td>262.850006</td>\n",
       "      <td>347.100006</td>\n",
       "      <td>86.660004</td>\n",
       "      <td>271.200012</td>\n",
       "      <td>350.000000</td>\n",
       "      <td>1804005</td>\n",
       "      <td>2583116</td>\n",
       "      <td>685825</td>\n",
       "    </tr>\n",
       "    <tr>\n",
       "      <th>2019-07-22 00:00:00+00:00</th>\n",
       "      <td>76.333374</td>\n",
       "      <td>224.518082</td>\n",
       "      <td>264.027069</td>\n",
       "      <td>85.779999</td>\n",
       "      <td>264.700012</td>\n",
       "      <td>347.000000</td>\n",
       "      <td>86.220001</td>\n",
       "      <td>265.799988</td>\n",
       "      <td>349.200012</td>\n",
       "      <td>85.120003</td>\n",
       "      <td>263.500000</td>\n",
       "      <td>345.799988</td>\n",
       "      <td>85.519997</td>\n",
       "      <td>265.399994</td>\n",
       "      <td>349.100006</td>\n",
       "      <td>1359588</td>\n",
       "      <td>1339653</td>\n",
       "      <td>492722</td>\n",
       "    </tr>\n",
       "    <tr>\n",
       "      <th>2019-07-23 00:00:00+00:00</th>\n",
       "      <td>76.813911</td>\n",
       "      <td>223.966721</td>\n",
       "      <td>264.940186</td>\n",
       "      <td>86.320000</td>\n",
       "      <td>264.049988</td>\n",
       "      <td>348.200012</td>\n",
       "      <td>86.599998</td>\n",
       "      <td>266.049988</td>\n",
       "      <td>349.899994</td>\n",
       "      <td>85.639999</td>\n",
       "      <td>262.850006</td>\n",
       "      <td>347.700012</td>\n",
       "      <td>86.320000</td>\n",
       "      <td>264.649994</td>\n",
       "      <td>348.299988</td>\n",
       "      <td>1848374</td>\n",
       "      <td>1519816</td>\n",
       "      <td>414749</td>\n",
       "    </tr>\n",
       "    <tr>\n",
       "      <th>2019-07-24 00:00:00+00:00</th>\n",
       "      <td>76.475761</td>\n",
       "      <td>223.754684</td>\n",
       "      <td>264.864105</td>\n",
       "      <td>85.940002</td>\n",
       "      <td>263.799988</td>\n",
       "      <td>348.100006</td>\n",
       "      <td>86.500000</td>\n",
       "      <td>266.950012</td>\n",
       "      <td>349.799988</td>\n",
       "      <td>85.139999</td>\n",
       "      <td>263.700012</td>\n",
       "      <td>347.500000</td>\n",
       "      <td>86.500000</td>\n",
       "      <td>265.000000</td>\n",
       "      <td>348.299988</td>\n",
       "      <td>1775604</td>\n",
       "      <td>1698279</td>\n",
       "      <td>510746</td>\n",
       "    </tr>\n",
       "    <tr>\n",
       "      <th>2019-07-25 00:00:00+00:00</th>\n",
       "      <td>76.386765</td>\n",
       "      <td>224.221207</td>\n",
       "      <td>265.396698</td>\n",
       "      <td>85.839996</td>\n",
       "      <td>264.350006</td>\n",
       "      <td>348.799988</td>\n",
       "      <td>86.559998</td>\n",
       "      <td>270.600006</td>\n",
       "      <td>353.000000</td>\n",
       "      <td>84.940002</td>\n",
       "      <td>263.450012</td>\n",
       "      <td>347.500000</td>\n",
       "      <td>86.000000</td>\n",
       "      <td>267.450012</td>\n",
       "      <td>347.700012</td>\n",
       "      <td>2070317</td>\n",
       "      <td>2732669</td>\n",
       "      <td>621513</td>\n",
       "    </tr>\n",
       "  </tbody>\n",
       "</table>\n",
       "</div>"
      ],
      "text/plain": [
       "Price                      Adj Close                              Close  \\\n",
       "Ticker                        CFR.SW      ROG.SW     ZURN.SW     CFR.SW   \n",
       "Date                                                                      \n",
       "2019-07-19 00:00:00+00:00  76.119804  224.475647  265.548859  85.540001   \n",
       "2019-07-22 00:00:00+00:00  76.333374  224.518082  264.027069  85.779999   \n",
       "2019-07-23 00:00:00+00:00  76.813911  223.966721  264.940186  86.320000   \n",
       "2019-07-24 00:00:00+00:00  76.475761  223.754684  264.864105  85.940002   \n",
       "2019-07-25 00:00:00+00:00  76.386765  224.221207  265.396698  85.839996   \n",
       "\n",
       "Price                                                   High              \\\n",
       "Ticker                         ROG.SW     ZURN.SW     CFR.SW      ROG.SW   \n",
       "Date                                                                       \n",
       "2019-07-19 00:00:00+00:00  264.649994  349.000000  87.440002  271.549988   \n",
       "2019-07-22 00:00:00+00:00  264.700012  347.000000  86.220001  265.799988   \n",
       "2019-07-23 00:00:00+00:00  264.049988  348.200012  86.599998  266.049988   \n",
       "2019-07-24 00:00:00+00:00  263.799988  348.100006  86.500000  266.950012   \n",
       "2019-07-25 00:00:00+00:00  264.350006  348.799988  86.559998  270.600006   \n",
       "\n",
       "Price                                        Low                          \\\n",
       "Ticker                        ZURN.SW     CFR.SW      ROG.SW     ZURN.SW   \n",
       "Date                                                                       \n",
       "2019-07-19 00:00:00+00:00  350.299988  85.139999  262.850006  347.100006   \n",
       "2019-07-22 00:00:00+00:00  349.200012  85.120003  263.500000  345.799988   \n",
       "2019-07-23 00:00:00+00:00  349.899994  85.639999  262.850006  347.700012   \n",
       "2019-07-24 00:00:00+00:00  349.799988  85.139999  263.700012  347.500000   \n",
       "2019-07-25 00:00:00+00:00  353.000000  84.940002  263.450012  347.500000   \n",
       "\n",
       "Price                           Open                           Volume  \\\n",
       "Ticker                        CFR.SW      ROG.SW     ZURN.SW   CFR.SW   \n",
       "Date                                                                    \n",
       "2019-07-19 00:00:00+00:00  86.660004  271.200012  350.000000  1804005   \n",
       "2019-07-22 00:00:00+00:00  85.519997  265.399994  349.100006  1359588   \n",
       "2019-07-23 00:00:00+00:00  86.320000  264.649994  348.299988  1848374   \n",
       "2019-07-24 00:00:00+00:00  86.500000  265.000000  348.299988  1775604   \n",
       "2019-07-25 00:00:00+00:00  86.000000  267.450012  347.700012  2070317   \n",
       "\n",
       "Price                                       \n",
       "Ticker                      ROG.SW ZURN.SW  \n",
       "Date                                        \n",
       "2019-07-19 00:00:00+00:00  2583116  685825  \n",
       "2019-07-22 00:00:00+00:00  1339653  492722  \n",
       "2019-07-23 00:00:00+00:00  1519816  414749  \n",
       "2019-07-24 00:00:00+00:00  1698279  510746  \n",
       "2019-07-25 00:00:00+00:00  2732669  621513  "
      ]
     },
     "execution_count": 16,
     "metadata": {},
     "output_type": "execute_result"
    }
   ],
   "source": [
    "data.head()"
   ]
  },
  {
   "cell_type": "code",
   "execution_count": 11,
   "metadata": {},
   "outputs": [],
   "source": [
    "initial_date = '2023-09-04'\n",
    "payment_date = '2023-09-11'\n",
    "last_trade_date = '2024-12-06'"
   ]
  },
  {
   "cell_type": "code",
   "execution_count": 25,
   "metadata": {},
   "outputs": [],
   "source": [
    "interest_date = ['2023-12-11', '2024-03-11', '2024-06-11', '2024-09-11', '2024-12-11']"
   ]
  },
  {
   "cell_type": "code",
   "execution_count": 26,
   "metadata": {},
   "outputs": [],
   "source": [
    "additive_interest = 1.75"
   ]
  },
  {
   "cell_type": "code",
   "execution_count": 30,
   "metadata": {},
   "outputs": [
    {
     "data": {
      "text/plain": [
       "1.093835935994203"
      ]
     },
     "execution_count": 30,
     "metadata": {},
     "output_type": "execute_result"
    }
   ],
   "source": [
    "1 * (1 + interest_amount_percent / 100) ** 5"
   ]
  },
  {
   "cell_type": "code",
   "execution_count": null,
   "metadata": {},
   "outputs": [],
   "source": []
  }
 ],
 "metadata": {
  "kernelspec": {
   "display_name": "mh4518",
   "language": "python",
   "name": "python3"
  },
  "language_info": {
   "codemirror_mode": {
    "name": "ipython",
    "version": 3
   },
   "file_extension": ".py",
   "mimetype": "text/x-python",
   "name": "python",
   "nbconvert_exporter": "python",
   "pygments_lexer": "ipython3",
   "version": "3.11.10"
  }
 },
 "nbformat": 4,
 "nbformat_minor": 2
}
