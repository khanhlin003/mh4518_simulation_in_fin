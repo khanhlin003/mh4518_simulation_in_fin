{
 "cells": [
  {
   "cell_type": "code",
   "execution_count": 7,
   "metadata": {},
   "outputs": [],
   "source": [
    "import numpy as np\n",
    "import pandas as pd\n",
    "import matplotlib.pyplot as plt\n",
    "import seaborn as sns\n",
    "from scipy.optimize import minimize\n",
    "from scipy.stats import norm\n",
    "from tqdm.auto import tqdm\n",
    "\n",
    "import sys\n",
    "sys.path.append('../utils')\n",
    "from utils import *"
   ]
  },
  {
   "cell_type": "code",
   "execution_count": 8,
   "metadata": {},
   "outputs": [
    {
     "data": {
      "text/html": [
       "<div>\n",
       "<style scoped>\n",
       "    .dataframe tbody tr th:only-of-type {\n",
       "        vertical-align: middle;\n",
       "    }\n",
       "\n",
       "    .dataframe tbody tr th {\n",
       "        vertical-align: top;\n",
       "    }\n",
       "\n",
       "    .dataframe thead th {\n",
       "        text-align: right;\n",
       "    }\n",
       "</style>\n",
       "<table border=\"1\" class=\"dataframe\">\n",
       "  <thead>\n",
       "    <tr style=\"text-align: right;\">\n",
       "      <th></th>\n",
       "      <th>Date</th>\n",
       "      <th>ROG_Last_Price</th>\n",
       "      <th>ROG_IVOL</th>\n",
       "      <th>CFR_Last_Price</th>\n",
       "      <th>CFR_IVOL</th>\n",
       "      <th>ZURN_Last_Price</th>\n",
       "      <th>ZURN_IVOL</th>\n",
       "      <th>Risk_Free_Rate</th>\n",
       "    </tr>\n",
       "  </thead>\n",
       "  <tbody>\n",
       "    <tr>\n",
       "      <th>0</th>\n",
       "      <td>2023-10-25</td>\n",
       "      <td>237.55</td>\n",
       "      <td>17.6858</td>\n",
       "      <td>107.00</td>\n",
       "      <td>33.0793</td>\n",
       "      <td>426.4</td>\n",
       "      <td>15.7900</td>\n",
       "      <td>1.4594</td>\n",
       "    </tr>\n",
       "    <tr>\n",
       "      <th>1</th>\n",
       "      <td>2023-10-26</td>\n",
       "      <td>237.25</td>\n",
       "      <td>17.9504</td>\n",
       "      <td>104.45</td>\n",
       "      <td>33.5406</td>\n",
       "      <td>426.8</td>\n",
       "      <td>15.9736</td>\n",
       "      <td>1.4508</td>\n",
       "    </tr>\n",
       "    <tr>\n",
       "      <th>2</th>\n",
       "      <td>2023-10-27</td>\n",
       "      <td>237.75</td>\n",
       "      <td>19.6028</td>\n",
       "      <td>104.40</td>\n",
       "      <td>33.4355</td>\n",
       "      <td>424.4</td>\n",
       "      <td>16.3945</td>\n",
       "      <td>1.4478</td>\n",
       "    </tr>\n",
       "    <tr>\n",
       "      <th>3</th>\n",
       "      <td>2023-10-30</td>\n",
       "      <td>241.30</td>\n",
       "      <td>19.3503</td>\n",
       "      <td>104.75</td>\n",
       "      <td>33.1531</td>\n",
       "      <td>428.2</td>\n",
       "      <td>15.9477</td>\n",
       "      <td>1.4623</td>\n",
       "    </tr>\n",
       "    <tr>\n",
       "      <th>4</th>\n",
       "      <td>2023-10-31</td>\n",
       "      <td>233.85</td>\n",
       "      <td>19.2518</td>\n",
       "      <td>106.90</td>\n",
       "      <td>32.7788</td>\n",
       "      <td>430.6</td>\n",
       "      <td>15.7948</td>\n",
       "      <td>1.4489</td>\n",
       "    </tr>\n",
       "    <tr>\n",
       "      <th>...</th>\n",
       "      <td>...</td>\n",
       "      <td>...</td>\n",
       "      <td>...</td>\n",
       "      <td>...</td>\n",
       "      <td>...</td>\n",
       "      <td>...</td>\n",
       "      <td>...</td>\n",
       "      <td>...</td>\n",
       "    </tr>\n",
       "    <tr>\n",
       "      <th>248</th>\n",
       "      <td>2024-10-21</td>\n",
       "      <td>272.90</td>\n",
       "      <td>17.7575</td>\n",
       "      <td>126.65</td>\n",
       "      <td>31.1486</td>\n",
       "      <td>526.2</td>\n",
       "      <td>14.1699</td>\n",
       "      <td>0.6532</td>\n",
       "    </tr>\n",
       "    <tr>\n",
       "      <th>249</th>\n",
       "      <td>2024-10-22</td>\n",
       "      <td>272.20</td>\n",
       "      <td>18.2963</td>\n",
       "      <td>126.95</td>\n",
       "      <td>30.9890</td>\n",
       "      <td>520.4</td>\n",
       "      <td>14.7228</td>\n",
       "      <td>0.6544</td>\n",
       "    </tr>\n",
       "    <tr>\n",
       "      <th>250</th>\n",
       "      <td>2024-10-23</td>\n",
       "      <td>277.20</td>\n",
       "      <td>17.6974</td>\n",
       "      <td>126.05</td>\n",
       "      <td>31.3139</td>\n",
       "      <td>519.6</td>\n",
       "      <td>14.0134</td>\n",
       "      <td>0.6448</td>\n",
       "    </tr>\n",
       "    <tr>\n",
       "      <th>251</th>\n",
       "      <td>2024-10-24</td>\n",
       "      <td>279.80</td>\n",
       "      <td>17.7883</td>\n",
       "      <td>128.45</td>\n",
       "      <td>31.6005</td>\n",
       "      <td>520.6</td>\n",
       "      <td>14.4540</td>\n",
       "      <td>0.6213</td>\n",
       "    </tr>\n",
       "    <tr>\n",
       "      <th>252</th>\n",
       "      <td>2024-10-25</td>\n",
       "      <td>279.60</td>\n",
       "      <td>NaN</td>\n",
       "      <td>128.05</td>\n",
       "      <td>NaN</td>\n",
       "      <td>521.2</td>\n",
       "      <td>NaN</td>\n",
       "      <td>NaN</td>\n",
       "    </tr>\n",
       "  </tbody>\n",
       "</table>\n",
       "<p>253 rows × 8 columns</p>\n",
       "</div>"
      ],
      "text/plain": [
       "          Date  ROG_Last_Price  ROG_IVOL  CFR_Last_Price  CFR_IVOL  \\\n",
       "0   2023-10-25          237.55   17.6858          107.00   33.0793   \n",
       "1   2023-10-26          237.25   17.9504          104.45   33.5406   \n",
       "2   2023-10-27          237.75   19.6028          104.40   33.4355   \n",
       "3   2023-10-30          241.30   19.3503          104.75   33.1531   \n",
       "4   2023-10-31          233.85   19.2518          106.90   32.7788   \n",
       "..         ...             ...       ...             ...       ...   \n",
       "248 2024-10-21          272.90   17.7575          126.65   31.1486   \n",
       "249 2024-10-22          272.20   18.2963          126.95   30.9890   \n",
       "250 2024-10-23          277.20   17.6974          126.05   31.3139   \n",
       "251 2024-10-24          279.80   17.7883          128.45   31.6005   \n",
       "252 2024-10-25          279.60       NaN          128.05       NaN   \n",
       "\n",
       "     ZURN_Last_Price  ZURN_IVOL  Risk_Free_Rate  \n",
       "0              426.4    15.7900          1.4594  \n",
       "1              426.8    15.9736          1.4508  \n",
       "2              424.4    16.3945          1.4478  \n",
       "3              428.2    15.9477          1.4623  \n",
       "4              430.6    15.7948          1.4489  \n",
       "..               ...        ...             ...  \n",
       "248            526.2    14.1699          0.6532  \n",
       "249            520.4    14.7228          0.6544  \n",
       "250            519.6    14.0134          0.6448  \n",
       "251            520.6    14.4540          0.6213  \n",
       "252            521.2        NaN             NaN  \n",
       "\n",
       "[253 rows x 8 columns]"
      ]
     },
     "execution_count": 8,
     "metadata": {},
     "output_type": "execute_result"
    }
   ],
   "source": [
    "combined_df = retrieve_data()\n",
    "combined_df"
   ]
  },
  {
   "cell_type": "code",
   "execution_count": 9,
   "metadata": {},
   "outputs": [],
   "source": [
    "combined_df = retrieve_data()\n",
    "np.random.seed(42)\n",
    "n_days = 252\n",
    "dt = 1 / n_days\n",
    "close = combined_df[['ROG_Last_Price', 'CFR_Last_Price', 'ZURN_Last_Price']]\n",
    "tickers = close.columns\n",
    "log_returns = np.log((close / close.shift(1)).dropna())"
   ]
  },
  {
   "cell_type": "markdown",
   "metadata": {},
   "source": [
    "# Heston Stochastic Volatility Model "
   ]
  },
  {
   "cell_type": "markdown",
   "metadata": {},
   "source": [
    "only use constant interest rate r + does not incorporate option prices into the calibration process.\n",
    "\n",
    "!!! calibrate based solely on historical stock price data, particularly the realized volatility of returns.\n",
    "\n",
    "options data need to be collect more on daily basis from 2024/25/07 to 024/25/10.\n",
    "i only collected on quaterly basis so now cannot right"
   ]
  },
  {
   "cell_type": "code",
   "execution_count": 82,
   "metadata": {},
   "outputs": [
    {
     "data": {
      "text/html": [
       "<div>\n",
       "<style scoped>\n",
       "    .dataframe tbody tr th:only-of-type {\n",
       "        vertical-align: middle;\n",
       "    }\n",
       "\n",
       "    .dataframe tbody tr th {\n",
       "        vertical-align: top;\n",
       "    }\n",
       "\n",
       "    .dataframe thead th {\n",
       "        text-align: right;\n",
       "    }\n",
       "</style>\n",
       "<table border=\"1\" class=\"dataframe\">\n",
       "  <thead>\n",
       "    <tr style=\"text-align: right;\">\n",
       "      <th></th>\n",
       "      <th>ROG_Last_Price</th>\n",
       "      <th>CFR_Last_Price</th>\n",
       "      <th>ZURN_Last_Price</th>\n",
       "    </tr>\n",
       "  </thead>\n",
       "  <tbody>\n",
       "    <tr>\n",
       "      <th>1</th>\n",
       "      <td>NaN</td>\n",
       "      <td>NaN</td>\n",
       "      <td>NaN</td>\n",
       "    </tr>\n",
       "    <tr>\n",
       "      <th>2</th>\n",
       "      <td>NaN</td>\n",
       "      <td>NaN</td>\n",
       "      <td>NaN</td>\n",
       "    </tr>\n",
       "    <tr>\n",
       "      <th>3</th>\n",
       "      <td>NaN</td>\n",
       "      <td>NaN</td>\n",
       "      <td>NaN</td>\n",
       "    </tr>\n",
       "    <tr>\n",
       "      <th>4</th>\n",
       "      <td>NaN</td>\n",
       "      <td>NaN</td>\n",
       "      <td>NaN</td>\n",
       "    </tr>\n",
       "    <tr>\n",
       "      <th>5</th>\n",
       "      <td>NaN</td>\n",
       "      <td>NaN</td>\n",
       "      <td>NaN</td>\n",
       "    </tr>\n",
       "    <tr>\n",
       "      <th>...</th>\n",
       "      <td>...</td>\n",
       "      <td>...</td>\n",
       "      <td>...</td>\n",
       "    </tr>\n",
       "    <tr>\n",
       "      <th>248</th>\n",
       "      <td>0.020141</td>\n",
       "      <td>0.118830</td>\n",
       "      <td>0.008371</td>\n",
       "    </tr>\n",
       "    <tr>\n",
       "      <th>249</th>\n",
       "      <td>0.019935</td>\n",
       "      <td>0.118104</td>\n",
       "      <td>0.009412</td>\n",
       "    </tr>\n",
       "    <tr>\n",
       "      <th>250</th>\n",
       "      <td>0.022582</td>\n",
       "      <td>0.118542</td>\n",
       "      <td>0.009246</td>\n",
       "    </tr>\n",
       "    <tr>\n",
       "      <th>251</th>\n",
       "      <td>0.018368</td>\n",
       "      <td>0.120691</td>\n",
       "      <td>0.009082</td>\n",
       "    </tr>\n",
       "    <tr>\n",
       "      <th>252</th>\n",
       "      <td>0.017878</td>\n",
       "      <td>0.120471</td>\n",
       "      <td>0.008509</td>\n",
       "    </tr>\n",
       "  </tbody>\n",
       "</table>\n",
       "<p>252 rows × 3 columns</p>\n",
       "</div>"
      ],
      "text/plain": [
       "     ROG_Last_Price  CFR_Last_Price  ZURN_Last_Price\n",
       "1               NaN             NaN              NaN\n",
       "2               NaN             NaN              NaN\n",
       "3               NaN             NaN              NaN\n",
       "4               NaN             NaN              NaN\n",
       "5               NaN             NaN              NaN\n",
       "..              ...             ...              ...\n",
       "248        0.020141        0.118830         0.008371\n",
       "249        0.019935        0.118104         0.009412\n",
       "250        0.022582        0.118542         0.009246\n",
       "251        0.018368        0.120691         0.009082\n",
       "252        0.017878        0.120471         0.008509\n",
       "\n",
       "[252 rows x 3 columns]"
      ]
     },
     "execution_count": 82,
     "metadata": {},
     "output_type": "execute_result"
    }
   ],
   "source": [
    "vol = log_returns.rolling(window=30).var() * n_days\n",
    "vol\n"
   ]
  },
  {
   "cell_type": "code",
   "execution_count": 83,
   "metadata": {},
   "outputs": [
    {
     "data": {
      "text/plain": [
       "ROG_Last_Price     0.040053\n",
       "CFR_Last_Price     0.080205\n",
       "ZURN_Last_Price    0.019759\n",
       "dtype: float64"
      ]
     },
     "execution_count": 83,
     "metadata": {},
     "output_type": "execute_result"
    }
   ],
   "source": [
    "vol.mean()"
   ]
  },
  {
   "cell_type": "code",
   "execution_count": 84,
   "metadata": {},
   "outputs": [
    {
     "data": {
      "text/plain": [
       "ROG_Last_Price    NaN\n",
       "CFR_Last_Price    NaN\n",
       "ZURN_Last_Price   NaN\n",
       "Name: 1, dtype: float64"
      ]
     },
     "execution_count": 84,
     "metadata": {},
     "output_type": "execute_result"
    }
   ],
   "source": [
    "vol.iloc[0]"
   ]
  },
  {
   "cell_type": "code",
   "execution_count": null,
   "metadata": {},
   "outputs": [
    {
     "ename": "ValueError",
     "evalue": "setting an array element with a sequence. The requested array has an inhomogeneous shape after 1 dimensions. The detected shape was (4,) + inhomogeneous part.",
     "output_type": "error",
     "traceback": [
      "\u001b[1;31m---------------------------------------------------------------------------\u001b[0m",
      "\u001b[1;31mValueError\u001b[0m                                Traceback (most recent call last)",
      "Cell \u001b[1;32mIn[76], line 16\u001b[0m\n\u001b[0;32m      9\u001b[0m                 \u001b[38;5;28;01mreturn\u001b[39;00m np\u001b[38;5;241m.\u001b[39msum((var_pred \u001b[38;5;241m-\u001b[39m vol) \u001b[38;5;241m*\u001b[39m\u001b[38;5;241m*\u001b[39m \u001b[38;5;241m2\u001b[39m)\n\u001b[0;32m     11\u001b[0m bounds \u001b[38;5;241m=\u001b[39m [(\u001b[38;5;241m0.1\u001b[39m, \u001b[38;5;241m10.0\u001b[39m),  \u001b[38;5;66;03m# kappa\u001b[39;00m\n\u001b[0;32m     12\u001b[0m                      (\u001b[38;5;241m0.001\u001b[39m, \u001b[38;5;241m0.5\u001b[39m),  \u001b[38;5;66;03m# theta\u001b[39;00m\n\u001b[0;32m     13\u001b[0m                      (\u001b[38;5;241m0.01\u001b[39m, \u001b[38;5;241m1.0\u001b[39m),   \u001b[38;5;66;03m# sigma\u001b[39;00m\n\u001b[0;32m     14\u001b[0m                      (\u001b[38;5;241m-\u001b[39m\u001b[38;5;241m0.99\u001b[39m, \u001b[38;5;241m0.99\u001b[39m)] \u001b[38;5;66;03m# rho\u001b[39;00m\n\u001b[1;32m---> 16\u001b[0m result \u001b[38;5;241m=\u001b[39m \u001b[43mminimize\u001b[49m\u001b[43m(\u001b[49m\u001b[43mobjective\u001b[49m\u001b[43m,\u001b[49m\u001b[43m \u001b[49m\n\u001b[0;32m     17\u001b[0m \u001b[43m                            \u001b[49m\u001b[43mx0\u001b[49m\u001b[38;5;241;43m=\u001b[39;49m\u001b[43m[\u001b[49m\u001b[38;5;241;43m2.0\u001b[39;49m\u001b[43m,\u001b[49m\u001b[43m \u001b[49m\u001b[43mvol\u001b[49m\u001b[38;5;241;43m.\u001b[39;49m\u001b[43mmean\u001b[49m\u001b[43m(\u001b[49m\u001b[43m)\u001b[49m\u001b[43m,\u001b[49m\u001b[43m \u001b[49m\u001b[38;5;241;43m0.1\u001b[39;49m\u001b[43m,\u001b[49m\u001b[43m \u001b[49m\u001b[38;5;241;43m-\u001b[39;49m\u001b[38;5;241;43m0.7\u001b[39;49m\u001b[43m]\u001b[49m\u001b[43m,\u001b[49m\n\u001b[0;32m     18\u001b[0m \u001b[43m                            \u001b[49m\u001b[43mbounds\u001b[49m\u001b[38;5;241;43m=\u001b[39;49m\u001b[43mbounds\u001b[49m\u001b[43m,\u001b[49m\n\u001b[0;32m     19\u001b[0m \u001b[43m                            \u001b[49m\u001b[43mmethod\u001b[49m\u001b[38;5;241;43m=\u001b[39;49m\u001b[38;5;124;43m'\u001b[39;49m\u001b[38;5;124;43mL-BFGS-B\u001b[39;49m\u001b[38;5;124;43m'\u001b[39;49m\u001b[43m)\u001b[49m\n",
      "File \u001b[1;32m~\\AppData\\Local\\Packages\\PythonSoftwareFoundation.Python.3.11_qbz5n2kfra8p0\\LocalCache\\local-packages\\Python311\\site-packages\\scipy\\optimize\\_minimize.py:532\u001b[0m, in \u001b[0;36mminimize\u001b[1;34m(fun, x0, args, method, jac, hess, hessp, bounds, constraints, tol, callback, options)\u001b[0m\n\u001b[0;32m     51\u001b[0m \u001b[38;5;28;01mdef\u001b[39;00m \u001b[38;5;21mminimize\u001b[39m(fun, x0, args\u001b[38;5;241m=\u001b[39m(), method\u001b[38;5;241m=\u001b[39m\u001b[38;5;28;01mNone\u001b[39;00m, jac\u001b[38;5;241m=\u001b[39m\u001b[38;5;28;01mNone\u001b[39;00m, hess\u001b[38;5;241m=\u001b[39m\u001b[38;5;28;01mNone\u001b[39;00m,\n\u001b[0;32m     52\u001b[0m              hessp\u001b[38;5;241m=\u001b[39m\u001b[38;5;28;01mNone\u001b[39;00m, bounds\u001b[38;5;241m=\u001b[39m\u001b[38;5;28;01mNone\u001b[39;00m, constraints\u001b[38;5;241m=\u001b[39m(), tol\u001b[38;5;241m=\u001b[39m\u001b[38;5;28;01mNone\u001b[39;00m,\n\u001b[0;32m     53\u001b[0m              callback\u001b[38;5;241m=\u001b[39m\u001b[38;5;28;01mNone\u001b[39;00m, options\u001b[38;5;241m=\u001b[39m\u001b[38;5;28;01mNone\u001b[39;00m):\n\u001b[0;32m     54\u001b[0m \u001b[38;5;250m    \u001b[39m\u001b[38;5;124;03m\"\"\"Minimization of scalar function of one or more variables.\u001b[39;00m\n\u001b[0;32m     55\u001b[0m \n\u001b[0;32m     56\u001b[0m \u001b[38;5;124;03m    Parameters\u001b[39;00m\n\u001b[1;32m   (...)\u001b[0m\n\u001b[0;32m    530\u001b[0m \n\u001b[0;32m    531\u001b[0m \u001b[38;5;124;03m    \"\"\"\u001b[39;00m\n\u001b[1;32m--> 532\u001b[0m     x0 \u001b[38;5;241m=\u001b[39m np\u001b[38;5;241m.\u001b[39matleast_1d(np\u001b[38;5;241m.\u001b[39masarray(x0))\n\u001b[0;32m    534\u001b[0m     \u001b[38;5;28;01mif\u001b[39;00m x0\u001b[38;5;241m.\u001b[39mndim \u001b[38;5;241m!=\u001b[39m \u001b[38;5;241m1\u001b[39m:\n\u001b[0;32m    535\u001b[0m         \u001b[38;5;28;01mraise\u001b[39;00m \u001b[38;5;167;01mValueError\u001b[39;00m(\u001b[38;5;124m\"\u001b[39m\u001b[38;5;124m'\u001b[39m\u001b[38;5;124mx0\u001b[39m\u001b[38;5;124m'\u001b[39m\u001b[38;5;124m must only have one dimension.\u001b[39m\u001b[38;5;124m\"\u001b[39m)\n",
      "\u001b[1;31mValueError\u001b[0m: setting an array element with a sequence. The requested array has an inhomogeneous shape after 1 dimensions. The detected shape was (4,) + inhomogeneous part."
     ]
    }
   ],
   "source": [
    "def calculate_realized_vol(window_size=30):\n",
    "        \"\"\"Calculate realized volatility for initial variance\"\"\"\n",
    "        return log_returns[-window_size:].cov() * 252\n",
    "\n",
    "vol = calculate_realized_vol()\n",
    "def objective(x):\n",
    "        kappa, theta, sigma, rho = x\n",
    "        var_pred = theta + (vol.iloc[0] - theta) * np.exp(-kappa * np.arange(len(vol)) * 1 / 252)\n",
    "        return np.sum((var_pred - vol) ** 2)\n",
    "            \n",
    "bounds = [(0.1, 10.0),  # kappa\n",
    "                     (0.001, 0.5),  # theta\n",
    "                     (0.01, 1.0),   # sigma\n",
    "                     (-0.99, 0.99)] # rho\n",
    "            \n",
    "result = minimize(objective, \n",
    "                            x0=[2.0, vol.mean(), 0.1, -0.7],\n",
    "                            bounds=bounds,\n",
    "                            method='L-BFGS-B')"
   ]
  },
  {
   "cell_type": "code",
   "execution_count": 169,
   "metadata": {},
   "outputs": [],
   "source": [
    "old = None\n",
    "new = None"
   ]
  },
  {
   "cell_type": "code",
   "execution_count": 213,
   "metadata": {},
   "outputs": [],
   "source": [
    "import numpy as np\n",
    "import pandas as pd\n",
    "from scipy.optimize import minimize\n",
    "from tqdm import tqdm\n",
    "\n",
    "class HestonModelCalibration:\n",
    "    def __init__(self, data, n_days=252):\n",
    "        self.data = data\n",
    "        self.n_days = n_days\n",
    "        self.dt = 1 / n_days\n",
    "        self.tickers = data.columns\n",
    "        self.log_returns = np.log((data / data.shift(1)).dropna())\n",
    "        \n",
    "    def calculate_realized_vol(self, window_size=30):\n",
    "        \"\"\"Calculate realized volatility for initial variance\"\"\"\n",
    "        return self.log_returns.rolling(window=window_size).var() * self.n_days\n",
    "    \n",
    "    def estimate_correlation_matrix(self, window_size=30):\n",
    "        \"\"\"Estimate correlation matrix from historical data\"\"\"\n",
    "        return self.log_returns.iloc[-window_size:].corr().values\n",
    "\n",
    "    def calibrate_heston_parameters(self, window_size=30):\n",
    "        \"\"\"\n",
    "        Calibrate Heston model parameters using historical data\n",
    "        Returns dict with parameters for each asset\n",
    "        \"\"\"\n",
    "        params = {}\n",
    "        for i, ticker in enumerate(self.tickers):\n",
    "            # Initial estimates based on historical data\n",
    "            vol = self.calculate_realized_vol()[ticker].dropna()\n",
    "            \n",
    "            def objective(x):\n",
    "                kappa, theta, sigma, rho = x\n",
    "                var_pred = theta + (vol.iloc[0] - theta) * np.exp(-kappa * np.arange(len(vol)) * self.dt)\n",
    "                return np.sum((var_pred - vol) ** 2)\n",
    "            \n",
    "            bounds = [(0.1, 10.0),  # kappa\n",
    "                     (0.001, 0.5),  # theta\n",
    "                     (0.01, 1.0),   # sigma\n",
    "                     (-0.99, 0.99)] # rho\n",
    "            \n",
    "            result = minimize(objective, \n",
    "                            x0=[0.2, 0.1, 0.2, 0.7],\n",
    "                            bounds=bounds,\n",
    "                            method='L-BFGS-B')\n",
    "            \n",
    "            params[ticker] = {\n",
    "                'kappa': result.x[0],\n",
    "                'theta': result.x[1],\n",
    "                'sigma': result.x[2],\n",
    "                'rho': result.x[3]\n",
    "            }\n",
    "        \n",
    "        return params\n",
    "\n",
    "def MultivariateHestonSimulation(\n",
    "    s0,\n",
    "    tickers,\n",
    "    dt,\n",
    "    calibrated_params,\n",
    "    correlation_matrix,\n",
    "    n_paths=1000,\n",
    "    last_id=287,\n",
    "    current_id=187,\n",
    "    window_size=30,\n",
    "    variance_reduction='av',\n",
    "    r=0.01\n",
    "    ):\n",
    "    \n",
    "    n_assets = len(tickers)\n",
    "    T = dt * (last_id - current_id)\n",
    "    n_steps = int(T / dt)\n",
    "    \n",
    "    # Initialize arrays\n",
    "    result = np.zeros((n_assets, n_paths, n_steps))\n",
    "    variance_paths = np.zeros((n_assets, n_paths, n_steps))\n",
    "    \n",
    "    # Extract parameters for each asset\n",
    "    kappa = np.array([calibrated_params[t]['kappa'] for t in tickers])\n",
    "    theta = np.array([calibrated_params[t]['theta'] for t in tickers])\n",
    "    sigma = np.array([calibrated_params[t]['sigma'] for t in tickers])\n",
    "    rho = np.array([calibrated_params[t]['rho'] for t in tickers])\n",
    "    \n",
    "    # Get initial variances\n",
    "    v0 = {t: calibrated_params[t]['theta'] for t in tickers}\n",
    "    print(\"v0:\",v0)\n",
    "    # Ensure correlation matrix is 2D numpy array\n",
    "    if isinstance(correlation_matrix, pd.DataFrame):\n",
    "        correlation_matrix = correlation_matrix.values\n",
    "        \n",
    "    # Cholesky decomposition for correlated Brownian motions\n",
    "    \n",
    "        # s1 s2 s3\n",
    "#     s1  1  s1s2 s1s3\n",
    "#     s2 s1s2 1  s2s3\n",
    "#     s3\n",
    "\n",
    "#     correlation matrix 6x6 (only si-sj and si-vi non-zero)\n",
    "#     s1          v1          s2          v2          s3          v3\n",
    "# s1   1          rho_s1v1    rho_s1s2    0           rho_s1s3    0\n",
    "# v1   rho_s1v1   1           rho_s2v1\n",
    "# s2   rho_s1s2   rho_s2v1    1\n",
    "# v2   0\n",
    "# s3   rho_s1s3\n",
    "# v3   0\n",
    "\n",
    "# ==> simulate s1, s2, s3, v1, v2, v3 with 6 different z\n",
    "    correlation_matrix = np.array([[1, rho[0], correlation_matrix[0][1], 0, correlation_matrix[0][2], 0],\n",
    "                                       [rho[0], 1, 0, 0, 0, 0],\n",
    "                                       [correlation_matrix[0][1], 0, 1, rho[1], correlation_matrix[1][2], 0],\n",
    "                                       [0, 0, rho[1], 1, 0, 0],\n",
    "                                       [correlation_matrix[0][2], 0, correlation_matrix[1][2], 0, 1, rho[2]],\n",
    "                                       [0, 0, 0, 0, rho[2], 1]]) \n",
    "    \n",
    "    try:\n",
    "        chol_corr = np.linalg.cholesky(correlation_matrix)\n",
    "    except np.linalg.LinAlgError:\n",
    "        # If matrix is not positive definite, adjust it\n",
    "        correlation_matrix = (correlation_matrix + correlation_matrix.T) / 2  # Ensure symmetry\n",
    "        min_eig = np.min(np.real(np.linalg.eigvals(correlation_matrix)))\n",
    "        if min_eig < 0:\n",
    "            correlation_matrix -= min_eig * np.eye(correlation_matrix.shape[0])\n",
    "\n",
    "    \n",
    "    paths_to_simulate = n_paths // 2 if variance_reduction == 'av' else n_paths\n",
    "    \n",
    "    for i in tqdm(range(paths_to_simulate)):\n",
    "        # Generate and correlate Brownian motions\n",
    "        dw_s = np.random.normal(size=(n_assets * 2, n_steps))\n",
    "        \n",
    "        # Correlate price and variance Brownian motion\n",
    "\n",
    "        for j in range(n_steps):\n",
    "            for k in range(n_assets):\n",
    "                if j == 0:\n",
    "                    result[k, i, j] = s0[tickers[k]]\n",
    "                    variance_paths[k, i, j] = v0[tickers[k]]\n",
    "                    \n",
    "                    if variance_reduction == 'av':\n",
    "                        result[k, n_paths - i - 1, j] = s0[tickers[k]]\n",
    "                        variance_paths[k, n_paths - i - 1, j] = v0[tickers[k]]\n",
    "                else:\n",
    "                    v_prev = max(variance_paths[k, i, j-1], 0)\n",
    "                    \n",
    "                    # Update variance\n",
    "                    result[k, i, j] = result[k, i, j-1] * np.exp(\n",
    "                        (r - 0.5 * v_prev) * dt + \n",
    "                        np.sqrt(v_prev * dt) * dw_s[k * 2, j] * chol_corr[k * 2][k * 2])\n",
    "                    \n",
    "                    variance_paths[k, i, j] = (v_prev + \n",
    "                        kappa[k] * (theta[k] - v_prev) * dt + \n",
    "                        sigma[k] * np.sqrt(v_prev * dt) * dw_s[k * 2 + 1, j] * chol_corr[k * 2 + 1][k * 2 + 1])\n",
    "                    \n",
    "                    # Update price\n",
    "                    \n",
    "                    if variance_reduction == 'av':\n",
    "                        result[k, n_paths - i - 1, j] = result[k, n_paths - i - 1, j-1] * np.exp(\n",
    "                        (r - 0.5 * v_prev) * dt + \n",
    "                        np.sqrt(v_prev * dt) * (-dw_s[k * 2, j]))\n",
    "                    \n",
    "                        variance_paths[k, n_paths - i - 1, j] = (v_prev + \n",
    "                            kappa[k] * (theta[k] - v_prev) * dt + \n",
    "                            sigma[k] * np.sqrt(v_prev * dt) * (-dw_s[k * 2 + 1, j]))\n",
    "    \n",
    "    if variance_reduction == 'emc':\n",
    "        for k in range(n_assets):\n",
    "            correction_factor = result[k][-1, :].mean() / result[k][-1, :]\n",
    "            result[k] = result[k] * correction_factor\n",
    "    \n",
    "    return result, tickers, variance_paths\n",
    "\n",
    "def run_heston_backtest(combined_df, backtest_start, backtest_end, last_id):\n",
    "    # Initialize model and calibrate parameters\n",
    "    close = combined_df[['ROG_Last_Price', 'CFR_Last_Price', 'ZURN_Last_Price']]\n",
    "    heston_calibration = HestonModelCalibration(close)\n",
    "    \n",
    "    prices = []\n",
    "    for current_id in tqdm(range(backtest_start, backtest_end)):\n",
    "        # Get data for current window\n",
    "        window_data = close.iloc[max(0, current_id - 30):current_id]\n",
    "        \n",
    "        # Calibrate parameters and get correlation matrix\n",
    "        calibrated_params = heston_calibration.calibrate_heston_parameters(window_size=30)\n",
    "        correlation_matrix = heston_calibration.estimate_correlation_matrix(window_size=30)\n",
    "        \n",
    "        payoff = []\n",
    "        result, _, variance_paths = MultivariateHestonSimulation(\n",
    "            s0=close.iloc[current_id],\n",
    "            tickers=close.columns,\n",
    "            dt=1/252,\n",
    "            calibrated_params=calibrated_params,\n",
    "            correlation_matrix=correlation_matrix,\n",
    "            n_paths=10,\n",
    "            variance_reduction='av',\n",
    "            current_id=current_id,\n",
    "            last_id=last_id\n",
    "        )\n",
    "        \n",
    "        # Construct paths and calculate payoffs\n",
    "        old_path_rog = combined_df['ROG_Last_Price'].iloc[:current_id]\n",
    "        old_path_cfr = combined_df['CFR_Last_Price'].iloc[:current_id]\n",
    "        old_path_zurn = combined_df['ZURN_Last_Price'].iloc[:current_id]\n",
    "\n",
    "        for i in range(result.shape[1]):\n",
    "            path_rog = np.append(old_path_rog, result[0][i].flatten())\n",
    "            path_cfr = np.append(old_path_cfr, result[1][i].flatten())\n",
    "            path_zurn = np.append(old_path_zurn, result[2][i].flatten())\n",
    "        \n",
    "\n",
    "            # print(path_cfr)\n",
    "            # print(path_zurn)\n",
    "            \n",
    "        #     payoff.append(payoff_func(\n",
    "        #         path_rog, path_cfr, path_zurn, \n",
    "        #         combined_df.iloc[current_id]['Date'], \n",
    "        #         verbose=False\n",
    "        #     ))\n",
    "        \n",
    "        # prices.append(neutral_pricing(\n",
    "        #     np.mean(payoff), \n",
    "        #     0.01107, \n",
    "        #     last_id - current_id\n",
    "        # ))\n",
    "            payoff.append(payoff_func(path_rog, path_cfr, path_zurn, combined_df.iloc[current_id]['Date'], risk_free=0.01107, risk_neutral=True, verbose=False))\n",
    "        # print(path_rog)\n",
    "\n",
    "            # print(payoff_func(path_rog, path_cfr, path_zurn, combined_df.iloc[current_id]['Date'], risk_free=0.01107, risk_neutral=True, verbose=False))\n",
    "        prices.append(np.mean(payoff))\n",
    "        \n",
    "    return prices"
   ]
  },
  {
   "cell_type": "markdown",
   "metadata": {},
   "source": [
    "correlation matrix 6x6 (only si-sj and si-vi non-zero)\n",
    "    s1          v1          s2          v2          s3          v3\n",
    "s1   1          rho_s1v1    rho_s1s2    0           rho_s1s3    0\n",
    "v1   rho_s1v1   1           rho_s2v1\n",
    "s2   rho_s1s2   rho_s2v1    1\n",
    "v2   0\n",
    "s3   rho_s1s3\n",
    "v3   0\n",
    "\n",
    "==> simulate s1, s2, s3, v1, v2, v3 with 6 different z"
   ]
  },
  {
   "cell_type": "code",
   "execution_count": 214,
   "metadata": {},
   "outputs": [],
   "source": [
    "import matplotlib.pyplot as plt\n",
    "\n",
    "def evaluation_plot(backtest_start, backtest_end, combined_df, prices):\n",
    "    # Load and process actual price data\n",
    "    real_price = pd.read_csv('../data/product_price_full.csv')\n",
    "    real_price['Date'] = pd.to_datetime(real_price['Date'], dayfirst=True)\n",
    "    real_price = real_price.sort_values(by='Date', ascending=True)\n",
    "    real_price['Product'] = 1000 * real_price['Product']\n",
    "\n",
    "    # Filter actual prices for the backtest period\n",
    "    actual = real_price[(real_price['Date'] >= combined_df.iloc[backtest_start]['Date']) & \n",
    "                        (real_price['Date'] <= combined_df.iloc[backtest_end - 1]['Date'])]['Product'].values\n",
    "    dates = real_price[(real_price['Date'] >= combined_df.iloc[backtest_start]['Date']) & \n",
    "                       (real_price['Date'] <= combined_df.iloc[backtest_end - 1]['Date'])]['Date']\n",
    "\n",
    "    # Ensure `prices` has the same length as `dates`\n",
    "    if len(prices) != len(dates):\n",
    "        prices = np.mean(prices, axis=0) if prices.ndim > 1 else np.repeat(prices, len(dates))\n",
    "\n",
    "    # Plotting\n",
    "    plt.figure(figsize=(20, 4))\n",
    "    plt.plot(dates, prices, marker='o', label='Predicted Prices')\n",
    "    plt.plot(dates, actual, marker='o', label='Actual Prices')\n",
    "    plt.title('Price Comparison Over Time')\n",
    "    plt.xlabel('Date')\n",
    "    plt.ylabel('Price')\n",
    "    plt.ylim(850, 1150)\n",
    "    plt.legend()\n",
    "    plt.show()\n",
    "\n"
   ]
  },
  {
   "cell_type": "code",
   "execution_count": 216,
   "metadata": {},
   "outputs": [
    {
     "name": "stderr",
     "output_type": "stream",
     "text": [
      "  0%|          | 0/10 [00:00<?, ?it/s]"
     ]
    },
    {
     "name": "stdout",
     "output_type": "stream",
     "text": [
      "v0: {'ROG_Last_Price': 0.04199854803883151, 'CFR_Last_Price': 0.07424925629379062, 'ZURN_Last_Price': 0.022143268741064936}\n"
     ]
    },
    {
     "name": "stderr",
     "output_type": "stream",
     "text": [
      "100%|██████████| 5/5 [00:00<00:00, 133.53it/s]\n",
      " 10%|█         | 1/10 [00:00<00:02,  3.93it/s]"
     ]
    },
    {
     "name": "stdout",
     "output_type": "stream",
     "text": [
      "v0: {'ROG_Last_Price': 0.04199854803883151, 'CFR_Last_Price': 0.07424925629379062, 'ZURN_Last_Price': 0.022143268741064936}\n"
     ]
    },
    {
     "name": "stderr",
     "output_type": "stream",
     "text": [
      "100%|██████████| 5/5 [00:00<00:00, 138.66it/s]\n",
      " 20%|██        | 2/10 [00:00<00:01,  4.33it/s]"
     ]
    },
    {
     "name": "stdout",
     "output_type": "stream",
     "text": [
      "v0: {'ROG_Last_Price': 0.04199854803883151, 'CFR_Last_Price': 0.07424925629379062, 'ZURN_Last_Price': 0.022143268741064936}\n"
     ]
    },
    {
     "name": "stderr",
     "output_type": "stream",
     "text": [
      "100%|██████████| 5/5 [00:00<00:00, 143.18it/s]\n",
      " 30%|███       | 3/10 [00:00<00:01,  4.25it/s]"
     ]
    },
    {
     "name": "stdout",
     "output_type": "stream",
     "text": [
      "v0: {'ROG_Last_Price': 0.04199854803883151, 'CFR_Last_Price': 0.07424925629379062, 'ZURN_Last_Price': 0.022143268741064936}\n"
     ]
    },
    {
     "name": "stderr",
     "output_type": "stream",
     "text": [
      "100%|██████████| 5/5 [00:00<00:00, 113.12it/s]\n",
      " 40%|████      | 4/10 [00:00<00:01,  4.08it/s]"
     ]
    },
    {
     "name": "stdout",
     "output_type": "stream",
     "text": [
      "v0: {'ROG_Last_Price': 0.04199854803883151, 'CFR_Last_Price': 0.07424925629379062, 'ZURN_Last_Price': 0.022143268741064936}\n"
     ]
    },
    {
     "name": "stderr",
     "output_type": "stream",
     "text": [
      "100%|██████████| 5/5 [00:00<00:00, 126.21it/s]\n",
      " 50%|█████     | 5/10 [00:01<00:01,  4.04it/s]"
     ]
    },
    {
     "name": "stdout",
     "output_type": "stream",
     "text": [
      "v0: {'ROG_Last_Price': 0.04199854803883151, 'CFR_Last_Price': 0.07424925629379062, 'ZURN_Last_Price': 0.022143268741064936}\n"
     ]
    },
    {
     "name": "stderr",
     "output_type": "stream",
     "text": [
      "100%|██████████| 5/5 [00:00<00:00, 127.58it/s]\n",
      " 60%|██████    | 6/10 [00:01<00:00,  4.03it/s]"
     ]
    },
    {
     "name": "stdout",
     "output_type": "stream",
     "text": [
      "v0: {'ROG_Last_Price': 0.04199854803883151, 'CFR_Last_Price': 0.07424925629379062, 'ZURN_Last_Price': 0.022143268741064936}\n"
     ]
    },
    {
     "name": "stderr",
     "output_type": "stream",
     "text": [
      "100%|██████████| 5/5 [00:00<00:00, 67.86it/s]\n",
      " 70%|███████   | 7/10 [00:01<00:00,  3.84it/s]"
     ]
    },
    {
     "name": "stdout",
     "output_type": "stream",
     "text": [
      "v0: {'ROG_Last_Price': 0.04199854803883151, 'CFR_Last_Price': 0.07424925629379062, 'ZURN_Last_Price': 0.022143268741064936}\n"
     ]
    },
    {
     "name": "stderr",
     "output_type": "stream",
     "text": [
      "100%|██████████| 5/5 [00:00<00:00, 161.74it/s]\n",
      " 80%|████████  | 8/10 [00:01<00:00,  4.00it/s]"
     ]
    },
    {
     "name": "stdout",
     "output_type": "stream",
     "text": [
      "v0: {'ROG_Last_Price': 0.04199854803883151, 'CFR_Last_Price': 0.07424925629379062, 'ZURN_Last_Price': 0.022143268741064936}\n"
     ]
    },
    {
     "name": "stderr",
     "output_type": "stream",
     "text": [
      "100%|██████████| 5/5 [00:00<00:00, 150.84it/s]\n",
      " 90%|█████████ | 9/10 [00:02<00:00,  4.06it/s]"
     ]
    },
    {
     "name": "stdout",
     "output_type": "stream",
     "text": [
      "v0: {'ROG_Last_Price': 0.04199854803883151, 'CFR_Last_Price': 0.07424925629379062, 'ZURN_Last_Price': 0.022143268741064936}\n"
     ]
    },
    {
     "name": "stderr",
     "output_type": "stream",
     "text": [
      "100%|██████████| 5/5 [00:00<00:00, 139.14it/s]\n",
      "100%|██████████| 10/10 [00:02<00:00,  4.08it/s]\n",
      "C:\\Users\\ASUS\\AppData\\Local\\Temp\\ipykernel_18620\\810568307.py:6: UserWarning: Could not infer format, so each element will be parsed individually, falling back to `dateutil`. To ensure parsing is consistent and as-expected, please specify a format.\n",
      "  real_price['Date'] = pd.to_datetime(real_price['Date'], dayfirst=True)\n"
     ]
    },
    {
     "data": {
      "image/png": "[encoded data removed]",
      "text/plain": [
       "<Figure size 2000x400 with 1 Axes>"
      ]
     },
     "metadata": {},
     "output_type": "display_data"
    }
   ],
   "source": [
    "# Initialize backtest parameters\n",
    "last_id = 287\n",
    "backtest_start = 55\n",
    "backtest_end = 65\n",
    "\n",
    "# Run backtest\n",
    "prices = run_heston_backtest(\n",
    "    combined_df,\n",
    "    backtest_start,\n",
    "    backtest_end,\n",
    "    last_id\n",
    ")\n",
    "\n",
    "# Evaluate results\n",
    "evaluation_plot(\n",
    "    backtest_start,\n",
    "    backtest_end,\n",
    "    combined_df,\n",
    "    prices\n",
    ")\n"
   ]
  },
  {
   "cell_type": "code",
   "execution_count": 209,
   "metadata": {},
   "outputs": [
    {
     "data": {
      "text/plain": [
       "[1030.5131853683365,\n",
       " 1030.5584553347235,\n",
       " 1030.6037272897988,\n",
       " 1030.6490012336503,\n",
       " 1030.694277166365,\n",
       " 1030.784834998734,\n",
       " 1030.8301168985631,\n",
       " 1030.875400787605,\n",
       " 1030.9206866659472,\n",
       " 1030.9659745336771]"
      ]
     },
     "execution_count": 209,
     "metadata": {},
     "output_type": "execute_result"
    }
   ],
   "source": [
    "prices"
   ]
  },
  {
   "cell_type": "code",
   "execution_count": 192,
   "metadata": {},
   "outputs": [
    {
     "data": {
      "text/plain": [
       "array([128.05,   0.  ,   0.  ,   0.  ,   0.  ,   0.  ,   0.  ,   0.  ,\n",
       "         0.  ,   0.  ,   0.  ,   0.  ,   0.  ,   0.  ,   0.  ,   0.  ,\n",
       "         0.  ,   0.  ,   0.  ,   0.  ,   0.  ,   0.  ,   0.  ,   0.  ,\n",
       "         0.  ,   0.  ,   0.  ,   0.  ,   0.  ,   0.  ,   0.  ,   0.  ,\n",
       "         0.  ,   0.  ,   0.  ])"
      ]
     },
     "execution_count": 192,
     "metadata": {},
     "output_type": "execute_result"
    }
   ],
   "source": [
    "new[1][-1]"
   ]
  },
  {
   "cell_type": "code",
   "execution_count": null,
   "metadata": {},
   "outputs": [],
   "source": []
  },
  {
   "cell_type": "code",
   "execution_count": 179,
   "metadata": {},
   "outputs": [
    {
     "data": {
      "text/plain": [
       "array([237.55      , 237.25      , 237.75      , 241.3       ,\n",
       "       233.85      , 237.7       , 238.15      , 237.25      ,\n",
       "       237.15      , 236.4       , 238.15      , 238.1       ,\n",
       "       236.75      , 238.75      , 239.6       , 238.        ,\n",
       "       236.85      , 237.6       , 237.15      , 237.6       ,\n",
       "       236.6       , 238.35      , 238.7       , 236.9       ,\n",
       "       235.9       , 236.4       , 236.05      , 239.6       ,\n",
       "       246.3       , 250.95      , 249.95      , 249.45      ,\n",
       "       253.3       , 254.3       , 253.7       , 252.65      ,\n",
       "       245.9       , 244.35      , 245.2       , 244.05      ,\n",
       "       243.5       , 245.        , 244.3       , 243.7       ,\n",
       "       242.45      , 244.5       , 251.85      , 254.35      ,\n",
       "       251.3       , 251.45      , 252.25      , 253.9       ,\n",
       "       250.6       , 252.5       , 250.85      , 250.1       ,\n",
       "       247.25      , 245.95      , 244.1       , 247.8       ,\n",
       "       243.75      , 245.15      , 242.        , 247.45      ,\n",
       "       246.75      , 246.7       , 247.1       , 233.5       ,\n",
       "       234.1       , 230.5       , 230.55      , 228.2       ,\n",
       "       224.9       , 224.9       , 227.5       , 228.5       ,\n",
       "       227.2       , 226.95      , 228.2       , 232.        ,\n",
       "       232.2       , 230.85      , 228.85      , 232.4       ,\n",
       "       229.15      , 231.95      , 231.        , 231.95      ,\n",
       "       233.2       , 233.55      , 234.7       , 235.9       ,\n",
       "       237.9       , 238.2       , 242.        , 244.75      ,\n",
       "       241.        , 232.4       , 230.8       , 229.6       ,\n",
       "       229.05      , 230.95      , 225.05      , 225.3       ,\n",
       "       225.5       , 227.2       , 226.75      , 229.7       ,\n",
       "       227.1       , 226.4       , 224.9       , 219.5       ,\n",
       "       219.8       , 221.8       , 224.4       , 226.1       ,\n",
       "       225.        , 225.1       , 221.5       , 220.1       ,\n",
       "       220.        , 222.1       , 225.8       , 229.7       ,\n",
       "       222.2       , 218.8       , 221.        , 221.2       ,\n",
       "       220.6       , 214.1       , 217.3       , 218.5       ,\n",
       "       221.3       , 222.3       , 225.1       , 227.8       ,\n",
       "       224.6       , 227.5       , 234.8       , 237.1       ,\n",
       "       234.4       , 231.9       , 232.1       , 230.4       ,\n",
       "       229.9       , 228.8       , 229.6       , 228.3       ,\n",
       "       231.        , 232.1       , 234.2       , 236.1       ,\n",
       "       238.1       , 242.6       , 239.7       , 241.6       ,\n",
       "       243.5       , 245.8       , 247.6       , 245.5       ,\n",
       "       247.9       , 249.8       , 250.        , 252.8       ,\n",
       "       255.4       , 253.4       , 249.6       , 250.4       ,\n",
       "       249.5       , 250.1       , 248.5       , 246.        ,\n",
       "       243.4       , 243.3       , 243.7       , 244.6       ,\n",
       "       249.        , 252.1       , 254.8       , 258.7       ,\n",
       "       258.9       , 274.        , 278.4       , 278.3       ,\n",
       "       280.1       , 273.3       , 273.5       , 277.5       ,\n",
       "       286.        , 285.4       , 285.5       , 285.8       ,\n",
       "       281.1       , 270.        , 266.5       , 274.2       ,\n",
       "       275.6       , 277.1       , 277.8       , 279.4       ,\n",
       "       281.        , 281.7       , 281.3       , 283.2       ,\n",
       "       284.        , 283.2       , 282.9       , 283.2       ,\n",
       "       285.        , 282.        , 282.2       , 285.4       ,\n",
       "       287.2       , 287.7       , 281.6       , 279.2       ,\n",
       "       276.2       , 274.2       , 267.2       , 268.9       ,\n",
       "       268.8       , 263.        , 265.6       , 264.1       ,\n",
       "       266.2       , 268.4       , 267.5       , 269.2       ,\n",
       "       268.8       , 270.1       , 271.5       , 270.6       ,\n",
       "       272.2       , 270.6       , 265.        , 265.6       ,\n",
       "       261.2       , 258.5       , 260.1       , 263.4       ,\n",
       "       265.7       , 266.1       , 268.4       , 269.6       ,\n",
       "       271.3       , 269.6       , 271.6       , 273.3       ,\n",
       "       272.9       , 272.2       , 277.2       , 279.8       ,\n",
       "       279.6       , 281.4965089 , 287.82623705, 294.89298337,\n",
       "       300.05137992, 299.14039706, 294.76030507, 294.7450468 ,\n",
       "       289.97631786, 290.08823205, 284.12643216, 289.35612471,\n",
       "       283.20449997, 283.5217243 , 285.08951453, 282.53084138,\n",
       "       281.84061781, 280.97249611, 278.66920783, 280.7513986 ,\n",
       "       281.86640715, 279.64959854, 284.56582644, 279.01677799,\n",
       "       277.69253524, 281.93659293, 281.60902453, 275.11821185,\n",
       "       272.59968107, 270.18926648, 265.16986658, 261.39458427,\n",
       "       257.94635875, 261.31187469, 258.72761422])"
      ]
     },
     "execution_count": 179,
     "metadata": {},
     "output_type": "execute_result"
    }
   ],
   "source": [
    "np.append(old, new.flatten())"
   ]
  },
  {
   "cell_type": "code",
   "execution_count": null,
   "metadata": {},
   "outputs": [],
   "source": []
  }
 ],
 "metadata": {
  "kernelspec": {
   "display_name": "Python 3",
   "language": "python",
   "name": "python3"
  },
  "language_info": {
   "codemirror_mode": {
    "name": "ipython",
    "version": 3
   },
   "file_extension": ".py",
   "mimetype": "text/x-python",
   "name": "python",
   "nbconvert_exporter": "python",
   "pygments_lexer": "ipython3",
   "version": "3.11.9"
  },
  "orig_nbformat": 4
 },
 "nbformat": 4,
 "nbformat_minor": 2
}
