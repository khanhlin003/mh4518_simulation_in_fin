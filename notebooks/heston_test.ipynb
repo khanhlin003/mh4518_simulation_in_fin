{
 "cells": [
  {
   "cell_type": "code",
   "execution_count": 1,
   "metadata": {},
   "outputs": [],
   "source": [
    "import numpy as np\n",
    "import pandas as pd\n",
    "import matplotlib.pyplot as plt\n",
    "import seaborn as sns\n",
    "from scipy.optimize import minimize\n",
    "from scipy.stats import norm\n",
    "from tqdm.auto import tqdm\n",
    "\n",
    "import sys\n",
    "sys.path.append('../utils')\n",
    "from utils import *"
   ]
  },
  {
   "cell_type": "code",
   "execution_count": 2,
   "metadata": {},
   "outputs": [],
   "source": [
    "combined_df = retrieve_data()\n",
    "np.random.seed(42)\n",
    "n_days = 252\n",
    "dt = 1 / n_days\n",
    "close = combined_df[['ROG_Last_Price', 'CFR_Last_Price', 'ZURN_Last_Price']]\n",
    "tickers = close.columns\n",
    "log_returns = np.log((close / close.shift(1)).dropna())"
   ]
  },
  {
   "cell_type": "markdown",
   "metadata": {},
   "source": [
    "# Heston Stochastic Volatility Model "
   ]
  },
  {
   "cell_type": "markdown",
   "metadata": {},
   "source": [
    "only use constant interest rate r + does not incorporate option prices into the calibration process.\n",
    "\n",
    "!!! calibrate based solely on historical stock price data, particularly the realized volatility of returns.\n",
    "\n",
    "options data need to be collect more on daily basis from 2024/25/07 to 024/25/10.\n",
    "i only collected on quaterly basis so now cannot right"
   ]
  },
  {
   "cell_type": "code",
   "execution_count": null,
   "metadata": {},
   "outputs": [],
   "source": [
    "import numpy as np\n",
    "import pandas as pd\n",
    "from scipy.optimize import minimize\n",
    "from tqdm import tqdm\n",
    "\n",
    "class HestonModelCalibration:\n",
    "    def __init__(self, data, n_days=252):\n",
    "        self.data = data\n",
    "        self.n_days = n_days\n",
    "        self.dt = 1 / n_days\n",
    "        self.tickers = data.columns\n",
    "        self.log_returns = np.log((data / data.shift(1)).dropna())\n",
    "        \n",
    "    def calculate_realized_vol(self, window_size=30):\n",
    "        \"\"\"Calculate realized volatility for initial variance\"\"\"\n",
    "        return self.log_returns.rolling(window=window_size).var() * self.n_days\n",
    "    \n",
    "    def estimate_correlation_matrix(self, window_size=30):\n",
    "        \"\"\"Estimate correlation matrix from historical data\"\"\"\n",
    "        return self.log_returns.iloc[-window_size:].corr().values\n",
    "\n",
    "    def calibrate_heston_parameters(self, window_size=30):\n",
    "        \"\"\"\n",
    "        Calibrate Heston model parameters using historical data\n",
    "        Returns dict with parameters for each asset\n",
    "        \"\"\"\n",
    "        params = {}\n",
    "        for i, ticker in enumerate(self.tickers):\n",
    "            # Initial estimates based on historical data\n",
    "            vol = self.calculate_realized_vol()[ticker].dropna()\n",
    "            \n",
    "            def objective(x):\n",
    "                kappa, theta, sigma, rho = x\n",
    "                var_pred = theta + (vol.iloc[0] - theta) * np.exp(-kappa * np.arange(len(vol)) * self.dt)\n",
    "                return np.sum((var_pred - vol) ** 2)\n",
    "            \n",
    "            bounds = [(0.1, 10.0),  # kappa\n",
    "                     (0.001, 0.5),  # theta\n",
    "                     (0.01, 1.0),   # sigma\n",
    "                     (-0.99, -0.1)] # rho\n",
    "            \n",
    "            result = minimize(objective, \n",
    "                            x0=[2.0, vol.mean(), 0.3, -0.7],\n",
    "                            bounds=bounds,\n",
    "                            method='L-BFGS-B')\n",
    "            \n",
    "            params[ticker] = {\n",
    "                'kappa': result.x[0],\n",
    "                'theta': result.x[1],\n",
    "                'sigma': result.x[2],\n",
    "                'rho': result.x[3]\n",
    "            }\n",
    "        \n",
    "        return params\n",
    "\n",
    "def MultivariateHestonSimulation(\n",
    "    s0,\n",
    "    tickers,\n",
    "    dt,\n",
    "    calibrated_params,\n",
    "    correlation_matrix,\n",
    "    n_paths=1000,\n",
    "    last_id=287,\n",
    "    current_id=187,\n",
    "    window_size=30,\n",
    "    variance_reduction='av',\n",
    "    r=0.01\n",
    "    ):\n",
    "    \n",
    "    n_assets = len(tickers)\n",
    "    T = dt * (last_id - current_id)\n",
    "    n_steps = int(T / dt)\n",
    "    \n",
    "    # Initialize arrays\n",
    "    result = np.zeros((n_assets, n_paths, n_steps))\n",
    "    variance_paths = np.zeros((n_assets, n_paths, n_steps))\n",
    "    \n",
    "    # Extract parameters for each asset\n",
    "    kappa = np.array([calibrated_params[t]['kappa'] for t in tickers])\n",
    "    theta = np.array([calibrated_params[t]['theta'] for t in tickers])\n",
    "    sigma = np.array([calibrated_params[t]['sigma'] for t in tickers])\n",
    "    rho = np.array([calibrated_params[t]['rho'] for t in tickers])\n",
    "    \n",
    "    # Get initial variances\n",
    "    v0 = {t: calibrated_params[t]['theta'] for t in tickers}\n",
    "    \n",
    "    # Ensure correlation matrix is 2D numpy array\n",
    "    if isinstance(correlation_matrix, pd.DataFrame):\n",
    "        correlation_matrix = correlation_matrix.values\n",
    "        \n",
    "    # Cholesky decomposition for correlated Brownian motions\n",
    "    try:\n",
    "        chol_corr = np.linalg.cholesky(correlation_matrix)\n",
    "    except np.linalg.LinAlgError:\n",
    "        # If matrix is not positive definite, adjust it\n",
    "        correlation_matrix = (correlation_matrix + correlation_matrix.T) / 2  # Ensure symmetry\n",
    "        min_eig = np.min(np.real(np.linalg.eigvals(correlation_matrix)))\n",
    "        if min_eig < 0:\n",
    "            correlation_matrix -= min_eig * np.eye(correlation_matrix.shape[0])\n",
    "        chol_corr = np.linalg.cholesky(correlation_matrix)\n",
    "    \n",
    "    paths_to_simulate = n_paths // 2 if variance_reduction == 'av' else n_paths\n",
    "    \n",
    "    for i in tqdm(range(paths_to_simulate)):\n",
    "        # Generate and correlate Brownian motions\n",
    "        dw_s = np.random.normal(size=(n_assets, n_steps))\n",
    "        dw_v = np.random.normal(size=(n_assets, n_steps))\n",
    "        dw_s = np.dot(chol_corr, dw_s)\n",
    "        \n",
    "        # Correlate price and variance Brownian motions\n",
    "        for j in range(n_assets):\n",
    "            dw_v[j] = rho[j] * dw_s[j] + np.sqrt(1 - rho[j]**2) * dw_v[j]\n",
    "        \n",
    "        for j in range(n_steps):\n",
    "            for k in range(n_assets):\n",
    "                if j == 0:\n",
    "                    result[k, i, j] = s0[tickers[k]]\n",
    "                    variance_paths[k, i, j] = v0[tickers[k]]\n",
    "                    \n",
    "                    if variance_reduction == 'av':\n",
    "                        result[k, n_paths - i - 1, j] = s0[tickers[k]]\n",
    "                        variance_paths[k, n_paths - i - 1, j] = v0[tickers[k]]\n",
    "                else:\n",
    "                    v_prev = max(variance_paths[k, i, j-1], 0)\n",
    "                    \n",
    "                    # Update variance\n",
    "                    variance_paths[k, i, j] = (v_prev + \n",
    "                        kappa[k] * (theta[k] - v_prev) * dt + \n",
    "                        sigma[k] * np.sqrt(v_prev * dt) * dw_v[k, j])\n",
    "                    \n",
    "                    # Update price\n",
    "                    result[k, i, j] = result[k, i, j-1] * np.exp(\n",
    "                        (r - 0.5 * v_prev) * dt + \n",
    "                        np.sqrt(v_prev * dt) * dw_s[k, j])\n",
    "                    \n",
    "                    if variance_reduction == 'av':\n",
    "                        variance_paths[k, n_paths - i - 1, j] = (v_prev + \n",
    "                            kappa[k] * (theta[k] - v_prev) * dt + \n",
    "                            sigma[k] * np.sqrt(v_prev * dt) * (-dw_v[k, j]))\n",
    "                        \n",
    "                        result[k, n_paths - i - 1, j] = result[k, n_paths - i - 1, j-1] * np.exp(\n",
    "                            (r - 0.5 * v_prev) * dt + \n",
    "                            np.sqrt(v_prev * dt) * (-dw_s[k, j]))\n",
    "    \n",
    "    if variance_reduction == 'emc':\n",
    "        for k in range(n_assets):\n",
    "            correction_factor = result[k][-1, :].mean() / result[k][-1, :]\n",
    "            result[k] = result[k] * correction_factor\n",
    "    \n",
    "    return result, tickers, variance_paths\n",
    "\n",
    "def run_heston_backtest(combined_df, backtest_start, backtest_end, last_id):\n",
    "    # Initialize model and calibrate parameters\n",
    "    close = combined_df[['ROG_Last_Price', 'CFR_Last_Price', 'ZURN_Last_Price']]\n",
    "    heston_calibration = HestonModelCalibration(close)\n",
    "    \n",
    "    prices = []\n",
    "    for current_id in tqdm(range(backtest_start, backtest_end)):\n",
    "        # Get data for current window\n",
    "        window_data = close.iloc[max(0, current_id - 30):current_id]\n",
    "        \n",
    "        # Calibrate parameters and get correlation matrix\n",
    "        calibrated_params = heston_calibration.calibrate_heston_parameters(window_size=30)\n",
    "        correlation_matrix = heston_calibration.estimate_correlation_matrix(window_size=30)\n",
    "        \n",
    "        payoff = []\n",
    "        result, _, variance_paths = MultivariateHestonSimulation(\n",
    "            s0=close.iloc[current_id],\n",
    "            tickers=close.columns,\n",
    "            dt=1/252,\n",
    "            calibrated_params=calibrated_params,\n",
    "            correlation_matrix=correlation_matrix,\n",
    "            n_paths=1000,\n",
    "            variance_reduction='av',\n",
    "            current_id=current_id,\n",
    "            last_id=last_id\n",
    "        )\n",
    "        \n",
    "        # Construct paths and calculate payoffs\n",
    "        old_path_rog = combined_df['ROG_Last_Price'].iloc[:current_id]\n",
    "        old_path_cfr = combined_df['CFR_Last_Price'].iloc[:current_id]\n",
    "        old_path_zurn = combined_df['ZURN_Last_Price'].iloc[:current_id]\n",
    "\n",
    "        for i in range(result.shape[1]):\n",
    "            path_rog = np.append(old_path_rog, result[0][i].flatten())\n",
    "            path_cfr = np.append(old_path_cfr, result[1][i].flatten())\n",
    "            path_zurn = np.append(old_path_zurn, result[2][i].flatten())\n",
    "            \n",
    "        #     payoff.append(payoff_func(\n",
    "        #         path_rog, path_cfr, path_zurn, \n",
    "        #         combined_df.iloc[current_id]['Date'], \n",
    "        #         verbose=False\n",
    "        #     ))\n",
    "        \n",
    "        # prices.append(neutral_pricing(\n",
    "        #     np.mean(payoff), \n",
    "        #     0.01107, \n",
    "        #     last_id - current_id\n",
    "        # ))\n",
    "            payoff.append(payoff_func(path_rog, path_cfr, path_zurn, combined_df.iloc[current_id]['Date'], risk_free=0.01107, risk_neutral=True, verbose=False))\n",
    "        prices.append(np.mean(payoff))\n",
    "        \n",
    "    return prices"
   ]
  },
  {
   "cell_type": "code",
   "execution_count": null,
   "metadata": {},
   "outputs": [
    {
     "name": "stderr",
     "output_type": "stream",
     "text": [
      "100%|██████████| 500/500 [00:01<00:00, 474.70it/s]\n",
      "  2%|▏         | 1/65 [00:01<02:07,  1.99s/it]"
     ]
    },
    {
     "name": "stdout",
     "output_type": "stream",
     "text": [
      "1030.047150441568\n"
     ]
    },
    {
     "name": "stderr",
     "output_type": "stream",
     "text": [
      "100%|██████████| 500/500 [00:01<00:00, 470.49it/s]\n",
      "  3%|▎         | 2/65 [00:03<02:05,  1.99s/it]"
     ]
    },
    {
     "name": "stdout",
     "output_type": "stream",
     "text": [
      "1030.099426314412\n"
     ]
    },
    {
     "name": "stderr",
     "output_type": "stream",
     "text": [
      "100%|██████████| 500/500 [00:01<00:00, 483.01it/s]\n",
      "  5%|▍         | 3/65 [00:05<02:02,  1.97s/it]"
     ]
    },
    {
     "name": "stdout",
     "output_type": "stream",
     "text": [
      "1029.912901897052\n"
     ]
    },
    {
     "name": "stderr",
     "output_type": "stream",
     "text": [
      "100%|██████████| 500/500 [00:01<00:00, 493.28it/s]\n",
      "  6%|▌         | 4/65 [00:07<01:59,  1.96s/it]"
     ]
    },
    {
     "name": "stdout",
     "output_type": "stream",
     "text": [
      "1029.7351152266258\n"
     ]
    },
    {
     "name": "stderr",
     "output_type": "stream",
     "text": [
      "100%|██████████| 500/500 [00:01<00:00, 464.47it/s]\n",
      "  8%|▊         | 5/65 [00:10<02:01,  2.03s/it]"
     ]
    },
    {
     "name": "stdout",
     "output_type": "stream",
     "text": [
      "1030.1861753249734\n"
     ]
    },
    {
     "name": "stderr",
     "output_type": "stream",
     "text": [
      "100%|██████████| 500/500 [00:01<00:00, 492.90it/s]\n",
      "  9%|▉         | 6/65 [00:11<01:58,  2.00s/it]"
     ]
    },
    {
     "name": "stdout",
     "output_type": "stream",
     "text": [
      "1028.1870347624026\n"
     ]
    },
    {
     "name": "stderr",
     "output_type": "stream",
     "text": [
      "100%|██████████| 500/500 [00:00<00:00, 503.43it/s]\n",
      " 11%|█         | 7/65 [00:13<01:54,  1.97s/it]"
     ]
    },
    {
     "name": "stdout",
     "output_type": "stream",
     "text": [
      "1029.5307583260337\n"
     ]
    },
    {
     "name": "stderr",
     "output_type": "stream",
     "text": [
      "100%|██████████| 500/500 [00:00<00:00, 517.68it/s]\n",
      " 12%|█▏        | 8/65 [00:15<01:51,  1.95s/it]"
     ]
    },
    {
     "name": "stdout",
     "output_type": "stream",
     "text": [
      "1027.9325578259995\n"
     ]
    },
    {
     "name": "stderr",
     "output_type": "stream",
     "text": [
      "100%|██████████| 500/500 [00:00<00:00, 506.59it/s]\n",
      " 14%|█▍        | 9/65 [00:17<01:48,  1.93s/it]"
     ]
    },
    {
     "name": "stdout",
     "output_type": "stream",
     "text": [
      "1029.2874143854256\n"
     ]
    },
    {
     "name": "stderr",
     "output_type": "stream",
     "text": [
      "100%|██████████| 500/500 [00:00<00:00, 513.54it/s]\n",
      " 15%|█▌        | 10/65 [00:19<01:47,  1.96s/it]"
     ]
    },
    {
     "name": "stdout",
     "output_type": "stream",
     "text": [
      "1028.2820383674111\n"
     ]
    },
    {
     "name": "stderr",
     "output_type": "stream",
     "text": [
      "100%|██████████| 500/500 [00:01<00:00, 494.60it/s]\n",
      " 17%|█▋        | 11/65 [00:21<01:45,  1.95s/it]"
     ]
    },
    {
     "name": "stdout",
     "output_type": "stream",
     "text": [
      "1030.4865414194492\n"
     ]
    },
    {
     "name": "stderr",
     "output_type": "stream",
     "text": [
      "100%|██████████| 500/500 [00:00<00:00, 521.46it/s]\n",
      " 18%|█▊        | 12/65 [00:23<01:42,  1.93s/it]"
     ]
    },
    {
     "name": "stdout",
     "output_type": "stream",
     "text": [
      "1030.0015137116172\n"
     ]
    },
    {
     "name": "stderr",
     "output_type": "stream",
     "text": [
      "100%|██████████| 500/500 [00:00<00:00, 543.17it/s]\n",
      " 20%|██        | 13/65 [00:25<01:38,  1.90s/it]"
     ]
    },
    {
     "name": "stdout",
     "output_type": "stream",
     "text": [
      "1029.8758222157376\n"
     ]
    },
    {
     "name": "stderr",
     "output_type": "stream",
     "text": [
      "100%|██████████| 500/500 [00:00<00:00, 550.63it/s]\n",
      " 22%|██▏       | 14/65 [00:27<01:35,  1.88s/it]"
     ]
    },
    {
     "name": "stdout",
     "output_type": "stream",
     "text": [
      "1030.4676416947643\n"
     ]
    },
    {
     "name": "stderr",
     "output_type": "stream",
     "text": [
      "100%|██████████| 500/500 [00:00<00:00, 551.84it/s]\n",
      " 23%|██▎       | 15/65 [00:29<01:33,  1.87s/it]"
     ]
    },
    {
     "name": "stdout",
     "output_type": "stream",
     "text": [
      "1030.6552912593445\n"
     ]
    },
    {
     "name": "stderr",
     "output_type": "stream",
     "text": [
      "100%|██████████| 500/500 [00:00<00:00, 535.95it/s]\n",
      " 25%|██▍       | 16/65 [00:30<01:31,  1.86s/it]"
     ]
    },
    {
     "name": "stdout",
     "output_type": "stream",
     "text": [
      "1030.7849907993686\n"
     ]
    },
    {
     "name": "stderr",
     "output_type": "stream",
     "text": [
      "100%|██████████| 500/500 [00:00<00:00, 563.59it/s]\n",
      " 26%|██▌       | 17/65 [00:32<01:28,  1.85s/it]"
     ]
    },
    {
     "name": "stdout",
     "output_type": "stream",
     "text": [
      "1031.1878876727512\n"
     ]
    },
    {
     "name": "stderr",
     "output_type": "stream",
     "text": [
      "100%|██████████| 500/500 [00:00<00:00, 575.56it/s]\n",
      " 28%|██▊       | 18/65 [00:34<01:25,  1.83s/it]"
     ]
    },
    {
     "name": "stdout",
     "output_type": "stream",
     "text": [
      "1031.2331872784976\n"
     ]
    },
    {
     "name": "stderr",
     "output_type": "stream",
     "text": [
      "100%|██████████| 500/500 [00:00<00:00, 564.29it/s]\n",
      " 29%|██▉       | 19/65 [00:36<01:23,  1.82s/it]"
     ]
    },
    {
     "name": "stdout",
     "output_type": "stream",
     "text": [
      "1030.4461771457934\n"
     ]
    },
    {
     "name": "stderr",
     "output_type": "stream",
     "text": [
      "100%|██████████| 500/500 [00:00<00:00, 589.11it/s]\n",
      " 31%|███       | 20/65 [00:38<01:21,  1.80s/it]"
     ]
    },
    {
     "name": "stdout",
     "output_type": "stream",
     "text": [
      "1030.8643241439509\n"
     ]
    },
    {
     "name": "stderr",
     "output_type": "stream",
     "text": [
      "100%|██████████| 500/500 [00:00<00:00, 599.47it/s]\n",
      " 32%|███▏      | 21/65 [00:39<01:20,  1.83s/it]"
     ]
    },
    {
     "name": "stdout",
     "output_type": "stream",
     "text": [
      "1031.3690980360295\n"
     ]
    },
    {
     "name": "stderr",
     "output_type": "stream",
     "text": [
      "100%|██████████| 500/500 [00:00<00:00, 538.78it/s]\n",
      " 34%|███▍      | 22/65 [00:41<01:19,  1.84s/it]"
     ]
    },
    {
     "name": "stdout",
     "output_type": "stream",
     "text": [
      "1031.0152920804749\n"
     ]
    },
    {
     "name": "stderr",
     "output_type": "stream",
     "text": [
      "100%|██████████| 500/500 [00:00<00:00, 603.55it/s]\n",
      " 35%|███▌      | 23/65 [00:43<01:16,  1.83s/it]"
     ]
    },
    {
     "name": "stdout",
     "output_type": "stream",
     "text": [
      "1031.4597151588366\n"
     ]
    },
    {
     "name": "stderr",
     "output_type": "stream",
     "text": [
      "100%|██████████| 500/500 [00:00<00:00, 611.08it/s]\n",
      " 37%|███▋      | 24/65 [00:45<01:15,  1.85s/it]"
     ]
    },
    {
     "name": "stdout",
     "output_type": "stream",
     "text": [
      "1031.1063606402756\n"
     ]
    },
    {
     "name": "stderr",
     "output_type": "stream",
     "text": [
      "100%|██████████| 500/500 [00:00<00:00, 604.92it/s]\n",
      " 38%|███▊      | 25/65 [00:47<01:13,  1.83s/it]"
     ]
    },
    {
     "name": "stdout",
     "output_type": "stream",
     "text": [
      "1031.155134648741\n"
     ]
    },
    {
     "name": "stderr",
     "output_type": "stream",
     "text": [
      "100%|██████████| 500/500 [00:00<00:00, 633.60it/s]\n",
      " 40%|████      | 26/65 [00:49<01:10,  1.81s/it]"
     ]
    },
    {
     "name": "stdout",
     "output_type": "stream",
     "text": [
      "1030.7607643359922\n"
     ]
    },
    {
     "name": "stderr",
     "output_type": "stream",
     "text": [
      "100%|██████████| 500/500 [00:00<00:00, 629.91it/s]\n",
      " 42%|████▏     | 27/65 [00:50<01:08,  1.80s/it]"
     ]
    },
    {
     "name": "stdout",
     "output_type": "stream",
     "text": [
      "1031.640973290284\n"
     ]
    },
    {
     "name": "stderr",
     "output_type": "stream",
     "text": [
      "100%|██████████| 500/500 [00:00<00:00, 642.02it/s]\n",
      " 43%|████▎     | 28/65 [00:52<01:06,  1.80s/it]"
     ]
    },
    {
     "name": "stdout",
     "output_type": "stream",
     "text": [
      "1030.4229114923685\n"
     ]
    },
    {
     "name": "stderr",
     "output_type": "stream",
     "text": [
      "100%|██████████| 500/500 [00:00<00:00, 642.84it/s]\n",
      " 45%|████▍     | 29/65 [00:54<01:03,  1.77s/it]"
     ]
    },
    {
     "name": "stdout",
     "output_type": "stream",
     "text": [
      "1031.7316143003234\n"
     ]
    },
    {
     "name": "stderr",
     "output_type": "stream",
     "text": [
      "100%|██████████| 500/500 [00:00<00:00, 661.52it/s]\n",
      " 46%|████▌     | 30/65 [00:55<01:00,  1.74s/it]"
     ]
    },
    {
     "name": "stdout",
     "output_type": "stream",
     "text": [
      "1031.0957426049908\n"
     ]
    },
    {
     "name": "stderr",
     "output_type": "stream",
     "text": [
      "100%|██████████| 500/500 [00:00<00:00, 678.77it/s]\n",
      " 48%|████▊     | 31/65 [00:57<00:58,  1.71s/it]"
     ]
    },
    {
     "name": "stdout",
     "output_type": "stream",
     "text": [
      "1030.2051508710952\n"
     ]
    },
    {
     "name": "stderr",
     "output_type": "stream",
     "text": [
      "100%|██████████| 500/500 [00:00<00:00, 695.89it/s]\n",
      " 49%|████▉     | 32/65 [00:59<00:55,  1.69s/it]"
     ]
    },
    {
     "name": "stdout",
     "output_type": "stream",
     "text": [
      "1030.7278129445049\n"
     ]
    },
    {
     "name": "stderr",
     "output_type": "stream",
     "text": [
      "100%|██████████| 500/500 [00:00<00:00, 693.20it/s]\n",
      " 51%|█████     | 33/65 [01:00<00:53,  1.68s/it]"
     ]
    },
    {
     "name": "stdout",
     "output_type": "stream",
     "text": [
      "1031.9129202125318\n"
     ]
    },
    {
     "name": "stderr",
     "output_type": "stream",
     "text": [
      "100%|██████████| 500/500 [00:00<00:00, 696.81it/s]\n",
      " 52%|█████▏    | 34/65 [01:02<00:51,  1.66s/it]"
     ]
    },
    {
     "name": "stdout",
     "output_type": "stream",
     "text": [
      "1029.3691274339508\n"
     ]
    },
    {
     "name": "stderr",
     "output_type": "stream",
     "text": [
      "100%|██████████| 500/500 [00:00<00:00, 727.51it/s]\n",
      " 54%|█████▍    | 35/65 [01:04<00:51,  1.72s/it]"
     ]
    },
    {
     "name": "stdout",
     "output_type": "stream",
     "text": [
      "1013.0011148467235\n"
     ]
    },
    {
     "name": "stderr",
     "output_type": "stream",
     "text": [
      "100%|██████████| 500/500 [00:00<00:00, 726.61it/s]\n",
      " 55%|█████▌    | 36/65 [01:06<00:50,  1.76s/it]"
     ]
    },
    {
     "name": "stdout",
     "output_type": "stream",
     "text": [
      "1014.1493351871889\n"
     ]
    },
    {
     "name": "stderr",
     "output_type": "stream",
     "text": [
      "100%|██████████| 500/500 [00:00<00:00, 735.49it/s]\n",
      " 57%|█████▋    | 37/65 [01:08<00:49,  1.77s/it]"
     ]
    },
    {
     "name": "stdout",
     "output_type": "stream",
     "text": [
      "1013.8972661796411\n"
     ]
    },
    {
     "name": "stderr",
     "output_type": "stream",
     "text": [
      "100%|██████████| 500/500 [00:00<00:00, 749.95it/s]\n",
      " 58%|█████▊    | 38/65 [01:09<00:48,  1.78s/it]"
     ]
    },
    {
     "name": "stdout",
     "output_type": "stream",
     "text": [
      "1014.3039897129772\n"
     ]
    },
    {
     "name": "stderr",
     "output_type": "stream",
     "text": [
      "100%|██████████| 500/500 [00:00<00:00, 747.44it/s]\n",
      " 60%|██████    | 39/65 [01:11<00:46,  1.77s/it]"
     ]
    },
    {
     "name": "stdout",
     "output_type": "stream",
     "text": [
      "1012.5421917178676\n"
     ]
    },
    {
     "name": "stderr",
     "output_type": "stream",
     "text": [
      "100%|██████████| 500/500 [00:00<00:00, 790.00it/s]\n",
      " 62%|██████▏   | 40/65 [01:13<00:43,  1.76s/it]"
     ]
    },
    {
     "name": "stdout",
     "output_type": "stream",
     "text": [
      "1014.0100709928722\n"
     ]
    },
    {
     "name": "stderr",
     "output_type": "stream",
     "text": [
      "100%|██████████| 500/500 [00:00<00:00, 799.15it/s]\n",
      " 63%|██████▎   | 41/65 [01:15<00:41,  1.74s/it]"
     ]
    },
    {
     "name": "stdout",
     "output_type": "stream",
     "text": [
      "1014.0626772537621\n"
     ]
    },
    {
     "name": "stderr",
     "output_type": "stream",
     "text": [
      "100%|██████████| 500/500 [00:00<00:00, 803.44it/s]\n",
      " 65%|██████▍   | 42/65 [01:16<00:39,  1.72s/it]"
     ]
    },
    {
     "name": "stdout",
     "output_type": "stream",
     "text": [
      "1014.4214198536179\n"
     ]
    },
    {
     "name": "stderr",
     "output_type": "stream",
     "text": [
      "100%|██████████| 500/500 [00:00<00:00, 830.34it/s]\n",
      " 66%|██████▌   | 43/65 [01:18<00:37,  1.72s/it]"
     ]
    },
    {
     "name": "stdout",
     "output_type": "stream",
     "text": [
      "1012.8337764407784\n"
     ]
    },
    {
     "name": "stderr",
     "output_type": "stream",
     "text": [
      "100%|██████████| 500/500 [00:00<00:00, 779.81it/s]\n",
      " 68%|██████▊   | 44/65 [01:20<00:36,  1.72s/it]"
     ]
    },
    {
     "name": "stdout",
     "output_type": "stream",
     "text": [
      "1014.5498359093051\n"
     ]
    },
    {
     "name": "stderr",
     "output_type": "stream",
     "text": [
      "100%|██████████| 500/500 [00:00<00:00, 849.98it/s]\n",
      " 69%|██████▉   | 45/65 [01:21<00:34,  1.71s/it]"
     ]
    },
    {
     "name": "stdout",
     "output_type": "stream",
     "text": [
      "1014.5696323648176\n"
     ]
    },
    {
     "name": "stderr",
     "output_type": "stream",
     "text": [
      "100%|██████████| 500/500 [00:00<00:00, 868.14it/s]\n",
      " 71%|███████   | 46/65 [01:23<00:32,  1.70s/it]"
     ]
    },
    {
     "name": "stdout",
     "output_type": "stream",
     "text": [
      "1015.0446147089748\n"
     ]
    },
    {
     "name": "stderr",
     "output_type": "stream",
     "text": [
      "100%|██████████| 500/500 [00:00<00:00, 885.12it/s]\n",
      " 72%|███████▏  | 47/65 [01:25<00:30,  1.69s/it]"
     ]
    },
    {
     "name": "stdout",
     "output_type": "stream",
     "text": [
      "1015.0892051482251\n"
     ]
    },
    {
     "name": "stderr",
     "output_type": "stream",
     "text": [
      "100%|██████████| 500/500 [00:00<00:00, 903.58it/s]\n",
      " 74%|███████▍  | 48/65 [01:26<00:28,  1.69s/it]"
     ]
    },
    {
     "name": "stdout",
     "output_type": "stream",
     "text": [
      "1015.1337975463128\n"
     ]
    },
    {
     "name": "stderr",
     "output_type": "stream",
     "text": [
      "100%|██████████| 500/500 [00:00<00:00, 917.61it/s]\n",
      " 75%|███████▌  | 49/65 [01:28<00:26,  1.68s/it]"
     ]
    },
    {
     "name": "stdout",
     "output_type": "stream",
     "text": [
      "1015.178391903324\n"
     ]
    },
    {
     "name": "stderr",
     "output_type": "stream",
     "text": [
      "100%|██████████| 500/500 [00:00<00:00, 931.93it/s]\n",
      " 77%|███████▋  | 50/65 [01:30<00:24,  1.66s/it]"
     ]
    },
    {
     "name": "stdout",
     "output_type": "stream",
     "text": [
      "1015.2229882193444\n"
     ]
    },
    {
     "name": "stderr",
     "output_type": "stream",
     "text": [
      "100%|██████████| 500/500 [00:00<00:00, 931.14it/s]\n",
      " 78%|███████▊  | 51/65 [01:31<00:23,  1.66s/it]"
     ]
    },
    {
     "name": "stdout",
     "output_type": "stream",
     "text": [
      "1015.2675864944605\n"
     ]
    },
    {
     "name": "stderr",
     "output_type": "stream",
     "text": [
      "100%|██████████| 500/500 [00:00<00:00, 975.68it/s]\n",
      " 80%|████████  | 52/65 [01:33<00:21,  1.63s/it]"
     ]
    },
    {
     "name": "stdout",
     "output_type": "stream",
     "text": [
      "1015.3121867287581\n"
     ]
    },
    {
     "name": "stderr",
     "output_type": "stream",
     "text": [
      "100%|██████████| 500/500 [00:00<00:00, 979.88it/s]\n",
      " 82%|████████▏ | 53/65 [01:34<00:19,  1.62s/it]"
     ]
    },
    {
     "name": "stdout",
     "output_type": "stream",
     "text": [
      "1015.3567889223232\n"
     ]
    },
    {
     "name": "stderr",
     "output_type": "stream",
     "text": [
      "100%|██████████| 500/500 [00:00<00:00, 1005.89it/s]\n",
      " 83%|████████▎ | 54/65 [01:36<00:17,  1.61s/it]"
     ]
    },
    {
     "name": "stdout",
     "output_type": "stream",
     "text": [
      "1015.401393075242\n"
     ]
    },
    {
     "name": "stderr",
     "output_type": "stream",
     "text": [
      "100%|██████████| 500/500 [00:00<00:00, 1010.08it/s]\n",
      " 85%|████████▍ | 55/65 [01:38<00:16,  1.60s/it]"
     ]
    },
    {
     "name": "stdout",
     "output_type": "stream",
     "text": [
      "1015.4459991876007\n"
     ]
    },
    {
     "name": "stderr",
     "output_type": "stream",
     "text": [
      "100%|██████████| 500/500 [00:00<00:00, 1034.83it/s]\n",
      " 86%|████████▌ | 56/65 [01:39<00:14,  1.59s/it]"
     ]
    },
    {
     "name": "stdout",
     "output_type": "stream",
     "text": [
      "1015.4906072594852\n"
     ]
    },
    {
     "name": "stderr",
     "output_type": "stream",
     "text": [
      "100%|██████████| 500/500 [00:00<00:00, 1079.08it/s]\n",
      " 88%|████████▊ | 57/65 [01:41<00:12,  1.61s/it]"
     ]
    },
    {
     "name": "stdout",
     "output_type": "stream",
     "text": [
      "1015.5352172909814\n"
     ]
    },
    {
     "name": "stderr",
     "output_type": "stream",
     "text": [
      "100%|██████████| 500/500 [00:00<00:00, 1090.92it/s]\n",
      " 89%|████████▉ | 58/65 [01:42<00:11,  1.59s/it]"
     ]
    },
    {
     "name": "stdout",
     "output_type": "stream",
     "text": [
      "1015.5798292821759\n"
     ]
    },
    {
     "name": "stderr",
     "output_type": "stream",
     "text": [
      "100%|██████████| 500/500 [00:00<00:00, 1122.91it/s]\n",
      " 91%|█████████ | 59/65 [01:44<00:09,  1.57s/it]"
     ]
    },
    {
     "name": "stdout",
     "output_type": "stream",
     "text": [
      "1015.6244432331542\n"
     ]
    },
    {
     "name": "stderr",
     "output_type": "stream",
     "text": [
      "100%|██████████| 500/500 [00:00<00:00, 1001.63it/s]\n",
      " 92%|█████████▏| 60/65 [01:46<00:09,  1.86s/it]"
     ]
    },
    {
     "name": "stdout",
     "output_type": "stream",
     "text": [
      "1015.6690591440029\n"
     ]
    },
    {
     "name": "stderr",
     "output_type": "stream",
     "text": [
      "100%|██████████| 500/500 [00:00<00:00, 1098.80it/s]\n",
      " 94%|█████████▍| 61/65 [01:48<00:07,  1.77s/it]"
     ]
    },
    {
     "name": "stdout",
     "output_type": "stream",
     "text": [
      "1015.7136770148078\n"
     ]
    },
    {
     "name": "stderr",
     "output_type": "stream",
     "text": [
      "100%|██████████| 500/500 [00:00<00:00, 752.91it/s]\n",
      " 95%|█████████▌| 62/65 [01:50<00:05,  1.84s/it]"
     ]
    },
    {
     "name": "stdout",
     "output_type": "stream",
     "text": [
      "1015.3611474907607\n"
     ]
    },
    {
     "name": "stderr",
     "output_type": "stream",
     "text": [
      "100%|██████████| 500/500 [00:00<00:00, 1242.97it/s]\n",
      " 97%|█████████▋| 63/65 [01:52<00:03,  1.76s/it]"
     ]
    },
    {
     "name": "stdout",
     "output_type": "stream",
     "text": [
      "1015.8029186366307\n"
     ]
    },
    {
     "name": "stderr",
     "output_type": "stream",
     "text": [
      "100%|██████████| 500/500 [00:00<00:00, 1279.46it/s]\n",
      " 98%|█████████▊| 64/65 [01:53<00:01,  1.69s/it]"
     ]
    },
    {
     "name": "stdout",
     "output_type": "stream",
     "text": [
      "1015.847542387821\n"
     ]
    },
    {
     "name": "stderr",
     "output_type": "stream",
     "text": [
      "100%|██████████| 500/500 [00:00<00:00, 1327.99it/s]\n",
      "100%|██████████| 65/65 [01:55<00:00,  1.77s/it]\n",
      "/Users/linhtrankhanh/Documents/GitHub/mh4518_simulation_in_fin/notebooks/../utils/utils.py:146: UserWarning: Could not infer format, so each element will be parsed individually, falling back to `dateutil`. To ensure parsing is consistent and as-expected, please specify a format.\n",
      "  real_price['Date'] = pd.to_datetime(real_price['Date'], dayfirst=True)\n"
     ]
    },
    {
     "name": "stdout",
     "output_type": "stream",
     "text": [
      "1015.892168099312\n"
     ]
    },
    {
     "data": {
      "image/png": "[encoded data removed]",
      "text/plain": [
       "<Figure size 2000x400 with 1 Axes>"
      ]
     },
     "metadata": {},
     "output_type": "display_data"
    }
   ],
   "source": [
    "# Initialize backtest parameters\n",
    "last_id = 287\n",
    "backtest_start = 187\n",
    "backtest_end = 252\n",
    "\n",
    "# Run backtest\n",
    "prices = run_heston_backtest(\n",
    "    combined_df,\n",
    "    backtest_start=187,\n",
    "    backtest_end=197,\n",
    "    last_id=287\n",
    ")\n",
    "\n",
    "# Evaluate results\n",
    "evaluation_plot(\n",
    "    backtest_start,\n",
    "    backtest_end,\n",
    "    combined_df,\n",
    "    prices\n",
    ")"
   ]
  }
 ],
 "metadata": {
  "kernelspec": {
   "display_name": "Python 3.10.6 64-bit",
   "language": "python",
   "name": "python3"
  },
  "language_info": {
   "codemirror_mode": {
    "name": "ipython",
    "version": 3
   },
   "file_extension": ".py",
   "mimetype": "text/x-python",
   "name": "python",
   "nbconvert_exporter": "python",
   "pygments_lexer": "ipython3",
   "version": "3.10.6"
  },
  "orig_nbformat": 4,
  "vscode": {
   "interpreter": {
    "hash": "7e1998ff7f8aa20ada591c520b972326324e5ea05489af9e422744c7c09f6dad"
   }
  }
 },
 "nbformat": 4,
 "nbformat_minor": 2
}
