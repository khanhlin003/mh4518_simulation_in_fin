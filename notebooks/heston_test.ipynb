{
 "cells": [
  {
   "cell_type": "code",
   "execution_count": null,
   "metadata": {},
   "outputs": [],
   "source": [
    "import numpy as np\n",
    "import pandas as pd\n",
    "import matplotlib.pyplot as plt\n",
    "import seaborn as sns\n",
    "from scipy.optimize import minimize\n",
    "from scipy.stats import norm\n",
    "from tqdm.auto import tqdm\n",
    "\n",
    "\n",
    "import sys\n",
    "sys.path.append('../utils')\n",
    "from utils import *"
   ]
  },
  {
   "cell_type": "code",
   "execution_count": 211,
   "metadata": {},
   "outputs": [
    {
     "data": {
      "text/html": [
       "<div>\n",
       "<style scoped>\n",
       "    .dataframe tbody tr th:only-of-type {\n",
       "        vertical-align: middle;\n",
       "    }\n",
       "\n",
       "    .dataframe tbody tr th {\n",
       "        vertical-align: top;\n",
       "    }\n",
       "\n",
       "    .dataframe thead th {\n",
       "        text-align: right;\n",
       "    }\n",
       "</style>\n",
       "<table border=\"1\" class=\"dataframe\">\n",
       "  <thead>\n",
       "    <tr style=\"text-align: right;\">\n",
       "      <th></th>\n",
       "      <th>Date</th>\n",
       "      <th>ROG_Last_Price</th>\n",
       "      <th>ROG_IVOL</th>\n",
       "      <th>CFR_Last_Price</th>\n",
       "      <th>CFR_IVOL</th>\n",
       "      <th>ZURN_Last_Price</th>\n",
       "      <th>ZURN_IVOL</th>\n",
       "      <th>Risk_Free_Rate</th>\n",
       "    </tr>\n",
       "  </thead>\n",
       "  <tbody>\n",
       "    <tr>\n",
       "      <th>0</th>\n",
       "      <td>2023-10-25</td>\n",
       "      <td>237.55</td>\n",
       "      <td>17.6858</td>\n",
       "      <td>107.00</td>\n",
       "      <td>33.0793</td>\n",
       "      <td>426.4</td>\n",
       "      <td>15.7900</td>\n",
       "      <td>1.4594</td>\n",
       "    </tr>\n",
       "    <tr>\n",
       "      <th>1</th>\n",
       "      <td>2023-10-26</td>\n",
       "      <td>237.25</td>\n",
       "      <td>17.9504</td>\n",
       "      <td>104.45</td>\n",
       "      <td>33.5406</td>\n",
       "      <td>426.8</td>\n",
       "      <td>15.9736</td>\n",
       "      <td>1.4508</td>\n",
       "    </tr>\n",
       "    <tr>\n",
       "      <th>2</th>\n",
       "      <td>2023-10-27</td>\n",
       "      <td>237.75</td>\n",
       "      <td>19.6028</td>\n",
       "      <td>104.40</td>\n",
       "      <td>33.4355</td>\n",
       "      <td>424.4</td>\n",
       "      <td>16.3945</td>\n",
       "      <td>1.4478</td>\n",
       "    </tr>\n",
       "    <tr>\n",
       "      <th>3</th>\n",
       "      <td>2023-10-30</td>\n",
       "      <td>241.30</td>\n",
       "      <td>19.3503</td>\n",
       "      <td>104.75</td>\n",
       "      <td>33.1531</td>\n",
       "      <td>428.2</td>\n",
       "      <td>15.9477</td>\n",
       "      <td>1.4623</td>\n",
       "    </tr>\n",
       "    <tr>\n",
       "      <th>4</th>\n",
       "      <td>2023-10-31</td>\n",
       "      <td>233.85</td>\n",
       "      <td>19.2518</td>\n",
       "      <td>106.90</td>\n",
       "      <td>32.7788</td>\n",
       "      <td>430.6</td>\n",
       "      <td>15.7948</td>\n",
       "      <td>1.4489</td>\n",
       "    </tr>\n",
       "    <tr>\n",
       "      <th>...</th>\n",
       "      <td>...</td>\n",
       "      <td>...</td>\n",
       "      <td>...</td>\n",
       "      <td>...</td>\n",
       "      <td>...</td>\n",
       "      <td>...</td>\n",
       "      <td>...</td>\n",
       "      <td>...</td>\n",
       "    </tr>\n",
       "    <tr>\n",
       "      <th>248</th>\n",
       "      <td>2024-10-21</td>\n",
       "      <td>272.90</td>\n",
       "      <td>17.7575</td>\n",
       "      <td>126.65</td>\n",
       "      <td>31.1486</td>\n",
       "      <td>526.2</td>\n",
       "      <td>14.1699</td>\n",
       "      <td>0.6532</td>\n",
       "    </tr>\n",
       "    <tr>\n",
       "      <th>249</th>\n",
       "      <td>2024-10-22</td>\n",
       "      <td>272.20</td>\n",
       "      <td>18.2963</td>\n",
       "      <td>126.95</td>\n",
       "      <td>30.9890</td>\n",
       "      <td>520.4</td>\n",
       "      <td>14.7228</td>\n",
       "      <td>0.6544</td>\n",
       "    </tr>\n",
       "    <tr>\n",
       "      <th>250</th>\n",
       "      <td>2024-10-23</td>\n",
       "      <td>277.20</td>\n",
       "      <td>17.6974</td>\n",
       "      <td>126.05</td>\n",
       "      <td>31.3139</td>\n",
       "      <td>519.6</td>\n",
       "      <td>14.0134</td>\n",
       "      <td>0.6448</td>\n",
       "    </tr>\n",
       "    <tr>\n",
       "      <th>251</th>\n",
       "      <td>2024-10-24</td>\n",
       "      <td>279.80</td>\n",
       "      <td>17.7883</td>\n",
       "      <td>128.45</td>\n",
       "      <td>31.6005</td>\n",
       "      <td>520.6</td>\n",
       "      <td>14.4540</td>\n",
       "      <td>0.6213</td>\n",
       "    </tr>\n",
       "    <tr>\n",
       "      <th>252</th>\n",
       "      <td>2024-10-25</td>\n",
       "      <td>279.60</td>\n",
       "      <td>NaN</td>\n",
       "      <td>128.05</td>\n",
       "      <td>NaN</td>\n",
       "      <td>521.2</td>\n",
       "      <td>NaN</td>\n",
       "      <td>NaN</td>\n",
       "    </tr>\n",
       "  </tbody>\n",
       "</table>\n",
       "<p>253 rows × 8 columns</p>\n",
       "</div>"
      ],
      "text/plain": [
       "          Date  ROG_Last_Price  ROG_IVOL  CFR_Last_Price  CFR_IVOL  \\\n",
       "0   2023-10-25          237.55   17.6858          107.00   33.0793   \n",
       "1   2023-10-26          237.25   17.9504          104.45   33.5406   \n",
       "2   2023-10-27          237.75   19.6028          104.40   33.4355   \n",
       "3   2023-10-30          241.30   19.3503          104.75   33.1531   \n",
       "4   2023-10-31          233.85   19.2518          106.90   32.7788   \n",
       "..         ...             ...       ...             ...       ...   \n",
       "248 2024-10-21          272.90   17.7575          126.65   31.1486   \n",
       "249 2024-10-22          272.20   18.2963          126.95   30.9890   \n",
       "250 2024-10-23          277.20   17.6974          126.05   31.3139   \n",
       "251 2024-10-24          279.80   17.7883          128.45   31.6005   \n",
       "252 2024-10-25          279.60       NaN          128.05       NaN   \n",
       "\n",
       "     ZURN_Last_Price  ZURN_IVOL  Risk_Free_Rate  \n",
       "0              426.4    15.7900          1.4594  \n",
       "1              426.8    15.9736          1.4508  \n",
       "2              424.4    16.3945          1.4478  \n",
       "3              428.2    15.9477          1.4623  \n",
       "4              430.6    15.7948          1.4489  \n",
       "..               ...        ...             ...  \n",
       "248            526.2    14.1699          0.6532  \n",
       "249            520.4    14.7228          0.6544  \n",
       "250            519.6    14.0134          0.6448  \n",
       "251            520.6    14.4540          0.6213  \n",
       "252            521.2        NaN             NaN  \n",
       "\n",
       "[253 rows x 8 columns]"
      ]
     },
     "execution_count": 211,
     "metadata": {},
     "output_type": "execute_result"
    }
   ],
   "source": [
    "combined_df = retrieve_data()\n",
    "combined_df"
   ]
  },
  {
   "cell_type": "code",
   "execution_count": 212,
   "metadata": {},
   "outputs": [],
   "source": [
    "combined_df = retrieve_data()\n",
    "np.random.seed(42)\n",
    "n_days = 252\n",
    "dt = 1 / n_days\n",
    "close = combined_df[['ROG_Last_Price', 'CFR_Last_Price', 'ZURN_Last_Price']]\n",
    "tickers = close.columns\n",
    "log_returns = np.log((close / close.shift(1)).dropna())"
   ]
  },
  {
   "cell_type": "markdown",
   "metadata": {},
   "source": [
    "# Heston Stochastic Volatility Model "
   ]
  },
  {
   "cell_type": "markdown",
   "metadata": {},
   "source": [
    "only use constant interest rate r + does not incorporate option prices into the calibration process.\n",
    "\n",
    "!!! calibrate based solely on historical stock price data, particularly the realized volatility of returns.\n",
    "\n",
    "options data need to be collect more on daily basis from 2024/25/07 to 024/25/10.\n",
    "i only collected on quaterly basis so now cannot right"
   ]
  },
  {
   "cell_type": "code",
   "execution_count": 213,
   "metadata": {},
   "outputs": [
    {
     "data": {
      "text/html": [
       "<div>\n",
       "<style scoped>\n",
       "    .dataframe tbody tr th:only-of-type {\n",
       "        vertical-align: middle;\n",
       "    }\n",
       "\n",
       "    .dataframe tbody tr th {\n",
       "        vertical-align: top;\n",
       "    }\n",
       "\n",
       "    .dataframe thead th {\n",
       "        text-align: right;\n",
       "    }\n",
       "</style>\n",
       "<table border=\"1\" class=\"dataframe\">\n",
       "  <thead>\n",
       "    <tr style=\"text-align: right;\">\n",
       "      <th></th>\n",
       "      <th>ROG_Last_Price</th>\n",
       "      <th>CFR_Last_Price</th>\n",
       "      <th>ZURN_Last_Price</th>\n",
       "    </tr>\n",
       "  </thead>\n",
       "  <tbody>\n",
       "    <tr>\n",
       "      <th>1</th>\n",
       "      <td>NaN</td>\n",
       "      <td>NaN</td>\n",
       "      <td>NaN</td>\n",
       "    </tr>\n",
       "    <tr>\n",
       "      <th>2</th>\n",
       "      <td>NaN</td>\n",
       "      <td>NaN</td>\n",
       "      <td>NaN</td>\n",
       "    </tr>\n",
       "    <tr>\n",
       "      <th>3</th>\n",
       "      <td>NaN</td>\n",
       "      <td>NaN</td>\n",
       "      <td>NaN</td>\n",
       "    </tr>\n",
       "    <tr>\n",
       "      <th>4</th>\n",
       "      <td>NaN</td>\n",
       "      <td>NaN</td>\n",
       "      <td>NaN</td>\n",
       "    </tr>\n",
       "    <tr>\n",
       "      <th>5</th>\n",
       "      <td>NaN</td>\n",
       "      <td>NaN</td>\n",
       "      <td>NaN</td>\n",
       "    </tr>\n",
       "    <tr>\n",
       "      <th>...</th>\n",
       "      <td>...</td>\n",
       "      <td>...</td>\n",
       "      <td>...</td>\n",
       "    </tr>\n",
       "    <tr>\n",
       "      <th>248</th>\n",
       "      <td>0.020141</td>\n",
       "      <td>0.118830</td>\n",
       "      <td>0.008371</td>\n",
       "    </tr>\n",
       "    <tr>\n",
       "      <th>249</th>\n",
       "      <td>0.019935</td>\n",
       "      <td>0.118104</td>\n",
       "      <td>0.009412</td>\n",
       "    </tr>\n",
       "    <tr>\n",
       "      <th>250</th>\n",
       "      <td>0.022582</td>\n",
       "      <td>0.118542</td>\n",
       "      <td>0.009246</td>\n",
       "    </tr>\n",
       "    <tr>\n",
       "      <th>251</th>\n",
       "      <td>0.018368</td>\n",
       "      <td>0.120691</td>\n",
       "      <td>0.009082</td>\n",
       "    </tr>\n",
       "    <tr>\n",
       "      <th>252</th>\n",
       "      <td>0.017878</td>\n",
       "      <td>0.120471</td>\n",
       "      <td>0.008509</td>\n",
       "    </tr>\n",
       "  </tbody>\n",
       "</table>\n",
       "<p>252 rows × 3 columns</p>\n",
       "</div>"
      ],
      "text/plain": [
       "     ROG_Last_Price  CFR_Last_Price  ZURN_Last_Price\n",
       "1               NaN             NaN              NaN\n",
       "2               NaN             NaN              NaN\n",
       "3               NaN             NaN              NaN\n",
       "4               NaN             NaN              NaN\n",
       "5               NaN             NaN              NaN\n",
       "..              ...             ...              ...\n",
       "248        0.020141        0.118830         0.008371\n",
       "249        0.019935        0.118104         0.009412\n",
       "250        0.022582        0.118542         0.009246\n",
       "251        0.018368        0.120691         0.009082\n",
       "252        0.017878        0.120471         0.008509\n",
       "\n",
       "[252 rows x 3 columns]"
      ]
     },
     "execution_count": 213,
     "metadata": {},
     "output_type": "execute_result"
    }
   ],
   "source": [
    "vol = log_returns.rolling(window=30).var() * n_days\n",
    "vol\n"
   ]
  },
  {
   "cell_type": "code",
   "execution_count": 214,
   "metadata": {},
   "outputs": [
    {
     "data": {
      "text/plain": [
       "ROG_Last_Price     0.040053\n",
       "CFR_Last_Price     0.080205\n",
       "ZURN_Last_Price    0.019759\n",
       "dtype: float64"
      ]
     },
     "execution_count": 214,
     "metadata": {},
     "output_type": "execute_result"
    }
   ],
   "source": [
    "vol.mean()"
   ]
  },
  {
   "cell_type": "code",
   "execution_count": 215,
   "metadata": {},
   "outputs": [
    {
     "data": {
      "text/plain": [
       "ROG_Last_Price    NaN\n",
       "CFR_Last_Price    NaN\n",
       "ZURN_Last_Price   NaN\n",
       "Name: 1, dtype: float64"
      ]
     },
     "execution_count": 215,
     "metadata": {},
     "output_type": "execute_result"
    }
   ],
   "source": [
    "vol.iloc[0]"
   ]
  },
  {
   "cell_type": "code",
   "execution_count": 216,
   "metadata": {},
   "outputs": [],
   "source": [
    "def objective(x):\n",
    "    a = x ** 2 - 1\n",
    "    return a"
   ]
  },
  {
   "cell_type": "code",
   "execution_count": 217,
   "metadata": {},
   "outputs": [],
   "source": [
    "bounds = [(0.1, 10.0),  # kappa\n",
    "          (0.001, 0.5),  # theta\n",
    "          (0.01, 1.0),   # sigma\n",
    "          (-0.99, 0.99)] # rho\n",
    "            \n",
    "result = minimize(objective, \n",
    "                  x0=[100],\n",
    "                  bounds=[(-np.inf, np.inf)],\n",
    "                  method='L-BFGS-B')"
   ]
  },
  {
   "cell_type": "code",
   "execution_count": 218,
   "metadata": {},
   "outputs": [
    {
     "data": {
      "text/plain": [
       "  message: CONVERGENCE: NORM_OF_PROJECTED_GRADIENT_<=_PGTOL\n",
       "  success: True\n",
       "   status: 0\n",
       "      fun: -1.0\n",
       "        x: [-2.149e-09]\n",
       "      nit: 3\n",
       "      jac: [ 1.110e-08]\n",
       "     nfev: 12\n",
       "     njev: 6\n",
       " hess_inv: <1x1 LbfgsInvHessProduct with dtype=float64>"
      ]
     },
     "execution_count": 218,
     "metadata": {},
     "output_type": "execute_result"
    }
   ],
   "source": [
    "result"
   ]
  },
  {
   "cell_type": "code",
   "execution_count": 219,
   "metadata": {},
   "outputs": [],
   "source": [
    "sys.path.append('./linh')\n",
    "from option import *"
   ]
  },
  {
   "cell_type": "code",
   "execution_count": 221,
   "metadata": {},
   "outputs": [
    {
     "data": {
      "text/plain": [
       "<generator object _walk at 0x7f14a384d8b0>"
      ]
     },
     "execution_count": 221,
     "metadata": {},
     "output_type": "execute_result"
    }
   ],
   "source": [
    "import os\n",
    "os.walk(output_directory + 'cleaned')"
   ]
  },
  {
   "cell_type": "code",
   "execution_count": 223,
   "metadata": {},
   "outputs": [],
   "source": [
    "files = ['rog_call.csv', 'cfr_call.csv', 'zurn_call.csv']"
   ]
  },
  {
   "cell_type": "code",
   "execution_count": 224,
   "metadata": {},
   "outputs": [
    {
     "name": "stderr",
     "output_type": "stream",
     "text": [
      "/tmp/ipykernel_4759/335833525.py:9: FutureWarning: The behavior of DataFrame concatenation with empty or all-NA entries is deprecated. In a future version, this will no longer exclude empty or all-NA columns when determining the result dtypes. To retain the old behavior, exclude the relevant entries before the concat operation.\n",
      "  options = pd.concat([options, data])\n"
     ]
    }
   ],
   "source": [
    "options = pd.DataFrame(columns=['maturity', 'strike', 'price', 'IV', 'day', 'month', 'year', 'product'])\n",
    "for i, f in enumerate(files):\n",
    "    for file in next(os.walk(input_directory + 'cleaned'))[1]:\n",
    "        data = pd.read_csv(f'../data/option_data/cleaned/{file}/' + f)\n",
    "        data['day'] = file[:2]\n",
    "        data['month'] = file[2:4]\n",
    "        data['year'] = file[4:]\n",
    "        data['product'] = tickers[i]\n",
    "        options = pd.concat([options, data])\n",
    "\n",
    "\n"
   ]
  },
  {
   "cell_type": "code",
   "execution_count": 225,
   "metadata": {},
   "outputs": [],
   "source": [
    "options = options.sort_values(['product', 'month', 'day', 'maturity'])"
   ]
  },
  {
   "cell_type": "code",
   "execution_count": 226,
   "metadata": {},
   "outputs": [
    {
     "data": {
      "text/html": [
       "<div>\n",
       "<style scoped>\n",
       "    .dataframe tbody tr th:only-of-type {\n",
       "        vertical-align: middle;\n",
       "    }\n",
       "\n",
       "    .dataframe tbody tr th {\n",
       "        vertical-align: top;\n",
       "    }\n",
       "\n",
       "    .dataframe thead th {\n",
       "        text-align: right;\n",
       "    }\n",
       "</style>\n",
       "<table border=\"1\" class=\"dataframe\">\n",
       "  <thead>\n",
       "    <tr style=\"text-align: right;\">\n",
       "      <th></th>\n",
       "      <th>maturity</th>\n",
       "      <th>strike</th>\n",
       "      <th>price</th>\n",
       "      <th>IV</th>\n",
       "      <th>day</th>\n",
       "      <th>month</th>\n",
       "      <th>year</th>\n",
       "      <th>product</th>\n",
       "    </tr>\n",
       "  </thead>\n",
       "  <tbody>\n",
       "    <tr>\n",
       "      <th>0</th>\n",
       "      <td>0.156057</td>\n",
       "      <td>124</td>\n",
       "      <td>9.674999</td>\n",
       "      <td>24.402237</td>\n",
       "      <td>25</td>\n",
       "      <td>07</td>\n",
       "      <td>2024</td>\n",
       "      <td>CFR_Last_Price</td>\n",
       "    </tr>\n",
       "    <tr>\n",
       "      <th>1</th>\n",
       "      <td>0.156057</td>\n",
       "      <td>126</td>\n",
       "      <td>8.200000</td>\n",
       "      <td>23.955641</td>\n",
       "      <td>25</td>\n",
       "      <td>07</td>\n",
       "      <td>2024</td>\n",
       "      <td>CFR_Last_Price</td>\n",
       "    </tr>\n",
       "    <tr>\n",
       "      <th>2</th>\n",
       "      <td>0.156057</td>\n",
       "      <td>128</td>\n",
       "      <td>6.850000</td>\n",
       "      <td>23.466326</td>\n",
       "      <td>25</td>\n",
       "      <td>07</td>\n",
       "      <td>2024</td>\n",
       "      <td>CFR_Last_Price</td>\n",
       "    </tr>\n",
       "    <tr>\n",
       "      <th>3</th>\n",
       "      <td>0.156057</td>\n",
       "      <td>130</td>\n",
       "      <td>5.600000</td>\n",
       "      <td>22.889894</td>\n",
       "      <td>25</td>\n",
       "      <td>07</td>\n",
       "      <td>2024</td>\n",
       "      <td>CFR_Last_Price</td>\n",
       "    </tr>\n",
       "    <tr>\n",
       "      <th>4</th>\n",
       "      <td>0.156057</td>\n",
       "      <td>132</td>\n",
       "      <td>4.515000</td>\n",
       "      <td>22.497936</td>\n",
       "      <td>25</td>\n",
       "      <td>07</td>\n",
       "      <td>2024</td>\n",
       "      <td>CFR_Last_Price</td>\n",
       "    </tr>\n",
       "    <tr>\n",
       "      <th>...</th>\n",
       "      <td>...</td>\n",
       "      <td>...</td>\n",
       "      <td>...</td>\n",
       "      <td>...</td>\n",
       "      <td>...</td>\n",
       "      <td>...</td>\n",
       "      <td>...</td>\n",
       "      <td>...</td>\n",
       "    </tr>\n",
       "    <tr>\n",
       "      <th>49</th>\n",
       "      <td>0.229979</td>\n",
       "      <td>520</td>\n",
       "      <td>13.550000</td>\n",
       "      <td>14.122618</td>\n",
       "      <td>25</td>\n",
       "      <td>10</td>\n",
       "      <td>2024</td>\n",
       "      <td>ZURN_Last_Price</td>\n",
       "    </tr>\n",
       "    <tr>\n",
       "      <th>50</th>\n",
       "      <td>0.229979</td>\n",
       "      <td>540</td>\n",
       "      <td>5.600000</td>\n",
       "      <td>13.379794</td>\n",
       "      <td>25</td>\n",
       "      <td>10</td>\n",
       "      <td>2024</td>\n",
       "      <td>ZURN_Last_Price</td>\n",
       "    </tr>\n",
       "    <tr>\n",
       "      <th>51</th>\n",
       "      <td>0.229979</td>\n",
       "      <td>560</td>\n",
       "      <td>1.720000</td>\n",
       "      <td>12.748696</td>\n",
       "      <td>25</td>\n",
       "      <td>10</td>\n",
       "      <td>2024</td>\n",
       "      <td>ZURN_Last_Price</td>\n",
       "    </tr>\n",
       "    <tr>\n",
       "      <th>52</th>\n",
       "      <td>0.229979</td>\n",
       "      <td>580</td>\n",
       "      <td>1.505000</td>\n",
       "      <td>16.218067</td>\n",
       "      <td>25</td>\n",
       "      <td>10</td>\n",
       "      <td>2024</td>\n",
       "      <td>ZURN_Last_Price</td>\n",
       "    </tr>\n",
       "    <tr>\n",
       "      <th>53</th>\n",
       "      <td>0.229979</td>\n",
       "      <td>600</td>\n",
       "      <td>1.505000</td>\n",
       "      <td>19.809752</td>\n",
       "      <td>25</td>\n",
       "      <td>10</td>\n",
       "      <td>2024</td>\n",
       "      <td>ZURN_Last_Price</td>\n",
       "    </tr>\n",
       "  </tbody>\n",
       "</table>\n",
       "<p>10411 rows × 8 columns</p>\n",
       "</div>"
      ],
      "text/plain": [
       "    maturity strike      price         IV day month  year          product\n",
       "0   0.156057    124   9.674999  24.402237  25    07  2024   CFR_Last_Price\n",
       "1   0.156057    126   8.200000  23.955641  25    07  2024   CFR_Last_Price\n",
       "2   0.156057    128   6.850000  23.466326  25    07  2024   CFR_Last_Price\n",
       "3   0.156057    130   5.600000  22.889894  25    07  2024   CFR_Last_Price\n",
       "4   0.156057    132   4.515000  22.497936  25    07  2024   CFR_Last_Price\n",
       "..       ...    ...        ...        ...  ..   ...   ...              ...\n",
       "49  0.229979    520  13.550000  14.122618  25    10  2024  ZURN_Last_Price\n",
       "50  0.229979    540   5.600000  13.379794  25    10  2024  ZURN_Last_Price\n",
       "51  0.229979    560   1.720000  12.748696  25    10  2024  ZURN_Last_Price\n",
       "52  0.229979    580   1.505000  16.218067  25    10  2024  ZURN_Last_Price\n",
       "53  0.229979    600   1.505000  19.809752  25    10  2024  ZURN_Last_Price\n",
       "\n",
       "[10411 rows x 8 columns]"
      ]
     },
     "execution_count": 226,
     "metadata": {},
     "output_type": "execute_result"
    }
   ],
   "source": [
    "options"
   ]
  },
  {
   "cell_type": "code",
   "execution_count": 227,
   "metadata": {},
   "outputs": [],
   "source": [
    "from lmfit import Parameters, minimize"
   ]
  },
  {
   "cell_type": "code",
   "execution_count": 228,
   "metadata": {},
   "outputs": [
    {
     "data": {
      "text/html": [
       "<div>\n",
       "<style scoped>\n",
       "    .dataframe tbody tr th:only-of-type {\n",
       "        vertical-align: middle;\n",
       "    }\n",
       "\n",
       "    .dataframe tbody tr th {\n",
       "        vertical-align: top;\n",
       "    }\n",
       "\n",
       "    .dataframe thead th {\n",
       "        text-align: right;\n",
       "    }\n",
       "</style>\n",
       "<table border=\"1\" class=\"dataframe\">\n",
       "  <thead>\n",
       "    <tr style=\"text-align: right;\">\n",
       "      <th></th>\n",
       "      <th>maturity</th>\n",
       "      <th>strike</th>\n",
       "      <th>price</th>\n",
       "      <th>IV</th>\n",
       "      <th>day</th>\n",
       "      <th>month</th>\n",
       "      <th>year</th>\n",
       "      <th>product</th>\n",
       "    </tr>\n",
       "  </thead>\n",
       "  <tbody>\n",
       "    <tr>\n",
       "      <th>0</th>\n",
       "      <td>0.156057</td>\n",
       "      <td>124</td>\n",
       "      <td>9.674999</td>\n",
       "      <td>24.402237</td>\n",
       "      <td>25</td>\n",
       "      <td>07</td>\n",
       "      <td>2024</td>\n",
       "      <td>CFR_Last_Price</td>\n",
       "    </tr>\n",
       "    <tr>\n",
       "      <th>1</th>\n",
       "      <td>0.156057</td>\n",
       "      <td>126</td>\n",
       "      <td>8.200000</td>\n",
       "      <td>23.955641</td>\n",
       "      <td>25</td>\n",
       "      <td>07</td>\n",
       "      <td>2024</td>\n",
       "      <td>CFR_Last_Price</td>\n",
       "    </tr>\n",
       "    <tr>\n",
       "      <th>2</th>\n",
       "      <td>0.156057</td>\n",
       "      <td>128</td>\n",
       "      <td>6.850000</td>\n",
       "      <td>23.466326</td>\n",
       "      <td>25</td>\n",
       "      <td>07</td>\n",
       "      <td>2024</td>\n",
       "      <td>CFR_Last_Price</td>\n",
       "    </tr>\n",
       "    <tr>\n",
       "      <th>3</th>\n",
       "      <td>0.156057</td>\n",
       "      <td>130</td>\n",
       "      <td>5.600000</td>\n",
       "      <td>22.889894</td>\n",
       "      <td>25</td>\n",
       "      <td>07</td>\n",
       "      <td>2024</td>\n",
       "      <td>CFR_Last_Price</td>\n",
       "    </tr>\n",
       "    <tr>\n",
       "      <th>4</th>\n",
       "      <td>0.156057</td>\n",
       "      <td>132</td>\n",
       "      <td>4.515000</td>\n",
       "      <td>22.497936</td>\n",
       "      <td>25</td>\n",
       "      <td>07</td>\n",
       "      <td>2024</td>\n",
       "      <td>CFR_Last_Price</td>\n",
       "    </tr>\n",
       "    <tr>\n",
       "      <th>...</th>\n",
       "      <td>...</td>\n",
       "      <td>...</td>\n",
       "      <td>...</td>\n",
       "      <td>...</td>\n",
       "      <td>...</td>\n",
       "      <td>...</td>\n",
       "      <td>...</td>\n",
       "      <td>...</td>\n",
       "    </tr>\n",
       "    <tr>\n",
       "      <th>43</th>\n",
       "      <td>0.229979</td>\n",
       "      <td>130</td>\n",
       "      <td>7.125000</td>\n",
       "      <td>30.834446</td>\n",
       "      <td>25</td>\n",
       "      <td>10</td>\n",
       "      <td>2024</td>\n",
       "      <td>CFR_Last_Price</td>\n",
       "    </tr>\n",
       "    <tr>\n",
       "      <th>44</th>\n",
       "      <td>0.229979</td>\n",
       "      <td>135</td>\n",
       "      <td>5.060000</td>\n",
       "      <td>30.493761</td>\n",
       "      <td>25</td>\n",
       "      <td>10</td>\n",
       "      <td>2024</td>\n",
       "      <td>CFR_Last_Price</td>\n",
       "    </tr>\n",
       "    <tr>\n",
       "      <th>45</th>\n",
       "      <td>0.229979</td>\n",
       "      <td>140</td>\n",
       "      <td>3.480000</td>\n",
       "      <td>30.214775</td>\n",
       "      <td>25</td>\n",
       "      <td>10</td>\n",
       "      <td>2024</td>\n",
       "      <td>CFR_Last_Price</td>\n",
       "    </tr>\n",
       "    <tr>\n",
       "      <th>46</th>\n",
       "      <td>0.229979</td>\n",
       "      <td>145</td>\n",
       "      <td>2.350000</td>\n",
       "      <td>30.146441</td>\n",
       "      <td>25</td>\n",
       "      <td>10</td>\n",
       "      <td>2024</td>\n",
       "      <td>CFR_Last_Price</td>\n",
       "    </tr>\n",
       "    <tr>\n",
       "      <th>47</th>\n",
       "      <td>0.229979</td>\n",
       "      <td>150</td>\n",
       "      <td>1.570000</td>\n",
       "      <td>30.247429</td>\n",
       "      <td>25</td>\n",
       "      <td>10</td>\n",
       "      <td>2024</td>\n",
       "      <td>CFR_Last_Price</td>\n",
       "    </tr>\n",
       "  </tbody>\n",
       "</table>\n",
       "<p>3106 rows × 8 columns</p>\n",
       "</div>"
      ],
      "text/plain": [
       "    maturity strike     price         IV day month  year         product\n",
       "0   0.156057    124  9.674999  24.402237  25    07  2024  CFR_Last_Price\n",
       "1   0.156057    126  8.200000  23.955641  25    07  2024  CFR_Last_Price\n",
       "2   0.156057    128  6.850000  23.466326  25    07  2024  CFR_Last_Price\n",
       "3   0.156057    130  5.600000  22.889894  25    07  2024  CFR_Last_Price\n",
       "4   0.156057    132  4.515000  22.497936  25    07  2024  CFR_Last_Price\n",
       "..       ...    ...       ...        ...  ..   ...   ...             ...\n",
       "43  0.229979    130  7.125000  30.834446  25    10  2024  CFR_Last_Price\n",
       "44  0.229979    135  5.060000  30.493761  25    10  2024  CFR_Last_Price\n",
       "45  0.229979    140  3.480000  30.214775  25    10  2024  CFR_Last_Price\n",
       "46  0.229979    145  2.350000  30.146441  25    10  2024  CFR_Last_Price\n",
       "47  0.229979    150  1.570000  30.247429  25    10  2024  CFR_Last_Price\n",
       "\n",
       "[3106 rows x 8 columns]"
      ]
     },
     "execution_count": 228,
     "metadata": {},
     "output_type": "execute_result"
    }
   ],
   "source": [
    "options[options['product']=='CFR_Last_Price']"
   ]
  },
  {
   "cell_type": "code",
   "execution_count": 229,
   "metadata": {},
   "outputs": [
    {
     "data": {
      "text/plain": [
       "'2023-10-25'"
      ]
     },
     "execution_count": 229,
     "metadata": {},
     "output_type": "execute_result"
    }
   ],
   "source": [
    "combined_df.iloc[0]['Date'].strftime('%Y-%m-%d')"
   ]
  },
  {
   "cell_type": "code",
   "execution_count": null,
   "metadata": {},
   "outputs": [],
   "source": [
    "import numpy as np\n",
    "import pandas as pd\n",
    "from tqdm import tqdm\n",
    "\n",
    "class HestonModelCalibration:\n",
    "    def __init__(self, current_id, data, n_days=252):\n",
    "        self.current_id = current_id\n",
    "        self.data = data\n",
    "        self.n_days = n_days\n",
    "        self.dt = 1 / n_days\n",
    "        self.tickers = data.columns\n",
    "        self.log_returns = np.log((data / data.shift(1)).dropna())\n",
    "        \n",
    "    def calculate_realized_vol(self, window_size=30):\n",
    "        \"\"\"Calculate realized volatility for initial variance\"\"\"\n",
    "        return self.log_returns.rolling(window=window_size).var() * self.n_days\n",
    "    \n",
    "    def estimate_correlation_matrix(self, window_size=30):\n",
    "        \"\"\"Estimate correlation matrix from historical data\"\"\"\n",
    "        return self.log_returns.iloc[-window_size:].corr().values\n",
    "    def func_heston(self, St, K, r, T, sigma, kappa, theta, v0, rho, lambda_):\n",
    "        \n",
    "\n",
    "        # logger_yq.info(f\"Final result: {result}\")\n",
    "        b1 = kappa + lambda_ - rho * sigma * r\n",
    "        b2 = kappa + lambda_\n",
    "        rate = r\n",
    "        prod = rho * sigma * 1j * r\n",
    "        d1 = np.sqrt((prod - b1)**2 - sigma ** 2 * (1j * r - (1j)**2))\n",
    "        d2 = np.sqrt((prod - b2)**2 + sigma ** 2 * (1j * r - (1j)**2))\n",
    "        g1 = (b1 - prod + d1) / (b1 - prod - d1)\n",
    "        g2 = (b2 - prod + d2) / (b2 - prod - d2)\n",
    "\n",
    "        c1 = r * 1j * rate * T + kappa * theta / (sigma ** 2) * (b1 - prod + d1) * T - 2 * np.log((1 - g1 * np.exp(d1 * T)) / (1 - g1))\n",
    "        c2 = r * 1j * rate * T + kappa * theta / (sigma ** 2) * (b2 - prod + d2) * T - 2 * np.log((1 - g2 * np.exp(d2 * T)) / (1 - g2))\n",
    "\n",
    "        d1 = (b1 - prod + d1) / sigma ** 2 * (1 - g1 * np.exp(d1 * T)) / (1 - g1)\n",
    "        d2 = (b2 - prod + d2) / sigma ** 2 * (1 - g2 * np.exp(d2 * T)) / (1 - g2)\n",
    "\n",
    "        res1 = St ** (r * 1j) * np.exp(c1 + d1 * v0)\n",
    "        res2 = St ** (r * 1j) * np.exp(c2 + d2 * v0)\n",
    "        return res1, res2\n",
    "\n",
    "\n",
    "         \n",
    "    def price_heston_mid(self, St, K, r, T, sigma, kappa, theta, v0, rho, lambda_):\n",
    "\n",
    "        from scipy.integrate import quad\n",
    "\n",
    "        res1, res2 = func_heston(St, K, r, T, sigma, kappa, theta, v0, rho, lambda_)\n",
    "        integrand1 = lambda r: np.real(np.exp(-r * 1j * np.log(K)) * res1 / (r * 1j))\n",
    "        integrand2 = lambda r: np.real(np.exp(-r * 1j * np.log(K)) * res2 / (r * 1j))\n",
    "        integral1, _ = quad(integrand1, 0, np.inf)\n",
    "        integral2, _ = quad(integrand2, 0, np.inf)\n",
    "        \n",
    "        C = St * (1/2 + 1/np.pi * integral1) - K * np.exp(-r * T) * (1/2 + 1/np.pi * integral2)\n",
    "        return C\n",
    "\n",
    "        \n",
    "    def calibrate_heston_parameters(self, window_size=30):\n",
    "        \"\"\"\n",
    "        Calibrate Heston model parameters using historical data\n",
    "        Returns dict with parameters for each asset\n",
    "        \"\"\"\n",
    "        model_params = {}\n",
    "        for i, ticker in enumerate(self.tickers):\n",
    "            # Initial estimates based on historical data\n",
    "            # vol = self.calculate_realized_vol()[ticker].dropna()\n",
    "            \n",
    "            # def objective(x):\n",
    "            #     kappa, theta, sigma, rho = x\n",
    "            #     var_pred = theta + (vol.iloc[0] - theta) * np.exp(-kappa * np.arange(len(vol)) * self.dt)\n",
    "            #     # ko tune cho sigma rho\n",
    "            #     return np.mean((var_pred - vol)**2)\n",
    "            # # variance_paths[k, i, j] = (v_prev + \n",
    "            # #             kappa[k] * (theta[k] - v_prev) * dt + \n",
    "            # #             sigma[k] * np.sqrt(v_prev * dt) * dw_s[k * 2 + 1, j] * chol_corr[k * 2 + 1][k * 2 + 1])\n",
    "            # bounds = [(0.1, 10.0),  # kappa\n",
    "            #          (0.001, 0.5),  # theta\n",
    "            #          (0.01, 1.0),   # sigma\n",
    "            #          (-0.99, 0.99)] # rho\n",
    "            option_date = options['year'].astype(str) + '-' + options['month'].astype(str) + '-' + options['day'].astype(str)\n",
    "            date = combined_df.iloc[self.current_id]['Date'].strftime('%Y-%m-%d')\n",
    "            volatility_surface = options[(options['product']==ticker) & (option_date==date)]\n",
    "            maturities = volatility_surface['maturity'].astype('float')\n",
    "            strikes = volatility_surface['strike'].astype('float')\n",
    "            price = volatility_surface['price'].astype('float')\n",
    "            rates = 0.01107\n",
    "                    \n",
    "            params = Parameters()\n",
    "            params.add('kappa', value=0.1, min = 0.001, max = 10)\n",
    "            params.add('theta', value=0.1, min = 0.001, max = 0.1)\n",
    "            params.add('v0', value=0.1, min = 0.001, max = 0.1)\n",
    "            params.add('rho', value=0.1, min = -1, max = 1.0)\n",
    "            params.add('sigma', value=0.1, min = 0.001, max = 0.5)\n",
    "            params.add('lambda', value=0.1, min = -1, max = 1)\n",
    "\n",
    "            objective = lambda paramVect: (price - self.price_heston_mid(self.data.iloc[self.current_id][ticker], \n",
    "                                                                        strikes,  \n",
    "                                                                        rates, \n",
    "                                                                        maturities, \n",
    "                                                                        paramVect['sigma'].value,                         \n",
    "                                                                        paramVect['kappa'].value,\n",
    "                                                                        paramVect['theta'].value,\n",
    "                                                                        paramVect['v0'].value,\n",
    "                                                                        paramVect['rho'].value/(price + 1e-8),\n",
    "                                                                        paramVect['lambda'].value))\n",
    "\n",
    "            result = minimize(objective, \n",
    "                              params,\n",
    "                              method='leastsq',\n",
    "                              max_nfev=10,\n",
    "                              ftol=1e-6)\n",
    "            dicts = result.params.valuesdict()\n",
    "            model_params[ticker] = {\n",
    "                'kappa': dicts['kappa'],\n",
    "                'theta': dicts['theta'],\n",
    "                'sigma': dicts['sigma'],\n",
    "                'rho': dicts['rho'],\n",
    "                'v0': dicts['v0']\n",
    "            }\n",
    "        return model_params\n",
    "\n",
    "def MultivariateHestonSimulation(\n",
    "    s0,\n",
    "    tickers,\n",
    "    dt,\n",
    "    calibrated_params,\n",
    "    correlation_matrix,\n",
    "    n_paths=1000,\n",
    "    last_id=287,\n",
    "    current_id=187,\n",
    "    window_size=30,\n",
    "    variance_reduction='av',\n",
    "    method='euler'\n",
    "    r=0.01\n",
    "    ):\n",
    "    \n",
    "    if variance_reduction not in ['av', None]:\n",
    "        raise ValueError('Supported variance reduction method is av')\n",
    "    if method not in ['euler', 'qe']:\n",
    "        raise ValueError(\"Supported discretization schemes are 'euler' and 'qe'\")\n",
    "    n_assets = len(tickers)\n",
    "    T = dt * (last_id - current_id)\n",
    "    n_steps = int(T / dt)\n",
    "    \n",
    "    # Initialize arrays\n",
    "    result = np.zeros((n_assets, n_paths, n_steps))\n",
    "    variance_paths = np.zeros((n_assets, n_paths, n_steps))\n",
    "    \n",
    "    # Extract parameters for each asset\n",
    "    kappa = np.array([calibrated_params[t]['kappa'] for t in tickers])\n",
    "    theta = np.array([calibrated_params[t]['theta'] for t in tickers])\n",
    "    sigma = np.array([calibrated_params[t]['sigma'] for t in tickers])\n",
    "    rho = np.array([calibrated_params[t]['rho'] for t in tickers])\n",
    "    \n",
    "    # Get initial variances\n",
    "    v0 = {t: calibrated_params[t]['v0'] for t in tickers}\n",
    "    # Ensure correlation matrix is 2D numpy array\n",
    "    if isinstance(correlation_matrix, pd.DataFrame):\n",
    "        correlation_matrix = correlation_matrix.values\n",
    "        \n",
    "    # Cholesky decomposition for correlated Brownian motions\n",
    "    \n",
    "        # s1 s2 s3\n",
    "#     s1  1  s1s2 s1s3\n",
    "#     s2 s1s2 1  s2s3\n",
    "#     s3\n",
    "\n",
    "#     correlation matrix 6x6 (only si-sj and si-vi non-zero)\n",
    "#     s1          v1          s2          v2          s3          v3\n",
    "# s1   1          rho_s1v1    rho_s1s2    0           rho_s1s3    0\n",
    "# v1   rho_s1v1   1           rho_s2v1\n",
    "# s2   rho_s1s2   rho_s2v1    1\n",
    "# v2   0\n",
    "# s3   rho_s1s3\n",
    "# v3   0\n",
    "\n",
    "# ==> simulate s1, s2, s3, v1, v2, v3 with 6 different z\n",
    "    r1, r2, r3 = rho[0], rho[1], rho[2]\n",
    "    r12 = correlation_matrix[0][1]\n",
    "    r23 = correlation_matrix[1][2]\n",
    "    r13 = correlation_matrix[0][2]\n",
    "    correlation_matrix = np.array([[1, r1, r12, r2*r12, r13, r3*r13],\n",
    "                                   [r1, 1, r1*r12, r1*r2*r12, r1*r13, r1*r3*r13],\n",
    "                                   [r12, r1*r12, 1, r2, r23, r3*r23],\n",
    "                                   [r2*r12, r1*r2*r12, r2, 1, r2*r23, r2*r3*r23],\n",
    "                                   [r13, r1*r13, r23, r2*r23, 1, r3],\n",
    "                                   [r3*r13, r1*r3*r13, r2*r23, r2*r3*r23, r3, 1]]) \n",
    "    \n",
    "    \n",
    "\n",
    "        \n",
    "    try:\n",
    "        chol_corr = np.linalg.cholesky(correlation_matrix)\n",
    "    except np.linalg.LinAlgError:\n",
    "        # If matrix is not positive definite, adjust it\n",
    "        correlation_matrix = (correlation_matrix + correlation_matrix.T) / 2  # Ensure symmetry\n",
    "        min_eig = np.min(np.real(np.linalg.eigvals(correlation_matrix)))\n",
    "        if min_eig < 0:\n",
    "            correlation_matrix -= min_eig * np.eye(correlation_matrix.shape[0])  # Shift eigenvalues if needed\n",
    "        try:\n",
    "            # Try Cholesky again on the adjusted matrix\n",
    "            chol_corr = np.linalg.cholesky(correlation_matrix)\n",
    "        except np.linalg.LinAlgError:\n",
    "            # If still not positive definite, add a small identity matrix (regularization)\n",
    "            epsilon = 1e-8\n",
    "            correlation_matrix += epsilon * np.eye(correlation_matrix.shape[0])\n",
    "            chol_corr = np.linalg.cholesky(correlation_matrix)\n",
    "\n",
    "    if method=='qe': # using the qe scheme, we have to apply correlation correction to our correlation matrix\n",
    "        q = np.zeros((n_assets * 2, n_assets * 2))\n",
    "        for i in range(len(n_assets)):\n",
    "            q[i * 2][i * 2] = np.sqrt(1 - rho[i]**2)\n",
    "            q[i * 2][i * 2 + 1] = rho[i] ** 2\n",
    "            q[i * 2 + 1][i * 2 + 1] = 1\n",
    "        \n",
    "        q_inverse = np.linalg.inv(q)\n",
    "        chol_corr = np.matmul(q_inv, chol_corr)\n",
    "    \n",
    "    paths_to_simulate = n_paths // 2 if variance_reduction == 'av' else n_paths\n",
    "\n",
    "    dw = np.random.normal(size=(n_assets * 2, paths_to_simulate, n_steps))\n",
    "    dw = np.matmul(chol_corr, dw) # need to check if it is correct\n",
    "    # otherwise can just multiply it by in the for loop\n",
    "    # something like: np.matmul(chol_corr, dw[:, :, j]) \n",
    "    # Correlate price and variance Brownian motion\n",
    "\n",
    "    for j in range(n_steps):\n",
    "        for k in range(n_assets):\n",
    "            if j == 0:\n",
    "                result[k, :paths_to_simulate, j] = s0[tickers[k]]\n",
    "                variance_paths[k, :, j] = v0[tickers[k]]\n",
    "                \n",
    "                if variance_reduction == 'av':\n",
    "                    result[k, paths_to_simulate:, j] = s0[tickers[k]]\n",
    "                    variance_paths[k, paths_to_simulate:, j] = v0[tickers[k]]\n",
    "            else:\n",
    "                if method=='euler':\n",
    "                    v_prev = np.maximum(variance_paths[k, :paths_to_simulate, j-1], 0)\n",
    "                    # Update variance\n",
    "                    result[k, :paths_to_simulate, j] = result[k, :paths_to_simulate, j-1] * np.exp(\n",
    "                        (r - 0.5 * v_prev) * dt + \n",
    "                        np.sqrt(v_prev * dt) * dw[k * 2, :, j])\n",
    "                    \n",
    "                    variance_paths[k, :paths_to_simulate, j] = (v_prev + \n",
    "                            kappa[k] * (theta[k] - v_prev) * dt + \n",
    "                            sigma[k] * np.sqrt(v_prev * dt) * dw[k * 2 + 1, :, j])\n",
    "                    \n",
    "                    # Update price\n",
    "                    \n",
    "                    if variance_reduction == 'av':\n",
    "                        result[k, paths_to_simulate:, j] = result[k, paths_to_simulate:, j-1] * np.exp(\n",
    "                        (r - 0.5 * v_prev) * dt + \n",
    "                        np.sqrt(v_prev * dt) * (-dw[k * 2, :, j]))\n",
    "                        \n",
    "                        variance_paths[k, paths_to_simulate:, j] = (v_prev + \n",
    "                            kappa[k] * (theta[k] - v_prev) * dt + \n",
    "                            sigma[k] * np.sqrt(v_prev * dt) * (-dw[k * 2 + 1, :, j]))\n",
    "\n",
    "                if method=='qe':\n",
    "                    #m = theta\n",
    "                    # sigma = sigma\n",
    "                    # kappa = kappa\n",
    "                    v_prev = np.maximum(variance_paths[k, :paths_to_simulate, j-1], 0)\n",
    "                    e_v = theta[k] + (v_prev - theta[k]) * np.exp(-kappa[k] * dt)\n",
    "                    var_v = v_prev * sigma[k] ** 2 * np.exp(-kappa[k] * dt) / kappa[k] * (1 - np.exp(-kappa[k] * dt)) + theta[k] * sigma[k] ** 2 / (2 * kappa[k]) (1 - np.exp(-kappa[k] * dt)) ** 2\n",
    "\n",
    "                    trident = var_v / (e_v ** 2)\n",
    "                    mask_less = (trident <= 1.5).astype('int') ## LEVEL CAN BE SET [1, 2]\n",
    "                    b = 2 / trident - 1 + np.sqrt(2 / trident * (2 / trident - 1))\n",
    "                    a = theta[k] / (1 + b)\n",
    "                    p = (trident - 1) / (trident + 1)\n",
    "                    beta = (1 - p) / theta[k]\n",
    "                    U = norm(dw[k * 2 + 1, :, j])\n",
    "                    mask_pu = ((p < U) & (U < 1)).astype('int')\n",
    "                    variance_paths[k, paths_to_simulate:, j] = a * ((np.sqrt(b) + dw[k * 2 + 1, :, j]) ** 2) * mask_less + 1 / beta * np.log((1 - p) / (1 - u)) * mask_pu * (1 - mask_less)\n",
    "\n",
    "                    k0 = - rho[k] * kappa[k] * theta[k] * dt / sigma[k]\n",
    "\n",
    "                    sigma1 = sigma2 = 0.5 # ARBITRARY SETTING, MORE SOPHISTICATED WOULD BE BASED ON MOMENT-MATCHING\n",
    "                    k1 = sigma1 * dt * (kappa[k] * rho[k] / sigma[k] - 0.5) - rho[k] / sigma[k]\n",
    "                    k2 = sigma2 * dt * (kappa[k] * rho[k] / sigma[k]) + rho[k] / sigma[k]\n",
    "                    k3 = sigma1 * dt * (1 - rho[k]**2)\n",
    "                    k4 = sigma2 * dt * (1 - rho[k]**2)\n",
    "                    result[k, paths_to_simulate:, j] = result[k, paths_to_simulate:, j-1] * np.exp(k0 + k1 * v_prev) * np.exp(k2 * variance_paths[k, paths_to_simulate:, j] + np.sqrt(k3 * v_prev + k4 * variance_paths[k, paths_to_simulate:, j]) * dw[k * 2, :, j]) \n",
    "\n",
    "\n",
    "                    \n",
    "\n",
    "\n",
    "    if variance_reduction == 'emc':\n",
    "        for k in range(n_assets):\n",
    "            correction_factor = result[k][-1, :].mean() / result[k][-1, :]\n",
    "            result[k] = result[k] * correction_factor\n",
    "    \n",
    "    return result, tickers, variance_paths\n",
    "\n",
    "def run_heston_backtest(combined_df, backtest_start, backtest_end, last_id):\n",
    "    # Initialize model and calibrate parameters\n",
    "    close = combined_df[['ROG_Last_Price', 'CFR_Last_Price', 'ZURN_Last_Price']]\n",
    "    \n",
    "    prices = []\n",
    "    prices_var = []\n",
    "    for current_id in tqdm(range(backtest_start, backtest_end)):\n",
    "        # Get data for current window\n",
    "        window_data = close.iloc[max(0, current_id - 30):current_id]\n",
    "        heston_calibration = HestonModelCalibration(current_id, close)\n",
    "        calibrated_params = heston_calibration.calibrate_heston_parameters(window_size=30)\n",
    "        correlation_matrix = heston_calibration.estimate_correlation_matrix(window_size=30)\n",
    "        \n",
    "        payoff = []\n",
    "        result, _, variance_paths = MultivariateHestonSimulation(\n",
    "            s0=close.iloc[current_id],\n",
    "            tickers=close.columns,\n",
    "            dt=1/252,\n",
    "            calibrated_params=calibrated_params,\n",
    "            correlation_matrix=correlation_matrix,\n",
    "            n_paths=10000,\n",
    "            variance_reduction='av',\n",
    "            current_id=current_id,\n",
    "            last_id=last_id\n",
    "        )\n",
    "\n",
    "        result, _, variance_paths = MultivariateHestonSimulation(\n",
    "            s0=close.iloc[current_id],\n",
    "            tickers=close.columns,\n",
    "            dt=1/252,\n",
    "            calibrated_params=calibrated_params,\n",
    "            correlation_matrix=correlation_matrix,\n",
    "            n_paths=10000,\n",
    "            variance_reduction='',\n",
    "            current_id=current_id,\n",
    "            last_id=last_id\n",
    "        )\n",
    "        \n",
    "        # Construct paths and calculate payoffs\n",
    "        old_path_rog = combined_df['ROG_Last_Price'].iloc[:current_id]\n",
    "        old_path_cfr = combined_df['CFR_Last_Price'].iloc[:current_id]\n",
    "        old_path_zurn = combined_df['ZURN_Last_Price'].iloc[:current_id]\n",
    "\n",
    "        path_rog = []\n",
    "        path_cfr = []\n",
    "        path_zurn = []\n",
    "        for i in range(result.shape[-2]):\n",
    "            path_rog.append(np.append(old_path_rog, result[0][i].flatten()))\n",
    "            path_cfr.append(np.append(old_path_cfr, result[1][i].flatten()))\n",
    "            path_zurn.append(np.append(old_path_zurn, result[2][i].flatten()))\n",
    "        payoff = payoff_func_parallel(path_rog, path_cfr, path_zurn, combined_df.iloc[current_id]['Date'], risk_free=0.01107, risk_neutral=True, verbose=False)\n",
    "        prices.append(np.mean(payoff))\n",
    "        prices_var.append(np.mean(payoff))\n",
    "\n",
    "        print(prices)\n",
    "    return prices, prices_var"
   ]
  },
  {
   "cell_type": "code",
   "execution_count": 234,
   "metadata": {},
   "outputs": [],
   "source": [
    "# import matplotlib.pyplot as plt\n",
    "\n",
    "# def evaluation_plot(backtest_start, backtest_end, combined_df, prices):\n",
    "#     # Load and process actual price data\n",
    "#     real_price = pd.read_csv('../data/product_price_full.csv')\n",
    "#     real_price['Date'] = pd.to_datetime(real_price['Date'], dayfirst=True)\n",
    "#     real_price = real_price.sort_values(by='Date', ascending=True)\n",
    "#     real_price['Product'] = 1000 * real_price['Product']\n",
    "\n",
    "#     # Filter actual prices for the backtest period\n",
    "#     actual = real_price[(real_price['Date'] >= combined_df.iloc[backtest_start]['Date']) & \n",
    "#                         (real_price['Date'] <= combined_df.iloc[backtest_end - 1]['Date'])]['Product'].values\n",
    "#     dates = real_price[(real_price['Date'] >= combined_df.iloc[backtest_start]['Date']) & \n",
    "#                        (real_price['Date'] <= combined_df.iloc[backtest_end - 1]['Date'])]['Date']\n",
    "\n",
    "#     # Ensure `prices` has the same length as `dates`\n",
    "#     if len(prices) != len(dates):\n",
    "#         prices = np.mean(prices, axis=0) if prices.ndim > 1 else np.repeat(prices, len(dates))\n",
    "\n",
    "#     # Plotting\n",
    "#     plt.figure(figsize=(20, 4))\n",
    "#     plt.plot(dates, prices, marker='o', label='Predicted Prices')\n",
    "#     plt.plot(dates, actual, marker='o', label='Actual Prices')\n",
    "#     plt.title('Price Comparison Over Time')\n",
    "#     plt.xlabel('Date')\n",
    "#     plt.ylabel('Price')\n",
    "#     plt.ylim(850, 1150)\n",
    "#     plt.legend()\n",
    "#     plt.show()\n",
    "\n"
   ]
  },
  {
   "cell_type": "code",
   "execution_count": 235,
   "metadata": {},
   "outputs": [
    {
     "name": "stderr",
     "output_type": "stream",
     "text": [
      "  0%|          | 0/65 [00:00<?, ?it/s]"
     ]
    },
    {
     "name": "stdout",
     "output_type": "stream",
     "text": [
      "v0: {'ROG_Last_Price': 0.09205015687612342, 'CFR_Last_Price': 0.023370381706008258, 'ZURN_Last_Price': 0.0179424750178799}\n",
      "v0: {'ROG_Last_Price': 0.09205015687612342, 'CFR_Last_Price': 0.023370381706008258, 'ZURN_Last_Price': 0.0179424750178799}\n"
     ]
    },
    {
     "name": "stderr",
     "output_type": "stream",
     "text": [
      "  2%|▏         | 1/65 [01:39<1:46:18, 99.67s/it]"
     ]
    },
    {
     "name": "stdout",
     "output_type": "stream",
     "text": [
      "[1029.7780738802442]\n",
      "v0: {'ROG_Last_Price': 0.09090414134853386, 'CFR_Last_Price': 0.06895343361669067, 'ZURN_Last_Price': 0.009763382505617438}\n",
      "v0: {'ROG_Last_Price': 0.09090414134853386, 'CFR_Last_Price': 0.06895343361669067, 'ZURN_Last_Price': 0.009763382505617438}\n"
     ]
    },
    {
     "name": "stderr",
     "output_type": "stream",
     "text": [
      "  3%|▎         | 2/65 [03:16<1:43:10, 98.27s/it]"
     ]
    },
    {
     "name": "stdout",
     "output_type": "stream",
     "text": [
      "[1029.7780738802442, 1030.326701234806]\n",
      "v0: {'ROG_Last_Price': 0.09910680245644977, 'CFR_Last_Price': 0.0010094115040252206, 'ZURN_Last_Price': 0.09375419042328863}\n",
      "v0: {'ROG_Last_Price': 0.09910680245644977, 'CFR_Last_Price': 0.0010094115040252206, 'ZURN_Last_Price': 0.09375419042328863}\n"
     ]
    },
    {
     "name": "stderr",
     "output_type": "stream",
     "text": [
      "  5%|▍         | 3/65 [04:57<1:42:41, 99.38s/it]"
     ]
    },
    {
     "name": "stdout",
     "output_type": "stream",
     "text": [
      "[1029.7780738802442, 1030.326701234806, 1029.9563802801717]\n",
      "v0: {'ROG_Last_Price': 0.07289573017079416, 'CFR_Last_Price': 0.024816160557279393, 'ZURN_Last_Price': 0.004044648523767233}\n",
      "v0: {'ROG_Last_Price': 0.07289573017079416, 'CFR_Last_Price': 0.024816160557279393, 'ZURN_Last_Price': 0.004044648523767233}\n"
     ]
    },
    {
     "name": "stderr",
     "output_type": "stream",
     "text": [
      "  6%|▌         | 4/65 [06:32<1:39:15, 97.64s/it]"
     ]
    },
    {
     "name": "stdout",
     "output_type": "stream",
     "text": [
      "[1029.7780738802442, 1030.326701234806, 1029.9563802801717, 1030.6080026617249]\n",
      "v0: {'ROG_Last_Price': 0.09907068182570733, 'CFR_Last_Price': 0.06079748991177935, 'ZURN_Last_Price': 0.09974908786011474}\n",
      "v0: {'ROG_Last_Price': 0.09907068182570733, 'CFR_Last_Price': 0.06079748991177935, 'ZURN_Last_Price': 0.09974908786011474}\n"
     ]
    },
    {
     "name": "stderr",
     "output_type": "stream",
     "text": [
      "  8%|▊         | 5/65 [08:06<1:36:22, 96.38s/it]"
     ]
    },
    {
     "name": "stdout",
     "output_type": "stream",
     "text": [
      "[1029.7780738802442, 1030.326701234806, 1029.9563802801717, 1030.6080026617249, 1030.2050602911104]\n",
      "v0: {'ROG_Last_Price': 0.09902366661646392, 'CFR_Last_Price': 0.09732695351311564, 'ZURN_Last_Price': 0.046555429461495816}\n",
      "v0: {'ROG_Last_Price': 0.09902366661646392, 'CFR_Last_Price': 0.09732695351311564, 'ZURN_Last_Price': 0.046555429461495816}\n"
     ]
    },
    {
     "name": "stderr",
     "output_type": "stream",
     "text": [
      "  9%|▉         | 6/65 [09:44<1:35:16, 96.89s/it]"
     ]
    },
    {
     "name": "stdout",
     "output_type": "stream",
     "text": [
      "[1029.7780738802442, 1030.326701234806, 1029.9563802801717, 1030.6080026617249, 1030.2050602911104, 1028.4892787501346]\n",
      "v0: {'ROG_Last_Price': 0.010549222118308596, 'CFR_Last_Price': 0.037029986043270104, 'ZURN_Last_Price': 0.07671322825804006}\n",
      "v0: {'ROG_Last_Price': 0.010549222118308596, 'CFR_Last_Price': 0.037029986043270104, 'ZURN_Last_Price': 0.07671322825804006}\n"
     ]
    },
    {
     "name": "stderr",
     "output_type": "stream",
     "text": [
      " 11%|█         | 7/65 [11:25<1:34:57, 98.23s/it]"
     ]
    },
    {
     "name": "stdout",
     "output_type": "stream",
     "text": [
      "[1029.7780738802442, 1030.326701234806, 1029.9563802801717, 1030.6080026617249, 1030.2050602911104, 1028.4892787501346, 1030.8301168985631]\n",
      "v0: {'ROG_Last_Price': 0.01418953936150288, 'CFR_Last_Price': 0.016308288566922104, 'ZURN_Last_Price': 0.016663626962537852}\n",
      "v0: {'ROG_Last_Price': 0.01418953936150288, 'CFR_Last_Price': 0.016308288566922104, 'ZURN_Last_Price': 0.016663626962537852}\n"
     ]
    },
    {
     "name": "stderr",
     "output_type": "stream",
     "text": [
      " 12%|█▏        | 8/65 [13:08<1:34:34, 99.56s/it]"
     ]
    },
    {
     "name": "stdout",
     "output_type": "stream",
     "text": [
      "[1029.7780738802442, 1030.326701234806, 1029.9563802801717, 1030.6080026617249, 1030.2050602911104, 1028.4892787501346, 1030.8301168985631, 1030.875400787605]\n",
      "v0: {'ROG_Last_Price': 0.006385342240562038, 'CFR_Last_Price': 0.031364269389582325, 'ZURN_Last_Price': 0.028254256585901357}\n",
      "v0: {'ROG_Last_Price': 0.006385342240562038, 'CFR_Last_Price': 0.031364269389582325, 'ZURN_Last_Price': 0.028254256585901357}\n"
     ]
    },
    {
     "name": "stderr",
     "output_type": "stream",
     "text": [
      " 14%|█▍        | 9/65 [14:48<1:33:03, 99.71s/it]"
     ]
    },
    {
     "name": "stdout",
     "output_type": "stream",
     "text": [
      "[1029.7780738802442, 1030.326701234806, 1029.9563802801717, 1030.6080026617249, 1030.2050602911104, 1028.4892787501346, 1030.8301168985631, 1030.875400787605, 1030.9206866659474]\n",
      "v0: {'ROG_Last_Price': 0.0905748880511831, 'CFR_Last_Price': 0.06523607039057226, 'ZURN_Last_Price': 0.02589516461650932}\n",
      "v0: {'ROG_Last_Price': 0.0905748880511831, 'CFR_Last_Price': 0.06523607039057226, 'ZURN_Last_Price': 0.02589516461650932}\n"
     ]
    },
    {
     "name": "stderr",
     "output_type": "stream",
     "text": [
      " 15%|█▌        | 10/65 [16:27<1:31:26, 99.76s/it]"
     ]
    },
    {
     "name": "stdout",
     "output_type": "stream",
     "text": [
      "[1029.7780738802442, 1030.326701234806, 1029.9563802801717, 1030.6080026617249, 1030.2050602911104, 1028.4892787501346, 1030.8301168985631, 1030.875400787605, 1030.9206866659474, 1030.0228254747387]\n",
      "v0: {'ROG_Last_Price': 0.012910335829784306, 'CFR_Last_Price': 0.09687696319993173, 'ZURN_Last_Price': 0.0996742516822749}\n",
      "v0: {'ROG_Last_Price': 0.012910335829784306, 'CFR_Last_Price': 0.09687696319993173, 'ZURN_Last_Price': 0.0996742516822749}\n"
     ]
    },
    {
     "name": "stderr",
     "output_type": "stream",
     "text": [
      " 17%|█▋        | 11/65 [18:07<1:29:37, 99.58s/it]"
     ]
    },
    {
     "name": "stdout",
     "output_type": "stream",
     "text": [
      "[1029.7780738802442, 1030.326701234806, 1029.9563802801717, 1030.6080026617249, 1030.2050602911104, 1028.4892787501346, 1030.8301168985631, 1030.875400787605, 1030.9206866659474, 1030.0228254747387, 1028.1742217547671]\n",
      "v0: {'ROG_Last_Price': 0.012483611146137902, 'CFR_Last_Price': 0.07155665344795652, 'ZURN_Last_Price': 0.04298329975988195}\n",
      "v0: {'ROG_Last_Price': 0.012483611146137902, 'CFR_Last_Price': 0.07155665344795652, 'ZURN_Last_Price': 0.04298329975988195}\n"
     ]
    },
    {
     "name": "stderr",
     "output_type": "stream",
     "text": [
      " 18%|█▊        | 12/65 [19:54<1:30:02, 101.93s/it]"
     ]
    },
    {
     "name": "stdout",
     "output_type": "stream",
     "text": [
      "[1029.7780738802442, 1030.326701234806, 1029.9563802801717, 1030.6080026617249, 1030.2050602911104, 1028.4892787501346, 1030.8301168985631, 1030.875400787605, 1030.9206866659474, 1030.0228254747387, 1028.1742217547671, 1030.7189288162415]\n",
      "v0: {'ROG_Last_Price': 0.09585276158831194, 'CFR_Last_Price': 0.09922785606661083, 'ZURN_Last_Price': 0.013397531824201503}\n",
      "v0: {'ROG_Last_Price': 0.09585276158831194, 'CFR_Last_Price': 0.09922785606661083, 'ZURN_Last_Price': 0.013397531824201503}\n"
     ]
    },
    {
     "name": "stderr",
     "output_type": "stream",
     "text": [
      " 20%|██        | 13/65 [21:44<1:30:22, 104.29s/it]"
     ]
    },
    {
     "name": "stdout",
     "output_type": "stream",
     "text": [
      "[1029.7780738802442, 1030.326701234806, 1029.9563802801717, 1030.6080026617249, 1030.2050602911104, 1028.4892787501346, 1030.8301168985631, 1030.875400787605, 1030.9206866659474, 1030.0228254747387, 1028.1742217547671, 1030.7189288162415, 1028.793276785629]\n",
      "v0: {'ROG_Last_Price': 0.034621288434864374, 'CFR_Last_Price': 0.07507852112481578, 'ZURN_Last_Price': 0.06567090704627775}\n",
      "v0: {'ROG_Last_Price': 0.034621288434864374, 'CFR_Last_Price': 0.07507852112481578, 'ZURN_Last_Price': 0.06567090704627775}\n"
     ]
    },
    {
     "name": "stderr",
     "output_type": "stream",
     "text": [
      " 22%|██▏       | 14/65 [23:29<1:28:55, 104.61s/it]"
     ]
    },
    {
     "name": "stdout",
     "output_type": "stream",
     "text": [
      "[1029.7780738802442, 1030.326701234806, 1029.9563802801717, 1030.6080026617249, 1030.2050602911104, 1028.4892787501346, 1030.8301168985631, 1030.875400787605, 1030.9206866659474, 1030.0228254747387, 1028.1742217547671, 1030.7189288162415, 1028.793276785629, 1030.8275623476186]\n",
      "v0: {'ROG_Last_Price': 0.03503374975409306, 'CFR_Last_Price': 0.005710830915654145, 'ZURN_Last_Price': 0.01125995002559221}\n",
      "v0: {'ROG_Last_Price': 0.03503374975409306, 'CFR_Last_Price': 0.005710830915654145, 'ZURN_Last_Price': 0.01125995002559221}\n"
     ]
    },
    {
     "name": "stderr",
     "output_type": "stream",
     "text": [
      " 23%|██▎       | 15/65 [25:04<1:24:43, 101.68s/it]"
     ]
    },
    {
     "name": "stdout",
     "output_type": "stream",
     "text": [
      "[1029.7780738802442, 1030.326701234806, 1029.9563802801717, 1030.6080026617249, 1030.2050602911104, 1028.4892787501346, 1030.8301168985631, 1030.875400787605, 1030.9206866659474, 1030.0228254747387, 1028.1742217547671, 1030.7189288162415, 1028.793276785629, 1030.8275623476186, 1031.1924437161995]\n",
      "v0: {'ROG_Last_Price': 0.0404590493519849, 'CFR_Last_Price': 0.09928233470356099, 'ZURN_Last_Price': 0.09851932789000821}\n",
      "v0: {'ROG_Last_Price': 0.0404590493519849, 'CFR_Last_Price': 0.09928233470356099, 'ZURN_Last_Price': 0.09851932789000821}\n"
     ]
    },
    {
     "name": "stderr",
     "output_type": "stream",
     "text": [
      " 25%|██▍       | 16/65 [26:41<1:21:48, 100.18s/it]"
     ]
    },
    {
     "name": "stdout",
     "output_type": "stream",
     "text": [
      "[1029.7780738802442, 1030.326701234806, 1029.9563802801717, 1030.6080026617249, 1030.2050602911104, 1028.4892787501346, 1030.8301168985631, 1030.875400787605, 1030.9206866659474, 1030.0228254747387, 1028.1742217547671, 1030.7189288162415, 1028.793276785629, 1030.8275623476186, 1031.1924437161995, 1030.3413777094238]\n",
      "v0: {'ROG_Last_Price': 0.08623615101602566, 'CFR_Last_Price': 0.01577601855407267, 'ZURN_Last_Price': 0.08385574928297139}\n",
      "v0: {'ROG_Last_Price': 0.08623615101602566, 'CFR_Last_Price': 0.01577601855407267, 'ZURN_Last_Price': 0.08385574928297139}\n"
     ]
    },
    {
     "name": "stderr",
     "output_type": "stream",
     "text": [
      " 26%|██▌       | 17/65 [28:22<1:20:25, 100.53s/it]"
     ]
    },
    {
     "name": "stdout",
     "output_type": "stream",
     "text": [
      "[1029.7780738802442, 1030.326701234806, 1029.9563802801717, 1030.6080026617249, 1030.2050602911104, 1028.4892787501346, 1030.8301168985631, 1030.875400787605, 1030.9206866659474, 1030.0228254747387, 1028.1742217547671, 1030.7189288162415, 1028.793276785629, 1030.8275623476186, 1031.1924437161995, 1030.3413777094238, 1031.1207164202576]\n",
      "v0: {'ROG_Last_Price': 0.08389808971982803, 'CFR_Last_Price': 0.09075432075838086, 'ZURN_Last_Price': 0.05420849605134262}\n",
      "v0: {'ROG_Last_Price': 0.08389808971982803, 'CFR_Last_Price': 0.09075432075838086, 'ZURN_Last_Price': 0.05420849605134262}\n"
     ]
    },
    {
     "name": "stderr",
     "output_type": "stream",
     "text": [
      " 28%|██▊       | 18/65 [30:07<1:19:54, 102.00s/it]"
     ]
    },
    {
     "name": "stdout",
     "output_type": "stream",
     "text": [
      "[1029.7780738802442, 1030.326701234806, 1029.9563802801717, 1030.6080026617249, 1030.2050602911104, 1028.4892787501346, 1030.8301168985631, 1030.875400787605, 1030.9206866659474, 1030.0228254747387, 1028.1742217547671, 1030.7189288162415, 1028.793276785629, 1030.8275623476186, 1031.1924437161995, 1030.3413777094238, 1031.1207164202576, 1030.8185004730453]\n",
      "v0: {'ROG_Last_Price': 0.024765257780314034, 'CFR_Last_Price': 0.09666250464106318, 'ZURN_Last_Price': 0.038288251977546775}\n",
      "v0: {'ROG_Last_Price': 0.024765257780314034, 'CFR_Last_Price': 0.09666250464106318, 'ZURN_Last_Price': 0.038288251977546775}\n"
     ]
    },
    {
     "name": "stderr",
     "output_type": "stream",
     "text": [
      " 29%|██▉       | 19/65 [31:44<1:16:52, 100.28s/it]"
     ]
    },
    {
     "name": "stdout",
     "output_type": "stream",
     "text": [
      "[1029.7780738802442, 1030.326701234806, 1029.9563802801717, 1030.6080026617249, 1030.2050602911104, 1028.4892787501346, 1030.8301168985631, 1030.875400787605, 1030.9206866659474, 1030.0228254747387, 1028.1742217547671, 1030.7189288162415, 1028.793276785629, 1030.8275623476186, 1031.1924437161995, 1030.3413777094238, 1031.1207164202576, 1030.8185004730453, 1030.9357054257875]\n",
      "v0: {'ROG_Last_Price': 0.06476512425821648, 'CFR_Last_Price': 0.011174702955358932, 'ZURN_Last_Price': 0.020279685503607415}\n",
      "v0: {'ROG_Last_Price': 0.06476512425821648, 'CFR_Last_Price': 0.011174702955358932, 'ZURN_Last_Price': 0.020279685503607415}\n"
     ]
    },
    {
     "name": "stderr",
     "output_type": "stream",
     "text": [
      " 31%|███       | 20/65 [33:20<1:14:25, 99.24s/it] "
     ]
    },
    {
     "name": "stdout",
     "output_type": "stream",
     "text": [
      "[1029.7780738802442, 1030.326701234806, 1029.9563802801717, 1030.6080026617249, 1030.2050602911104, 1028.4892787501346, 1030.8301168985631, 1030.875400787605, 1030.9206866659474, 1030.0228254747387, 1028.1742217547671, 1030.7189288162415, 1028.793276785629, 1030.8275623476186, 1031.1924437161995, 1030.3413777094238, 1031.1207164202576, 1030.8185004730453, 1030.9357054257875, 1031.3765387903675]\n",
      "v0: {'ROG_Last_Price': 0.08236715331951534, 'CFR_Last_Price': 0.001355724540852294, 'ZURN_Last_Price': 0.0767855829472845}\n",
      "v0: {'ROG_Last_Price': 0.08236715331951534, 'CFR_Last_Price': 0.001355724540852294, 'ZURN_Last_Price': 0.0767855829472845}\n"
     ]
    },
    {
     "name": "stderr",
     "output_type": "stream",
     "text": [
      " 32%|███▏      | 21/65 [34:57<1:12:15, 98.54s/it]"
     ]
    },
    {
     "name": "stdout",
     "output_type": "stream",
     "text": [
      "[1029.7780738802442, 1030.326701234806, 1029.9563802801717, 1030.6080026617249, 1030.2050602911104, 1028.4892787501346, 1030.8301168985631, 1030.875400787605, 1030.9206866659474, 1030.0228254747387, 1028.1742217547671, 1030.7189288162415, 1028.793276785629, 1030.8275623476186, 1031.1924437161995, 1030.3413777094238, 1031.1207164202576, 1030.8185004730453, 1030.9357054257875, 1031.3765387903675, 1031.3838387830701]\n",
      "v0: {'ROG_Last_Price': 0.09695416821437176, 'CFR_Last_Price': 0.09458933580292479, 'ZURN_Last_Price': 0.04453781171521316}\n",
      "v0: {'ROG_Last_Price': 0.09695416821437176, 'CFR_Last_Price': 0.09458933580292479, 'ZURN_Last_Price': 0.04453781171521316}\n"
     ]
    },
    {
     "name": "stderr",
     "output_type": "stream",
     "text": [
      " 34%|███▍      | 22/65 [36:35<1:10:24, 98.25s/it]"
     ]
    },
    {
     "name": "stdout",
     "output_type": "stream",
     "text": [
      "[1029.7780738802442, 1030.326701234806, 1029.9563802801717, 1030.6080026617249, 1030.2050602911104, 1028.4892787501346, 1030.8301168985631, 1030.875400787605, 1030.9206866659474, 1030.0228254747387, 1028.1742217547671, 1030.7189288162415, 1028.793276785629, 1030.8275623476186, 1031.1924437161995, 1030.3413777094238, 1031.1207164202576, 1030.8185004730453, 1030.9357054257875, 1031.3765387903675, 1031.3838387830701, 1031.0359983692133]\n",
      "v0: {'ROG_Last_Price': 0.09015684156723407, 'CFR_Last_Price': 0.09302381275319707, 'ZURN_Last_Price': 0.09975140845702866}\n",
      "v0: {'ROG_Last_Price': 0.09015684156723407, 'CFR_Last_Price': 0.09302381275319707, 'ZURN_Last_Price': 0.09975140845702866}\n"
     ]
    },
    {
     "name": "stderr",
     "output_type": "stream",
     "text": [
      " 35%|███▌      | 23/65 [38:12<1:08:25, 97.75s/it]"
     ]
    },
    {
     "name": "stdout",
     "output_type": "stream",
     "text": [
      "[1029.7780738802442, 1030.326701234806, 1029.9563802801717, 1030.6080026617249, 1030.2050602911104, 1028.4892787501346, 1030.8301168985631, 1030.875400787605, 1030.9206866659474, 1030.0228254747387, 1028.1742217547671, 1030.7189288162415, 1028.793276785629, 1030.8275623476186, 1031.1924437161995, 1030.3413777094238, 1031.1207164202576, 1030.8185004730453, 1030.9357054257875, 1031.3765387903675, 1031.3838387830701, 1031.0359983692133, 1031.4378391435382]\n",
      "v0: {'ROG_Last_Price': 0.09616034240709877, 'CFR_Last_Price': 0.09949406585317112, 'ZURN_Last_Price': 0.09911720459007532}\n",
      "v0: {'ROG_Last_Price': 0.09616034240709877, 'CFR_Last_Price': 0.09949406585317112, 'ZURN_Last_Price': 0.09911720459007532}\n"
     ]
    },
    {
     "name": "stderr",
     "output_type": "stream",
     "text": [
      " 37%|███▋      | 24/65 [39:47<1:06:18, 97.04s/it]"
     ]
    },
    {
     "name": "stdout",
     "output_type": "stream",
     "text": [
      "[1029.7780738802442, 1030.326701234806, 1029.9563802801717, 1030.6080026617249, 1030.2050602911104, 1028.4892787501346, 1030.8301168985631, 1030.875400787605, 1030.9206866659474, 1030.0228254747387, 1028.1742217547671, 1030.7189288162415, 1028.793276785629, 1030.8275623476186, 1031.1924437161995, 1030.3413777094238, 1031.1207164202576, 1030.8185004730453, 1030.9357054257875, 1031.3765387903675, 1031.3838387830701, 1031.0359983692133, 1031.4378391435382, 1031.0243962602683]\n",
      "v0: {'ROG_Last_Price': 0.03358119635702556, 'CFR_Last_Price': 0.007920083430822013, 'ZURN_Last_Price': 0.014818453233442247}\n",
      "v0: {'ROG_Last_Price': 0.03358119635702556, 'CFR_Last_Price': 0.007920083430822013, 'ZURN_Last_Price': 0.014818453233442247}\n"
     ]
    },
    {
     "name": "stderr",
     "output_type": "stream",
     "text": [
      " 38%|███▊      | 25/65 [41:25<1:04:50, 97.27s/it]"
     ]
    },
    {
     "name": "stdout",
     "output_type": "stream",
     "text": [
      "[1029.7780738802442, 1030.326701234806, 1029.9563802801717, 1030.6080026617249, 1030.2050602911104, 1028.4892787501346, 1030.8301168985631, 1030.875400787605, 1030.9206866659474, 1030.0228254747387, 1028.1742217547671, 1030.7189288162415, 1028.793276785629, 1030.8275623476186, 1031.1924437161995, 1030.3413777094238, 1031.1207164202576, 1030.8185004730453, 1030.9357054257875, 1031.3765387903675, 1031.3838387830701, 1031.0359983692133, 1031.4378391435382, 1031.0243962602683, 1031.6455313355762]\n",
      "v0: {'ROG_Last_Price': 0.028208556203494432, 'CFR_Last_Price': 0.07719996316203283, 'ZURN_Last_Price': 0.07309115160964028}\n",
      "v0: {'ROG_Last_Price': 0.028208556203494432, 'CFR_Last_Price': 0.07719996316203283, 'ZURN_Last_Price': 0.07309115160964028}\n"
     ]
    },
    {
     "name": "stderr",
     "output_type": "stream",
     "text": [
      " 40%|████      | 26/65 [43:01<1:02:56, 96.84s/it]"
     ]
    },
    {
     "name": "stdout",
     "output_type": "stream",
     "text": [
      "[1029.7780738802442, 1030.326701234806, 1029.9563802801717, 1030.6080026617249, 1030.2050602911104, 1028.4892787501346, 1030.8301168985631, 1030.875400787605, 1030.9206866659474, 1030.0228254747387, 1028.1742217547671, 1030.7189288162415, 1028.793276785629, 1030.8275623476186, 1031.1924437161995, 1030.3413777094238, 1031.1207164202576, 1030.8185004730453, 1030.9357054257875, 1031.3765387903675, 1031.3838387830701, 1031.0359983692133, 1031.4378391435382, 1031.0243962602683, 1031.6455313355762, 1031.651494065958]\n",
      "v0: {'ROG_Last_Price': 0.004206503252979371, 'CFR_Last_Price': 0.06234470120469473, 'ZURN_Last_Price': 0.001073623026951022}\n",
      "v0: {'ROG_Last_Price': 0.004206503252979371, 'CFR_Last_Price': 0.06234470120469473, 'ZURN_Last_Price': 0.001073623026951022}\n"
     ]
    },
    {
     "name": "stderr",
     "output_type": "stream",
     "text": [
      " 42%|████▏     | 27/65 [44:38<1:01:26, 97.00s/it]"
     ]
    },
    {
     "name": "stdout",
     "output_type": "stream",
     "text": [
      "[1029.7780738802442, 1030.326701234806, 1029.9563802801717, 1030.6080026617249, 1030.2050602911104, 1028.4892787501346, 1030.8301168985631, 1030.875400787605, 1030.9206866659474, 1030.0228254747387, 1028.1742217547671, 1030.7189288162415, 1028.793276785629, 1030.8275623476186, 1031.1924437161995, 1030.3413777094238, 1031.1207164202576, 1030.8185004730453, 1030.9357054257875, 1031.3765387903675, 1031.3838387830701, 1031.0359983692133, 1031.4378391435382, 1031.0243962602683, 1031.6455313355762, 1031.651494065958, 1031.73617274609]\n",
      "v0: {'ROG_Last_Price': 0.039881531764134726, 'CFR_Last_Price': 0.00426432358993684, 'ZURN_Last_Price': 0.09896932138074163}\n",
      "v0: {'ROG_Last_Price': 0.039881531764134726, 'CFR_Last_Price': 0.00426432358993684, 'ZURN_Last_Price': 0.09896932138074163}\n"
     ]
    },
    {
     "name": "stderr",
     "output_type": "stream",
     "text": [
      " 43%|████▎     | 28/65 [46:13<59:24, 96.33s/it]  "
     ]
    },
    {
     "name": "stdout",
     "output_type": "stream",
     "text": [
      "[1029.7780738802442, 1030.326701234806, 1029.9563802801717, 1030.6080026617249, 1030.2050602911104, 1028.4892787501346, 1030.8301168985631, 1030.875400787605, 1030.9206866659474, 1030.0228254747387, 1028.1742217547671, 1030.7189288162415, 1028.793276785629, 1030.8275623476186, 1031.1924437161995, 1030.3413777094238, 1031.1207164202576, 1030.8185004730453, 1030.9357054257875, 1031.3765387903675, 1031.3838387830701, 1031.0359983692133, 1031.4378391435382, 1031.0243962602683, 1031.6455313355762, 1031.651494065958, 1031.73617274609, 1031.7416051934208]\n",
      "v0: {'ROG_Last_Price': 0.02527521448278441, 'CFR_Last_Price': 0.07163428944488894, 'ZURN_Last_Price': 0.09751542116485341}\n",
      "v0: {'ROG_Last_Price': 0.02527521448278441, 'CFR_Last_Price': 0.07163428944488894, 'ZURN_Last_Price': 0.09751542116485341}\n"
     ]
    },
    {
     "name": "stderr",
     "output_type": "stream",
     "text": [
      " 45%|████▍     | 29/65 [47:49<57:51, 96.44s/it]"
     ]
    },
    {
     "name": "stdout",
     "output_type": "stream",
     "text": [
      "[1029.7780738802442, 1030.326701234806, 1029.9563802801717, 1030.6080026617249, 1030.2050602911104, 1028.4892787501346, 1030.8301168985631, 1030.875400787605, 1030.9206866659474, 1030.0228254747387, 1028.1742217547671, 1030.7189288162415, 1028.793276785629, 1030.8275623476186, 1031.1924437161995, 1030.3413777094238, 1031.1207164202576, 1030.8185004730453, 1030.9357054257875, 1031.3765387903675, 1031.3838387830701, 1031.0359983692133, 1031.4378391435382, 1031.0243962602683, 1031.6455313355762, 1031.651494065958, 1031.73617274609, 1031.7416051934208, 1031.8268221204492]\n",
      "v0: {'ROG_Last_Price': 0.036973573345148544, 'CFR_Last_Price': 0.0977702063850902, 'ZURN_Last_Price': 0.007905630158996087}\n",
      "v0: {'ROG_Last_Price': 0.036973573345148544, 'CFR_Last_Price': 0.0977702063850902, 'ZURN_Last_Price': 0.007905630158996087}\n"
     ]
    },
    {
     "name": "stderr",
     "output_type": "stream",
     "text": [
      " 46%|████▌     | 30/65 [49:26<56:12, 96.34s/it]"
     ]
    },
    {
     "name": "stdout",
     "output_type": "stream",
     "text": [
      "[1029.7780738802442, 1030.326701234806, 1029.9563802801717, 1030.6080026617249, 1030.2050602911104, 1028.4892787501346, 1030.8301168985631, 1030.875400787605, 1030.9206866659474, 1030.0228254747387, 1028.1742217547671, 1030.7189288162415, 1028.793276785629, 1030.8275623476186, 1031.1924437161995, 1030.3413777094238, 1031.1207164202576, 1030.8185004730453, 1030.9357054257875, 1031.3765387903675, 1031.3838387830701, 1031.0359983692133, 1031.4378391435382, 1031.0243962602683, 1031.6455313355762, 1031.651494065958, 1031.73617274609, 1031.7416051934208, 1031.8268221204492, 1030.9784434868782]\n",
      "v0: {'ROG_Last_Price': 0.0014579360075749484, 'CFR_Last_Price': 0.07668979211857854, 'ZURN_Last_Price': 0.05180173016321604}\n",
      "v0: {'ROG_Last_Price': 0.0014579360075749484, 'CFR_Last_Price': 0.07668979211857854, 'ZURN_Last_Price': 0.05180173016321604}\n"
     ]
    },
    {
     "name": "stderr",
     "output_type": "stream",
     "text": [
      " 48%|████▊     | 31/65 [51:02<54:42, 96.54s/it]"
     ]
    },
    {
     "name": "stdout",
     "output_type": "stream",
     "text": [
      "[1029.7780738802442, 1030.326701234806, 1029.9563802801717, 1030.6080026617249, 1030.2050602911104, 1028.4892787501346, 1030.8301168985631, 1030.875400787605, 1030.9206866659474, 1030.0228254747387, 1028.1742217547671, 1030.7189288162415, 1028.793276785629, 1030.8275623476186, 1031.1924437161995, 1030.3413777094238, 1031.1207164202576, 1030.8185004730453, 1030.9357054257875, 1031.3765387903675, 1031.3838387830701, 1031.0359983692133, 1031.4378391435382, 1031.0243962602683, 1031.6455313355762, 1031.651494065958, 1031.73617274609, 1031.7416051934208, 1031.8268221204492, 1030.9784434868782, 1031.3026073791796]\n",
      "v0: {'ROG_Last_Price': 0.0017940779710529685, 'CFR_Last_Price': 0.014651284284813576, 'ZURN_Last_Price': 0.08125377971143558}\n",
      "v0: {'ROG_Last_Price': 0.0017940779710529685, 'CFR_Last_Price': 0.014651284284813576, 'ZURN_Last_Price': 0.08125377971143558}\n"
     ]
    },
    {
     "name": "stderr",
     "output_type": "stream",
     "text": [
      " 49%|████▉     | 32/65 [52:39<53:00, 96.39s/it]"
     ]
    },
    {
     "name": "stdout",
     "output_type": "stream",
     "text": [
      "[1029.7780738802442, 1030.326701234806, 1029.9563802801717, 1030.6080026617249, 1030.2050602911104, 1028.4892787501346, 1030.8301168985631, 1030.875400787605, 1030.9206866659474, 1030.0228254747387, 1028.1742217547671, 1030.7189288162415, 1028.793276785629, 1030.8275623476186, 1031.1924437161995, 1030.3413777094238, 1031.1207164202576, 1030.8185004730453, 1030.9357054257875, 1031.3765387903675, 1031.3838387830701, 1031.0359983692133, 1031.4378391435382, 1031.0243962602683, 1031.6455313355762, 1031.651494065958, 1031.73617274609, 1031.7416051934208, 1031.8268221204492, 1030.9784434868782, 1031.3026073791796, 1031.9628111157285]\n",
      "v0: {'ROG_Last_Price': 0.001669655858619838, 'CFR_Last_Price': 0.059840575527526856, 'ZURN_Last_Price': 0.012235526490776163}\n",
      "v0: {'ROG_Last_Price': 0.001669655858619838, 'CFR_Last_Price': 0.059840575527526856, 'ZURN_Last_Price': 0.012235526490776163}\n"
     ]
    },
    {
     "name": "stderr",
     "output_type": "stream",
     "text": [
      " 51%|█████     | 33/65 [54:15<51:24, 96.39s/it]"
     ]
    },
    {
     "name": "stdout",
     "output_type": "stream",
     "text": [
      "[1029.7780738802442, 1030.326701234806, 1029.9563802801717, 1030.6080026617249, 1030.2050602911104, 1028.4892787501346, 1030.8301168985631, 1030.875400787605, 1030.9206866659474, 1030.0228254747387, 1028.1742217547671, 1030.7189288162415, 1028.793276785629, 1030.8275623476186, 1031.1924437161995, 1030.3413777094238, 1031.1207164202576, 1030.8185004730453, 1030.9357054257875, 1031.3765387903675, 1031.3838387830701, 1031.0359983692133, 1031.4378391435382, 1031.0243962602683, 1031.6455313355762, 1031.651494065958, 1031.73617274609, 1031.7416051934208, 1031.8268221204492, 1030.9784434868782, 1031.3026073791796, 1031.9628111157285, 1031.9791763144606]\n",
      "v0: {'ROG_Last_Price': 0.0802268764647071, 'CFR_Last_Price': 0.05275866893581679, 'ZURN_Last_Price': 0.08213974405894936}\n",
      "v0: {'ROG_Last_Price': 0.0802268764647071, 'CFR_Last_Price': 0.05275866893581679, 'ZURN_Last_Price': 0.08213974405894936}\n"
     ]
    },
    {
     "name": "stderr",
     "output_type": "stream",
     "text": [
      " 52%|█████▏    | 34/65 [55:51<49:43, 96.24s/it]"
     ]
    },
    {
     "name": "stdout",
     "output_type": "stream",
     "text": [
      "[1029.7780738802442, 1030.326701234806, 1029.9563802801717, 1030.6080026617249, 1030.2050602911104, 1028.4892787501346, 1030.8301168985631, 1030.875400787605, 1030.9206866659474, 1030.0228254747387, 1028.1742217547671, 1030.7189288162415, 1028.793276785629, 1030.8275623476186, 1031.1924437161995, 1030.3413777094238, 1031.1207164202576, 1030.8185004730453, 1030.9357054257875, 1031.3765387903675, 1031.3838387830701, 1031.0359983692133, 1031.4378391435382, 1031.0243962602683, 1031.6455313355762, 1031.651494065958, 1031.73617274609, 1031.7416051934208, 1031.8268221204492, 1030.9784434868782, 1031.3026073791796, 1031.9628111157285, 1031.9791763144606, 1031.9710489681374]\n",
      "v0: {'ROG_Last_Price': 0.09105807886421742, 'CFR_Last_Price': 0.09415918149196892, 'ZURN_Last_Price': 0.09456143611348398}\n",
      "v0: {'ROG_Last_Price': 0.09105807886421742, 'CFR_Last_Price': 0.09415918149196892, 'ZURN_Last_Price': 0.09456143611348398}\n"
     ]
    },
    {
     "name": "stderr",
     "output_type": "stream",
     "text": [
      " 54%|█████▍    | 35/65 [57:27<48:04, 96.14s/it]"
     ]
    },
    {
     "name": "stdout",
     "output_type": "stream",
     "text": [
      "[1029.7780738802442, 1030.326701234806, 1029.9563802801717, 1030.6080026617249, 1030.2050602911104, 1028.4892787501346, 1030.8301168985631, 1030.875400787605, 1030.9206866659474, 1030.0228254747387, 1028.1742217547671, 1030.7189288162415, 1028.793276785629, 1030.8275623476186, 1031.1924437161995, 1030.3413777094238, 1031.1207164202576, 1030.8185004730453, 1030.9357054257875, 1031.3765387903675, 1031.3838387830701, 1031.0359983692133, 1031.4378391435382, 1031.0243962602683, 1031.6455313355762, 1031.651494065958, 1031.73617274609, 1031.7416051934208, 1031.8268221204492, 1030.9784434868782, 1031.3026073791796, 1031.9628111157285, 1031.9791763144606, 1031.9710489681374, 1013.3972079055637]\n",
      "v0: {'ROG_Last_Price': 0.06606910511092758, 'CFR_Last_Price': 0.09047051128714675, 'ZURN_Last_Price': 0.09812935155190296}\n",
      "v0: {'ROG_Last_Price': 0.06606910511092758, 'CFR_Last_Price': 0.09047051128714675, 'ZURN_Last_Price': 0.09812935155190296}\n"
     ]
    },
    {
     "name": "stderr",
     "output_type": "stream",
     "text": [
      " 55%|█████▌    | 36/65 [59:02<46:17, 95.76s/it]"
     ]
    },
    {
     "name": "stdout",
     "output_type": "stream",
     "text": [
      "[1029.7780738802442, 1030.326701234806, 1029.9563802801717, 1030.6080026617249, 1030.2050602911104, 1028.4892787501346, 1030.8301168985631, 1030.875400787605, 1030.9206866659474, 1030.0228254747387, 1028.1742217547671, 1030.7189288162415, 1028.793276785629, 1030.8275623476186, 1031.1924437161995, 1030.3413777094238, 1031.1207164202576, 1030.8185004730453, 1030.9357054257875, 1031.3765387903675, 1031.3838387830701, 1031.0359983692133, 1031.4378391435382, 1031.0243962602683, 1031.6455313355762, 1031.651494065958, 1031.73617274609, 1031.7416051934208, 1031.8268221204492, 1030.9784434868782, 1031.3026073791796, 1031.9628111157285, 1031.9791763144606, 1031.9710489681374, 1013.3972079055637, 1014.2138980435053]\n",
      "v0: {'ROG_Last_Price': 0.08760443863618265, 'CFR_Last_Price': 0.021818280848257154, 'ZURN_Last_Price': 0.010257926258460066}\n",
      "v0: {'ROG_Last_Price': 0.08760443863618265, 'CFR_Last_Price': 0.021818280848257154, 'ZURN_Last_Price': 0.010257926258460066}\n"
     ]
    },
    {
     "name": "stderr",
     "output_type": "stream",
     "text": [
      " 57%|█████▋    | 37/65 [1:00:40<45:04, 96.60s/it]"
     ]
    },
    {
     "name": "stdout",
     "output_type": "stream",
     "text": [
      "[1029.7780738802442, 1030.326701234806, 1029.9563802801717, 1030.6080026617249, 1030.2050602911104, 1028.4892787501346, 1030.8301168985631, 1030.875400787605, 1030.9206866659474, 1030.0228254747387, 1028.1742217547671, 1030.7189288162415, 1028.793276785629, 1030.8275623476186, 1031.1924437161995, 1030.3413777094238, 1031.1207164202576, 1030.8185004730453, 1030.9357054257875, 1031.3765387903675, 1031.3838387830701, 1031.0359983692133, 1031.4378391435382, 1031.0243962602683, 1031.6455313355762, 1031.651494065958, 1031.73617274609, 1031.7416051934208, 1031.8268221204492, 1030.9784434868782, 1031.3026073791796, 1031.9628111157285, 1031.9791763144606, 1031.9710489681374, 1013.3972079055637, 1014.2138980435053, 1014.68796170279]\n",
      "v0: {'ROG_Last_Price': 0.044179184484815434, 'CFR_Last_Price': 0.07051278442057254, 'ZURN_Last_Price': 0.04740300158566834}\n",
      "v0: {'ROG_Last_Price': 0.044179184484815434, 'CFR_Last_Price': 0.07051278442057254, 'ZURN_Last_Price': 0.04740300158566834}\n"
     ]
    },
    {
     "name": "stderr",
     "output_type": "stream",
     "text": [
      " 58%|█████▊    | 38/65 [1:02:17<43:28, 96.60s/it]"
     ]
    },
    {
     "name": "stdout",
     "output_type": "stream",
     "text": [
      "[1029.7780738802442, 1030.326701234806, 1029.9563802801717, 1030.6080026617249, 1030.2050602911104, 1028.4892787501346, 1030.8301168985631, 1030.875400787605, 1030.9206866659474, 1030.0228254747387, 1028.1742217547671, 1030.7189288162415, 1028.793276785629, 1030.8275623476186, 1031.1924437161995, 1030.3413777094238, 1031.1207164202576, 1030.8185004730453, 1030.9357054257875, 1031.3765387903675, 1031.3838387830701, 1031.0359983692133, 1031.4378391435382, 1031.0243962602683, 1031.6455313355762, 1031.651494065958, 1031.73617274609, 1031.7416051934208, 1031.8268221204492, 1030.9784434868782, 1031.3026073791796, 1031.9628111157285, 1031.9791763144606, 1031.9710489681374, 1013.3972079055637, 1014.2138980435053, 1014.68796170279, 1014.6140483946111]\n",
      "v0: {'ROG_Last_Price': 0.09311142818332606, 'CFR_Last_Price': 0.008665030043847194, 'ZURN_Last_Price': 0.09122700659998041}\n",
      "v0: {'ROG_Last_Price': 0.09311142818332606, 'CFR_Last_Price': 0.008665030043847194, 'ZURN_Last_Price': 0.09122700659998041}\n"
     ]
    },
    {
     "name": "stderr",
     "output_type": "stream",
     "text": [
      " 60%|██████    | 39/65 [1:03:52<41:39, 96.13s/it]"
     ]
    },
    {
     "name": "stdout",
     "output_type": "stream",
     "text": [
      "[1029.7780738802442, 1030.326701234806, 1029.9563802801717, 1030.6080026617249, 1030.2050602911104, 1028.4892787501346, 1030.8301168985631, 1030.875400787605, 1030.9206866659474, 1030.0228254747387, 1028.1742217547671, 1030.7189288162415, 1028.793276785629, 1030.8275623476186, 1031.1924437161995, 1030.3413777094238, 1031.1207164202576, 1030.8185004730453, 1030.9357054257875, 1031.3765387903675, 1031.3838387830701, 1031.0359983692133, 1031.4378391435382, 1031.0243962602683, 1031.6455313355762, 1031.651494065958, 1031.73617274609, 1031.7416051934208, 1031.8268221204492, 1030.9784434868782, 1031.3026073791796, 1031.9628111157285, 1031.9791763144606, 1031.9710489681374, 1013.3972079055637, 1014.2138980435053, 1014.68796170279, 1014.6140483946111, 1014.6941909140862]\n",
      "v0: {'ROG_Last_Price': 0.09992475724617711, 'CFR_Last_Price': 0.032531024721733595, 'ZURN_Last_Price': 0.0893924757366068}\n",
      "v0: {'ROG_Last_Price': 0.09992475724617711, 'CFR_Last_Price': 0.032531024721733595, 'ZURN_Last_Price': 0.0893924757366068}\n"
     ]
    },
    {
     "name": "stderr",
     "output_type": "stream",
     "text": [
      " 62%|██████▏   | 40/65 [1:05:27<39:58, 95.94s/it]"
     ]
    },
    {
     "name": "stdout",
     "output_type": "stream",
     "text": [
      "[1029.7780738802442, 1030.326701234806, 1029.9563802801717, 1030.6080026617249, 1030.2050602911104, 1028.4892787501346, 1030.8301168985631, 1030.875400787605, 1030.9206866659474, 1030.0228254747387, 1028.1742217547671, 1030.7189288162415, 1028.793276785629, 1030.8275623476186, 1031.1924437161995, 1030.3413777094238, 1031.1207164202576, 1030.8185004730453, 1030.9357054257875, 1031.3765387903675, 1031.3838387830701, 1031.0359983692133, 1031.4378391435382, 1031.0243962602683, 1031.6455313355762, 1031.651494065958, 1031.73617274609, 1031.7416051934208, 1031.8268221204492, 1030.9784434868782, 1031.3026073791796, 1031.9628111157285, 1031.9791763144606, 1031.9710489681374, 1013.3972079055637, 1014.2138980435053, 1014.68796170279, 1014.6140483946111, 1014.6941909140862, 1014.7874743639331]\n",
      "v0: {'ROG_Last_Price': 0.028785811622780218, 'CFR_Last_Price': 0.030990684920963327, 'ZURN_Last_Price': 0.02196230331482245}\n",
      "v0: {'ROG_Last_Price': 0.028785811622780218, 'CFR_Last_Price': 0.030990684920963327, 'ZURN_Last_Price': 0.02196230331482245}\n"
     ]
    },
    {
     "name": "stderr",
     "output_type": "stream",
     "text": [
      " 63%|██████▎   | 41/65 [1:07:00<37:56, 94.87s/it]"
     ]
    },
    {
     "name": "stdout",
     "output_type": "stream",
     "text": [
      "[1029.7780738802442, 1030.326701234806, 1029.9563802801717, 1030.6080026617249, 1030.2050602911104, 1028.4892787501346, 1030.8301168985631, 1030.875400787605, 1030.9206866659474, 1030.0228254747387, 1028.1742217547671, 1030.7189288162415, 1028.793276785629, 1030.8275623476186, 1031.1924437161995, 1030.3413777094238, 1031.1207164202576, 1030.8185004730453, 1030.9357054257875, 1031.3765387903675, 1031.3838387830701, 1031.0359983692133, 1031.4378391435382, 1031.0243962602683, 1031.6455313355762, 1031.651494065958, 1031.73617274609, 1031.7416051934208, 1031.8268221204492, 1030.9784434868782, 1031.3026073791796, 1031.9628111157285, 1031.9791763144606, 1031.9710489681374, 1013.3972079055637, 1014.2138980435053, 1014.68796170279, 1014.6140483946111, 1014.6941909140862, 1014.7874743639331, 1014.8662725386256]\n",
      "v0: {'ROG_Last_Price': 0.09640573312602714, 'CFR_Last_Price': 0.025012517794656554, 'ZURN_Last_Price': 0.08536873526231052}\n",
      "v0: {'ROG_Last_Price': 0.09640573312602714, 'CFR_Last_Price': 0.025012517794656554, 'ZURN_Last_Price': 0.08536873526231052}\n"
     ]
    },
    {
     "name": "stderr",
     "output_type": "stream",
     "text": [
      " 65%|██████▍   | 42/65 [1:08:36<36:33, 95.38s/it]"
     ]
    },
    {
     "name": "stdout",
     "output_type": "stream",
     "text": [
      "[1029.7780738802442, 1030.326701234806, 1029.9563802801717, 1030.6080026617249, 1030.2050602911104, 1028.4892787501346, 1030.8301168985631, 1030.875400787605, 1030.9206866659474, 1030.0228254747387, 1028.1742217547671, 1030.7189288162415, 1028.793276785629, 1030.8275623476186, 1031.1924437161995, 1030.3413777094238, 1031.1207164202576, 1030.8185004730453, 1030.9357054257875, 1031.3765387903675, 1031.3838387830701, 1031.0359983692133, 1031.4378391435382, 1031.0243962602683, 1031.6455313355762, 1031.651494065958, 1031.73617274609, 1031.7416051934208, 1031.8268221204492, 1030.9784434868782, 1031.3026073791796, 1031.9628111157285, 1031.9791763144606, 1031.9710489681374, 1013.3972079055637, 1014.2138980435053, 1014.68796170279, 1014.6140483946111, 1014.6941909140862, 1014.7874743639331, 1014.8662725386256, 1014.8720008355975]\n",
      "v0: {'ROG_Last_Price': 0.00203080290929465, 'CFR_Last_Price': 0.09999017168529502, 'ZURN_Last_Price': 0.034066403635189}\n",
      "v0: {'ROG_Last_Price': 0.00203080290929465, 'CFR_Last_Price': 0.09999017168529502, 'ZURN_Last_Price': 0.034066403635189}\n"
     ]
    },
    {
     "name": "stderr",
     "output_type": "stream",
     "text": [
      " 66%|██████▌   | 43/65 [1:10:13<35:07, 95.81s/it]"
     ]
    },
    {
     "name": "stdout",
     "output_type": "stream",
     "text": [
      "[1029.7780738802442, 1030.326701234806, 1029.9563802801717, 1030.6080026617249, 1030.2050602911104, 1028.4892787501346, 1030.8301168985631, 1030.875400787605, 1030.9206866659474, 1030.0228254747387, 1028.1742217547671, 1030.7189288162415, 1028.793276785629, 1030.8275623476186, 1031.1924437161995, 1030.3413777094238, 1031.1207164202576, 1030.8185004730453, 1030.9357054257875, 1031.3765387903675, 1031.3838387830701, 1031.0359983692133, 1031.4378391435382, 1031.0243962602683, 1031.6455313355762, 1031.651494065958, 1031.73617274609, 1031.7416051934208, 1031.8268221204492, 1030.9784434868782, 1031.3026073791796, 1031.9628111157285, 1031.9791763144606, 1031.9710489681374, 1013.3972079055637, 1014.2138980435053, 1014.68796170279, 1014.6140483946111, 1014.6941909140862, 1014.7874743639331, 1014.8662725386256, 1014.8720008355975, 1014.1796222187508]\n",
      "v0: {'ROG_Last_Price': 0.09970996652584838, 'CFR_Last_Price': 0.041889948721470005, 'ZURN_Last_Price': 0.009254991845637973}\n",
      "v0: {'ROG_Last_Price': 0.09970996652584838, 'CFR_Last_Price': 0.041889948721470005, 'ZURN_Last_Price': 0.009254991845637973}\n"
     ]
    },
    {
     "name": "stderr",
     "output_type": "stream",
     "text": [
      " 68%|██████▊   | 44/65 [1:11:49<33:34, 95.91s/it]"
     ]
    },
    {
     "name": "stdout",
     "output_type": "stream",
     "text": [
      "[1029.7780738802442, 1030.326701234806, 1029.9563802801717, 1030.6080026617249, 1030.2050602911104, 1028.4892787501346, 1030.8301168985631, 1030.875400787605, 1030.9206866659474, 1030.0228254747387, 1028.1742217547671, 1030.7189288162415, 1028.793276785629, 1030.8275623476186, 1031.1924437161995, 1030.3413777094238, 1031.1207164202576, 1030.8185004730453, 1030.9357054257875, 1031.3765387903675, 1031.3838387830701, 1031.0359983692133, 1031.4378391435382, 1031.0243962602683, 1031.6455313355762, 1031.651494065958, 1031.73617274609, 1031.7416051934208, 1031.8268221204492, 1030.9784434868782, 1031.3026073791796, 1031.9628111157285, 1031.9791763144606, 1031.9710489681374, 1013.3972079055637, 1014.2138980435053, 1014.68796170279, 1014.6140483946111, 1014.6941909140862, 1014.7874743639331, 1014.8662725386256, 1014.8720008355975, 1014.1796222187508, 1014.9232914563898]\n",
      "v0: {'ROG_Last_Price': 0.07386358626036324, 'CFR_Last_Price': 0.023037676532449553, 'ZURN_Last_Price': 0.0035047424817225346}\n",
      "v0: {'ROG_Last_Price': 0.07386358626036324, 'CFR_Last_Price': 0.023037676532449553, 'ZURN_Last_Price': 0.0035047424817225346}\n"
     ]
    },
    {
     "name": "stderr",
     "output_type": "stream",
     "text": [
      " 69%|██████▉   | 45/65 [1:13:25<31:55, 95.78s/it]"
     ]
    },
    {
     "name": "stdout",
     "output_type": "stream",
     "text": [
      "[1029.7780738802442, 1030.326701234806, 1029.9563802801717, 1030.6080026617249, 1030.2050602911104, 1028.4892787501346, 1030.8301168985631, 1030.875400787605, 1030.9206866659474, 1030.0228254747387, 1028.1742217547671, 1030.7189288162415, 1028.793276785629, 1030.8275623476186, 1031.1924437161995, 1030.3413777094238, 1031.1207164202576, 1030.8185004730453, 1030.9357054257875, 1031.3765387903675, 1031.3838387830701, 1031.0359983692133, 1031.4378391435382, 1031.0243962602683, 1031.6455313355762, 1031.651494065958, 1031.73617274609, 1031.7416051934208, 1031.8268221204492, 1030.9784434868782, 1031.3026073791796, 1031.9628111157285, 1031.9791763144606, 1031.9710489681374, 1013.3972079055637, 1014.2138980435053, 1014.68796170279, 1014.6140483946111, 1014.6941909140862, 1014.7874743639331, 1014.8662725386256, 1014.8720008355975, 1014.1796222187508, 1014.9232914563898, 1015.0446147089749]\n",
      "v0: {'ROG_Last_Price': 0.003273050807043004, 'CFR_Last_Price': 0.08869549179190792, 'ZURN_Last_Price': 0.009604150449324979}\n",
      "v0: {'ROG_Last_Price': 0.003273050807043004, 'CFR_Last_Price': 0.08869549179190792, 'ZURN_Last_Price': 0.009604150449324979}\n"
     ]
    },
    {
     "name": "stderr",
     "output_type": "stream",
     "text": [
      " 71%|███████   | 46/65 [1:14:57<30:00, 94.77s/it]"
     ]
    },
    {
     "name": "stdout",
     "output_type": "stream",
     "text": [
      "[1029.7780738802442, 1030.326701234806, 1029.9563802801717, 1030.6080026617249, 1030.2050602911104, 1028.4892787501346, 1030.8301168985631, 1030.875400787605, 1030.9206866659474, 1030.0228254747387, 1028.1742217547671, 1030.7189288162415, 1028.793276785629, 1030.8275623476186, 1031.1924437161995, 1030.3413777094238, 1031.1207164202576, 1030.8185004730453, 1030.9357054257875, 1031.3765387903675, 1031.3838387830701, 1031.0359983692133, 1031.4378391435382, 1031.0243962602683, 1031.6455313355762, 1031.651494065958, 1031.73617274609, 1031.7416051934208, 1031.8268221204492, 1030.9784434868782, 1031.3026073791796, 1031.9628111157285, 1031.9791763144606, 1031.9710489681374, 1013.3972079055637, 1014.2138980435053, 1014.68796170279, 1014.6140483946111, 1014.6941909140862, 1014.7874743639331, 1014.8662725386256, 1014.8720008355975, 1014.1796222187508, 1014.9232914563898, 1015.0446147089749, 1015.0892051482257]\n",
      "v0: {'ROG_Last_Price': 0.0015683539872015323, 'CFR_Last_Price': 0.09982457394209157, 'ZURN_Last_Price': 0.006122096281767005}\n",
      "v0: {'ROG_Last_Price': 0.0015683539872015323, 'CFR_Last_Price': 0.09982457394209157, 'ZURN_Last_Price': 0.006122096281767005}\n"
     ]
    },
    {
     "name": "stderr",
     "output_type": "stream",
     "text": [
      " 72%|███████▏  | 47/65 [1:16:34<28:36, 95.34s/it]"
     ]
    },
    {
     "name": "stdout",
     "output_type": "stream",
     "text": [
      "[1029.7780738802442, 1030.326701234806, 1029.9563802801717, 1030.6080026617249, 1030.2050602911104, 1028.4892787501346, 1030.8301168985631, 1030.875400787605, 1030.9206866659474, 1030.0228254747387, 1028.1742217547671, 1030.7189288162415, 1028.793276785629, 1030.8275623476186, 1031.1924437161995, 1030.3413777094238, 1031.1207164202576, 1030.8185004730453, 1030.9357054257875, 1031.3765387903675, 1031.3838387830701, 1031.0359983692133, 1031.4378391435382, 1031.0243962602683, 1031.6455313355762, 1031.651494065958, 1031.73617274609, 1031.7416051934208, 1031.8268221204492, 1030.9784434868782, 1031.3026073791796, 1031.9628111157285, 1031.9791763144606, 1031.9710489681374, 1013.3972079055637, 1014.2138980435053, 1014.68796170279, 1014.6140483946111, 1014.6941909140862, 1014.7874743639331, 1014.8662725386256, 1014.8720008355975, 1014.1796222187508, 1014.9232914563898, 1015.0446147089749, 1015.0892051482257, 1015.1337975463126]\n",
      "v0: {'ROG_Last_Price': 0.035518705031518064, 'CFR_Last_Price': 0.009650268609073556, 'ZURN_Last_Price': 0.0010472188362419946}\n",
      "v0: {'ROG_Last_Price': 0.035518705031518064, 'CFR_Last_Price': 0.009650268609073556, 'ZURN_Last_Price': 0.0010472188362419946}\n"
     ]
    },
    {
     "name": "stderr",
     "output_type": "stream",
     "text": [
      " 74%|███████▍  | 48/65 [1:18:09<26:59, 95.28s/it]"
     ]
    },
    {
     "name": "stdout",
     "output_type": "stream",
     "text": [
      "[1029.7780738802442, 1030.326701234806, 1029.9563802801717, 1030.6080026617249, 1030.2050602911104, 1028.4892787501346, 1030.8301168985631, 1030.875400787605, 1030.9206866659474, 1030.0228254747387, 1028.1742217547671, 1030.7189288162415, 1028.793276785629, 1030.8275623476186, 1031.1924437161995, 1030.3413777094238, 1031.1207164202576, 1030.8185004730453, 1030.9357054257875, 1031.3765387903675, 1031.3838387830701, 1031.0359983692133, 1031.4378391435382, 1031.0243962602683, 1031.6455313355762, 1031.651494065958, 1031.73617274609, 1031.7416051934208, 1031.8268221204492, 1030.9784434868782, 1031.3026073791796, 1031.9628111157285, 1031.9791763144606, 1031.9710489681374, 1013.3972079055637, 1014.2138980435053, 1014.68796170279, 1014.6140483946111, 1014.6941909140862, 1014.7874743639331, 1014.8662725386256, 1014.8720008355975, 1014.1796222187508, 1014.9232914563898, 1015.0446147089749, 1015.0892051482257, 1015.1337975463126, 1015.178391903324]\n",
      "v0: {'ROG_Last_Price': 0.07882570717385759, 'CFR_Last_Price': 0.04017079467169087, 'ZURN_Last_Price': 0.09128346147255112}\n",
      "v0: {'ROG_Last_Price': 0.07882570717385759, 'CFR_Last_Price': 0.04017079467169087, 'ZURN_Last_Price': 0.09128346147255112}\n"
     ]
    },
    {
     "name": "stderr",
     "output_type": "stream",
     "text": [
      " 75%|███████▌  | 49/65 [1:19:44<25:24, 95.26s/it]"
     ]
    },
    {
     "name": "stdout",
     "output_type": "stream",
     "text": [
      "[1029.7780738802442, 1030.326701234806, 1029.9563802801717, 1030.6080026617249, 1030.2050602911104, 1028.4892787501346, 1030.8301168985631, 1030.875400787605, 1030.9206866659474, 1030.0228254747387, 1028.1742217547671, 1030.7189288162415, 1028.793276785629, 1030.8275623476186, 1031.1924437161995, 1030.3413777094238, 1031.1207164202576, 1030.8185004730453, 1030.9357054257875, 1031.3765387903675, 1031.3838387830701, 1031.0359983692133, 1031.4378391435382, 1031.0243962602683, 1031.6455313355762, 1031.651494065958, 1031.73617274609, 1031.7416051934208, 1031.8268221204492, 1030.9784434868782, 1031.3026073791796, 1031.9628111157285, 1031.9791763144606, 1031.9710489681374, 1013.3972079055637, 1014.2138980435053, 1014.68796170279, 1014.6140483946111, 1014.6941909140862, 1014.7874743639331, 1014.8662725386256, 1014.8720008355975, 1014.1796222187508, 1014.9232914563898, 1015.0446147089749, 1015.0892051482257, 1015.1337975463126, 1015.178391903324, 1015.2229882193442]\n",
      "v0: {'ROG_Last_Price': 0.09963155310566904, 'CFR_Last_Price': 0.007565943463533509, 'ZURN_Last_Price': 0.024072007645437085}\n",
      "v0: {'ROG_Last_Price': 0.09963155310566904, 'CFR_Last_Price': 0.007565943463533509, 'ZURN_Last_Price': 0.024072007645437085}\n"
     ]
    },
    {
     "name": "stderr",
     "output_type": "stream",
     "text": [
      " 77%|███████▋  | 50/65 [1:21:17<23:36, 94.43s/it]"
     ]
    },
    {
     "name": "stdout",
     "output_type": "stream",
     "text": [
      "[1029.7780738802442, 1030.326701234806, 1029.9563802801717, 1030.6080026617249, 1030.2050602911104, 1028.4892787501346, 1030.8301168985631, 1030.875400787605, 1030.9206866659474, 1030.0228254747387, 1028.1742217547671, 1030.7189288162415, 1028.793276785629, 1030.8275623476186, 1031.1924437161995, 1030.3413777094238, 1031.1207164202576, 1030.8185004730453, 1030.9357054257875, 1031.3765387903675, 1031.3838387830701, 1031.0359983692133, 1031.4378391435382, 1031.0243962602683, 1031.6455313355762, 1031.651494065958, 1031.73617274609, 1031.7416051934208, 1031.8268221204492, 1030.9784434868782, 1031.3026073791796, 1031.9628111157285, 1031.9791763144606, 1031.9710489681374, 1013.3972079055637, 1014.2138980435053, 1014.68796170279, 1014.6140483946111, 1014.6941909140862, 1014.7874743639331, 1014.8662725386256, 1014.8720008355975, 1014.1796222187508, 1014.9232914563898, 1015.0446147089749, 1015.0892051482257, 1015.1337975463126, 1015.178391903324, 1015.2229882193442, 1015.2265966758788]\n",
      "v0: {'ROG_Last_Price': 0.0011831908707496854, 'CFR_Last_Price': 0.09991577948803591, 'ZURN_Last_Price': 0.012964488630586302}\n",
      "v0: {'ROG_Last_Price': 0.0011831908707496854, 'CFR_Last_Price': 0.09991577948803591, 'ZURN_Last_Price': 0.012964488630586302}\n"
     ]
    },
    {
     "name": "stderr",
     "output_type": "stream",
     "text": [
      " 78%|███████▊  | 51/65 [1:22:52<22:06, 94.78s/it]"
     ]
    },
    {
     "name": "stdout",
     "output_type": "stream",
     "text": [
      "[1029.7780738802442, 1030.326701234806, 1029.9563802801717, 1030.6080026617249, 1030.2050602911104, 1028.4892787501346, 1030.8301168985631, 1030.875400787605, 1030.9206866659474, 1030.0228254747387, 1028.1742217547671, 1030.7189288162415, 1028.793276785629, 1030.8275623476186, 1031.1924437161995, 1030.3413777094238, 1031.1207164202576, 1030.8185004730453, 1030.9357054257875, 1031.3765387903675, 1031.3838387830701, 1031.0359983692133, 1031.4378391435382, 1031.0243962602683, 1031.6455313355762, 1031.651494065958, 1031.73617274609, 1031.7416051934208, 1031.8268221204492, 1030.9784434868782, 1031.3026073791796, 1031.9628111157285, 1031.9791763144606, 1031.9710489681374, 1013.3972079055637, 1014.2138980435053, 1014.68796170279, 1014.6140483946111, 1014.6941909140862, 1014.7874743639331, 1014.8662725386256, 1014.8720008355975, 1014.1796222187508, 1014.9232914563898, 1015.0446147089749, 1015.0892051482257, 1015.1337975463126, 1015.178391903324, 1015.2229882193442, 1015.2265966758788, 1015.2707752580092]\n",
      "v0: {'ROG_Last_Price': 0.03350992029368533, 'CFR_Last_Price': 0.001359315768724382, 'ZURN_Last_Price': 0.035616612780691684}\n",
      "v0: {'ROG_Last_Price': 0.03350992029368533, 'CFR_Last_Price': 0.001359315768724382, 'ZURN_Last_Price': 0.035616612780691684}\n"
     ]
    },
    {
     "name": "stderr",
     "output_type": "stream",
     "text": [
      " 80%|████████  | 52/65 [1:24:30<20:43, 95.63s/it]"
     ]
    },
    {
     "name": "stdout",
     "output_type": "stream",
     "text": [
      "[1029.7780738802442, 1030.326701234806, 1029.9563802801717, 1030.6080026617249, 1030.2050602911104, 1028.4892787501346, 1030.8301168985631, 1030.875400787605, 1030.9206866659474, 1030.0228254747387, 1028.1742217547671, 1030.7189288162415, 1028.793276785629, 1030.8275623476186, 1031.1924437161995, 1030.3413777094238, 1031.1207164202576, 1030.8185004730453, 1030.9357054257875, 1031.3765387903675, 1031.3838387830701, 1031.0359983692133, 1031.4378391435382, 1031.0243962602683, 1031.6455313355762, 1031.651494065958, 1031.73617274609, 1031.7416051934208, 1031.8268221204492, 1030.9784434868782, 1031.3026073791796, 1031.9628111157285, 1031.9791763144606, 1031.9710489681374, 1013.3972079055637, 1014.2138980435053, 1014.68796170279, 1014.6140483946111, 1014.6941909140862, 1014.7874743639331, 1014.8662725386256, 1014.8720008355975, 1014.1796222187508, 1014.9232914563898, 1015.0446147089749, 1015.0892051482257, 1015.1337975463126, 1015.178391903324, 1015.2229882193442, 1015.2265966758788, 1015.2707752580092, 1015.3567889223231]\n",
      "v0: {'ROG_Last_Price': 0.01566545747333067, 'CFR_Last_Price': 0.09989045696904635, 'ZURN_Last_Price': 0.0017297391413905704}\n",
      "v0: {'ROG_Last_Price': 0.01566545747333067, 'CFR_Last_Price': 0.09989045696904635, 'ZURN_Last_Price': 0.0017297391413905704}\n"
     ]
    },
    {
     "name": "stderr",
     "output_type": "stream",
     "text": [
      " 82%|████████▏ | 53/65 [1:26:07<19:14, 96.17s/it]"
     ]
    },
    {
     "name": "stdout",
     "output_type": "stream",
     "text": [
      "[1029.7780738802442, 1030.326701234806, 1029.9563802801717, 1030.6080026617249, 1030.2050602911104, 1028.4892787501346, 1030.8301168985631, 1030.875400787605, 1030.9206866659474, 1030.0228254747387, 1028.1742217547671, 1030.7189288162415, 1028.793276785629, 1030.8275623476186, 1031.1924437161995, 1030.3413777094238, 1031.1207164202576, 1030.8185004730453, 1030.9357054257875, 1031.3765387903675, 1031.3838387830701, 1031.0359983692133, 1031.4378391435382, 1031.0243962602683, 1031.6455313355762, 1031.651494065958, 1031.73617274609, 1031.7416051934208, 1031.8268221204492, 1030.9784434868782, 1031.3026073791796, 1031.9628111157285, 1031.9791763144606, 1031.9710489681374, 1013.3972079055637, 1014.2138980435053, 1014.68796170279, 1014.6140483946111, 1014.6941909140862, 1014.7874743639331, 1014.8662725386256, 1014.8720008355975, 1014.1796222187508, 1014.9232914563898, 1015.0446147089749, 1015.0892051482257, 1015.1337975463126, 1015.178391903324, 1015.2229882193442, 1015.2265966758788, 1015.2707752580092, 1015.3567889223231, 1015.4013930752425]\n",
      "v0: {'ROG_Last_Price': 0.0852270880122661, 'CFR_Last_Price': 0.002778875226475414, 'ZURN_Last_Price': 0.06231116354399279}\n",
      "v0: {'ROG_Last_Price': 0.0852270880122661, 'CFR_Last_Price': 0.002778875226475414, 'ZURN_Last_Price': 0.06231116354399279}\n"
     ]
    },
    {
     "name": "stderr",
     "output_type": "stream",
     "text": [
      " 83%|████████▎ | 54/65 [1:27:44<17:38, 96.27s/it]"
     ]
    },
    {
     "name": "stdout",
     "output_type": "stream",
     "text": [
      "[1029.7780738802442, 1030.326701234806, 1029.9563802801717, 1030.6080026617249, 1030.2050602911104, 1028.4892787501346, 1030.8301168985631, 1030.875400787605, 1030.9206866659474, 1030.0228254747387, 1028.1742217547671, 1030.7189288162415, 1028.793276785629, 1030.8275623476186, 1031.1924437161995, 1030.3413777094238, 1031.1207164202576, 1030.8185004730453, 1030.9357054257875, 1031.3765387903675, 1031.3838387830701, 1031.0359983692133, 1031.4378391435382, 1031.0243962602683, 1031.6455313355762, 1031.651494065958, 1031.73617274609, 1031.7416051934208, 1031.8268221204492, 1030.9784434868782, 1031.3026073791796, 1031.9628111157285, 1031.9791763144606, 1031.9710489681374, 1013.3972079055637, 1014.2138980435053, 1014.68796170279, 1014.6140483946111, 1014.6941909140862, 1014.7874743639331, 1014.8662725386256, 1014.8720008355975, 1014.1796222187508, 1014.9232914563898, 1015.0446147089749, 1015.0892051482257, 1015.1337975463126, 1015.178391903324, 1015.2229882193442, 1015.2265966758788, 1015.2707752580092, 1015.3567889223231, 1015.4013930752425, 1015.4459991876009]\n",
      "v0: {'ROG_Last_Price': 0.02571021438435777, 'CFR_Last_Price': 0.06975806059247666, 'ZURN_Last_Price': 0.022086819219257123}\n",
      "v0: {'ROG_Last_Price': 0.02571021438435777, 'CFR_Last_Price': 0.06975806059247666, 'ZURN_Last_Price': 0.022086819219257123}\n"
     ]
    },
    {
     "name": "stderr",
     "output_type": "stream",
     "text": [
      " 85%|████████▍ | 55/65 [1:29:19<15:58, 95.85s/it]"
     ]
    },
    {
     "name": "stdout",
     "output_type": "stream",
     "text": [
      "[1029.7780738802442, 1030.326701234806, 1029.9563802801717, 1030.6080026617249, 1030.2050602911104, 1028.4892787501346, 1030.8301168985631, 1030.875400787605, 1030.9206866659474, 1030.0228254747387, 1028.1742217547671, 1030.7189288162415, 1028.793276785629, 1030.8275623476186, 1031.1924437161995, 1030.3413777094238, 1031.1207164202576, 1030.8185004730453, 1030.9357054257875, 1031.3765387903675, 1031.3838387830701, 1031.0359983692133, 1031.4378391435382, 1031.0243962602683, 1031.6455313355762, 1031.651494065958, 1031.73617274609, 1031.7416051934208, 1031.8268221204492, 1030.9784434868782, 1031.3026073791796, 1031.9628111157285, 1031.9791763144606, 1031.9710489681374, 1013.3972079055637, 1014.2138980435053, 1014.68796170279, 1014.6140483946111, 1014.6941909140862, 1014.7874743639331, 1014.8662725386256, 1014.8720008355975, 1014.1796222187508, 1014.9232914563898, 1015.0446147089749, 1015.0892051482257, 1015.1337975463126, 1015.178391903324, 1015.2229882193442, 1015.2265966758788, 1015.2707752580092, 1015.3567889223231, 1015.4013930752425, 1015.4459991876009, 1015.4906072594853]\n",
      "v0: {'ROG_Last_Price': 0.06338899298940626, 'CFR_Last_Price': 0.0903404111544744, 'ZURN_Last_Price': 0.09858246470958945}\n",
      "v0: {'ROG_Last_Price': 0.06338899298940626, 'CFR_Last_Price': 0.0903404111544744, 'ZURN_Last_Price': 0.09858246470958945}\n"
     ]
    },
    {
     "name": "stderr",
     "output_type": "stream",
     "text": [
      " 86%|████████▌ | 56/65 [1:30:53<14:18, 95.36s/it]"
     ]
    },
    {
     "name": "stdout",
     "output_type": "stream",
     "text": [
      "[1029.7780738802442, 1030.326701234806, 1029.9563802801717, 1030.6080026617249, 1030.2050602911104, 1028.4892787501346, 1030.8301168985631, 1030.875400787605, 1030.9206866659474, 1030.0228254747387, 1028.1742217547671, 1030.7189288162415, 1028.793276785629, 1030.8275623476186, 1031.1924437161995, 1030.3413777094238, 1031.1207164202576, 1030.8185004730453, 1030.9357054257875, 1031.3765387903675, 1031.3838387830701, 1031.0359983692133, 1031.4378391435382, 1031.0243962602683, 1031.6455313355762, 1031.651494065958, 1031.73617274609, 1031.7416051934208, 1031.8268221204492, 1030.9784434868782, 1031.3026073791796, 1031.9628111157285, 1031.9791763144606, 1031.9710489681374, 1013.3972079055637, 1014.2138980435053, 1014.68796170279, 1014.6140483946111, 1014.6941909140862, 1014.7874743639331, 1014.8662725386256, 1014.8720008355975, 1014.1796222187508, 1014.9232914563898, 1015.0446147089749, 1015.0892051482257, 1015.1337975463126, 1015.178391903324, 1015.2229882193442, 1015.2265966758788, 1015.2707752580092, 1015.3567889223231, 1015.4013930752425, 1015.4459991876009, 1015.4906072594853, 1015.5352172909811]\n",
      "v0: {'ROG_Last_Price': 0.09964456508138345, 'CFR_Last_Price': 0.07878730696008211, 'ZURN_Last_Price': 0.01046889404478938}\n",
      "v0: {'ROG_Last_Price': 0.09964456508138345, 'CFR_Last_Price': 0.07878730696008211, 'ZURN_Last_Price': 0.01046889404478938}\n"
     ]
    },
    {
     "name": "stderr",
     "output_type": "stream",
     "text": [
      " 88%|████████▊ | 57/65 [1:32:30<12:46, 95.78s/it]"
     ]
    },
    {
     "name": "stdout",
     "output_type": "stream",
     "text": [
      "[1029.7780738802442, 1030.326701234806, 1029.9563802801717, 1030.6080026617249, 1030.2050602911104, 1028.4892787501346, 1030.8301168985631, 1030.875400787605, 1030.9206866659474, 1030.0228254747387, 1028.1742217547671, 1030.7189288162415, 1028.793276785629, 1030.8275623476186, 1031.1924437161995, 1030.3413777094238, 1031.1207164202576, 1030.8185004730453, 1030.9357054257875, 1031.3765387903675, 1031.3838387830701, 1031.0359983692133, 1031.4378391435382, 1031.0243962602683, 1031.6455313355762, 1031.651494065958, 1031.73617274609, 1031.7416051934208, 1031.8268221204492, 1030.9784434868782, 1031.3026073791796, 1031.9628111157285, 1031.9791763144606, 1031.9710489681374, 1013.3972079055637, 1014.2138980435053, 1014.68796170279, 1014.6140483946111, 1014.6941909140862, 1014.7874743639331, 1014.8662725386256, 1014.8720008355975, 1014.1796222187508, 1014.9232914563898, 1015.0446147089749, 1015.0892051482257, 1015.1337975463126, 1015.178391903324, 1015.2229882193442, 1015.2265966758788, 1015.2707752580092, 1015.3567889223231, 1015.4013930752425, 1015.4459991876009, 1015.4906072594853, 1015.5352172909811, 1015.5798292821761]\n",
      "v0: {'ROG_Last_Price': 0.03986582255406808, 'CFR_Last_Price': 0.07068486734339675, 'ZURN_Last_Price': 0.064527935170808}\n",
      "v0: {'ROG_Last_Price': 0.03986582255406808, 'CFR_Last_Price': 0.07068486734339675, 'ZURN_Last_Price': 0.064527935170808}\n"
     ]
    },
    {
     "name": "stderr",
     "output_type": "stream",
     "text": [
      " 89%|████████▉ | 58/65 [1:34:06<11:12, 96.06s/it]"
     ]
    },
    {
     "name": "stdout",
     "output_type": "stream",
     "text": [
      "[1029.7780738802442, 1030.326701234806, 1029.9563802801717, 1030.6080026617249, 1030.2050602911104, 1028.4892787501346, 1030.8301168985631, 1030.875400787605, 1030.9206866659474, 1030.0228254747387, 1028.1742217547671, 1030.7189288162415, 1028.793276785629, 1030.8275623476186, 1031.1924437161995, 1030.3413777094238, 1031.1207164202576, 1030.8185004730453, 1030.9357054257875, 1031.3765387903675, 1031.3838387830701, 1031.0359983692133, 1031.4378391435382, 1031.0243962602683, 1031.6455313355762, 1031.651494065958, 1031.73617274609, 1031.7416051934208, 1031.8268221204492, 1030.9784434868782, 1031.3026073791796, 1031.9628111157285, 1031.9791763144606, 1031.9710489681374, 1013.3972079055637, 1014.2138980435053, 1014.68796170279, 1014.6140483946111, 1014.6941909140862, 1014.7874743639331, 1014.8662725386256, 1014.8720008355975, 1014.1796222187508, 1014.9232914563898, 1015.0446147089749, 1015.0892051482257, 1015.1337975463126, 1015.178391903324, 1015.2229882193442, 1015.2265966758788, 1015.2707752580092, 1015.3567889223231, 1015.4013930752425, 1015.4459991876009, 1015.4906072594853, 1015.5352172909811, 1015.5798292821761, 1015.6244432331546]\n",
      "v0: {'ROG_Last_Price': 0.06544816971934403, 'CFR_Last_Price': 0.019418837062678777, 'ZURN_Last_Price': 0.09404560511043081}\n",
      "v0: {'ROG_Last_Price': 0.06544816971934403, 'CFR_Last_Price': 0.019418837062678777, 'ZURN_Last_Price': 0.09404560511043081}\n"
     ]
    },
    {
     "name": "stderr",
     "output_type": "stream",
     "text": [
      " 91%|█████████ | 59/65 [1:35:43<09:36, 96.14s/it]"
     ]
    },
    {
     "name": "stdout",
     "output_type": "stream",
     "text": [
      "[1029.7780738802442, 1030.326701234806, 1029.9563802801717, 1030.6080026617249, 1030.2050602911104, 1028.4892787501346, 1030.8301168985631, 1030.875400787605, 1030.9206866659474, 1030.0228254747387, 1028.1742217547671, 1030.7189288162415, 1028.793276785629, 1030.8275623476186, 1031.1924437161995, 1030.3413777094238, 1031.1207164202576, 1030.8185004730453, 1030.9357054257875, 1031.3765387903675, 1031.3838387830701, 1031.0359983692133, 1031.4378391435382, 1031.0243962602683, 1031.6455313355762, 1031.651494065958, 1031.73617274609, 1031.7416051934208, 1031.8268221204492, 1030.9784434868782, 1031.3026073791796, 1031.9628111157285, 1031.9791763144606, 1031.9710489681374, 1013.3972079055637, 1014.2138980435053, 1014.68796170279, 1014.6140483946111, 1014.6941909140862, 1014.7874743639331, 1014.8662725386256, 1014.8720008355975, 1014.1796222187508, 1014.9232914563898, 1015.0446147089749, 1015.0892051482257, 1015.1337975463126, 1015.178391903324, 1015.2229882193442, 1015.2265966758788, 1015.2707752580092, 1015.3567889223231, 1015.4013930752425, 1015.4459991876009, 1015.4906072594853, 1015.5352172909811, 1015.5798292821761, 1015.6244432331546, 1015.6690591440033]\n",
      "v0: {'ROG_Last_Price': 0.0823691702542383, 'CFR_Last_Price': 0.013687097535840489, 'ZURN_Last_Price': 0.0031194637087415436}\n",
      "v0: {'ROG_Last_Price': 0.0823691702542383, 'CFR_Last_Price': 0.013687097535840489, 'ZURN_Last_Price': 0.0031194637087415436}\n"
     ]
    },
    {
     "name": "stderr",
     "output_type": "stream",
     "text": [
      " 92%|█████████▏| 60/65 [1:37:18<08:00, 96.01s/it]"
     ]
    },
    {
     "name": "stdout",
     "output_type": "stream",
     "text": [
      "[1029.7780738802442, 1030.326701234806, 1029.9563802801717, 1030.6080026617249, 1030.2050602911104, 1028.4892787501346, 1030.8301168985631, 1030.875400787605, 1030.9206866659474, 1030.0228254747387, 1028.1742217547671, 1030.7189288162415, 1028.793276785629, 1030.8275623476186, 1031.1924437161995, 1030.3413777094238, 1031.1207164202576, 1030.8185004730453, 1030.9357054257875, 1031.3765387903675, 1031.3838387830701, 1031.0359983692133, 1031.4378391435382, 1031.0243962602683, 1031.6455313355762, 1031.651494065958, 1031.73617274609, 1031.7416051934208, 1031.8268221204492, 1030.9784434868782, 1031.3026073791796, 1031.9628111157285, 1031.9791763144606, 1031.9710489681374, 1013.3972079055637, 1014.2138980435053, 1014.68796170279, 1014.6140483946111, 1014.6941909140862, 1014.7874743639331, 1014.8662725386256, 1014.8720008355975, 1014.1796222187508, 1014.9232914563898, 1015.0446147089749, 1015.0892051482257, 1015.1337975463126, 1015.178391903324, 1015.2229882193442, 1015.2265966758788, 1015.2707752580092, 1015.3567889223231, 1015.4013930752425, 1015.4459991876009, 1015.4906072594853, 1015.5352172909811, 1015.5798292821761, 1015.6244432331546, 1015.6690591440033, 1015.713677014808]\n",
      "v0: {'ROG_Last_Price': 0.0066616419115665335, 'CFR_Last_Price': 0.09999924181313506, 'ZURN_Last_Price': 0.09918259246971342}\n",
      "v0: {'ROG_Last_Price': 0.0066616419115665335, 'CFR_Last_Price': 0.09999924181313506, 'ZURN_Last_Price': 0.09918259246971342}\n"
     ]
    },
    {
     "name": "stderr",
     "output_type": "stream",
     "text": [
      " 94%|█████████▍| 61/65 [1:38:50<06:19, 94.77s/it]"
     ]
    },
    {
     "name": "stdout",
     "output_type": "stream",
     "text": [
      "[1029.7780738802442, 1030.326701234806, 1029.9563802801717, 1030.6080026617249, 1030.2050602911104, 1028.4892787501346, 1030.8301168985631, 1030.875400787605, 1030.9206866659474, 1030.0228254747387, 1028.1742217547671, 1030.7189288162415, 1028.793276785629, 1030.8275623476186, 1031.1924437161995, 1030.3413777094238, 1031.1207164202576, 1030.8185004730453, 1030.9357054257875, 1031.3765387903675, 1031.3838387830701, 1031.0359983692133, 1031.4378391435382, 1031.0243962602683, 1031.6455313355762, 1031.651494065958, 1031.73617274609, 1031.7416051934208, 1031.8268221204492, 1030.9784434868782, 1031.3026073791796, 1031.9628111157285, 1031.9791763144606, 1031.9710489681374, 1013.3972079055637, 1014.2138980435053, 1014.68796170279, 1014.6140483946111, 1014.6941909140862, 1014.7874743639331, 1014.8662725386256, 1014.8720008355975, 1014.1796222187508, 1014.9232914563898, 1015.0446147089749, 1015.0892051482257, 1015.1337975463126, 1015.178391903324, 1015.2229882193442, 1015.2265966758788, 1015.2707752580092, 1015.3567889223231, 1015.4013930752425, 1015.4459991876009, 1015.4906072594853, 1015.5352172909811, 1015.5798292821761, 1015.6244432331546, 1015.6690591440033, 1015.713677014808, 1015.7582968456553]\n",
      "v0: {'ROG_Last_Price': 0.0981583461818507, 'CFR_Last_Price': 0.07265964937626689, 'ZURN_Last_Price': 0.054760858794995905}\n",
      "v0: {'ROG_Last_Price': 0.0981583461818507, 'CFR_Last_Price': 0.07265964937626689, 'ZURN_Last_Price': 0.054760858794995905}\n"
     ]
    },
    {
     "name": "stderr",
     "output_type": "stream",
     "text": [
      " 95%|█████████▌| 62/65 [1:40:25<04:43, 94.63s/it]"
     ]
    },
    {
     "name": "stdout",
     "output_type": "stream",
     "text": [
      "[1029.7780738802442, 1030.326701234806, 1029.9563802801717, 1030.6080026617249, 1030.2050602911104, 1028.4892787501346, 1030.8301168985631, 1030.875400787605, 1030.9206866659474, 1030.0228254747387, 1028.1742217547671, 1030.7189288162415, 1028.793276785629, 1030.8275623476186, 1031.1924437161995, 1030.3413777094238, 1031.1207164202576, 1030.8185004730453, 1030.9357054257875, 1031.3765387903675, 1031.3838387830701, 1031.0359983692133, 1031.4378391435382, 1031.0243962602683, 1031.6455313355762, 1031.651494065958, 1031.73617274609, 1031.7416051934208, 1031.8268221204492, 1030.9784434868782, 1031.3026073791796, 1031.9628111157285, 1031.9791763144606, 1031.9710489681374, 1013.3972079055637, 1014.2138980435053, 1014.68796170279, 1014.6140483946111, 1014.6941909140862, 1014.7874743639331, 1014.8662725386256, 1014.8720008355975, 1014.1796222187508, 1014.9232914563898, 1015.0446147089749, 1015.0892051482257, 1015.1337975463126, 1015.178391903324, 1015.2229882193442, 1015.2265966758788, 1015.2707752580092, 1015.3567889223231, 1015.4013930752425, 1015.4459991876009, 1015.4906072594853, 1015.5352172909811, 1015.5798292821761, 1015.6244432331546, 1015.6690591440033, 1015.713677014808, 1015.7582968456553, 1015.802918636631]\n",
      "v0: {'ROG_Last_Price': 0.03895525609203324, 'CFR_Last_Price': 0.00552551036808543, 'ZURN_Last_Price': 0.034963978723148596}\n",
      "v0: {'ROG_Last_Price': 0.03895525609203324, 'CFR_Last_Price': 0.00552551036808543, 'ZURN_Last_Price': 0.034963978723148596}\n"
     ]
    },
    {
     "name": "stderr",
     "output_type": "stream",
     "text": [
      " 97%|█████████▋| 63/65 [1:42:00<03:09, 94.88s/it]"
     ]
    },
    {
     "name": "stdout",
     "output_type": "stream",
     "text": [
      "[1029.7780738802442, 1030.326701234806, 1029.9563802801717, 1030.6080026617249, 1030.2050602911104, 1028.4892787501346, 1030.8301168985631, 1030.875400787605, 1030.9206866659474, 1030.0228254747387, 1028.1742217547671, 1030.7189288162415, 1028.793276785629, 1030.8275623476186, 1031.1924437161995, 1030.3413777094238, 1031.1207164202576, 1030.8185004730453, 1030.9357054257875, 1031.3765387903675, 1031.3838387830701, 1031.0359983692133, 1031.4378391435382, 1031.0243962602683, 1031.6455313355762, 1031.651494065958, 1031.73617274609, 1031.7416051934208, 1031.8268221204492, 1030.9784434868782, 1031.3026073791796, 1031.9628111157285, 1031.9791763144606, 1031.9710489681374, 1013.3972079055637, 1014.2138980435053, 1014.68796170279, 1014.6140483946111, 1014.6941909140862, 1014.7874743639331, 1014.8662725386256, 1014.8720008355975, 1014.1796222187508, 1014.9232914563898, 1015.0446147089749, 1015.0892051482257, 1015.1337975463126, 1015.178391903324, 1015.2229882193442, 1015.2265966758788, 1015.2707752580092, 1015.3567889223231, 1015.4013930752425, 1015.4459991876009, 1015.4906072594853, 1015.5352172909811, 1015.5798292821761, 1015.6244432331546, 1015.6690591440033, 1015.713677014808, 1015.7582968456553, 1015.802918636631, 1015.847542387821]\n",
      "v0: {'ROG_Last_Price': 0.09883645787476528, 'CFR_Last_Price': 0.01235194362426351, 'ZURN_Last_Price': 0.09024317510934318}\n",
      "v0: {'ROG_Last_Price': 0.09883645787476528, 'CFR_Last_Price': 0.01235194362426351, 'ZURN_Last_Price': 0.09024317510934318}\n"
     ]
    },
    {
     "name": "stderr",
     "output_type": "stream",
     "text": [
      " 98%|█████████▊| 64/65 [1:43:34<01:34, 94.54s/it]"
     ]
    },
    {
     "name": "stdout",
     "output_type": "stream",
     "text": [
      "[1029.7780738802442, 1030.326701234806, 1029.9563802801717, 1030.6080026617249, 1030.2050602911104, 1028.4892787501346, 1030.8301168985631, 1030.875400787605, 1030.9206866659474, 1030.0228254747387, 1028.1742217547671, 1030.7189288162415, 1028.793276785629, 1030.8275623476186, 1031.1924437161995, 1030.3413777094238, 1031.1207164202576, 1030.8185004730453, 1030.9357054257875, 1031.3765387903675, 1031.3838387830701, 1031.0359983692133, 1031.4378391435382, 1031.0243962602683, 1031.6455313355762, 1031.651494065958, 1031.73617274609, 1031.7416051934208, 1031.8268221204492, 1030.9784434868782, 1031.3026073791796, 1031.9628111157285, 1031.9791763144606, 1031.9710489681374, 1013.3972079055637, 1014.2138980435053, 1014.68796170279, 1014.6140483946111, 1014.6941909140862, 1014.7874743639331, 1014.8662725386256, 1014.8720008355975, 1014.1796222187508, 1014.9232914563898, 1015.0446147089749, 1015.0892051482257, 1015.1337975463126, 1015.178391903324, 1015.2229882193442, 1015.2265966758788, 1015.2707752580092, 1015.3567889223231, 1015.4013930752425, 1015.4459991876009, 1015.4906072594853, 1015.5352172909811, 1015.5798292821761, 1015.6244432331546, 1015.6690591440033, 1015.713677014808, 1015.7582968456553, 1015.802918636631, 1015.847542387821, 1015.8921680993118]\n",
      "v0: {'ROG_Last_Price': 0.09859968176333812, 'CFR_Last_Price': 0.01890315815054362, 'ZURN_Last_Price': 0.05933989992475519}\n",
      "v0: {'ROG_Last_Price': 0.09859968176333812, 'CFR_Last_Price': 0.01890315815054362, 'ZURN_Last_Price': 0.05933989992475519}\n"
     ]
    },
    {
     "name": "stderr",
     "output_type": "stream",
     "text": [
      "100%|██████████| 65/65 [1:45:07<00:00, 97.04s/it]"
     ]
    },
    {
     "name": "stdout",
     "output_type": "stream",
     "text": [
      "[1029.7780738802442, 1030.326701234806, 1029.9563802801717, 1030.6080026617249, 1030.2050602911104, 1028.4892787501346, 1030.8301168985631, 1030.875400787605, 1030.9206866659474, 1030.0228254747387, 1028.1742217547671, 1030.7189288162415, 1028.793276785629, 1030.8275623476186, 1031.1924437161995, 1030.3413777094238, 1031.1207164202576, 1030.8185004730453, 1030.9357054257875, 1031.3765387903675, 1031.3838387830701, 1031.0359983692133, 1031.4378391435382, 1031.0243962602683, 1031.6455313355762, 1031.651494065958, 1031.73617274609, 1031.7416051934208, 1031.8268221204492, 1030.9784434868782, 1031.3026073791796, 1031.9628111157285, 1031.9791763144606, 1031.9710489681374, 1013.3972079055637, 1014.2138980435053, 1014.68796170279, 1014.6140483946111, 1014.6941909140862, 1014.7874743639331, 1014.8662725386256, 1014.8720008355975, 1014.1796222187508, 1014.9232914563898, 1015.0446147089749, 1015.0892051482257, 1015.1337975463126, 1015.178391903324, 1015.2229882193442, 1015.2265966758788, 1015.2707752580092, 1015.3567889223231, 1015.4013930752425, 1015.4459991876009, 1015.4906072594853, 1015.5352172909811, 1015.5798292821761, 1015.6244432331546, 1015.6690591440033, 1015.713677014808, 1015.7582968456553, 1015.802918636631, 1015.847542387821, 1015.8921680993118, 1015.9367957711896]\n"
     ]
    },
    {
     "name": "stderr",
     "output_type": "stream",
     "text": [
      "\n"
     ]
    }
   ],
   "source": [
    "# Initialize backtest parameters\n",
    "last_id = 287\n",
    "backtest_start = 187\n",
    "backtest_end = 252\n",
    "\n",
    "# Run backtest\n",
    "prices, prices_var = run_heston_backtest(\n",
    "    combined_df,\n",
    "    backtest_start,\n",
    "    backtest_end,\n",
    "    last_id\n",
    ")\n"
   ]
  },
  {
   "cell_type": "code",
   "execution_count": null,
   "metadata": {},
   "outputs": [
    {
     "name": "stderr",
     "output_type": "stream",
     "text": [
      "/home/bach/mh4518_simulation_in_fin/notebooks/../utils/utils.py:241: UserWarning: Could not infer format, so each element will be parsed individually, falling back to `dateutil`. To ensure parsing is consistent and as-expected, please specify a format.\n",
      "  real_price['Date'] = pd.to_datetime(real_price['Date'], dayfirst=True)\n"
     ]
    },
    {
     "name": "stdout",
     "output_type": "stream",
     "text": [
      "1642.0183108048454\n"
     ]
    },
    {
     "data": {
      "image/png": "[encoded data removed]",
      "text/plain": [
       "<Figure size 1600x400 with 1 Axes>"
      ]
     },
     "metadata": {},
     "output_type": "display_data"
    }
   ],
   "source": [
    "evaluation_plot(\n",
    "    backtest_start,\n",
    "    backtest_end,\n",
    "    combined_df,\n",
    "    np.array(prices),\n",
    "    ylim=(900, 1100)\n",
    ")"
   ]
  },
  {
   "cell_type": "code",
   "execution_count": null,
   "metadata": {},
   "outputs": [],
   "source": []
  }
 ],
 "metadata": {
  "kernelspec": {
   "display_name": "mh4518",
   "language": "python",
   "name": "python3"
  },
  "language_info": {
   "codemirror_mode": {
    "name": "ipython",
    "version": 3
   },
   "file_extension": ".py",
   "mimetype": "text/x-python",
   "name": "python",
   "nbconvert_exporter": "python",
   "pygments_lexer": "ipython3",
   "version": "3.11.10"
  },
  "orig_nbformat": 4
 },
 "nbformat": 4,
 "nbformat_minor": 2
}
