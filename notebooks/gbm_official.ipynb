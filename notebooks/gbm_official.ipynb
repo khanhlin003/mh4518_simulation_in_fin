{
 "cells": [
  {
   "cell_type": "code",
   "execution_count": 2,
   "metadata": {},
   "outputs": [
    {
     "name": "stdout",
     "output_type": "stream",
     "text": [
      "99.88102321451903\n"
     ]
    },
    {
     "name": "stderr",
     "output_type": "stream",
     "text": [
      "C:\\Users\\ASUS\\AppData\\Local\\Packages\\PythonSoftwareFoundation.Python.3.11_qbz5n2kfra8p0\\LocalCache\\local-packages\\Python311\\site-packages\\tqdm\\auto.py:21: TqdmWarning: IProgress not found. Please update jupyter and ipywidgets. See https://ipywidgets.readthedocs.io/en/stable/user_install.html\n",
      "  from .autonotebook import tqdm as notebook_tqdm\n"
     ]
    }
   ],
   "source": [
    "import numpy as np\n",
    "import pandas as pd\n",
    "import matplotlib.pyplot as plt\n",
    "import seaborn as sns\n",
    "from scipy.optimize import minimize\n",
    "from scipy.stats import norm\n",
    "from tqdm.auto import tqdm\n",
    "\n",
    "import sys\n",
    "sys.path.append('../utils')\n",
    "from utils import *"
   ]
  },
  {
   "cell_type": "code",
   "execution_count": 3,
   "metadata": {},
   "outputs": [
    {
     "data": {
      "text/html": [
       "<div>\n",
       "<style scoped>\n",
       "    .dataframe tbody tr th:only-of-type {\n",
       "        vertical-align: middle;\n",
       "    }\n",
       "\n",
       "    .dataframe tbody tr th {\n",
       "        vertical-align: top;\n",
       "    }\n",
       "\n",
       "    .dataframe thead th {\n",
       "        text-align: right;\n",
       "    }\n",
       "</style>\n",
       "<table border=\"1\" class=\"dataframe\">\n",
       "  <thead>\n",
       "    <tr style=\"text-align: right;\">\n",
       "      <th></th>\n",
       "      <th>Date</th>\n",
       "      <th>ROG_Last_Price</th>\n",
       "      <th>ROG_IVOL</th>\n",
       "      <th>CFR_Last_Price</th>\n",
       "      <th>CFR_IVOL</th>\n",
       "      <th>ZURN_Last_Price</th>\n",
       "      <th>ZURN_IVOL</th>\n",
       "      <th>Risk_Free_Rate</th>\n",
       "    </tr>\n",
       "  </thead>\n",
       "  <tbody>\n",
       "    <tr>\n",
       "      <th>0</th>\n",
       "      <td>2023-10-25</td>\n",
       "      <td>237.55</td>\n",
       "      <td>17.6858</td>\n",
       "      <td>107.00</td>\n",
       "      <td>33.0793</td>\n",
       "      <td>426.4</td>\n",
       "      <td>15.7900</td>\n",
       "      <td>1.4594</td>\n",
       "    </tr>\n",
       "    <tr>\n",
       "      <th>1</th>\n",
       "      <td>2023-10-26</td>\n",
       "      <td>237.25</td>\n",
       "      <td>17.9504</td>\n",
       "      <td>104.45</td>\n",
       "      <td>33.5406</td>\n",
       "      <td>426.8</td>\n",
       "      <td>15.9736</td>\n",
       "      <td>1.4508</td>\n",
       "    </tr>\n",
       "    <tr>\n",
       "      <th>2</th>\n",
       "      <td>2023-10-27</td>\n",
       "      <td>237.75</td>\n",
       "      <td>19.6028</td>\n",
       "      <td>104.40</td>\n",
       "      <td>33.4355</td>\n",
       "      <td>424.4</td>\n",
       "      <td>16.3945</td>\n",
       "      <td>1.4478</td>\n",
       "    </tr>\n",
       "    <tr>\n",
       "      <th>3</th>\n",
       "      <td>2023-10-30</td>\n",
       "      <td>241.30</td>\n",
       "      <td>19.3503</td>\n",
       "      <td>104.75</td>\n",
       "      <td>33.1531</td>\n",
       "      <td>428.2</td>\n",
       "      <td>15.9477</td>\n",
       "      <td>1.4623</td>\n",
       "    </tr>\n",
       "    <tr>\n",
       "      <th>4</th>\n",
       "      <td>2023-10-31</td>\n",
       "      <td>233.85</td>\n",
       "      <td>19.2518</td>\n",
       "      <td>106.90</td>\n",
       "      <td>32.7788</td>\n",
       "      <td>430.6</td>\n",
       "      <td>15.7948</td>\n",
       "      <td>1.4489</td>\n",
       "    </tr>\n",
       "  </tbody>\n",
       "</table>\n",
       "</div>"
      ],
      "text/plain": [
       "        Date  ROG_Last_Price  ROG_IVOL  CFR_Last_Price  CFR_IVOL  \\\n",
       "0 2023-10-25          237.55   17.6858          107.00   33.0793   \n",
       "1 2023-10-26          237.25   17.9504          104.45   33.5406   \n",
       "2 2023-10-27          237.75   19.6028          104.40   33.4355   \n",
       "3 2023-10-30          241.30   19.3503          104.75   33.1531   \n",
       "4 2023-10-31          233.85   19.2518          106.90   32.7788   \n",
       "\n",
       "   ZURN_Last_Price  ZURN_IVOL  Risk_Free_Rate  \n",
       "0            426.4    15.7900          1.4594  \n",
       "1            426.8    15.9736          1.4508  \n",
       "2            424.4    16.3945          1.4478  \n",
       "3            428.2    15.9477          1.4623  \n",
       "4            430.6    15.7948          1.4489  "
      ]
     },
     "execution_count": 3,
     "metadata": {},
     "output_type": "execute_result"
    }
   ],
   "source": [
    "combined_df = retrieve_data()\n",
    "combined_df.head()"
   ]
  },
  {
   "cell_type": "code",
   "execution_count": 4,
   "metadata": {},
   "outputs": [
    {
     "data": {
      "text/html": [
       "<div>\n",
       "<style scoped>\n",
       "    .dataframe tbody tr th:only-of-type {\n",
       "        vertical-align: middle;\n",
       "    }\n",
       "\n",
       "    .dataframe tbody tr th {\n",
       "        vertical-align: top;\n",
       "    }\n",
       "\n",
       "    .dataframe thead th {\n",
       "        text-align: right;\n",
       "    }\n",
       "</style>\n",
       "<table border=\"1\" class=\"dataframe\">\n",
       "  <thead>\n",
       "    <tr style=\"text-align: right;\">\n",
       "      <th></th>\n",
       "      <th>ROG_Last_Price</th>\n",
       "      <th>CFR_Last_Price</th>\n",
       "      <th>ZURN_Last_Price</th>\n",
       "    </tr>\n",
       "  </thead>\n",
       "  <tbody>\n",
       "    <tr>\n",
       "      <th>ROG_Last_Price</th>\n",
       "      <td>375.344673</td>\n",
       "      <td>-17.563543</td>\n",
       "      <td>286.937174</td>\n",
       "    </tr>\n",
       "    <tr>\n",
       "      <th>CFR_Last_Price</th>\n",
       "      <td>-17.563543</td>\n",
       "      <td>133.176550</td>\n",
       "      <td>138.191785</td>\n",
       "    </tr>\n",
       "    <tr>\n",
       "      <th>ZURN_Last_Price</th>\n",
       "      <td>286.937174</td>\n",
       "      <td>138.191785</td>\n",
       "      <td>706.118284</td>\n",
       "    </tr>\n",
       "  </tbody>\n",
       "</table>\n",
       "</div>"
      ],
      "text/plain": [
       "                 ROG_Last_Price  CFR_Last_Price  ZURN_Last_Price\n",
       "ROG_Last_Price       375.344673      -17.563543       286.937174\n",
       "CFR_Last_Price       -17.563543      133.176550       138.191785\n",
       "ZURN_Last_Price      286.937174      138.191785       706.118284"
      ]
     },
     "execution_count": 4,
     "metadata": {},
     "output_type": "execute_result"
    }
   ],
   "source": [
    "np.random.seed(42)\n",
    "n_days = 252\n",
    "dt = 1 / n_days\n",
    "\n",
    "close = combined_df[['ROG_Last_Price', 'CFR_Last_Price', 'ZURN_Last_Price']]\n",
    "close.cov()"
   ]
  },
  {
   "cell_type": "code",
   "execution_count": 5,
   "metadata": {},
   "outputs": [],
   "source": [
    "tickers = close.columns\n",
    "log_returns = np.log((close / close.shift(1)).dropna())"
   ]
  },
  {
   "cell_type": "code",
   "execution_count": null,
   "metadata": {},
   "outputs": [],
   "source": [
    "# Simulating from start\n",
    "\n",
    "\n",
    "def MultivariateGBMSimulation(\n",
    "    s0=close.iloc[0], \n",
    "    tickers=tickers,\n",
    "    dt=dt,\n",
    "    drift=combined_df['Risk_Free_Rate'].values / 100,\n",
    "    volatility=log_returns.cov() * n_days,\n",
    "    n_paths=100,\n",
    "    T=1, # Time horizon in year:\n",
    "    variance_reduction=None\n",
    "    ):\n",
    "    \n",
    "    n_steps = int(T / dt)\n",
    "    result = np.zeros((len(tickers), n_paths, n_steps))\n",
    "\n",
    "    if variance_reduction==None:\n",
    "        for i in tqdm(range(n_paths)):\n",
    "            choleskyMatrix = np.linalg.cholesky(volatility)\n",
    "            e = np.random.normal(size=(len(tickers), n_steps)) # Generate RV for steps\n",
    "\n",
    "\n",
    "            for j in range(n_steps):\n",
    "                for k in range(len(tickers)):\n",
    "                    if(j==0):\n",
    "                        result[k, i, j] = s0[tickers[k]]\n",
    "                    else:\n",
    "                        if isinstance(drift, np.ndarray):\n",
    "                            result[k, i, j] = result[k, i, j-1] * np.exp(\n",
    "                                (drift[j] -  1/2 * np.sqrt(volatility.iloc[k, k])) * dt + \n",
    "                                np.sqrt(dt) * choleskyMatrix[k, k] * e[k, j])\n",
    "                        else:\n",
    "                            result[k, i, j] = result[k, i, j-1] * np.exp(\n",
    "                                (drift -  1/2 * np.sqrt(volatility.iloc[k, k])) * dt + \n",
    "                                np.sqrt(dt) * choleskyMatrix[k, k] * e[k, j])\n",
    "    \n",
    "    elif variance_reduction=='av':\n",
    "        for i in tqdm(range(n_paths // 2)):\n",
    "            choleskyMatrix = np.linalg.cholesky(volatility)\n",
    "            e = np.random.normal(size=(len(tickers), n_steps)) # Generate RV for steps\n",
    "            e_tilde = -e    \n",
    "\n",
    "            for j in range(n_steps):\n",
    "                for k in range(len(tickers)):\n",
    "                    if(j==0):\n",
    "                        result[k, i, j] = s0[tickers[k]]\n",
    "                        result[k, n_paths - i - 1, j] = s0[tickers[k]]\n",
    "\n",
    "                    else:\n",
    "                        if isinstance(drift, np.ndarray):\n",
    "                            result[k, i, j] = result[k, i, j-1] * np.exp(\n",
    "                                (drift[j] -  1/2 * np.sqrt(volatility.iloc[k, k])) * dt + \n",
    "                                np.sqrt(dt) * choleskyMatrix[k, k] * e[k, j])\n",
    "                            result[k, n_paths - i - 1, j] = result[k, n_paths - i - 1, j-1] * np.exp(\n",
    "                                (drift[j] -  1/2 * np.sqrt(volatility.iloc[k, k])) * dt + \n",
    "                                np.sqrt(dt) * choleskyMatrix[k, k] * e_tilde[k, j])\n",
    "                        else:\n",
    "                            result[k, i, j] = result[k, i, j-1] * np.exp(\n",
    "                                (drift -  1/2 * np.sqrt(volatility.iloc[k, k])) * dt + \n",
    "                                np.sqrt(dt) * choleskyMatrix[k, k] * e[k, j])\n",
    "                            result[k, n_paths - i - 1, j] = result[k, n_paths - i - 1, j-1] * np.exp(\n",
    "                                (drift -  1/2 * np.sqrt(volatility.iloc[k, k])) * dt + \n",
    "                                np.sqrt(dt) * choleskyMatrix[k, k] * e_tilde[k, j])\n",
    "                            \n",
    "    elif variance_reduction=='emc':\n",
    "        for i in tqdm(range(n_paths)):\n",
    "            choleskyMatrix = np.linalg.cholesky(volatility)\n",
    "            e = np.random.normal(size=(len(tickers), n_steps)) # Generate RV for steps\n",
    "\n",
    "            for j in range(n_steps):\n",
    "                for k in range(len(tickers)):\n",
    "                    if(j==0):\n",
    "                        result[k, i, j] = s0[tickers[k]]\n",
    "                    else:\n",
    "                        if isinstance(drift, np.ndarray):\n",
    "                            result[k, i, j] = result[k, i, j-1] * np.exp(\n",
    "                                (drift[j] -  1/2 * np.sqrt(volatility.iloc[k, k])) * dt + \n",
    "                                np.sqrt(dt) * choleskyMatrix[k, k] * e[k, j])\n",
    "                        else:\n",
    "                            result[k, i, j] = result[k, i, j-1] * np.exp(\n",
    "                                (drift -  1/2 * np.sqrt(volatility.iloc[k, k])) * dt + \n",
    "                                np.sqrt(dt) * choleskyMatrix[k, k] * e[k, j])\n",
    "        for k in range(len(tickers)):  \n",
    "                # path, step\n",
    "            correction_factor = result[k][-1, :].mean() / result[k][-1, :] \n",
    "            result[k] = result[k] * correction_factor                    \n",
    "           \n",
    "    return result, tickers"
   ]
  },
  {
   "cell_type": "code",
   "execution_count": null,
   "metadata": {},
   "outputs": [
    {
     "name": "stderr",
     "output_type": "stream",
     "text": [
      "100%|██████████| 1000/1000 [00:04<00:00, 246.33it/s]\n",
      "100%|██████████| 1000/1000 [00:03<00:00, 269.26it/s]\n",
      "100%|██████████| 500/500 [00:03<00:00, 130.54it/s]\n"
     ]
    }
   ],
   "source": [
    "result_emc, _ = MultivariateGBMSimulation(s0=close.iloc[187], n_paths=1000, T=dt * 65, volatility=log_returns.cov() * n_days, variance_reduction='emc')\n",
    "\n",
    "result, _ = MultivariateGBMSimulation(s0=close.iloc[187], n_paths=1000, T=dt * 65, volatility=log_returns.cov() * n_days, variance_reduction=None)\n",
    "\n",
    "result_av, _ = MultivariateGBMSimulation(s0=close.iloc[187], n_paths=1000, T=dt * 65, volatility=log_returns.cov() * n_days, variance_reduction='av')"
   ]
  },
  {
   "cell_type": "code",
   "execution_count": null,
   "metadata": {},
   "outputs": [],
   "source": [
    "fig, axes = plt.subplots(3, 1, figsize=(8, 10))\n",
    "\n",
    "for i in range(100):\n",
    "    axes[0].plot(result_av[0][i], lw=1)\n",
    "axes[0].set_title('Simulated Asset Price Paths for Roche (25/07/2024 - 25/10/2024)')\n",
    "axes[0].set_xlabel('Days')\n",
    "axes[0].set_ylabel('Asset Price')\n",
    "\n",
    "for i in range(100):\n",
    "    axes[1].plot(result_av[1][i], lw=1)\n",
    "axes[1].set_title('Simulated Asset Price Paths for Richemont (25/07/2024 - 25/10/2024)')\n",
    "axes[1].set_xlabel('Days')\n",
    "axes[1].set_ylabel('Asset Price')\n",
    "\n",
    "for i in range(100):\n",
    "    axes[2].plot(result_av[2][i], lw=1)\n",
    "axes[2].set_title('Simulated Asset Price Paths for Zurich (25/07/2024 - 25/10/2024)')\n",
    "axes[2].set_xlabel('Days')\n",
    "axes[2].set_ylabel('Asset Price')\n",
    "\n",
    "plt.tight_layout()\n",
    "plt.show()"
   ]
  },
  {
   "cell_type": "code",
   "execution_count": null,
   "metadata": {},
   "outputs": [],
   "source": [
    "payoff = []\n",
    "payoff_av = []\n",
    "payoff_emc = []\n",
    "for i in range(result.shape[1]):\n",
    "    payoff.append(payoff_func(result[0][i], result[1][i], result[2][i]))\n",
    "    payoff_av.append(payoff_func(result_av[0][i], result_av[1][i], result_av[2][i]))\n",
    "    payoff_emc.append(payoff_func(result_emc[0][i], result_emc[1][i], result_emc[2][i]))"
   ]
  },
  {
   "cell_type": "code",
   "execution_count": 18,
   "metadata": {},
   "outputs": [
    {
     "data": {
      "text/plain": [
       "(1087.5, 0.0)"
      ]
     },
     "execution_count": 18,
     "metadata": {},
     "output_type": "execute_result"
    }
   ],
   "source": [
    "np.mean(payoff), np.std(payoff)"
   ]
  },
  {
   "cell_type": "code",
   "execution_count": 19,
   "metadata": {},
   "outputs": [
    {
     "data": {
      "text/plain": [
       "(1087.5, 0.0)"
      ]
     },
     "execution_count": 19,
     "metadata": {},
     "output_type": "execute_result"
    }
   ],
   "source": [
    "np.mean(payoff_av), np.std(payoff_av)"
   ]
  },
  {
   "cell_type": "code",
   "execution_count": 20,
   "metadata": {},
   "outputs": [
    {
     "data": {
      "text/plain": [
       "(1087.5, 0.0)"
      ]
     },
     "execution_count": 20,
     "metadata": {},
     "output_type": "execute_result"
    }
   ],
   "source": [
    "np.mean(payoff_emc), np.std(payoff_emc)"
   ]
  },
  {
   "cell_type": "code",
   "execution_count": null,
   "metadata": {},
   "outputs": [],
   "source": []
  }
 ],
 "metadata": {
  "kernelspec": {
   "display_name": "Python 3",
   "language": "python",
   "name": "python3"
  },
  "language_info": {
   "codemirror_mode": {
    "name": "ipython",
    "version": 3
   },
   "file_extension": ".py",
   "mimetype": "text/x-python",
   "name": "python",
   "nbconvert_exporter": "python",
   "pygments_lexer": "ipython3",
   "version": "3.11.9"
  }
 },
 "nbformat": 4,
 "nbformat_minor": 2
}
