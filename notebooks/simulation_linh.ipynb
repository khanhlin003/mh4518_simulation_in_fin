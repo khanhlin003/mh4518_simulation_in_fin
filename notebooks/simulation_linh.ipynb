{
 "cells": [
  {
   "cell_type": "code",
   "execution_count": 7,
   "metadata": {},
   "outputs": [],
   "source": [
    "import numpy as np\n",
    "import pandas as pd\n",
    "import matplotlib.pyplot as plt\n",
    "import seaborn as sns\n",
    "from scipy.optimize import minimize\n",
    "from scipy.stats import norm"
   ]
  },
  {
   "cell_type": "code",
   "execution_count": 11,
   "metadata": {},
   "outputs": [
    {
     "name": "stdout",
     "output_type": "stream",
     "text": [
      "        Date  ROG_Last_Price  ROG_IVOL  CFR_Last_Price  CFR_IVOL  \\\n",
      "0 2023-10-25          237.55   17.6858          107.00   33.0793   \n",
      "1 2023-10-26          237.25   17.9504          104.45   33.5406   \n",
      "2 2023-10-27          237.75   19.6028          104.40   33.4355   \n",
      "3 2023-10-30          241.30   19.3503          104.75   33.1531   \n",
      "4 2023-10-31          233.85   19.2518          106.90   32.7788   \n",
      "\n",
      "   ZURN_Last_Price  ZURN_IVOL  Risk_Free_Rate  \n",
      "0            426.4    15.7900          1.4594  \n",
      "1            426.8    15.9736          1.4508  \n",
      "2            424.4    16.3945          1.4478  \n",
      "3            428.2    15.9477          1.4623  \n",
      "4            430.6    15.7948          1.4489  \n"
     ]
    }
   ],
   "source": [
    "# List of tickers\n",
    "tickers = ['rog', 'cfr', 'zurn']\n",
    "\n",
    "# Date range for filtering\n",
    "start_date = '2023-10-25'\n",
    "end_date = '2024-10-25'\n",
    "\n",
    "# Function to read and filter CSV files\n",
    "def read_and_filter_csv(file_path, date_col='Date', price_col='Last Price'):\n",
    "    df = pd.read_csv(file_path)\n",
    "    df[date_col] = pd.to_datetime(df[date_col], errors='coerce')\n",
    "    return df[(df[date_col] >= start_date) & (df[date_col] <= end_date)]\n",
    "\n",
    "# Initialize the combined DataFrame\n",
    "combined_df = pd.DataFrame()\n",
    "\n",
    "# Process tickers for prices and implied volatility\n",
    "for t in tickers:\n",
    "    # Read and filter price data\n",
    "    price_df = read_and_filter_csv(f'../data/{t}.csv')\n",
    "    price_df = price_df[['Date', 'Last Price']].rename(columns={'Last Price': f'{t.upper()}_Last_Price'})\n",
    "    \n",
    "    # Read and filter implied volatility data\n",
    "    ivol_df = read_and_filter_csv(f'../data/{t}_ivol.csv', price_col='IVOL')\n",
    "    ivol_column_name = ivol_df.columns[1]\n",
    "    ivol_df = ivol_df[['Date', ivol_column_name]].rename(columns={ivol_column_name: f'{t.upper()}_IVOL'})\n",
    "\n",
    "    # Merge the dataframes\n",
    "    combined_df = pd.merge(combined_df, price_df, on='Date', how='outer') if not combined_df.empty else price_df\n",
    "    combined_df = pd.merge(combined_df, ivol_df, on='Date', how='outer')\n",
    "\n",
    "# Read and filter risk-free rate data\n",
    "risk_free_df = read_and_filter_csv('../data/risk_free.csv')\n",
    "risk_free_column_name = risk_free_df.columns[1]\n",
    "risk_free_df = risk_free_df[['Date', risk_free_column_name]].rename(columns={risk_free_column_name: 'Risk_Free_Rate'})\n",
    "\n",
    "# Merge risk-free rate data\n",
    "combined_df = pd.merge(combined_df, risk_free_df, on='Date', how='outer')\n",
    "\n",
    "# Sort and reset index\n",
    "combined_df = combined_df.sort_values('Date').reset_index(drop=True)\n",
    "\n",
    "# Show the combined DataFrame\n",
    "print(combined_df.head())"
   ]
  }
 ],
 "metadata": {
  "kernelspec": {
   "display_name": "Python 3.10.6 64-bit",
   "language": "python",
   "name": "python3"
  },
  "language_info": {
   "codemirror_mode": {
    "name": "ipython",
    "version": 3
   },
   "file_extension": ".py",
   "mimetype": "text/x-python",
   "name": "python",
   "nbconvert_exporter": "python",
   "pygments_lexer": "ipython3",
   "version": "3.10.6"
  },
  "orig_nbformat": 4,
  "vscode": {
   "interpreter": {
    "hash": "7e1998ff7f8aa20ada591c520b972326324e5ea05489af9e422744c7c09f6dad"
   }
  }
 },
 "nbformat": 4,
 "nbformat_minor": 2
}
